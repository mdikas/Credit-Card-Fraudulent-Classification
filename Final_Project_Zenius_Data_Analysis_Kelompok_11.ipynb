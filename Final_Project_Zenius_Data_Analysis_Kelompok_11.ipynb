{
  "cells": [
    {
      "cell_type": "markdown",
      "metadata": {
        "id": "view-in-github",
        "colab_type": "text"
      },
      "source": [
        "<a href=\"https://colab.research.google.com/github/mdikas/final-project-zenius-data-analyst/blob/main/Final_Project_Zenius_Data_Analysis_Kelompok_11.ipynb\" target=\"_parent\"><img src=\"https://colab.research.google.com/assets/colab-badge.svg\" alt=\"Open In Colab\"/></a>"
      ]
    },
    {
      "cell_type": "code",
      "execution_count": null,
      "metadata": {
        "id": "Y2SjEw1Kmvot"
      },
      "outputs": [],
      "source": [
        "import numpy as np \n",
        "import pandas as pd \n",
        "import seaborn as sns\n",
        "import matplotlib.pyplot as plt\n",
        "from sklearn.metrics import accuracy_score,f1_score,precision_score, recall_score\n",
        "from sklearn.linear_model import LogisticRegression\n",
        "from sklearn.ensemble import RandomForestClassifier\n",
        "from xgboost import XGBClassifier\n",
        "from sklearn.ensemble import GradientBoostingClassifier\n",
        "import xgboost as xgb\n",
        "import warnings\n",
        "warnings.filterwarnings(\"ignore\")\n",
        "from sklearn.naive_bayes import GaussianNB\n",
        "from sklearn.model_selection import train_test_split\n",
        "from sklearn.model_selection import cross_val_score\n",
        "from sklearn.preprocessing import LabelEncoder\n",
        "from imblearn.over_sampling import RandomOverSampler,SMOTE\n",
        "from sklearn.metrics import confusion_matrix\n",
        "from sklearn.metrics import recall_score\n",
        "from sklearn.metrics import plot_precision_recall_curve\n",
        "from sklearn.metrics import roc_curve, roc_auc_score\n",
        "from sklearn.metrics import accuracy_score,classification_report, recall_score,confusion_matrix, roc_auc_score, precision_score, f1_score, roc_curve, auc, plot_confusion_matrix,plot_roc_curve"
      ]
    },
    {
      "cell_type": "code",
      "execution_count": null,
      "metadata": {
        "id": "sIcJ_HMBm_rO"
      },
      "outputs": [],
      "source": [
        "df = pd.read_csv('/content/drive/MyDrive/Colab_Notebooks/MSIB/Dataset/transactions.csv')"
      ]
    },
    {
      "cell_type": "code",
      "execution_count": null,
      "metadata": {
        "id": "rhyxeYwNnFJt",
        "colab": {
          "base_uri": "https://localhost:8080/",
          "height": 300
        },
        "outputId": "6a6fbb20-95c4-463f-a2d0-1bdfabbe368a"
      },
      "outputs": [
        {
          "output_type": "execute_result",
          "data": {
            "text/plain": [
              "   accountNumber  customerId  creditLimit  availableMoney  \\\n",
              "0      733493772   733493772         5000         5000.00   \n",
              "1      733493772   733493772         5000         4888.67   \n",
              "2      733493772   733493772         5000         4863.92   \n",
              "3      733493772   733493772         5000         4676.52   \n",
              "4      733493772   733493772         5000         4449.18   \n",
              "\n",
              "   transactionDateTime  transactionAmount merchantName acqCountry  \\\n",
              "0  2016-01-08T19:04:50             111.33         Lyft         US   \n",
              "1  2016-01-09T22:32:39              24.75         Uber         US   \n",
              "2  2016-01-11T13:36:55             187.40         Lyft         US   \n",
              "3  2016-01-11T22:47:46             227.34         Lyft         US   \n",
              "4  2016-01-16T01:41:11               0.00         Lyft         US   \n",
              "\n",
              "  merchantCountryCode  posEntryMode  ...  isFraud echoBuffer currentBalance  \\\n",
              "0                  US           5.0  ...     True        NaN           0.00   \n",
              "1                  US           9.0  ...    False        NaN         111.33   \n",
              "2                  US           5.0  ...    False        NaN         136.08   \n",
              "3                  US           2.0  ...     True        NaN         323.48   \n",
              "4                  US           2.0  ...    False        NaN         550.82   \n",
              "\n",
              "  merchantCity merchantState  merchantZip  cardPresent  posOnPremises  \\\n",
              "0          NaN           NaN          NaN        False            NaN   \n",
              "1          NaN           NaN          NaN        False            NaN   \n",
              "2          NaN           NaN          NaN        False            NaN   \n",
              "3          NaN           NaN          NaN        False            NaN   \n",
              "4          NaN           NaN          NaN        False            NaN   \n",
              "\n",
              "  recurringAuthInd  expirationDateKeyInMatch  \n",
              "0              NaN                     False  \n",
              "1              NaN                     False  \n",
              "2              NaN                     False  \n",
              "3              NaN                     False  \n",
              "4              NaN                     False  \n",
              "\n",
              "[5 rows x 29 columns]"
            ],
            "text/html": [
              "\n",
              "  <div id=\"df-a3684d00-7f71-4d74-80b8-ff75211a441e\">\n",
              "    <div class=\"colab-df-container\">\n",
              "      <div>\n",
              "<style scoped>\n",
              "    .dataframe tbody tr th:only-of-type {\n",
              "        vertical-align: middle;\n",
              "    }\n",
              "\n",
              "    .dataframe tbody tr th {\n",
              "        vertical-align: top;\n",
              "    }\n",
              "\n",
              "    .dataframe thead th {\n",
              "        text-align: right;\n",
              "    }\n",
              "</style>\n",
              "<table border=\"1\" class=\"dataframe\">\n",
              "  <thead>\n",
              "    <tr style=\"text-align: right;\">\n",
              "      <th></th>\n",
              "      <th>accountNumber</th>\n",
              "      <th>customerId</th>\n",
              "      <th>creditLimit</th>\n",
              "      <th>availableMoney</th>\n",
              "      <th>transactionDateTime</th>\n",
              "      <th>transactionAmount</th>\n",
              "      <th>merchantName</th>\n",
              "      <th>acqCountry</th>\n",
              "      <th>merchantCountryCode</th>\n",
              "      <th>posEntryMode</th>\n",
              "      <th>...</th>\n",
              "      <th>isFraud</th>\n",
              "      <th>echoBuffer</th>\n",
              "      <th>currentBalance</th>\n",
              "      <th>merchantCity</th>\n",
              "      <th>merchantState</th>\n",
              "      <th>merchantZip</th>\n",
              "      <th>cardPresent</th>\n",
              "      <th>posOnPremises</th>\n",
              "      <th>recurringAuthInd</th>\n",
              "      <th>expirationDateKeyInMatch</th>\n",
              "    </tr>\n",
              "  </thead>\n",
              "  <tbody>\n",
              "    <tr>\n",
              "      <th>0</th>\n",
              "      <td>733493772</td>\n",
              "      <td>733493772</td>\n",
              "      <td>5000</td>\n",
              "      <td>5000.00</td>\n",
              "      <td>2016-01-08T19:04:50</td>\n",
              "      <td>111.33</td>\n",
              "      <td>Lyft</td>\n",
              "      <td>US</td>\n",
              "      <td>US</td>\n",
              "      <td>5.0</td>\n",
              "      <td>...</td>\n",
              "      <td>True</td>\n",
              "      <td>NaN</td>\n",
              "      <td>0.00</td>\n",
              "      <td>NaN</td>\n",
              "      <td>NaN</td>\n",
              "      <td>NaN</td>\n",
              "      <td>False</td>\n",
              "      <td>NaN</td>\n",
              "      <td>NaN</td>\n",
              "      <td>False</td>\n",
              "    </tr>\n",
              "    <tr>\n",
              "      <th>1</th>\n",
              "      <td>733493772</td>\n",
              "      <td>733493772</td>\n",
              "      <td>5000</td>\n",
              "      <td>4888.67</td>\n",
              "      <td>2016-01-09T22:32:39</td>\n",
              "      <td>24.75</td>\n",
              "      <td>Uber</td>\n",
              "      <td>US</td>\n",
              "      <td>US</td>\n",
              "      <td>9.0</td>\n",
              "      <td>...</td>\n",
              "      <td>False</td>\n",
              "      <td>NaN</td>\n",
              "      <td>111.33</td>\n",
              "      <td>NaN</td>\n",
              "      <td>NaN</td>\n",
              "      <td>NaN</td>\n",
              "      <td>False</td>\n",
              "      <td>NaN</td>\n",
              "      <td>NaN</td>\n",
              "      <td>False</td>\n",
              "    </tr>\n",
              "    <tr>\n",
              "      <th>2</th>\n",
              "      <td>733493772</td>\n",
              "      <td>733493772</td>\n",
              "      <td>5000</td>\n",
              "      <td>4863.92</td>\n",
              "      <td>2016-01-11T13:36:55</td>\n",
              "      <td>187.40</td>\n",
              "      <td>Lyft</td>\n",
              "      <td>US</td>\n",
              "      <td>US</td>\n",
              "      <td>5.0</td>\n",
              "      <td>...</td>\n",
              "      <td>False</td>\n",
              "      <td>NaN</td>\n",
              "      <td>136.08</td>\n",
              "      <td>NaN</td>\n",
              "      <td>NaN</td>\n",
              "      <td>NaN</td>\n",
              "      <td>False</td>\n",
              "      <td>NaN</td>\n",
              "      <td>NaN</td>\n",
              "      <td>False</td>\n",
              "    </tr>\n",
              "    <tr>\n",
              "      <th>3</th>\n",
              "      <td>733493772</td>\n",
              "      <td>733493772</td>\n",
              "      <td>5000</td>\n",
              "      <td>4676.52</td>\n",
              "      <td>2016-01-11T22:47:46</td>\n",
              "      <td>227.34</td>\n",
              "      <td>Lyft</td>\n",
              "      <td>US</td>\n",
              "      <td>US</td>\n",
              "      <td>2.0</td>\n",
              "      <td>...</td>\n",
              "      <td>True</td>\n",
              "      <td>NaN</td>\n",
              "      <td>323.48</td>\n",
              "      <td>NaN</td>\n",
              "      <td>NaN</td>\n",
              "      <td>NaN</td>\n",
              "      <td>False</td>\n",
              "      <td>NaN</td>\n",
              "      <td>NaN</td>\n",
              "      <td>False</td>\n",
              "    </tr>\n",
              "    <tr>\n",
              "      <th>4</th>\n",
              "      <td>733493772</td>\n",
              "      <td>733493772</td>\n",
              "      <td>5000</td>\n",
              "      <td>4449.18</td>\n",
              "      <td>2016-01-16T01:41:11</td>\n",
              "      <td>0.00</td>\n",
              "      <td>Lyft</td>\n",
              "      <td>US</td>\n",
              "      <td>US</td>\n",
              "      <td>2.0</td>\n",
              "      <td>...</td>\n",
              "      <td>False</td>\n",
              "      <td>NaN</td>\n",
              "      <td>550.82</td>\n",
              "      <td>NaN</td>\n",
              "      <td>NaN</td>\n",
              "      <td>NaN</td>\n",
              "      <td>False</td>\n",
              "      <td>NaN</td>\n",
              "      <td>NaN</td>\n",
              "      <td>False</td>\n",
              "    </tr>\n",
              "  </tbody>\n",
              "</table>\n",
              "<p>5 rows × 29 columns</p>\n",
              "</div>\n",
              "      <button class=\"colab-df-convert\" onclick=\"convertToInteractive('df-a3684d00-7f71-4d74-80b8-ff75211a441e')\"\n",
              "              title=\"Convert this dataframe to an interactive table.\"\n",
              "              style=\"display:none;\">\n",
              "        \n",
              "  <svg xmlns=\"http://www.w3.org/2000/svg\" height=\"24px\"viewBox=\"0 0 24 24\"\n",
              "       width=\"24px\">\n",
              "    <path d=\"M0 0h24v24H0V0z\" fill=\"none\"/>\n",
              "    <path d=\"M18.56 5.44l.94 2.06.94-2.06 2.06-.94-2.06-.94-.94-2.06-.94 2.06-2.06.94zm-11 1L8.5 8.5l.94-2.06 2.06-.94-2.06-.94L8.5 2.5l-.94 2.06-2.06.94zm10 10l.94 2.06.94-2.06 2.06-.94-2.06-.94-.94-2.06-.94 2.06-2.06.94z\"/><path d=\"M17.41 7.96l-1.37-1.37c-.4-.4-.92-.59-1.43-.59-.52 0-1.04.2-1.43.59L10.3 9.45l-7.72 7.72c-.78.78-.78 2.05 0 2.83L4 21.41c.39.39.9.59 1.41.59.51 0 1.02-.2 1.41-.59l7.78-7.78 2.81-2.81c.8-.78.8-2.07 0-2.86zM5.41 20L4 18.59l7.72-7.72 1.47 1.35L5.41 20z\"/>\n",
              "  </svg>\n",
              "      </button>\n",
              "      \n",
              "  <style>\n",
              "    .colab-df-container {\n",
              "      display:flex;\n",
              "      flex-wrap:wrap;\n",
              "      gap: 12px;\n",
              "    }\n",
              "\n",
              "    .colab-df-convert {\n",
              "      background-color: #E8F0FE;\n",
              "      border: none;\n",
              "      border-radius: 50%;\n",
              "      cursor: pointer;\n",
              "      display: none;\n",
              "      fill: #1967D2;\n",
              "      height: 32px;\n",
              "      padding: 0 0 0 0;\n",
              "      width: 32px;\n",
              "    }\n",
              "\n",
              "    .colab-df-convert:hover {\n",
              "      background-color: #E2EBFA;\n",
              "      box-shadow: 0px 1px 2px rgba(60, 64, 67, 0.3), 0px 1px 3px 1px rgba(60, 64, 67, 0.15);\n",
              "      fill: #174EA6;\n",
              "    }\n",
              "\n",
              "    [theme=dark] .colab-df-convert {\n",
              "      background-color: #3B4455;\n",
              "      fill: #D2E3FC;\n",
              "    }\n",
              "\n",
              "    [theme=dark] .colab-df-convert:hover {\n",
              "      background-color: #434B5C;\n",
              "      box-shadow: 0px 1px 3px 1px rgba(0, 0, 0, 0.15);\n",
              "      filter: drop-shadow(0px 1px 2px rgba(0, 0, 0, 0.3));\n",
              "      fill: #FFFFFF;\n",
              "    }\n",
              "  </style>\n",
              "\n",
              "      <script>\n",
              "        const buttonEl =\n",
              "          document.querySelector('#df-a3684d00-7f71-4d74-80b8-ff75211a441e button.colab-df-convert');\n",
              "        buttonEl.style.display =\n",
              "          google.colab.kernel.accessAllowed ? 'block' : 'none';\n",
              "\n",
              "        async function convertToInteractive(key) {\n",
              "          const element = document.querySelector('#df-a3684d00-7f71-4d74-80b8-ff75211a441e');\n",
              "          const dataTable =\n",
              "            await google.colab.kernel.invokeFunction('convertToInteractive',\n",
              "                                                     [key], {});\n",
              "          if (!dataTable) return;\n",
              "\n",
              "          const docLinkHtml = 'Like what you see? Visit the ' +\n",
              "            '<a target=\"_blank\" href=https://colab.research.google.com/notebooks/data_table.ipynb>data table notebook</a>'\n",
              "            + ' to learn more about interactive tables.';\n",
              "          element.innerHTML = '';\n",
              "          dataTable['output_type'] = 'display_data';\n",
              "          await google.colab.output.renderOutput(dataTable, element);\n",
              "          const docLink = document.createElement('div');\n",
              "          docLink.innerHTML = docLinkHtml;\n",
              "          element.appendChild(docLink);\n",
              "        }\n",
              "      </script>\n",
              "    </div>\n",
              "  </div>\n",
              "  "
            ]
          },
          "metadata": {},
          "execution_count": 365
        }
      ],
      "source": [
        "df.head()"
      ]
    },
    {
      "cell_type": "code",
      "execution_count": null,
      "metadata": {
        "id": "DHh-CF2xnRUe",
        "colab": {
          "base_uri": "https://localhost:8080/"
        },
        "outputId": "4d40e567-5e7b-48a2-e907-dbb11b17e10b"
      },
      "outputs": [
        {
          "output_type": "stream",
          "name": "stdout",
          "text": [
            "<class 'pandas.core.frame.DataFrame'>\n",
            "RangeIndex: 641914 entries, 0 to 641913\n",
            "Data columns (total 29 columns):\n",
            " #   Column                    Non-Null Count   Dtype  \n",
            "---  ------                    --------------   -----  \n",
            " 0   accountNumber             641914 non-null  int64  \n",
            " 1   customerId                641914 non-null  int64  \n",
            " 2   creditLimit               641914 non-null  int64  \n",
            " 3   availableMoney            641914 non-null  float64\n",
            " 4   transactionDateTime       641914 non-null  object \n",
            " 5   transactionAmount         641914 non-null  float64\n",
            " 6   merchantName              641914 non-null  object \n",
            " 7   acqCountry                638001 non-null  object \n",
            " 8   merchantCountryCode       641290 non-null  object \n",
            " 9   posEntryMode              638569 non-null  float64\n",
            " 10  posConditionCode          641627 non-null  float64\n",
            " 11  merchantCategoryCode      641914 non-null  object \n",
            " 12  currentExpDate            641914 non-null  object \n",
            " 13  accountOpenDate           641914 non-null  object \n",
            " 14  dateOfLastAddressChange   641914 non-null  object \n",
            " 15  cardCVV                   641914 non-null  int64  \n",
            " 16  enteredCVV                641914 non-null  int64  \n",
            " 17  cardLast4Digits           641914 non-null  int64  \n",
            " 18  transactionType           641325 non-null  object \n",
            " 19  isFraud                   641914 non-null  bool   \n",
            " 20  echoBuffer                0 non-null       float64\n",
            " 21  currentBalance            641914 non-null  float64\n",
            " 22  merchantCity              0 non-null       float64\n",
            " 23  merchantState             0 non-null       float64\n",
            " 24  merchantZip               0 non-null       float64\n",
            " 25  cardPresent               641914 non-null  bool   \n",
            " 26  posOnPremises             0 non-null       float64\n",
            " 27  recurringAuthInd          0 non-null       float64\n",
            " 28  expirationDateKeyInMatch  641914 non-null  bool   \n",
            "dtypes: bool(3), float64(11), int64(6), object(9)\n",
            "memory usage: 129.2+ MB\n"
          ]
        }
      ],
      "source": [
        "df.info()"
      ]
    },
    {
      "cell_type": "code",
      "execution_count": null,
      "metadata": {
        "id": "ZbW1BaY3nhHa"
      },
      "outputs": [],
      "source": [
        "# Drop kolom kosong\n",
        "\n",
        "df = df.drop(columns=['echoBuffer','merchantCity','merchantState','merchantZip','posOnPremises','recurringAuthInd'])"
      ]
    },
    {
      "cell_type": "code",
      "execution_count": null,
      "metadata": {
        "id": "6PcO7a4eoSi6",
        "colab": {
          "base_uri": "https://localhost:8080/"
        },
        "outputId": "c1902a93-5a76-415d-c074-28643701996a"
      },
      "outputs": [
        {
          "output_type": "stream",
          "name": "stdout",
          "text": [
            "<class 'pandas.core.frame.DataFrame'>\n",
            "RangeIndex: 641914 entries, 0 to 641913\n",
            "Data columns (total 23 columns):\n",
            " #   Column                    Non-Null Count   Dtype  \n",
            "---  ------                    --------------   -----  \n",
            " 0   accountNumber             641914 non-null  int64  \n",
            " 1   customerId                641914 non-null  int64  \n",
            " 2   creditLimit               641914 non-null  int64  \n",
            " 3   availableMoney            641914 non-null  float64\n",
            " 4   transactionDateTime       641914 non-null  object \n",
            " 5   transactionAmount         641914 non-null  float64\n",
            " 6   merchantName              641914 non-null  object \n",
            " 7   acqCountry                638001 non-null  object \n",
            " 8   merchantCountryCode       641290 non-null  object \n",
            " 9   posEntryMode              638569 non-null  float64\n",
            " 10  posConditionCode          641627 non-null  float64\n",
            " 11  merchantCategoryCode      641914 non-null  object \n",
            " 12  currentExpDate            641914 non-null  object \n",
            " 13  accountOpenDate           641914 non-null  object \n",
            " 14  dateOfLastAddressChange   641914 non-null  object \n",
            " 15  cardCVV                   641914 non-null  int64  \n",
            " 16  enteredCVV                641914 non-null  int64  \n",
            " 17  cardLast4Digits           641914 non-null  int64  \n",
            " 18  transactionType           641325 non-null  object \n",
            " 19  isFraud                   641914 non-null  bool   \n",
            " 20  currentBalance            641914 non-null  float64\n",
            " 21  cardPresent               641914 non-null  bool   \n",
            " 22  expirationDateKeyInMatch  641914 non-null  bool   \n",
            "dtypes: bool(3), float64(5), int64(6), object(9)\n",
            "memory usage: 99.8+ MB\n"
          ]
        }
      ],
      "source": [
        "df.info()"
      ]
    },
    {
      "cell_type": "code",
      "execution_count": null,
      "metadata": {
        "id": "tdBMR7GkzwlM",
        "colab": {
          "base_uri": "https://localhost:8080/"
        },
        "outputId": "def70207-a653-4b1c-9fbb-1b4646eca2f4"
      },
      "outputs": [
        {
          "output_type": "execute_result",
          "data": {
            "text/plain": [
              "accountNumber                  0\n",
              "customerId                     0\n",
              "creditLimit                    0\n",
              "availableMoney                 0\n",
              "transactionDateTime            0\n",
              "transactionAmount              0\n",
              "merchantName                   0\n",
              "acqCountry                  3913\n",
              "merchantCountryCode          624\n",
              "posEntryMode                3345\n",
              "posConditionCode             287\n",
              "merchantCategoryCode           0\n",
              "currentExpDate                 0\n",
              "accountOpenDate                0\n",
              "dateOfLastAddressChange        0\n",
              "cardCVV                        0\n",
              "enteredCVV                     0\n",
              "cardLast4Digits                0\n",
              "transactionType              589\n",
              "isFraud                        0\n",
              "currentBalance                 0\n",
              "cardPresent                    0\n",
              "expirationDateKeyInMatch       0\n",
              "dtype: int64"
            ]
          },
          "metadata": {},
          "execution_count": 369
        }
      ],
      "source": [
        "# Check missing values\n",
        "\n",
        "df.isnull().sum()"
      ]
    },
    {
      "cell_type": "code",
      "execution_count": null,
      "metadata": {
        "id": "5XOQbA4jz1Z-",
        "colab": {
          "base_uri": "https://localhost:8080/"
        },
        "outputId": "720659ba-4aea-41f3-892d-3c68a8fb7967"
      },
      "outputs": [
        {
          "output_type": "execute_result",
          "data": {
            "text/plain": [
              "(641914, 23)"
            ]
          },
          "metadata": {},
          "execution_count": 370
        }
      ],
      "source": [
        "df.shape"
      ]
    },
    {
      "cell_type": "code",
      "execution_count": null,
      "metadata": {
        "id": "2wZI9VvKz4za"
      },
      "outputs": [],
      "source": [
        "# drop row yang memiliki null value\n",
        "df = df.dropna()\n",
        " \n",
        "# reset index\n",
        "df = df.reset_index(drop = True)"
      ]
    },
    {
      "cell_type": "code",
      "execution_count": null,
      "metadata": {
        "id": "y1uxu9zjz8ls",
        "colab": {
          "base_uri": "https://localhost:8080/"
        },
        "outputId": "a3064f4a-f44b-44a9-e49e-b9972da5868a"
      },
      "outputs": [
        {
          "output_type": "execute_result",
          "data": {
            "text/plain": [
              "(633846, 23)"
            ]
          },
          "metadata": {},
          "execution_count": 372
        }
      ],
      "source": [
        "df.shape"
      ]
    },
    {
      "cell_type": "markdown",
      "metadata": {
        "id": "XUrtt0_EoL0U"
      },
      "source": [
        "Explore Categorical Variables"
      ]
    },
    {
      "cell_type": "code",
      "execution_count": null,
      "metadata": {
        "id": "q_REv1DHnu2r",
        "colab": {
          "base_uri": "https://localhost:8080/"
        },
        "outputId": "4089e73e-8476-4eed-8203-08176918c5be"
      },
      "outputs": [
        {
          "output_type": "stream",
          "name": "stdout",
          "text": [
            "9 categorical variables\n",
            "\n"
          ]
        }
      ],
      "source": [
        "# melihat banyak categorical variables\n",
        "\n",
        "categorical = [var for var in df.columns if df[var].dtype=='object']\n",
        "\n",
        "print('{} categorical variables\\n'.format(len(categorical)))"
      ]
    },
    {
      "cell_type": "code",
      "execution_count": null,
      "metadata": {
        "id": "f0Tr3PRKoPyR",
        "colab": {
          "base_uri": "https://localhost:8080/"
        },
        "outputId": "67d38619-4bcd-4c4c-d081-b91f8484849a"
      },
      "outputs": [
        {
          "output_type": "execute_result",
          "data": {
            "text/plain": [
              "['transactionDateTime',\n",
              " 'merchantName',\n",
              " 'acqCountry',\n",
              " 'merchantCountryCode',\n",
              " 'merchantCategoryCode',\n",
              " 'currentExpDate',\n",
              " 'accountOpenDate',\n",
              " 'dateOfLastAddressChange',\n",
              " 'transactionType']"
            ]
          },
          "metadata": {},
          "execution_count": 374
        }
      ],
      "source": [
        "categorical"
      ]
    },
    {
      "cell_type": "code",
      "execution_count": null,
      "metadata": {
        "id": "owZm0zalo2JY",
        "colab": {
          "base_uri": "https://localhost:8080/"
        },
        "outputId": "d02c1a17-5ec7-4069-e978-9b5cc431e899"
      },
      "outputs": [
        {
          "output_type": "stream",
          "name": "stdout",
          "text": [
            "3 boolean variables\n",
            "\n"
          ]
        }
      ],
      "source": [
        "# melihat banyak variable boolean\n",
        "\n",
        "boolean = [var for var in df.columns if df[var].dtype=='bool']\n",
        "\n",
        "print('{} boolean variables\\n'.format(len(boolean)))"
      ]
    },
    {
      "cell_type": "code",
      "execution_count": null,
      "metadata": {
        "id": "9jnqUc8JpM70",
        "colab": {
          "base_uri": "https://localhost:8080/"
        },
        "outputId": "10fad16c-5178-42d9-a512-802253dd3db0"
      },
      "outputs": [
        {
          "output_type": "execute_result",
          "data": {
            "text/plain": [
              "['isFraud', 'cardPresent', 'expirationDateKeyInMatch']"
            ]
          },
          "metadata": {},
          "execution_count": 376
        }
      ],
      "source": [
        "boolean"
      ]
    },
    {
      "cell_type": "code",
      "execution_count": null,
      "metadata": {
        "id": "x0o9VWM3pYhp",
        "colab": {
          "base_uri": "https://localhost:8080/"
        },
        "outputId": "f631de67-fc5a-477c-d0cb-cbaf503985ab"
      },
      "outputs": [
        {
          "output_type": "stream",
          "name": "stdout",
          "text": [
            "transactionDateTime  memiliki  627556  label\n",
            "merchantName  memiliki  2491  label\n",
            "acqCountry  memiliki  4  label\n",
            "merchantCountryCode  memiliki  4  label\n",
            "merchantCategoryCode  memiliki  19  label\n",
            "currentExpDate  memiliki  165  label\n",
            "accountOpenDate  memiliki  1826  label\n",
            "dateOfLastAddressChange  memiliki  2186  label\n",
            "transactionType  memiliki  3  label\n"
          ]
        }
      ],
      "source": [
        "# Melihat jumlah label setiap categorical variables\n",
        "\n",
        "for var in categorical:\n",
        "    print(var, ' memiliki ', len(df[var].unique()), ' label')"
      ]
    },
    {
      "cell_type": "code",
      "execution_count": null,
      "metadata": {
        "id": "bMyaU_1TreVY",
        "colab": {
          "base_uri": "https://localhost:8080/"
        },
        "outputId": "77ca8c14-6835-4fb5-875c-1b6cc12ff3cf"
      },
      "outputs": [
        {
          "output_type": "execute_result",
          "data": {
            "text/plain": [
              "0    2016-01-08T19:04:50\n",
              "1    2016-01-09T22:32:39\n",
              "2    2016-01-11T13:36:55\n",
              "3    2016-01-11T22:47:46\n",
              "4    2016-01-16T01:41:11\n",
              "Name: transactionDateTime, dtype: object"
            ]
          },
          "metadata": {},
          "execution_count": 378
        }
      ],
      "source": [
        "df['transactionDateTime'].head()"
      ]
    },
    {
      "cell_type": "code",
      "execution_count": null,
      "metadata": {
        "id": "p6slZe_LpgLZ",
        "colab": {
          "base_uri": "https://localhost:8080/"
        },
        "outputId": "8d752852-868b-4cff-f53b-7714371c1bd4"
      },
      "outputs": [
        {
          "output_type": "execute_result",
          "data": {
            "text/plain": [
              "0        2016-01-08 19:04:50\n",
              "1        2016-01-09 22:32:39\n",
              "2        2016-01-11 13:36:55\n",
              "3        2016-01-11 22:47:46\n",
              "4        2016-01-16 01:41:11\n",
              "                 ...        \n",
              "633841   2016-12-04 12:29:21\n",
              "633842   2016-12-09 04:20:35\n",
              "633843   2016-12-16 07:58:23\n",
              "633844   2016-12-19 02:30:35\n",
              "633845   2016-12-28 11:14:14\n",
              "Name: transactionDateTime, Length: 633846, dtype: datetime64[ns]"
            ]
          },
          "metadata": {},
          "execution_count": 379
        }
      ],
      "source": [
        "# Mengubah tipe data 'transactionDateTime' menjadi datetime\n",
        "\n",
        "df['transactionDateTime'] = pd.to_datetime(df['transactionDateTime'])\n",
        "df['transactionDateTime']"
      ]
    },
    {
      "cell_type": "code",
      "source": [
        "# menidentifikasi duplikasi transaksi berdasarkan kolom 'transactionDateTime', 'accountNumber', 'transactionAmount' dengan perbandingan waktu 10 menit\n",
        "Duplicated = (df.sort_values(['transactionDateTime']).groupby(['accountNumber', 'transactionAmount'], sort=False)['transactionDateTime'].diff().dt.total_seconds().lt(600))"
      ],
      "metadata": {
        "id": "xaXac0bBEqgu"
      },
      "execution_count": null,
      "outputs": []
    },
    {
      "cell_type": "code",
      "source": [
        "Duplicated.value_counts()"
      ],
      "metadata": {
        "id": "Inc4yEzdCG5l",
        "colab": {
          "base_uri": "https://localhost:8080/"
        },
        "outputId": "92d0156f-7a5a-454e-8585-dcfe43e28bdd"
      },
      "execution_count": null,
      "outputs": [
        {
          "output_type": "execute_result",
          "data": {
            "text/plain": [
              "False    623275\n",
              "True      10571\n",
              "Name: transactionDateTime, dtype: int64"
            ]
          },
          "metadata": {},
          "execution_count": 381
        }
      ]
    },
    {
      "cell_type": "code",
      "source": [
        "# membuat kolom 'duplikasi'\n",
        "\n",
        "df['duplikasi'] = Duplicated"
      ],
      "metadata": {
        "id": "Ipe_CoHtGf1e"
      },
      "execution_count": null,
      "outputs": []
    },
    {
      "cell_type": "code",
      "execution_count": null,
      "metadata": {
        "id": "r2GDvaCAsA0w"
      },
      "outputs": [],
      "source": [
        "# Mengekstrasi/memisahkan transactionDateTime menjadi year,month,week,day,hour,dan minute\n",
        "\n",
        "df['transaction_year'] = df['transactionDateTime'].dt.year\n",
        "df['transaction_month'] = df['transactionDateTime'].dt.month\n",
        "df['transaction_week'] = df['transactionDateTime'].dt.weekday\n",
        "df['transaction_day'] = df['transactionDateTime'].dt.day\n",
        "df['transaction_hour'] = df['transactionDateTime'].dt.hour\n",
        "df['transaction_minute'] = df['transactionDateTime'].dt.minute"
      ]
    },
    {
      "cell_type": "code",
      "execution_count": null,
      "metadata": {
        "id": "uTTAS5q81nm-"
      },
      "outputs": [],
      "source": [
        "# drop kolom transactionDateTime\n",
        "\n",
        "df = df.drop(columns=['transactionDateTime'])"
      ]
    },
    {
      "cell_type": "code",
      "execution_count": null,
      "metadata": {
        "id": "8Oahxrz0sr73",
        "colab": {
          "base_uri": "https://localhost:8080/",
          "height": 300
        },
        "outputId": "1351fa51-ad7d-4adb-eae8-ed172bd7880d"
      },
      "outputs": [
        {
          "output_type": "execute_result",
          "data": {
            "text/plain": [
              "   accountNumber  customerId  creditLimit  availableMoney  transactionAmount  \\\n",
              "0      733493772   733493772         5000         5000.00             111.33   \n",
              "1      733493772   733493772         5000         4888.67              24.75   \n",
              "2      733493772   733493772         5000         4863.92             187.40   \n",
              "3      733493772   733493772         5000         4676.52             227.34   \n",
              "4      733493772   733493772         5000         4449.18               0.00   \n",
              "\n",
              "  merchantName acqCountry merchantCountryCode  posEntryMode  posConditionCode  \\\n",
              "0         Lyft         US                  US           5.0               1.0   \n",
              "1         Uber         US                  US           9.0               1.0   \n",
              "2         Lyft         US                  US           5.0               1.0   \n",
              "3         Lyft         US                  US           2.0               1.0   \n",
              "4         Lyft         US                  US           2.0               1.0   \n",
              "\n",
              "   ... currentBalance cardPresent expirationDateKeyInMatch duplikasi  \\\n",
              "0  ...           0.00       False                    False     False   \n",
              "1  ...         111.33       False                    False     False   \n",
              "2  ...         136.08       False                    False     False   \n",
              "3  ...         323.48       False                    False     False   \n",
              "4  ...         550.82       False                    False     False   \n",
              "\n",
              "   transaction_year  transaction_month  transaction_week transaction_day  \\\n",
              "0              2016                  1                 4               8   \n",
              "1              2016                  1                 5               9   \n",
              "2              2016                  1                 0              11   \n",
              "3              2016                  1                 0              11   \n",
              "4              2016                  1                 5              16   \n",
              "\n",
              "   transaction_hour  transaction_minute  \n",
              "0                19                   4  \n",
              "1                22                  32  \n",
              "2                13                  36  \n",
              "3                22                  47  \n",
              "4                 1                  41  \n",
              "\n",
              "[5 rows x 29 columns]"
            ],
            "text/html": [
              "\n",
              "  <div id=\"df-a09a4bb8-35ba-4adf-9084-1f4de9afd955\">\n",
              "    <div class=\"colab-df-container\">\n",
              "      <div>\n",
              "<style scoped>\n",
              "    .dataframe tbody tr th:only-of-type {\n",
              "        vertical-align: middle;\n",
              "    }\n",
              "\n",
              "    .dataframe tbody tr th {\n",
              "        vertical-align: top;\n",
              "    }\n",
              "\n",
              "    .dataframe thead th {\n",
              "        text-align: right;\n",
              "    }\n",
              "</style>\n",
              "<table border=\"1\" class=\"dataframe\">\n",
              "  <thead>\n",
              "    <tr style=\"text-align: right;\">\n",
              "      <th></th>\n",
              "      <th>accountNumber</th>\n",
              "      <th>customerId</th>\n",
              "      <th>creditLimit</th>\n",
              "      <th>availableMoney</th>\n",
              "      <th>transactionAmount</th>\n",
              "      <th>merchantName</th>\n",
              "      <th>acqCountry</th>\n",
              "      <th>merchantCountryCode</th>\n",
              "      <th>posEntryMode</th>\n",
              "      <th>posConditionCode</th>\n",
              "      <th>...</th>\n",
              "      <th>currentBalance</th>\n",
              "      <th>cardPresent</th>\n",
              "      <th>expirationDateKeyInMatch</th>\n",
              "      <th>duplikasi</th>\n",
              "      <th>transaction_year</th>\n",
              "      <th>transaction_month</th>\n",
              "      <th>transaction_week</th>\n",
              "      <th>transaction_day</th>\n",
              "      <th>transaction_hour</th>\n",
              "      <th>transaction_minute</th>\n",
              "    </tr>\n",
              "  </thead>\n",
              "  <tbody>\n",
              "    <tr>\n",
              "      <th>0</th>\n",
              "      <td>733493772</td>\n",
              "      <td>733493772</td>\n",
              "      <td>5000</td>\n",
              "      <td>5000.00</td>\n",
              "      <td>111.33</td>\n",
              "      <td>Lyft</td>\n",
              "      <td>US</td>\n",
              "      <td>US</td>\n",
              "      <td>5.0</td>\n",
              "      <td>1.0</td>\n",
              "      <td>...</td>\n",
              "      <td>0.00</td>\n",
              "      <td>False</td>\n",
              "      <td>False</td>\n",
              "      <td>False</td>\n",
              "      <td>2016</td>\n",
              "      <td>1</td>\n",
              "      <td>4</td>\n",
              "      <td>8</td>\n",
              "      <td>19</td>\n",
              "      <td>4</td>\n",
              "    </tr>\n",
              "    <tr>\n",
              "      <th>1</th>\n",
              "      <td>733493772</td>\n",
              "      <td>733493772</td>\n",
              "      <td>5000</td>\n",
              "      <td>4888.67</td>\n",
              "      <td>24.75</td>\n",
              "      <td>Uber</td>\n",
              "      <td>US</td>\n",
              "      <td>US</td>\n",
              "      <td>9.0</td>\n",
              "      <td>1.0</td>\n",
              "      <td>...</td>\n",
              "      <td>111.33</td>\n",
              "      <td>False</td>\n",
              "      <td>False</td>\n",
              "      <td>False</td>\n",
              "      <td>2016</td>\n",
              "      <td>1</td>\n",
              "      <td>5</td>\n",
              "      <td>9</td>\n",
              "      <td>22</td>\n",
              "      <td>32</td>\n",
              "    </tr>\n",
              "    <tr>\n",
              "      <th>2</th>\n",
              "      <td>733493772</td>\n",
              "      <td>733493772</td>\n",
              "      <td>5000</td>\n",
              "      <td>4863.92</td>\n",
              "      <td>187.40</td>\n",
              "      <td>Lyft</td>\n",
              "      <td>US</td>\n",
              "      <td>US</td>\n",
              "      <td>5.0</td>\n",
              "      <td>1.0</td>\n",
              "      <td>...</td>\n",
              "      <td>136.08</td>\n",
              "      <td>False</td>\n",
              "      <td>False</td>\n",
              "      <td>False</td>\n",
              "      <td>2016</td>\n",
              "      <td>1</td>\n",
              "      <td>0</td>\n",
              "      <td>11</td>\n",
              "      <td>13</td>\n",
              "      <td>36</td>\n",
              "    </tr>\n",
              "    <tr>\n",
              "      <th>3</th>\n",
              "      <td>733493772</td>\n",
              "      <td>733493772</td>\n",
              "      <td>5000</td>\n",
              "      <td>4676.52</td>\n",
              "      <td>227.34</td>\n",
              "      <td>Lyft</td>\n",
              "      <td>US</td>\n",
              "      <td>US</td>\n",
              "      <td>2.0</td>\n",
              "      <td>1.0</td>\n",
              "      <td>...</td>\n",
              "      <td>323.48</td>\n",
              "      <td>False</td>\n",
              "      <td>False</td>\n",
              "      <td>False</td>\n",
              "      <td>2016</td>\n",
              "      <td>1</td>\n",
              "      <td>0</td>\n",
              "      <td>11</td>\n",
              "      <td>22</td>\n",
              "      <td>47</td>\n",
              "    </tr>\n",
              "    <tr>\n",
              "      <th>4</th>\n",
              "      <td>733493772</td>\n",
              "      <td>733493772</td>\n",
              "      <td>5000</td>\n",
              "      <td>4449.18</td>\n",
              "      <td>0.00</td>\n",
              "      <td>Lyft</td>\n",
              "      <td>US</td>\n",
              "      <td>US</td>\n",
              "      <td>2.0</td>\n",
              "      <td>1.0</td>\n",
              "      <td>...</td>\n",
              "      <td>550.82</td>\n",
              "      <td>False</td>\n",
              "      <td>False</td>\n",
              "      <td>False</td>\n",
              "      <td>2016</td>\n",
              "      <td>1</td>\n",
              "      <td>5</td>\n",
              "      <td>16</td>\n",
              "      <td>1</td>\n",
              "      <td>41</td>\n",
              "    </tr>\n",
              "  </tbody>\n",
              "</table>\n",
              "<p>5 rows × 29 columns</p>\n",
              "</div>\n",
              "      <button class=\"colab-df-convert\" onclick=\"convertToInteractive('df-a09a4bb8-35ba-4adf-9084-1f4de9afd955')\"\n",
              "              title=\"Convert this dataframe to an interactive table.\"\n",
              "              style=\"display:none;\">\n",
              "        \n",
              "  <svg xmlns=\"http://www.w3.org/2000/svg\" height=\"24px\"viewBox=\"0 0 24 24\"\n",
              "       width=\"24px\">\n",
              "    <path d=\"M0 0h24v24H0V0z\" fill=\"none\"/>\n",
              "    <path d=\"M18.56 5.44l.94 2.06.94-2.06 2.06-.94-2.06-.94-.94-2.06-.94 2.06-2.06.94zm-11 1L8.5 8.5l.94-2.06 2.06-.94-2.06-.94L8.5 2.5l-.94 2.06-2.06.94zm10 10l.94 2.06.94-2.06 2.06-.94-2.06-.94-.94-2.06-.94 2.06-2.06.94z\"/><path d=\"M17.41 7.96l-1.37-1.37c-.4-.4-.92-.59-1.43-.59-.52 0-1.04.2-1.43.59L10.3 9.45l-7.72 7.72c-.78.78-.78 2.05 0 2.83L4 21.41c.39.39.9.59 1.41.59.51 0 1.02-.2 1.41-.59l7.78-7.78 2.81-2.81c.8-.78.8-2.07 0-2.86zM5.41 20L4 18.59l7.72-7.72 1.47 1.35L5.41 20z\"/>\n",
              "  </svg>\n",
              "      </button>\n",
              "      \n",
              "  <style>\n",
              "    .colab-df-container {\n",
              "      display:flex;\n",
              "      flex-wrap:wrap;\n",
              "      gap: 12px;\n",
              "    }\n",
              "\n",
              "    .colab-df-convert {\n",
              "      background-color: #E8F0FE;\n",
              "      border: none;\n",
              "      border-radius: 50%;\n",
              "      cursor: pointer;\n",
              "      display: none;\n",
              "      fill: #1967D2;\n",
              "      height: 32px;\n",
              "      padding: 0 0 0 0;\n",
              "      width: 32px;\n",
              "    }\n",
              "\n",
              "    .colab-df-convert:hover {\n",
              "      background-color: #E2EBFA;\n",
              "      box-shadow: 0px 1px 2px rgba(60, 64, 67, 0.3), 0px 1px 3px 1px rgba(60, 64, 67, 0.15);\n",
              "      fill: #174EA6;\n",
              "    }\n",
              "\n",
              "    [theme=dark] .colab-df-convert {\n",
              "      background-color: #3B4455;\n",
              "      fill: #D2E3FC;\n",
              "    }\n",
              "\n",
              "    [theme=dark] .colab-df-convert:hover {\n",
              "      background-color: #434B5C;\n",
              "      box-shadow: 0px 1px 3px 1px rgba(0, 0, 0, 0.15);\n",
              "      filter: drop-shadow(0px 1px 2px rgba(0, 0, 0, 0.3));\n",
              "      fill: #FFFFFF;\n",
              "    }\n",
              "  </style>\n",
              "\n",
              "      <script>\n",
              "        const buttonEl =\n",
              "          document.querySelector('#df-a09a4bb8-35ba-4adf-9084-1f4de9afd955 button.colab-df-convert');\n",
              "        buttonEl.style.display =\n",
              "          google.colab.kernel.accessAllowed ? 'block' : 'none';\n",
              "\n",
              "        async function convertToInteractive(key) {\n",
              "          const element = document.querySelector('#df-a09a4bb8-35ba-4adf-9084-1f4de9afd955');\n",
              "          const dataTable =\n",
              "            await google.colab.kernel.invokeFunction('convertToInteractive',\n",
              "                                                     [key], {});\n",
              "          if (!dataTable) return;\n",
              "\n",
              "          const docLinkHtml = 'Like what you see? Visit the ' +\n",
              "            '<a target=\"_blank\" href=https://colab.research.google.com/notebooks/data_table.ipynb>data table notebook</a>'\n",
              "            + ' to learn more about interactive tables.';\n",
              "          element.innerHTML = '';\n",
              "          dataTable['output_type'] = 'display_data';\n",
              "          await google.colab.output.renderOutput(dataTable, element);\n",
              "          const docLink = document.createElement('div');\n",
              "          docLink.innerHTML = docLinkHtml;\n",
              "          element.appendChild(docLink);\n",
              "        }\n",
              "      </script>\n",
              "    </div>\n",
              "  </div>\n",
              "  "
            ]
          },
          "metadata": {},
          "execution_count": 385
        }
      ],
      "source": [
        "df.head()"
      ]
    },
    {
      "cell_type": "code",
      "source": [
        "# Melihat value yang sama antara kolom accountNumber dan customerId\n",
        "\n",
        "df['accountNumber'].eq(df['customerId']).value_counts()"
      ],
      "metadata": {
        "colab": {
          "base_uri": "https://localhost:8080/"
        },
        "id": "UL-a56ibHgCc",
        "outputId": "8658a4fe-6b63-4ef4-eac7-353c2b89ea2e"
      },
      "execution_count": null,
      "outputs": [
        {
          "output_type": "execute_result",
          "data": {
            "text/plain": [
              "True    633846\n",
              "dtype: int64"
            ]
          },
          "metadata": {},
          "execution_count": 386
        }
      ]
    },
    {
      "cell_type": "code",
      "execution_count": null,
      "metadata": {
        "id": "PlzKkMHqtGbk",
        "colab": {
          "base_uri": "https://localhost:8080/"
        },
        "outputId": "1d50f428-40dd-43ff-a466-2cca9a3db5fc"
      },
      "outputs": [
        {
          "output_type": "execute_result",
          "data": {
            "text/plain": [
              "array(['US', 'PR', 'MEX', 'CAN'], dtype=object)"
            ]
          },
          "metadata": {},
          "execution_count": 387
        }
      ],
      "source": [
        "# melihat unique values acqCountry dan merchantCountryCode\n",
        "\n",
        "df['acqCountry'].unique()"
      ]
    },
    {
      "cell_type": "code",
      "execution_count": null,
      "metadata": {
        "id": "nLcXmsL5tX_J",
        "colab": {
          "base_uri": "https://localhost:8080/"
        },
        "outputId": "a48746f0-a7c8-4cb9-fe73-00107afd619c"
      },
      "outputs": [
        {
          "output_type": "execute_result",
          "data": {
            "text/plain": [
              "array(['US', 'PR', 'MEX', 'CAN'], dtype=object)"
            ]
          },
          "metadata": {},
          "execution_count": 388
        }
      ],
      "source": [
        "df['merchantCountryCode'].unique()"
      ]
    },
    {
      "cell_type": "code",
      "execution_count": null,
      "metadata": {
        "id": "KYTSKYHgtdfL"
      },
      "outputs": [],
      "source": [
        "# Mengatasi nilai value yang sama (US,MEX,PR,CAN)\n",
        "\n",
        "cols = []\n",
        "for column in df.merchantCountryCode:\n",
        "    if column == 'MEX':\n",
        "      cols.append(f'MEX_{1}')\n",
        "      continue\n",
        "    elif column == 'US':\n",
        "      cols.append(f'US_{1}')\n",
        "      continue\n",
        "    elif column == 'PR':\n",
        "      cols.append(f'PR_{1}')\n",
        "      continue \n",
        "    elif column == 'CAN':\n",
        "      cols.append(f'CAN_{1}')\n",
        "      continue \n",
        "    cols.append(column)\n",
        "df.merchantCountryCode = cols"
      ]
    },
    {
      "cell_type": "code",
      "execution_count": null,
      "metadata": {
        "id": "3c0aM6QcuK1w",
        "colab": {
          "base_uri": "https://localhost:8080/"
        },
        "outputId": "03d310df-5f30-4855-8718-2cd23fbd6589"
      },
      "outputs": [
        {
          "output_type": "execute_result",
          "data": {
            "text/plain": [
              "array(['US_1', 'PR_1', 'MEX_1', 'CAN_1'], dtype=object)"
            ]
          },
          "metadata": {},
          "execution_count": 390
        }
      ],
      "source": [
        "df['merchantCountryCode'].unique()"
      ]
    },
    {
      "cell_type": "markdown",
      "metadata": {
        "id": "0Vg9x7ToyzPE"
      },
      "source": [
        "Explore Numerical Variables"
      ]
    },
    {
      "cell_type": "code",
      "execution_count": null,
      "metadata": {
        "id": "Bp70XnzByeZa",
        "colab": {
          "base_uri": "https://localhost:8080/"
        },
        "outputId": "4ee4522d-d7b7-4d14-a789-74561488daef"
      },
      "outputs": [
        {
          "output_type": "stream",
          "name": "stdout",
          "text": [
            "17 numerical variables\n",
            "\n"
          ]
        }
      ],
      "source": [
        "# melihat banyak numerical variables\n",
        "\n",
        "numerical = [var for var in df.columns if df[var].dtype=='int64' or df[var].dtype=='float64']\n",
        "\n",
        "print('{} numerical variables\\n'.format(len(numerical)))"
      ]
    },
    {
      "cell_type": "code",
      "execution_count": null,
      "metadata": {
        "id": "s2CGTcJky_-M",
        "colab": {
          "base_uri": "https://localhost:8080/",
          "height": 270
        },
        "outputId": "b1c48a03-94dd-40d1-8619-aa58ebd6683c"
      },
      "outputs": [
        {
          "output_type": "execute_result",
          "data": {
            "text/plain": [
              "   accountNumber  customerId  creditLimit  availableMoney  transactionAmount  \\\n",
              "0      733493772   733493772         5000         5000.00             111.33   \n",
              "1      733493772   733493772         5000         4888.67              24.75   \n",
              "2      733493772   733493772         5000         4863.92             187.40   \n",
              "3      733493772   733493772         5000         4676.52             227.34   \n",
              "4      733493772   733493772         5000         4449.18               0.00   \n",
              "\n",
              "   posEntryMode  posConditionCode  cardCVV  enteredCVV  cardLast4Digits  \\\n",
              "0           5.0               1.0      492         492             9184   \n",
              "1           9.0               1.0      492         492             9184   \n",
              "2           5.0               1.0      492         492             9184   \n",
              "3           2.0               1.0      492         492             9184   \n",
              "4           2.0               1.0      492         492             9184   \n",
              "\n",
              "   currentBalance  transaction_year  transaction_month  transaction_week  \\\n",
              "0            0.00              2016                  1                 4   \n",
              "1          111.33              2016                  1                 5   \n",
              "2          136.08              2016                  1                 0   \n",
              "3          323.48              2016                  1                 0   \n",
              "4          550.82              2016                  1                 5   \n",
              "\n",
              "   transaction_day  transaction_hour  transaction_minute  \n",
              "0                8                19                   4  \n",
              "1                9                22                  32  \n",
              "2               11                13                  36  \n",
              "3               11                22                  47  \n",
              "4               16                 1                  41  "
            ],
            "text/html": [
              "\n",
              "  <div id=\"df-91dd3fad-1a04-4bc1-a3e0-6327a49856fc\">\n",
              "    <div class=\"colab-df-container\">\n",
              "      <div>\n",
              "<style scoped>\n",
              "    .dataframe tbody tr th:only-of-type {\n",
              "        vertical-align: middle;\n",
              "    }\n",
              "\n",
              "    .dataframe tbody tr th {\n",
              "        vertical-align: top;\n",
              "    }\n",
              "\n",
              "    .dataframe thead th {\n",
              "        text-align: right;\n",
              "    }\n",
              "</style>\n",
              "<table border=\"1\" class=\"dataframe\">\n",
              "  <thead>\n",
              "    <tr style=\"text-align: right;\">\n",
              "      <th></th>\n",
              "      <th>accountNumber</th>\n",
              "      <th>customerId</th>\n",
              "      <th>creditLimit</th>\n",
              "      <th>availableMoney</th>\n",
              "      <th>transactionAmount</th>\n",
              "      <th>posEntryMode</th>\n",
              "      <th>posConditionCode</th>\n",
              "      <th>cardCVV</th>\n",
              "      <th>enteredCVV</th>\n",
              "      <th>cardLast4Digits</th>\n",
              "      <th>currentBalance</th>\n",
              "      <th>transaction_year</th>\n",
              "      <th>transaction_month</th>\n",
              "      <th>transaction_week</th>\n",
              "      <th>transaction_day</th>\n",
              "      <th>transaction_hour</th>\n",
              "      <th>transaction_minute</th>\n",
              "    </tr>\n",
              "  </thead>\n",
              "  <tbody>\n",
              "    <tr>\n",
              "      <th>0</th>\n",
              "      <td>733493772</td>\n",
              "      <td>733493772</td>\n",
              "      <td>5000</td>\n",
              "      <td>5000.00</td>\n",
              "      <td>111.33</td>\n",
              "      <td>5.0</td>\n",
              "      <td>1.0</td>\n",
              "      <td>492</td>\n",
              "      <td>492</td>\n",
              "      <td>9184</td>\n",
              "      <td>0.00</td>\n",
              "      <td>2016</td>\n",
              "      <td>1</td>\n",
              "      <td>4</td>\n",
              "      <td>8</td>\n",
              "      <td>19</td>\n",
              "      <td>4</td>\n",
              "    </tr>\n",
              "    <tr>\n",
              "      <th>1</th>\n",
              "      <td>733493772</td>\n",
              "      <td>733493772</td>\n",
              "      <td>5000</td>\n",
              "      <td>4888.67</td>\n",
              "      <td>24.75</td>\n",
              "      <td>9.0</td>\n",
              "      <td>1.0</td>\n",
              "      <td>492</td>\n",
              "      <td>492</td>\n",
              "      <td>9184</td>\n",
              "      <td>111.33</td>\n",
              "      <td>2016</td>\n",
              "      <td>1</td>\n",
              "      <td>5</td>\n",
              "      <td>9</td>\n",
              "      <td>22</td>\n",
              "      <td>32</td>\n",
              "    </tr>\n",
              "    <tr>\n",
              "      <th>2</th>\n",
              "      <td>733493772</td>\n",
              "      <td>733493772</td>\n",
              "      <td>5000</td>\n",
              "      <td>4863.92</td>\n",
              "      <td>187.40</td>\n",
              "      <td>5.0</td>\n",
              "      <td>1.0</td>\n",
              "      <td>492</td>\n",
              "      <td>492</td>\n",
              "      <td>9184</td>\n",
              "      <td>136.08</td>\n",
              "      <td>2016</td>\n",
              "      <td>1</td>\n",
              "      <td>0</td>\n",
              "      <td>11</td>\n",
              "      <td>13</td>\n",
              "      <td>36</td>\n",
              "    </tr>\n",
              "    <tr>\n",
              "      <th>3</th>\n",
              "      <td>733493772</td>\n",
              "      <td>733493772</td>\n",
              "      <td>5000</td>\n",
              "      <td>4676.52</td>\n",
              "      <td>227.34</td>\n",
              "      <td>2.0</td>\n",
              "      <td>1.0</td>\n",
              "      <td>492</td>\n",
              "      <td>492</td>\n",
              "      <td>9184</td>\n",
              "      <td>323.48</td>\n",
              "      <td>2016</td>\n",
              "      <td>1</td>\n",
              "      <td>0</td>\n",
              "      <td>11</td>\n",
              "      <td>22</td>\n",
              "      <td>47</td>\n",
              "    </tr>\n",
              "    <tr>\n",
              "      <th>4</th>\n",
              "      <td>733493772</td>\n",
              "      <td>733493772</td>\n",
              "      <td>5000</td>\n",
              "      <td>4449.18</td>\n",
              "      <td>0.00</td>\n",
              "      <td>2.0</td>\n",
              "      <td>1.0</td>\n",
              "      <td>492</td>\n",
              "      <td>492</td>\n",
              "      <td>9184</td>\n",
              "      <td>550.82</td>\n",
              "      <td>2016</td>\n",
              "      <td>1</td>\n",
              "      <td>5</td>\n",
              "      <td>16</td>\n",
              "      <td>1</td>\n",
              "      <td>41</td>\n",
              "    </tr>\n",
              "  </tbody>\n",
              "</table>\n",
              "</div>\n",
              "      <button class=\"colab-df-convert\" onclick=\"convertToInteractive('df-91dd3fad-1a04-4bc1-a3e0-6327a49856fc')\"\n",
              "              title=\"Convert this dataframe to an interactive table.\"\n",
              "              style=\"display:none;\">\n",
              "        \n",
              "  <svg xmlns=\"http://www.w3.org/2000/svg\" height=\"24px\"viewBox=\"0 0 24 24\"\n",
              "       width=\"24px\">\n",
              "    <path d=\"M0 0h24v24H0V0z\" fill=\"none\"/>\n",
              "    <path d=\"M18.56 5.44l.94 2.06.94-2.06 2.06-.94-2.06-.94-.94-2.06-.94 2.06-2.06.94zm-11 1L8.5 8.5l.94-2.06 2.06-.94-2.06-.94L8.5 2.5l-.94 2.06-2.06.94zm10 10l.94 2.06.94-2.06 2.06-.94-2.06-.94-.94-2.06-.94 2.06-2.06.94z\"/><path d=\"M17.41 7.96l-1.37-1.37c-.4-.4-.92-.59-1.43-.59-.52 0-1.04.2-1.43.59L10.3 9.45l-7.72 7.72c-.78.78-.78 2.05 0 2.83L4 21.41c.39.39.9.59 1.41.59.51 0 1.02-.2 1.41-.59l7.78-7.78 2.81-2.81c.8-.78.8-2.07 0-2.86zM5.41 20L4 18.59l7.72-7.72 1.47 1.35L5.41 20z\"/>\n",
              "  </svg>\n",
              "      </button>\n",
              "      \n",
              "  <style>\n",
              "    .colab-df-container {\n",
              "      display:flex;\n",
              "      flex-wrap:wrap;\n",
              "      gap: 12px;\n",
              "    }\n",
              "\n",
              "    .colab-df-convert {\n",
              "      background-color: #E8F0FE;\n",
              "      border: none;\n",
              "      border-radius: 50%;\n",
              "      cursor: pointer;\n",
              "      display: none;\n",
              "      fill: #1967D2;\n",
              "      height: 32px;\n",
              "      padding: 0 0 0 0;\n",
              "      width: 32px;\n",
              "    }\n",
              "\n",
              "    .colab-df-convert:hover {\n",
              "      background-color: #E2EBFA;\n",
              "      box-shadow: 0px 1px 2px rgba(60, 64, 67, 0.3), 0px 1px 3px 1px rgba(60, 64, 67, 0.15);\n",
              "      fill: #174EA6;\n",
              "    }\n",
              "\n",
              "    [theme=dark] .colab-df-convert {\n",
              "      background-color: #3B4455;\n",
              "      fill: #D2E3FC;\n",
              "    }\n",
              "\n",
              "    [theme=dark] .colab-df-convert:hover {\n",
              "      background-color: #434B5C;\n",
              "      box-shadow: 0px 1px 3px 1px rgba(0, 0, 0, 0.15);\n",
              "      filter: drop-shadow(0px 1px 2px rgba(0, 0, 0, 0.3));\n",
              "      fill: #FFFFFF;\n",
              "    }\n",
              "  </style>\n",
              "\n",
              "      <script>\n",
              "        const buttonEl =\n",
              "          document.querySelector('#df-91dd3fad-1a04-4bc1-a3e0-6327a49856fc button.colab-df-convert');\n",
              "        buttonEl.style.display =\n",
              "          google.colab.kernel.accessAllowed ? 'block' : 'none';\n",
              "\n",
              "        async function convertToInteractive(key) {\n",
              "          const element = document.querySelector('#df-91dd3fad-1a04-4bc1-a3e0-6327a49856fc');\n",
              "          const dataTable =\n",
              "            await google.colab.kernel.invokeFunction('convertToInteractive',\n",
              "                                                     [key], {});\n",
              "          if (!dataTable) return;\n",
              "\n",
              "          const docLinkHtml = 'Like what you see? Visit the ' +\n",
              "            '<a target=\"_blank\" href=https://colab.research.google.com/notebooks/data_table.ipynb>data table notebook</a>'\n",
              "            + ' to learn more about interactive tables.';\n",
              "          element.innerHTML = '';\n",
              "          dataTable['output_type'] = 'display_data';\n",
              "          await google.colab.output.renderOutput(dataTable, element);\n",
              "          const docLink = document.createElement('div');\n",
              "          docLink.innerHTML = docLinkHtml;\n",
              "          element.appendChild(docLink);\n",
              "        }\n",
              "      </script>\n",
              "    </div>\n",
              "  </div>\n",
              "  "
            ]
          },
          "metadata": {},
          "execution_count": 392
        }
      ],
      "source": [
        "df[numerical].head()"
      ]
    },
    {
      "cell_type": "markdown",
      "metadata": {
        "id": "MYAdAwWS1CqS"
      },
      "source": [
        "Explore Target Variable"
      ]
    },
    {
      "cell_type": "code",
      "execution_count": null,
      "metadata": {
        "id": "-ZpvEBvl2k9c",
        "colab": {
          "base_uri": "https://localhost:8080/"
        },
        "outputId": "c3f8eb83-e461-415a-ddb5-0cdc91d6bd00"
      },
      "outputs": [
        {
          "output_type": "stream",
          "name": "stdout",
          "text": [
            "Persentase Fraud:  1.72 %  --> (10892 transaksi)\n",
            "Persentase bukan Fraud: 98.28  %  --> (622954 transaksi)\n"
          ]
        }
      ],
      "source": [
        "# melihat persentase True/False kolom 'isFraud'\n",
        "\n",
        "y = df['isFraud']\n",
        "print(f'Persentase Fraud:  {round(y.value_counts(normalize=True)[1]*100,2)} %  --> ({y.value_counts()[1]} transaksi)\\nPersentase bukan Fraud: {round(y.value_counts(normalize=True)[0]*100,2)}  %  --> ({y.value_counts()[0]} transaksi)')"
      ]
    },
    {
      "cell_type": "code",
      "execution_count": null,
      "metadata": {
        "id": "kPeG2VAz3Nhz",
        "colab": {
          "base_uri": "https://localhost:8080/"
        },
        "outputId": "b088f90c-b07f-4403-9c27-badf4535802d"
      },
      "outputs": [
        {
          "output_type": "execute_result",
          "data": {
            "text/plain": [
              "57.193720161586484"
            ]
          },
          "metadata": {},
          "execution_count": 394
        }
      ],
      "source": [
        "622954/10892"
      ]
    },
    {
      "cell_type": "markdown",
      "metadata": {
        "id": "YRm1YhmN3R21"
      },
      "source": [
        "Imbalance data dengan perbandingan 57:1"
      ]
    },
    {
      "cell_type": "markdown",
      "metadata": {
        "id": "skMKtrqi3dh7"
      },
      "source": [
        "# Exploratory Data Analysis"
      ]
    },
    {
      "cell_type": "code",
      "source": [
        "sns.countplot(df['creditLimit'].sort_values().astype(str),palette=\"flare\")"
      ],
      "metadata": {
        "colab": {
          "base_uri": "https://localhost:8080/",
          "height": 296
        },
        "id": "Ou7B_UQcM1cV",
        "outputId": "a93818cc-e1f7-4537-d1e2-5813b14d1159"
      },
      "execution_count": null,
      "outputs": [
        {
          "output_type": "execute_result",
          "data": {
            "text/plain": [
              "<matplotlib.axes._subplots.AxesSubplot at 0x7fedb0aa0690>"
            ]
          },
          "metadata": {},
          "execution_count": 395
        },
        {
          "output_type": "display_data",
          "data": {
            "text/plain": [
              "<Figure size 432x288 with 1 Axes>"
            ],
            "image/png": "[encoded data removed]"
          },
          "metadata": {
            "needs_background": "light"
          }
        }
      ]
    },
    {
      "cell_type": "markdown",
      "source": [
        "Sebagian besar Kartu Kredit memiliki limit 5000, posisi ke-2 dengan limit 7500."
      ],
      "metadata": {
        "id": "zfMao0qoPaFI"
      }
    },
    {
      "cell_type": "code",
      "source": [
        "sns.countplot(df['posEntryMode'].sort_values().astype(str),palette=\"flare\")"
      ],
      "metadata": {
        "colab": {
          "base_uri": "https://localhost:8080/",
          "height": 296
        },
        "id": "SCPHsrfgO55V",
        "outputId": "10ae5f57-0b83-40fa-ee57-122211b6a075"
      },
      "execution_count": null,
      "outputs": [
        {
          "output_type": "execute_result",
          "data": {
            "text/plain": [
              "<matplotlib.axes._subplots.AxesSubplot at 0x7fedb0b1b0d0>"
            ]
          },
          "metadata": {},
          "execution_count": 396
        },
        {
          "output_type": "display_data",
          "data": {
            "text/plain": [
              "<Figure size 432x288 with 1 Axes>"
            ],
            "image/png": "[encoded data removed]"
          },
          "metadata": {
            "needs_background": "light"
          }
        }
      ]
    },
    {
      "cell_type": "markdown",
      "source": [
        "Sebagian besar metode entry dengan code 05 (Integrated circuit card read) <br>dan posisi kedua dengan code 09 (Primary account number via e-commerce)"
      ],
      "metadata": {
        "id": "a8N_hod3OUQS"
      }
    },
    {
      "cell_type": "code",
      "source": [
        "sns.countplot(df['transactionType'],palette=\"flare\")"
      ],
      "metadata": {
        "colab": {
          "base_uri": "https://localhost:8080/",
          "height": 297
        },
        "id": "nRci9OIKRuI1",
        "outputId": "4fd8388d-3b82-4473-ee0e-536282ad8a93"
      },
      "execution_count": null,
      "outputs": [
        {
          "output_type": "execute_result",
          "data": {
            "text/plain": [
              "<matplotlib.axes._subplots.AxesSubplot at 0x7fedb0ac09d0>"
            ]
          },
          "metadata": {},
          "execution_count": 397
        },
        {
          "output_type": "display_data",
          "data": {
            "text/plain": [
              "<Figure size 432x288 with 1 Axes>"
            ],
            "image/png": "[encoded data removed]"
          },
          "metadata": {
            "needs_background": "light"
          }
        }
      ]
    },
    {
      "cell_type": "markdown",
      "source": [
        "Tipe transaksi didominasi oleh tipe pembelian"
      ],
      "metadata": {
        "id": "lQLkoIlBR7g2"
      }
    },
    {
      "cell_type": "code",
      "source": [
        "sns.countplot(df['cardPresent'].astype(str),palette=\"flare\")"
      ],
      "metadata": {
        "colab": {
          "base_uri": "https://localhost:8080/",
          "height": 298
        },
        "id": "QYQMr9PpR1kz",
        "outputId": "0b94e5ce-6df1-46b1-f3ee-45b21ba1d064"
      },
      "execution_count": null,
      "outputs": [
        {
          "output_type": "execute_result",
          "data": {
            "text/plain": [
              "<matplotlib.axes._subplots.AxesSubplot at 0x7fedb0ac07d0>"
            ]
          },
          "metadata": {},
          "execution_count": 398
        },
        {
          "output_type": "display_data",
          "data": {
            "text/plain": [
              "<Figure size 432x288 with 1 Axes>"
            ],
            "image/png": "[encoded data removed]"
          },
          "metadata": {
            "needs_background": "light"
          }
        }
      ]
    },
    {
      "cell_type": "markdown",
      "source": [
        "terdistribusi secara hampir seimbang"
      ],
      "metadata": {
        "id": "jLLyjwwtSYgT"
      }
    },
    {
      "cell_type": "code",
      "source": [
        "ax = sns.countplot(df['merchantName'], palette=\"flare\", order=df['merchantName'].sort_values().value_counts().iloc[:10].index)\n",
        "ax.set_xticklabels(ax.get_xticklabels(),rotation = 90)"
      ],
      "metadata": {
        "colab": {
          "base_uri": "https://localhost:8080/",
          "height": 507
        },
        "id": "YHbhtLb9SYFw",
        "outputId": "37e66e9e-a393-4b1f-9938-515af5636eed"
      },
      "execution_count": null,
      "outputs": [
        {
          "output_type": "execute_result",
          "data": {
            "text/plain": [
              "[Text(0, 0, 'Lyft'),\n",
              " Text(0, 0, 'Uber'),\n",
              " Text(0, 0, 'gap.com'),\n",
              " Text(0, 0, 'target.com'),\n",
              " Text(0, 0, 'apple.com'),\n",
              " Text(0, 0, 'alibaba.com'),\n",
              " Text(0, 0, 'staples.com'),\n",
              " Text(0, 0, 'amazon.com'),\n",
              " Text(0, 0, 'ebay.com'),\n",
              " Text(0, 0, 'oldnavy.com')]"
            ]
          },
          "metadata": {},
          "execution_count": 399
        },
        {
          "output_type": "display_data",
          "data": {
            "text/plain": [
              "<Figure size 432x288 with 1 Axes>"
            ],
            "image/png": "[encoded data removed]"
          },
          "metadata": {
            "needs_background": "light"
          }
        }
      ]
    },
    {
      "cell_type": "markdown",
      "source": [
        "Top 10 Merchant by count"
      ],
      "metadata": {
        "id": "OM3xf-bRVYT0"
      }
    },
    {
      "cell_type": "code",
      "source": [
        "ax = sns.countplot(df['merchantCategoryCode'], palette=\"flare\", order=df['merchantCategoryCode'].sort_values().value_counts().iloc[:10].index)\n",
        "ax.set_xticklabels(ax.get_xticklabels(),rotation = 90)"
      ],
      "metadata": {
        "colab": {
          "base_uri": "https://localhost:8080/",
          "height": 515
        },
        "id": "1-fP_36VVcx3",
        "outputId": "2a561fb5-3df5-4e55-a950-864ef104609d"
      },
      "execution_count": null,
      "outputs": [
        {
          "output_type": "execute_result",
          "data": {
            "text/plain": [
              "[Text(0, 0, 'online_retail'),\n",
              " Text(0, 0, 'fastfood'),\n",
              " Text(0, 0, 'entertainment'),\n",
              " Text(0, 0, 'food'),\n",
              " Text(0, 0, 'rideshare'),\n",
              " Text(0, 0, 'online_gifts'),\n",
              " Text(0, 0, 'hotels'),\n",
              " Text(0, 0, 'fuel'),\n",
              " Text(0, 0, 'subscriptions'),\n",
              " Text(0, 0, 'personal care')]"
            ]
          },
          "metadata": {},
          "execution_count": 400
        },
        {
          "output_type": "display_data",
          "data": {
            "text/plain": [
              "<Figure size 432x288 with 1 Axes>"
            ],
            "image/png": "[encoded data removed]"
          },
          "metadata": {
            "needs_background": "light"
          }
        }
      ]
    },
    {
      "cell_type": "markdown",
      "source": [
        "Top 10 kategori transaksi"
      ],
      "metadata": {
        "id": "7nhPCJF8VzGs"
      }
    },
    {
      "cell_type": "markdown",
      "source": [
        "\n",
        "\n",
        "---\n",
        "\n",
        "\n",
        "\n"
      ],
      "metadata": {
        "id": "ihSp1d3LWPVE"
      }
    },
    {
      "cell_type": "code",
      "execution_count": null,
      "metadata": {
        "id": "nMmj4eDYzOIc",
        "colab": {
          "base_uri": "https://localhost:8080/"
        },
        "outputId": "0410749f-30ea-40a3-c8d4-24c533db8740"
      },
      "outputs": [
        {
          "output_type": "stream",
          "name": "stdout",
          "text": [
            "       accountNumber   customerId  creditLimit  availableMoney  \\\n",
            "count       633846.0     633846.0     633846.0        633846.0   \n",
            "mean     554762734.0  554762734.0      10699.0          6653.0   \n",
            "std      254741441.0  254741441.0      11462.0          9229.0   \n",
            "min      100547107.0  100547107.0        250.0         -1245.0   \n",
            "25%      322319158.0  322319158.0       5000.0          1116.0   \n",
            "50%      543887911.0  543887911.0       7500.0          3578.0   \n",
            "75%      786558938.0  786558938.0      15000.0          8162.0   \n",
            "max      999985343.0  999985343.0      50000.0         50000.0   \n",
            "\n",
            "       transactionAmount  posEntryMode  posConditionCode   cardCVV  \\\n",
            "count           633846.0      633846.0          633846.0  633846.0   \n",
            "mean               135.0           9.0               3.0     557.0   \n",
            "std                147.0          17.0              10.0     257.0   \n",
            "min                  0.0           2.0               1.0     100.0   \n",
            "25%                 32.0           2.0               1.0     334.0   \n",
            "50%                 86.0           5.0               1.0     581.0   \n",
            "75%                189.0           9.0               1.0     761.0   \n",
            "max               1825.0          90.0              99.0     998.0   \n",
            "\n",
            "       enteredCVV  cardLast4Digits  currentBalance  transaction_year  \\\n",
            "count    633846.0         633846.0        633846.0          633846.0   \n",
            "mean        557.0           4886.0          4046.0            2016.0   \n",
            "std         257.0           2859.0          5947.0               0.0   \n",
            "min           1.0              0.0             0.0            2016.0   \n",
            "25%         333.0           2362.0           503.0            2016.0   \n",
            "50%         580.0           4873.0          2153.0            2016.0   \n",
            "75%         761.0           7267.0          5007.0            2016.0   \n",
            "max         998.0           9998.0         47496.0            2016.0   \n",
            "\n",
            "       transaction_month  transaction_week  transaction_day  transaction_hour  \\\n",
            "count           633846.0          633846.0         633846.0          633846.0   \n",
            "mean                 7.0               3.0             16.0              12.0   \n",
            "std                  3.0               2.0              9.0               7.0   \n",
            "min                  1.0               0.0              1.0               0.0   \n",
            "25%                  4.0               1.0              8.0               6.0   \n",
            "50%                  7.0               3.0             16.0              12.0   \n",
            "75%                 10.0               5.0             23.0              17.0   \n",
            "max                 12.0               6.0             31.0              23.0   \n",
            "\n",
            "       transaction_minute  \n",
            "count            633846.0  \n",
            "mean                 30.0  \n",
            "std                  17.0  \n",
            "min                   0.0  \n",
            "25%                  15.0  \n",
            "50%                  30.0  \n",
            "75%                  45.0  \n",
            "max                  59.0   2\n"
          ]
        }
      ],
      "source": [
        "# melihat summary numerical variable\n",
        "\n",
        "print(round(df[numerical].describe()),2)"
      ]
    },
    {
      "cell_type": "markdown",
      "metadata": {
        "id": "AI9vXtZ435bN"
      },
      "source": [
        "Outliers"
      ]
    },
    {
      "cell_type": "code",
      "execution_count": null,
      "metadata": {
        "id": "3NHIh6fxzY0L",
        "colab": {
          "base_uri": "https://localhost:8080/",
          "height": 328
        },
        "outputId": "887dd7ba-709b-4024-ccc1-04c91b4ca507"
      },
      "outputs": [
        {
          "output_type": "execute_result",
          "data": {
            "text/plain": [
              "Text(0.5, 1.0, 'currentBalance')"
            ]
          },
          "metadata": {},
          "execution_count": 402
        },
        {
          "output_type": "display_data",
          "data": {
            "text/plain": [
              "<Figure size 1080x720 with 4 Axes>"
            ],
            "image/png": "[encoded data removed]"
          },
          "metadata": {
            "needs_background": "light"
          }
        }
      ],
      "source": [
        "# boxplots untuk menvisualize outlier\n",
        "\n",
        "plt.figure(figsize=(15,10))\n",
        "\n",
        "\n",
        "plt.subplot(2, 4, 1)\n",
        "fig = sns.boxplot(data=df['creditLimit'],palette=\"flare\")\n",
        "fig.set_title('creditLimit')\n",
        "\n",
        "plt.subplot(2, 4, 2)\n",
        "fig = sns.boxplot(data=df['availableMoney'],palette=\"flare\")\n",
        "fig.set_title('availableMoney')\n",
        "\n",
        "plt.subplot(2, 4, 3)\n",
        "fig = sns.boxplot(data=df['transactionAmount'],palette=\"flare\")\n",
        "fig.set_title('transactionAmount')\n",
        "\n",
        "plt.subplot(2, 4, 4)\n",
        "fig = sns.boxplot(data=df['currentBalance'],palette=\"flare\")\n",
        "fig.set_title('currentBalance')"
      ]
    },
    {
      "cell_type": "code",
      "execution_count": null,
      "metadata": {
        "id": "hoApbpk4uMIG",
        "colab": {
          "base_uri": "https://localhost:8080/",
          "height": 623
        },
        "outputId": "83b6aee8-0f76-4d04-daaf-52627a3721e8"
      },
      "outputs": [
        {
          "output_type": "execute_result",
          "data": {
            "text/plain": [
              "Text(0, 0.5, 'Count')"
            ]
          },
          "metadata": {},
          "execution_count": 403
        },
        {
          "output_type": "display_data",
          "data": {
            "text/plain": [
              "<Figure size 1080x720 with 4 Axes>"
            ],
            "image/png": "[encoded data removed]"
          },
          "metadata": {
            "needs_background": "light"
          }
        }
      ],
      "source": [
        "# Plot histogram untuk melihat distribusi\n",
        "\n",
        "plt.figure(figsize=(15,10))\n",
        "\n",
        "plt.subplot(2, 2, 1)\n",
        "fig = sns.histplot(df['creditLimit'],bins=10)\n",
        "fig.set_xlabel('creditLimit')\n",
        "fig.set_ylabel('Count')\n",
        "\n",
        "plt.subplot(2, 2, 2)\n",
        "fig = sns.histplot(df['availableMoney'],bins=10)\n",
        "fig.set_xlabel('availableMoney')\n",
        "fig.set_ylabel('Count')\n",
        "\n",
        "plt.subplot(2, 2, 3)\n",
        "fig = sns.histplot(df['transactionAmount'],bins=10)\n",
        "fig.set_xlabel('transactionAmount')\n",
        "fig.set_ylabel('Count')\n",
        "\n",
        "plt.subplot(2, 2, 4)\n",
        "fig = sns.histplot(df['currentBalance'],bins=10)\n",
        "fig.set_xlabel('currentBalance')\n",
        "fig.set_ylabel('Count')"
      ]
    },
    {
      "cell_type": "markdown",
      "metadata": {
        "id": "Osn2o7fU4yRz"
      },
      "source": [
        "Kita bisa lihat 4 variable tersebut right skewed. Jadi, kita bisa gunakan Interquantile Range (IQR) untuk melihat outlier."
      ]
    },
    {
      "cell_type": "code",
      "source": [
        "df1 = df.copy()"
      ],
      "metadata": {
        "id": "JPwYczDui_tw"
      },
      "execution_count": null,
      "outputs": []
    },
    {
      "cell_type": "code",
      "execution_count": null,
      "metadata": {
        "id": "2n2ADdEF7DwF",
        "colab": {
          "base_uri": "https://localhost:8080/"
        },
        "outputId": "f686ecaa-5cc5-4298-ea26-ef5468c570fb"
      },
      "outputs": [
        {
          "output_type": "stream",
          "name": "stdout",
          "text": [
            "creditLimit minimum values = 250\n",
            "creditLimit maximum values = 50000\n",
            "creditLimit outlier values > 45000.0\n"
          ]
        }
      ],
      "source": [
        "# outliers kolom creditLimit variable\n",
        "\n",
        "IQR1 = df.creditLimit.quantile(0.75) - df.creditLimit.quantile(0.25)\n",
        "Lower_fence1 = df.creditLimit.quantile(0.25) - (IQR1 * 3)\n",
        "Upper_fence1 = df.creditLimit.quantile(0.75) + (IQR1 * 3)\n",
        "print('creditLimit minimum values =',df['creditLimit'].min())\n",
        "print('creditLimit maximum values =',df['creditLimit'].max())\n",
        "print('creditLimit outlier values > {upperboundary}'.format(lowerboundary=Lower_fence1, upperboundary=Upper_fence1))"
      ]
    },
    {
      "cell_type": "code",
      "execution_count": null,
      "metadata": {
        "id": "YOqqzFPT7Qff",
        "colab": {
          "base_uri": "https://localhost:8080/"
        },
        "outputId": "d951afb9-8919-4c51-b23d-8bd3c7a53a66"
      },
      "outputs": [
        {
          "output_type": "execute_result",
          "data": {
            "text/plain": [
              "False    596257\n",
              "True      37589\n",
              "Name: outl_CL, dtype: int64"
            ]
          },
          "metadata": {},
          "execution_count": 406
        }
      ],
      "source": [
        "# Deteksi outlier dengan menggunakan boolean\n",
        "\n",
        "df1['outl_CL'] = df['creditLimit'] > Upper_fence1\n",
        "df1['outl_CL'].value_counts()"
      ]
    },
    {
      "cell_type": "code",
      "execution_count": null,
      "metadata": {
        "id": "8QCSkx8zx-2I",
        "colab": {
          "base_uri": "https://localhost:8080/"
        },
        "outputId": "f3603203-68ac-4f9a-9f9b-78baf7e909b5"
      },
      "outputs": [
        {
          "output_type": "stream",
          "name": "stdout",
          "text": [
            "availableMoney minimum values = -1244.93\n",
            "availableMoney maximum values = 50000.0\n",
            "availableMoney outlier values > 29299.700000000004\n"
          ]
        }
      ],
      "source": [
        "# outliers kolom availableMoney \n",
        "\n",
        "IQR2 = df.availableMoney.quantile(0.75) - df.availableMoney.quantile(0.25)\n",
        "Lower_fence2 = df.availableMoney.quantile(0.25) - (IQR2 * 3)\n",
        "Upper_fence2 = df.availableMoney.quantile(0.75) + (IQR2 * 3)\n",
        "print('availableMoney minimum values =',df['availableMoney'].min())\n",
        "print('availableMoney maximum values =',df['availableMoney'].max())\n",
        "print('availableMoney outlier values > {upperboundary}'.format(lowerboundary=Lower_fence2, upperboundary=Upper_fence2))"
      ]
    },
    {
      "cell_type": "code",
      "execution_count": null,
      "metadata": {
        "id": "YCfoAUaovjao",
        "colab": {
          "base_uri": "https://localhost:8080/"
        },
        "outputId": "574461d5-92cf-4ef3-f79e-16333be13d23"
      },
      "outputs": [
        {
          "output_type": "execute_result",
          "data": {
            "text/plain": [
              "False    609677\n",
              "True      24169\n",
              "Name: outl_AM, dtype: int64"
            ]
          },
          "metadata": {},
          "execution_count": 408
        }
      ],
      "source": [
        "# Deteksi outlier dengan menggunakan boolean\n",
        "\n",
        "df1['outl_AM'] = df['availableMoney'] > Upper_fence2\n",
        "df1['outl_AM'].value_counts()"
      ]
    },
    {
      "cell_type": "code",
      "execution_count": null,
      "metadata": {
        "id": "IOEmT2UByBK5",
        "colab": {
          "base_uri": "https://localhost:8080/"
        },
        "outputId": "04ad5df1-e83f-4093-ec78-41bc90182a9f"
      },
      "outputs": [
        {
          "output_type": "stream",
          "name": "stdout",
          "text": [
            "transactionAmount minimum values = 0.0\n",
            "transactionAmount maximum values = 1825.25\n",
            "transactionAmount outlier values > 659.24\n"
          ]
        }
      ],
      "source": [
        "# outlier kolom transactionAmount\n",
        "\n",
        "IQR3 = df.transactionAmount.quantile(0.75) - df.transactionAmount.quantile(0.25)\n",
        "Lower_fence3 = df.transactionAmount.quantile(0.25) - (IQR3 * 3)\n",
        "Upper_fence3 = df.transactionAmount.quantile(0.75) + (IQR3 * 3)\n",
        "print('transactionAmount minimum values =',df['transactionAmount'].min())\n",
        "print('transactionAmount maximum values =',df['transactionAmount'].max())\n",
        "print('transactionAmount outlier values > {upperboundary}'.format(lowerboundary=Lower_fence3, upperboundary=Upper_fence3))"
      ]
    },
    {
      "cell_type": "code",
      "execution_count": null,
      "metadata": {
        "id": "4Mrm5RVUv85D",
        "colab": {
          "base_uri": "https://localhost:8080/"
        },
        "outputId": "63f2ec5b-ad37-4280-d881-f1816a243673"
      },
      "outputs": [
        {
          "output_type": "execute_result",
          "data": {
            "text/plain": [
              "False    626880\n",
              "True       6966\n",
              "Name: outl_TA, dtype: int64"
            ]
          },
          "metadata": {},
          "execution_count": 410
        }
      ],
      "source": [
        "# Deteksi outlier dengan menggunakan boolean\n",
        "\n",
        "df1['outl_TA'] = df['transactionAmount'] > Upper_fence3\n",
        "df1['outl_TA'].value_counts()"
      ]
    },
    {
      "cell_type": "code",
      "execution_count": null,
      "metadata": {
        "id": "iI2qt8Kl64Kt",
        "colab": {
          "base_uri": "https://localhost:8080/"
        },
        "outputId": "c8329ea4-d1a3-4f1c-94fc-5d554651f8b4"
      },
      "outputs": [
        {
          "output_type": "stream",
          "name": "stdout",
          "text": [
            "currentBalance minimum values = 0.0\n",
            "currentBalance maximum values = 47496.5\n",
            "currentBalance outlier values > 18516.38\n"
          ]
        }
      ],
      "source": [
        "# outlier kolom currentBalance\n",
        "\n",
        "IQR4 = df.currentBalance.quantile(0.75) - df.currentBalance.quantile(0.25)\n",
        "Lower_fence4 = df.currentBalance.quantile(0.25) - (IQR4 * 3)\n",
        "Upper_fence4 = df.currentBalance.quantile(0.75) + (IQR4 * 3)\n",
        "print('currentBalance minimum values =',df['currentBalance'].min())\n",
        "print('currentBalance maximum values =',df['currentBalance'].max())\n",
        "print('currentBalance outlier values > {upperboundary}'.format(lowerboundary=Lower_fence4, upperboundary=Upper_fence4))"
      ]
    },
    {
      "cell_type": "code",
      "execution_count": null,
      "metadata": {
        "id": "R4J2vbiu7qCg",
        "colab": {
          "base_uri": "https://localhost:8080/"
        },
        "outputId": "dd9ecb91-5f86-4b9e-ff05-0903a0492a9b"
      },
      "outputs": [
        {
          "output_type": "execute_result",
          "data": {
            "text/plain": [
              "False    618103\n",
              "True      15743\n",
              "Name: outl_CB, dtype: int64"
            ]
          },
          "metadata": {},
          "execution_count": 412
        }
      ],
      "source": [
        "# Deteksi outlier dengan menggunakan boolean\n",
        "\n",
        "df1['outl_CB'] = df['currentBalance'] > Upper_fence4\n",
        "df1['outl_CB'].value_counts()"
      ]
    },
    {
      "cell_type": "code",
      "execution_count": null,
      "metadata": {
        "id": "XCc6FWoq8V6P",
        "colab": {
          "base_uri": "https://localhost:8080/",
          "height": 300
        },
        "outputId": "5cdff995-8ef6-46cb-f980-f0952349393b"
      },
      "outputs": [
        {
          "output_type": "execute_result",
          "data": {
            "text/plain": [
              "   accountNumber  customerId  creditLimit  availableMoney  transactionAmount  \\\n",
              "0      733493772   733493772         5000         5000.00             111.33   \n",
              "1      733493772   733493772         5000         4888.67              24.75   \n",
              "2      733493772   733493772         5000         4863.92             187.40   \n",
              "3      733493772   733493772         5000         4676.52             227.34   \n",
              "4      733493772   733493772         5000         4449.18               0.00   \n",
              "\n",
              "  merchantName acqCountry merchantCountryCode  posEntryMode  posConditionCode  \\\n",
              "0         Lyft         US                US_1           5.0               1.0   \n",
              "1         Uber         US                US_1           9.0               1.0   \n",
              "2         Lyft         US                US_1           5.0               1.0   \n",
              "3         Lyft         US                US_1           2.0               1.0   \n",
              "4         Lyft         US                US_1           2.0               1.0   \n",
              "\n",
              "   ... currentBalance cardPresent expirationDateKeyInMatch duplikasi  \\\n",
              "0  ...           0.00       False                    False     False   \n",
              "1  ...         111.33       False                    False     False   \n",
              "2  ...         136.08       False                    False     False   \n",
              "3  ...         323.48       False                    False     False   \n",
              "4  ...         550.82       False                    False     False   \n",
              "\n",
              "   transaction_year  transaction_month  transaction_week transaction_day  \\\n",
              "0              2016                  1                 4               8   \n",
              "1              2016                  1                 5               9   \n",
              "2              2016                  1                 0              11   \n",
              "3              2016                  1                 0              11   \n",
              "4              2016                  1                 5              16   \n",
              "\n",
              "   transaction_hour  transaction_minute  \n",
              "0                19                   4  \n",
              "1                22                  32  \n",
              "2                13                  36  \n",
              "3                22                  47  \n",
              "4                 1                  41  \n",
              "\n",
              "[5 rows x 29 columns]"
            ],
            "text/html": [
              "\n",
              "  <div id=\"df-4f960e9a-73ff-4830-b685-a4434ad49b30\">\n",
              "    <div class=\"colab-df-container\">\n",
              "      <div>\n",
              "<style scoped>\n",
              "    .dataframe tbody tr th:only-of-type {\n",
              "        vertical-align: middle;\n",
              "    }\n",
              "\n",
              "    .dataframe tbody tr th {\n",
              "        vertical-align: top;\n",
              "    }\n",
              "\n",
              "    .dataframe thead th {\n",
              "        text-align: right;\n",
              "    }\n",
              "</style>\n",
              "<table border=\"1\" class=\"dataframe\">\n",
              "  <thead>\n",
              "    <tr style=\"text-align: right;\">\n",
              "      <th></th>\n",
              "      <th>accountNumber</th>\n",
              "      <th>customerId</th>\n",
              "      <th>creditLimit</th>\n",
              "      <th>availableMoney</th>\n",
              "      <th>transactionAmount</th>\n",
              "      <th>merchantName</th>\n",
              "      <th>acqCountry</th>\n",
              "      <th>merchantCountryCode</th>\n",
              "      <th>posEntryMode</th>\n",
              "      <th>posConditionCode</th>\n",
              "      <th>...</th>\n",
              "      <th>currentBalance</th>\n",
              "      <th>cardPresent</th>\n",
              "      <th>expirationDateKeyInMatch</th>\n",
              "      <th>duplikasi</th>\n",
              "      <th>transaction_year</th>\n",
              "      <th>transaction_month</th>\n",
              "      <th>transaction_week</th>\n",
              "      <th>transaction_day</th>\n",
              "      <th>transaction_hour</th>\n",
              "      <th>transaction_minute</th>\n",
              "    </tr>\n",
              "  </thead>\n",
              "  <tbody>\n",
              "    <tr>\n",
              "      <th>0</th>\n",
              "      <td>733493772</td>\n",
              "      <td>733493772</td>\n",
              "      <td>5000</td>\n",
              "      <td>5000.00</td>\n",
              "      <td>111.33</td>\n",
              "      <td>Lyft</td>\n",
              "      <td>US</td>\n",
              "      <td>US_1</td>\n",
              "      <td>5.0</td>\n",
              "      <td>1.0</td>\n",
              "      <td>...</td>\n",
              "      <td>0.00</td>\n",
              "      <td>False</td>\n",
              "      <td>False</td>\n",
              "      <td>False</td>\n",
              "      <td>2016</td>\n",
              "      <td>1</td>\n",
              "      <td>4</td>\n",
              "      <td>8</td>\n",
              "      <td>19</td>\n",
              "      <td>4</td>\n",
              "    </tr>\n",
              "    <tr>\n",
              "      <th>1</th>\n",
              "      <td>733493772</td>\n",
              "      <td>733493772</td>\n",
              "      <td>5000</td>\n",
              "      <td>4888.67</td>\n",
              "      <td>24.75</td>\n",
              "      <td>Uber</td>\n",
              "      <td>US</td>\n",
              "      <td>US_1</td>\n",
              "      <td>9.0</td>\n",
              "      <td>1.0</td>\n",
              "      <td>...</td>\n",
              "      <td>111.33</td>\n",
              "      <td>False</td>\n",
              "      <td>False</td>\n",
              "      <td>False</td>\n",
              "      <td>2016</td>\n",
              "      <td>1</td>\n",
              "      <td>5</td>\n",
              "      <td>9</td>\n",
              "      <td>22</td>\n",
              "      <td>32</td>\n",
              "    </tr>\n",
              "    <tr>\n",
              "      <th>2</th>\n",
              "      <td>733493772</td>\n",
              "      <td>733493772</td>\n",
              "      <td>5000</td>\n",
              "      <td>4863.92</td>\n",
              "      <td>187.40</td>\n",
              "      <td>Lyft</td>\n",
              "      <td>US</td>\n",
              "      <td>US_1</td>\n",
              "      <td>5.0</td>\n",
              "      <td>1.0</td>\n",
              "      <td>...</td>\n",
              "      <td>136.08</td>\n",
              "      <td>False</td>\n",
              "      <td>False</td>\n",
              "      <td>False</td>\n",
              "      <td>2016</td>\n",
              "      <td>1</td>\n",
              "      <td>0</td>\n",
              "      <td>11</td>\n",
              "      <td>13</td>\n",
              "      <td>36</td>\n",
              "    </tr>\n",
              "    <tr>\n",
              "      <th>3</th>\n",
              "      <td>733493772</td>\n",
              "      <td>733493772</td>\n",
              "      <td>5000</td>\n",
              "      <td>4676.52</td>\n",
              "      <td>227.34</td>\n",
              "      <td>Lyft</td>\n",
              "      <td>US</td>\n",
              "      <td>US_1</td>\n",
              "      <td>2.0</td>\n",
              "      <td>1.0</td>\n",
              "      <td>...</td>\n",
              "      <td>323.48</td>\n",
              "      <td>False</td>\n",
              "      <td>False</td>\n",
              "      <td>False</td>\n",
              "      <td>2016</td>\n",
              "      <td>1</td>\n",
              "      <td>0</td>\n",
              "      <td>11</td>\n",
              "      <td>22</td>\n",
              "      <td>47</td>\n",
              "    </tr>\n",
              "    <tr>\n",
              "      <th>4</th>\n",
              "      <td>733493772</td>\n",
              "      <td>733493772</td>\n",
              "      <td>5000</td>\n",
              "      <td>4449.18</td>\n",
              "      <td>0.00</td>\n",
              "      <td>Lyft</td>\n",
              "      <td>US</td>\n",
              "      <td>US_1</td>\n",
              "      <td>2.0</td>\n",
              "      <td>1.0</td>\n",
              "      <td>...</td>\n",
              "      <td>550.82</td>\n",
              "      <td>False</td>\n",
              "      <td>False</td>\n",
              "      <td>False</td>\n",
              "      <td>2016</td>\n",
              "      <td>1</td>\n",
              "      <td>5</td>\n",
              "      <td>16</td>\n",
              "      <td>1</td>\n",
              "      <td>41</td>\n",
              "    </tr>\n",
              "  </tbody>\n",
              "</table>\n",
              "<p>5 rows × 29 columns</p>\n",
              "</div>\n",
              "      <button class=\"colab-df-convert\" onclick=\"convertToInteractive('df-4f960e9a-73ff-4830-b685-a4434ad49b30')\"\n",
              "              title=\"Convert this dataframe to an interactive table.\"\n",
              "              style=\"display:none;\">\n",
              "        \n",
              "  <svg xmlns=\"http://www.w3.org/2000/svg\" height=\"24px\"viewBox=\"0 0 24 24\"\n",
              "       width=\"24px\">\n",
              "    <path d=\"M0 0h24v24H0V0z\" fill=\"none\"/>\n",
              "    <path d=\"M18.56 5.44l.94 2.06.94-2.06 2.06-.94-2.06-.94-.94-2.06-.94 2.06-2.06.94zm-11 1L8.5 8.5l.94-2.06 2.06-.94-2.06-.94L8.5 2.5l-.94 2.06-2.06.94zm10 10l.94 2.06.94-2.06 2.06-.94-2.06-.94-.94-2.06-.94 2.06-2.06.94z\"/><path d=\"M17.41 7.96l-1.37-1.37c-.4-.4-.92-.59-1.43-.59-.52 0-1.04.2-1.43.59L10.3 9.45l-7.72 7.72c-.78.78-.78 2.05 0 2.83L4 21.41c.39.39.9.59 1.41.59.51 0 1.02-.2 1.41-.59l7.78-7.78 2.81-2.81c.8-.78.8-2.07 0-2.86zM5.41 20L4 18.59l7.72-7.72 1.47 1.35L5.41 20z\"/>\n",
              "  </svg>\n",
              "      </button>\n",
              "      \n",
              "  <style>\n",
              "    .colab-df-container {\n",
              "      display:flex;\n",
              "      flex-wrap:wrap;\n",
              "      gap: 12px;\n",
              "    }\n",
              "\n",
              "    .colab-df-convert {\n",
              "      background-color: #E8F0FE;\n",
              "      border: none;\n",
              "      border-radius: 50%;\n",
              "      cursor: pointer;\n",
              "      display: none;\n",
              "      fill: #1967D2;\n",
              "      height: 32px;\n",
              "      padding: 0 0 0 0;\n",
              "      width: 32px;\n",
              "    }\n",
              "\n",
              "    .colab-df-convert:hover {\n",
              "      background-color: #E2EBFA;\n",
              "      box-shadow: 0px 1px 2px rgba(60, 64, 67, 0.3), 0px 1px 3px 1px rgba(60, 64, 67, 0.15);\n",
              "      fill: #174EA6;\n",
              "    }\n",
              "\n",
              "    [theme=dark] .colab-df-convert {\n",
              "      background-color: #3B4455;\n",
              "      fill: #D2E3FC;\n",
              "    }\n",
              "\n",
              "    [theme=dark] .colab-df-convert:hover {\n",
              "      background-color: #434B5C;\n",
              "      box-shadow: 0px 1px 3px 1px rgba(0, 0, 0, 0.15);\n",
              "      filter: drop-shadow(0px 1px 2px rgba(0, 0, 0, 0.3));\n",
              "      fill: #FFFFFF;\n",
              "    }\n",
              "  </style>\n",
              "\n",
              "      <script>\n",
              "        const buttonEl =\n",
              "          document.querySelector('#df-4f960e9a-73ff-4830-b685-a4434ad49b30 button.colab-df-convert');\n",
              "        buttonEl.style.display =\n",
              "          google.colab.kernel.accessAllowed ? 'block' : 'none';\n",
              "\n",
              "        async function convertToInteractive(key) {\n",
              "          const element = document.querySelector('#df-4f960e9a-73ff-4830-b685-a4434ad49b30');\n",
              "          const dataTable =\n",
              "            await google.colab.kernel.invokeFunction('convertToInteractive',\n",
              "                                                     [key], {});\n",
              "          if (!dataTable) return;\n",
              "\n",
              "          const docLinkHtml = 'Like what you see? Visit the ' +\n",
              "            '<a target=\"_blank\" href=https://colab.research.google.com/notebooks/data_table.ipynb>data table notebook</a>'\n",
              "            + ' to learn more about interactive tables.';\n",
              "          element.innerHTML = '';\n",
              "          dataTable['output_type'] = 'display_data';\n",
              "          await google.colab.output.renderOutput(dataTable, element);\n",
              "          const docLink = document.createElement('div');\n",
              "          docLink.innerHTML = docLinkHtml;\n",
              "          element.appendChild(docLink);\n",
              "        }\n",
              "      </script>\n",
              "    </div>\n",
              "  </div>\n",
              "  "
            ]
          },
          "metadata": {},
          "execution_count": 413
        }
      ],
      "source": [
        "df.head()"
      ]
    },
    {
      "cell_type": "markdown",
      "metadata": {
        "id": "jYp9AXxe_VEm"
      },
      "source": [
        "Mengecek outliers = True & isFraud = True, jadi kita bisa melihat jumlah outlier yang fraud"
      ]
    },
    {
      "cell_type": "code",
      "execution_count": null,
      "metadata": {
        "id": "XLlr4MO8-N7p",
        "colab": {
          "base_uri": "https://localhost:8080/"
        },
        "outputId": "26351b31-ad3c-4807-ed0f-b66d441db038"
      },
      "outputs": [
        {
          "output_type": "execute_result",
          "data": {
            "text/plain": [
              "outl_CL  isFraud\n",
              "False    False      586005\n",
              "         True        10252\n",
              "True     False       36949\n",
              "         True          640\n",
              "dtype: int64"
            ]
          },
          "metadata": {},
          "execution_count": 414
        }
      ],
      "source": [
        "# Kolom outlier creditLimit\n",
        "\n",
        "df1.groupby(['outl_CL','isFraud']).size()"
      ]
    },
    {
      "cell_type": "code",
      "execution_count": null,
      "metadata": {
        "id": "zwiGUwGp9ofc",
        "colab": {
          "base_uri": "https://localhost:8080/"
        },
        "outputId": "079ebb7b-8688-4efe-fc91-39282e6547a1"
      },
      "outputs": [
        {
          "output_type": "execute_result",
          "data": {
            "text/plain": [
              "outl_AM  isFraud\n",
              "False    False      599148\n",
              "         True        10529\n",
              "True     False       23806\n",
              "         True          363\n",
              "dtype: int64"
            ]
          },
          "metadata": {},
          "execution_count": 415
        }
      ],
      "source": [
        "# Kolom outlier availableMoney\n",
        "\n",
        "df1.groupby(['outl_AM','isFraud']).size()"
      ]
    },
    {
      "cell_type": "code",
      "execution_count": null,
      "metadata": {
        "id": "EtHb5TB3_qIg",
        "colab": {
          "base_uri": "https://localhost:8080/"
        },
        "outputId": "6fa11729-dea9-4ba5-e293-fd2c2cbf6761"
      },
      "outputs": [
        {
          "output_type": "execute_result",
          "data": {
            "text/plain": [
              "outl_TA  isFraud\n",
              "False    False      616379\n",
              "         True        10501\n",
              "True     False        6575\n",
              "         True          391\n",
              "dtype: int64"
            ]
          },
          "metadata": {},
          "execution_count": 416
        }
      ],
      "source": [
        "# Kolom outlier transactionAmount\n",
        "\n",
        "df1.groupby(['outl_TA','isFraud']).size()"
      ]
    },
    {
      "cell_type": "code",
      "execution_count": null,
      "metadata": {
        "id": "sa6yW5e3_2fg",
        "colab": {
          "base_uri": "https://localhost:8080/"
        },
        "outputId": "7e817e0e-ccc1-4e48-98f2-a05641e7c15b"
      },
      "outputs": [
        {
          "output_type": "execute_result",
          "data": {
            "text/plain": [
              "outl_CB  isFraud\n",
              "False    False      607533\n",
              "         True        10570\n",
              "True     False       15421\n",
              "         True          322\n",
              "dtype: int64"
            ]
          },
          "metadata": {},
          "execution_count": 417
        }
      ],
      "source": [
        "# Kolom outlier currentBalance\n",
        "\n",
        "df1.groupby(['outl_CB','isFraud']).size()"
      ]
    },
    {
      "cell_type": "code",
      "source": [
        "# Drop Kolom customerId\n",
        "\n",
        "df = df.drop(columns=['customerId'])"
      ],
      "metadata": {
        "id": "YadAma4wYuf2"
      },
      "execution_count": null,
      "outputs": []
    },
    {
      "cell_type": "code",
      "source": [
        "df.head()"
      ],
      "metadata": {
        "colab": {
          "base_uri": "https://localhost:8080/",
          "height": 300
        },
        "id": "FaKaU40GY5oq",
        "outputId": "507385d6-9666-4f3b-fd4e-f7f895ce75f0"
      },
      "execution_count": null,
      "outputs": [
        {
          "output_type": "execute_result",
          "data": {
            "text/plain": [
              "   accountNumber  creditLimit  availableMoney  transactionAmount merchantName  \\\n",
              "0      733493772         5000         5000.00             111.33         Lyft   \n",
              "1      733493772         5000         4888.67              24.75         Uber   \n",
              "2      733493772         5000         4863.92             187.40         Lyft   \n",
              "3      733493772         5000         4676.52             227.34         Lyft   \n",
              "4      733493772         5000         4449.18               0.00         Lyft   \n",
              "\n",
              "  acqCountry merchantCountryCode  posEntryMode  posConditionCode  \\\n",
              "0         US                US_1           5.0               1.0   \n",
              "1         US                US_1           9.0               1.0   \n",
              "2         US                US_1           5.0               1.0   \n",
              "3         US                US_1           2.0               1.0   \n",
              "4         US                US_1           2.0               1.0   \n",
              "\n",
              "  merchantCategoryCode  ... currentBalance cardPresent  \\\n",
              "0            rideshare  ...           0.00       False   \n",
              "1            rideshare  ...         111.33       False   \n",
              "2            rideshare  ...         136.08       False   \n",
              "3            rideshare  ...         323.48       False   \n",
              "4            rideshare  ...         550.82       False   \n",
              "\n",
              "  expirationDateKeyInMatch  duplikasi  transaction_year  transaction_month  \\\n",
              "0                    False      False              2016                  1   \n",
              "1                    False      False              2016                  1   \n",
              "2                    False      False              2016                  1   \n",
              "3                    False      False              2016                  1   \n",
              "4                    False      False              2016                  1   \n",
              "\n",
              "  transaction_week  transaction_day  transaction_hour  transaction_minute  \n",
              "0                4                8                19                   4  \n",
              "1                5                9                22                  32  \n",
              "2                0               11                13                  36  \n",
              "3                0               11                22                  47  \n",
              "4                5               16                 1                  41  \n",
              "\n",
              "[5 rows x 28 columns]"
            ],
            "text/html": [
              "\n",
              "  <div id=\"df-c080e15f-adb6-463b-b78f-8dd47805b246\">\n",
              "    <div class=\"colab-df-container\">\n",
              "      <div>\n",
              "<style scoped>\n",
              "    .dataframe tbody tr th:only-of-type {\n",
              "        vertical-align: middle;\n",
              "    }\n",
              "\n",
              "    .dataframe tbody tr th {\n",
              "        vertical-align: top;\n",
              "    }\n",
              "\n",
              "    .dataframe thead th {\n",
              "        text-align: right;\n",
              "    }\n",
              "</style>\n",
              "<table border=\"1\" class=\"dataframe\">\n",
              "  <thead>\n",
              "    <tr style=\"text-align: right;\">\n",
              "      <th></th>\n",
              "      <th>accountNumber</th>\n",
              "      <th>creditLimit</th>\n",
              "      <th>availableMoney</th>\n",
              "      <th>transactionAmount</th>\n",
              "      <th>merchantName</th>\n",
              "      <th>acqCountry</th>\n",
              "      <th>merchantCountryCode</th>\n",
              "      <th>posEntryMode</th>\n",
              "      <th>posConditionCode</th>\n",
              "      <th>merchantCategoryCode</th>\n",
              "      <th>...</th>\n",
              "      <th>currentBalance</th>\n",
              "      <th>cardPresent</th>\n",
              "      <th>expirationDateKeyInMatch</th>\n",
              "      <th>duplikasi</th>\n",
              "      <th>transaction_year</th>\n",
              "      <th>transaction_month</th>\n",
              "      <th>transaction_week</th>\n",
              "      <th>transaction_day</th>\n",
              "      <th>transaction_hour</th>\n",
              "      <th>transaction_minute</th>\n",
              "    </tr>\n",
              "  </thead>\n",
              "  <tbody>\n",
              "    <tr>\n",
              "      <th>0</th>\n",
              "      <td>733493772</td>\n",
              "      <td>5000</td>\n",
              "      <td>5000.00</td>\n",
              "      <td>111.33</td>\n",
              "      <td>Lyft</td>\n",
              "      <td>US</td>\n",
              "      <td>US_1</td>\n",
              "      <td>5.0</td>\n",
              "      <td>1.0</td>\n",
              "      <td>rideshare</td>\n",
              "      <td>...</td>\n",
              "      <td>0.00</td>\n",
              "      <td>False</td>\n",
              "      <td>False</td>\n",
              "      <td>False</td>\n",
              "      <td>2016</td>\n",
              "      <td>1</td>\n",
              "      <td>4</td>\n",
              "      <td>8</td>\n",
              "      <td>19</td>\n",
              "      <td>4</td>\n",
              "    </tr>\n",
              "    <tr>\n",
              "      <th>1</th>\n",
              "      <td>733493772</td>\n",
              "      <td>5000</td>\n",
              "      <td>4888.67</td>\n",
              "      <td>24.75</td>\n",
              "      <td>Uber</td>\n",
              "      <td>US</td>\n",
              "      <td>US_1</td>\n",
              "      <td>9.0</td>\n",
              "      <td>1.0</td>\n",
              "      <td>rideshare</td>\n",
              "      <td>...</td>\n",
              "      <td>111.33</td>\n",
              "      <td>False</td>\n",
              "      <td>False</td>\n",
              "      <td>False</td>\n",
              "      <td>2016</td>\n",
              "      <td>1</td>\n",
              "      <td>5</td>\n",
              "      <td>9</td>\n",
              "      <td>22</td>\n",
              "      <td>32</td>\n",
              "    </tr>\n",
              "    <tr>\n",
              "      <th>2</th>\n",
              "      <td>733493772</td>\n",
              "      <td>5000</td>\n",
              "      <td>4863.92</td>\n",
              "      <td>187.40</td>\n",
              "      <td>Lyft</td>\n",
              "      <td>US</td>\n",
              "      <td>US_1</td>\n",
              "      <td>5.0</td>\n",
              "      <td>1.0</td>\n",
              "      <td>rideshare</td>\n",
              "      <td>...</td>\n",
              "      <td>136.08</td>\n",
              "      <td>False</td>\n",
              "      <td>False</td>\n",
              "      <td>False</td>\n",
              "      <td>2016</td>\n",
              "      <td>1</td>\n",
              "      <td>0</td>\n",
              "      <td>11</td>\n",
              "      <td>13</td>\n",
              "      <td>36</td>\n",
              "    </tr>\n",
              "    <tr>\n",
              "      <th>3</th>\n",
              "      <td>733493772</td>\n",
              "      <td>5000</td>\n",
              "      <td>4676.52</td>\n",
              "      <td>227.34</td>\n",
              "      <td>Lyft</td>\n",
              "      <td>US</td>\n",
              "      <td>US_1</td>\n",
              "      <td>2.0</td>\n",
              "      <td>1.0</td>\n",
              "      <td>rideshare</td>\n",
              "      <td>...</td>\n",
              "      <td>323.48</td>\n",
              "      <td>False</td>\n",
              "      <td>False</td>\n",
              "      <td>False</td>\n",
              "      <td>2016</td>\n",
              "      <td>1</td>\n",
              "      <td>0</td>\n",
              "      <td>11</td>\n",
              "      <td>22</td>\n",
              "      <td>47</td>\n",
              "    </tr>\n",
              "    <tr>\n",
              "      <th>4</th>\n",
              "      <td>733493772</td>\n",
              "      <td>5000</td>\n",
              "      <td>4449.18</td>\n",
              "      <td>0.00</td>\n",
              "      <td>Lyft</td>\n",
              "      <td>US</td>\n",
              "      <td>US_1</td>\n",
              "      <td>2.0</td>\n",
              "      <td>1.0</td>\n",
              "      <td>rideshare</td>\n",
              "      <td>...</td>\n",
              "      <td>550.82</td>\n",
              "      <td>False</td>\n",
              "      <td>False</td>\n",
              "      <td>False</td>\n",
              "      <td>2016</td>\n",
              "      <td>1</td>\n",
              "      <td>5</td>\n",
              "      <td>16</td>\n",
              "      <td>1</td>\n",
              "      <td>41</td>\n",
              "    </tr>\n",
              "  </tbody>\n",
              "</table>\n",
              "<p>5 rows × 28 columns</p>\n",
              "</div>\n",
              "      <button class=\"colab-df-convert\" onclick=\"convertToInteractive('df-c080e15f-adb6-463b-b78f-8dd47805b246')\"\n",
              "              title=\"Convert this dataframe to an interactive table.\"\n",
              "              style=\"display:none;\">\n",
              "        \n",
              "  <svg xmlns=\"http://www.w3.org/2000/svg\" height=\"24px\"viewBox=\"0 0 24 24\"\n",
              "       width=\"24px\">\n",
              "    <path d=\"M0 0h24v24H0V0z\" fill=\"none\"/>\n",
              "    <path d=\"M18.56 5.44l.94 2.06.94-2.06 2.06-.94-2.06-.94-.94-2.06-.94 2.06-2.06.94zm-11 1L8.5 8.5l.94-2.06 2.06-.94-2.06-.94L8.5 2.5l-.94 2.06-2.06.94zm10 10l.94 2.06.94-2.06 2.06-.94-2.06-.94-.94-2.06-.94 2.06-2.06.94z\"/><path d=\"M17.41 7.96l-1.37-1.37c-.4-.4-.92-.59-1.43-.59-.52 0-1.04.2-1.43.59L10.3 9.45l-7.72 7.72c-.78.78-.78 2.05 0 2.83L4 21.41c.39.39.9.59 1.41.59.51 0 1.02-.2 1.41-.59l7.78-7.78 2.81-2.81c.8-.78.8-2.07 0-2.86zM5.41 20L4 18.59l7.72-7.72 1.47 1.35L5.41 20z\"/>\n",
              "  </svg>\n",
              "      </button>\n",
              "      \n",
              "  <style>\n",
              "    .colab-df-container {\n",
              "      display:flex;\n",
              "      flex-wrap:wrap;\n",
              "      gap: 12px;\n",
              "    }\n",
              "\n",
              "    .colab-df-convert {\n",
              "      background-color: #E8F0FE;\n",
              "      border: none;\n",
              "      border-radius: 50%;\n",
              "      cursor: pointer;\n",
              "      display: none;\n",
              "      fill: #1967D2;\n",
              "      height: 32px;\n",
              "      padding: 0 0 0 0;\n",
              "      width: 32px;\n",
              "    }\n",
              "\n",
              "    .colab-df-convert:hover {\n",
              "      background-color: #E2EBFA;\n",
              "      box-shadow: 0px 1px 2px rgba(60, 64, 67, 0.3), 0px 1px 3px 1px rgba(60, 64, 67, 0.15);\n",
              "      fill: #174EA6;\n",
              "    }\n",
              "\n",
              "    [theme=dark] .colab-df-convert {\n",
              "      background-color: #3B4455;\n",
              "      fill: #D2E3FC;\n",
              "    }\n",
              "\n",
              "    [theme=dark] .colab-df-convert:hover {\n",
              "      background-color: #434B5C;\n",
              "      box-shadow: 0px 1px 3px 1px rgba(0, 0, 0, 0.15);\n",
              "      filter: drop-shadow(0px 1px 2px rgba(0, 0, 0, 0.3));\n",
              "      fill: #FFFFFF;\n",
              "    }\n",
              "  </style>\n",
              "\n",
              "      <script>\n",
              "        const buttonEl =\n",
              "          document.querySelector('#df-c080e15f-adb6-463b-b78f-8dd47805b246 button.colab-df-convert');\n",
              "        buttonEl.style.display =\n",
              "          google.colab.kernel.accessAllowed ? 'block' : 'none';\n",
              "\n",
              "        async function convertToInteractive(key) {\n",
              "          const element = document.querySelector('#df-c080e15f-adb6-463b-b78f-8dd47805b246');\n",
              "          const dataTable =\n",
              "            await google.colab.kernel.invokeFunction('convertToInteractive',\n",
              "                                                     [key], {});\n",
              "          if (!dataTable) return;\n",
              "\n",
              "          const docLinkHtml = 'Like what you see? Visit the ' +\n",
              "            '<a target=\"_blank\" href=https://colab.research.google.com/notebooks/data_table.ipynb>data table notebook</a>'\n",
              "            + ' to learn more about interactive tables.';\n",
              "          element.innerHTML = '';\n",
              "          dataTable['output_type'] = 'display_data';\n",
              "          await google.colab.output.renderOutput(dataTable, element);\n",
              "          const docLink = document.createElement('div');\n",
              "          docLink.innerHTML = docLinkHtml;\n",
              "          element.appendChild(docLink);\n",
              "        }\n",
              "      </script>\n",
              "    </div>\n",
              "  </div>\n",
              "  "
            ]
          },
          "metadata": {},
          "execution_count": 419
        }
      ]
    },
    {
      "cell_type": "markdown",
      "metadata": {
        "id": "BsQHgwBlBa72"
      },
      "source": [
        "Mengubah variable Boolean ke binary(0/1)"
      ]
    },
    {
      "cell_type": "code",
      "execution_count": null,
      "metadata": {
        "id": "fbpL00gIAZel",
        "colab": {
          "base_uri": "https://localhost:8080/"
        },
        "outputId": "3ea27c62-c44b-4221-f3a2-13471e0922c5"
      },
      "outputs": [
        {
          "output_type": "stream",
          "name": "stdout",
          "text": [
            "4 boolean variables\n",
            "\n"
          ]
        }
      ],
      "source": [
        "# refresh variable boolean\n",
        "\n",
        "boolean = [var for var in df.columns if df[var].dtype=='bool']\n",
        "\n",
        "print('{} boolean variables\\n'.format(len(boolean)))"
      ]
    },
    {
      "cell_type": "code",
      "execution_count": null,
      "metadata": {
        "id": "t8jC1A02A_uh",
        "colab": {
          "base_uri": "https://localhost:8080/"
        },
        "outputId": "a947afe3-a933-4c28-d524-83569299d25c"
      },
      "outputs": [
        {
          "output_type": "execute_result",
          "data": {
            "text/plain": [
              "['isFraud', 'cardPresent', 'expirationDateKeyInMatch', 'duplikasi']"
            ]
          },
          "metadata": {},
          "execution_count": 421
        }
      ],
      "source": [
        "boolean"
      ]
    },
    {
      "cell_type": "code",
      "source": [
        "le = LabelEncoder()"
      ],
      "metadata": {
        "id": "s8EGs9QEmkb3"
      },
      "execution_count": null,
      "outputs": []
    },
    {
      "cell_type": "code",
      "execution_count": null,
      "metadata": {
        "id": "C8CQlqBoBIyJ"
      },
      "outputs": [],
      "source": [
        "for col in boolean:\n",
        "    df[col]=le.fit_transform(df[col])"
      ]
    },
    {
      "cell_type": "code",
      "execution_count": null,
      "metadata": {
        "id": "xkEXKl4SCR-f",
        "colab": {
          "base_uri": "https://localhost:8080/",
          "height": 206
        },
        "outputId": "1c81c484-8525-4a71-a64c-93028d43506e"
      },
      "outputs": [
        {
          "output_type": "execute_result",
          "data": {
            "text/plain": [
              "   isFraud  cardPresent  expirationDateKeyInMatch  duplikasi\n",
              "0        1            0                         0          0\n",
              "1        0            0                         0          0\n",
              "2        0            0                         0          0\n",
              "3        1            0                         0          0\n",
              "4        0            0                         0          0"
            ],
            "text/html": [
              "\n",
              "  <div id=\"df-ceecbeff-77d4-4aac-bfef-607e92059074\">\n",
              "    <div class=\"colab-df-container\">\n",
              "      <div>\n",
              "<style scoped>\n",
              "    .dataframe tbody tr th:only-of-type {\n",
              "        vertical-align: middle;\n",
              "    }\n",
              "\n",
              "    .dataframe tbody tr th {\n",
              "        vertical-align: top;\n",
              "    }\n",
              "\n",
              "    .dataframe thead th {\n",
              "        text-align: right;\n",
              "    }\n",
              "</style>\n",
              "<table border=\"1\" class=\"dataframe\">\n",
              "  <thead>\n",
              "    <tr style=\"text-align: right;\">\n",
              "      <th></th>\n",
              "      <th>isFraud</th>\n",
              "      <th>cardPresent</th>\n",
              "      <th>expirationDateKeyInMatch</th>\n",
              "      <th>duplikasi</th>\n",
              "    </tr>\n",
              "  </thead>\n",
              "  <tbody>\n",
              "    <tr>\n",
              "      <th>0</th>\n",
              "      <td>1</td>\n",
              "      <td>0</td>\n",
              "      <td>0</td>\n",
              "      <td>0</td>\n",
              "    </tr>\n",
              "    <tr>\n",
              "      <th>1</th>\n",
              "      <td>0</td>\n",
              "      <td>0</td>\n",
              "      <td>0</td>\n",
              "      <td>0</td>\n",
              "    </tr>\n",
              "    <tr>\n",
              "      <th>2</th>\n",
              "      <td>0</td>\n",
              "      <td>0</td>\n",
              "      <td>0</td>\n",
              "      <td>0</td>\n",
              "    </tr>\n",
              "    <tr>\n",
              "      <th>3</th>\n",
              "      <td>1</td>\n",
              "      <td>0</td>\n",
              "      <td>0</td>\n",
              "      <td>0</td>\n",
              "    </tr>\n",
              "    <tr>\n",
              "      <th>4</th>\n",
              "      <td>0</td>\n",
              "      <td>0</td>\n",
              "      <td>0</td>\n",
              "      <td>0</td>\n",
              "    </tr>\n",
              "  </tbody>\n",
              "</table>\n",
              "</div>\n",
              "      <button class=\"colab-df-convert\" onclick=\"convertToInteractive('df-ceecbeff-77d4-4aac-bfef-607e92059074')\"\n",
              "              title=\"Convert this dataframe to an interactive table.\"\n",
              "              style=\"display:none;\">\n",
              "        \n",
              "  <svg xmlns=\"http://www.w3.org/2000/svg\" height=\"24px\"viewBox=\"0 0 24 24\"\n",
              "       width=\"24px\">\n",
              "    <path d=\"M0 0h24v24H0V0z\" fill=\"none\"/>\n",
              "    <path d=\"M18.56 5.44l.94 2.06.94-2.06 2.06-.94-2.06-.94-.94-2.06-.94 2.06-2.06.94zm-11 1L8.5 8.5l.94-2.06 2.06-.94-2.06-.94L8.5 2.5l-.94 2.06-2.06.94zm10 10l.94 2.06.94-2.06 2.06-.94-2.06-.94-.94-2.06-.94 2.06-2.06.94z\"/><path d=\"M17.41 7.96l-1.37-1.37c-.4-.4-.92-.59-1.43-.59-.52 0-1.04.2-1.43.59L10.3 9.45l-7.72 7.72c-.78.78-.78 2.05 0 2.83L4 21.41c.39.39.9.59 1.41.59.51 0 1.02-.2 1.41-.59l7.78-7.78 2.81-2.81c.8-.78.8-2.07 0-2.86zM5.41 20L4 18.59l7.72-7.72 1.47 1.35L5.41 20z\"/>\n",
              "  </svg>\n",
              "      </button>\n",
              "      \n",
              "  <style>\n",
              "    .colab-df-container {\n",
              "      display:flex;\n",
              "      flex-wrap:wrap;\n",
              "      gap: 12px;\n",
              "    }\n",
              "\n",
              "    .colab-df-convert {\n",
              "      background-color: #E8F0FE;\n",
              "      border: none;\n",
              "      border-radius: 50%;\n",
              "      cursor: pointer;\n",
              "      display: none;\n",
              "      fill: #1967D2;\n",
              "      height: 32px;\n",
              "      padding: 0 0 0 0;\n",
              "      width: 32px;\n",
              "    }\n",
              "\n",
              "    .colab-df-convert:hover {\n",
              "      background-color: #E2EBFA;\n",
              "      box-shadow: 0px 1px 2px rgba(60, 64, 67, 0.3), 0px 1px 3px 1px rgba(60, 64, 67, 0.15);\n",
              "      fill: #174EA6;\n",
              "    }\n",
              "\n",
              "    [theme=dark] .colab-df-convert {\n",
              "      background-color: #3B4455;\n",
              "      fill: #D2E3FC;\n",
              "    }\n",
              "\n",
              "    [theme=dark] .colab-df-convert:hover {\n",
              "      background-color: #434B5C;\n",
              "      box-shadow: 0px 1px 3px 1px rgba(0, 0, 0, 0.15);\n",
              "      filter: drop-shadow(0px 1px 2px rgba(0, 0, 0, 0.3));\n",
              "      fill: #FFFFFF;\n",
              "    }\n",
              "  </style>\n",
              "\n",
              "      <script>\n",
              "        const buttonEl =\n",
              "          document.querySelector('#df-ceecbeff-77d4-4aac-bfef-607e92059074 button.colab-df-convert');\n",
              "        buttonEl.style.display =\n",
              "          google.colab.kernel.accessAllowed ? 'block' : 'none';\n",
              "\n",
              "        async function convertToInteractive(key) {\n",
              "          const element = document.querySelector('#df-ceecbeff-77d4-4aac-bfef-607e92059074');\n",
              "          const dataTable =\n",
              "            await google.colab.kernel.invokeFunction('convertToInteractive',\n",
              "                                                     [key], {});\n",
              "          if (!dataTable) return;\n",
              "\n",
              "          const docLinkHtml = 'Like what you see? Visit the ' +\n",
              "            '<a target=\"_blank\" href=https://colab.research.google.com/notebooks/data_table.ipynb>data table notebook</a>'\n",
              "            + ' to learn more about interactive tables.';\n",
              "          element.innerHTML = '';\n",
              "          dataTable['output_type'] = 'display_data';\n",
              "          await google.colab.output.renderOutput(dataTable, element);\n",
              "          const docLink = document.createElement('div');\n",
              "          docLink.innerHTML = docLinkHtml;\n",
              "          element.appendChild(docLink);\n",
              "        }\n",
              "      </script>\n",
              "    </div>\n",
              "  </div>\n",
              "  "
            ]
          },
          "metadata": {},
          "execution_count": 424
        }
      ],
      "source": [
        "df[boolean].head()"
      ]
    },
    {
      "cell_type": "code",
      "execution_count": null,
      "metadata": {
        "id": "gj2ispBvDBzT",
        "colab": {
          "base_uri": "https://localhost:8080/"
        },
        "outputId": "88022b06-4ff8-477e-ea03-c40e5ae97f02"
      },
      "outputs": [
        {
          "output_type": "stream",
          "name": "stdout",
          "text": [
            "8 categorical variables\n",
            "\n"
          ]
        }
      ],
      "source": [
        "# refresh categorical variables\n",
        "\n",
        "categorical = [var for var in df.columns if df[var].dtype=='object']\n",
        "\n",
        "print('{} categorical variables\\n'.format(len(categorical)))"
      ]
    },
    {
      "cell_type": "code",
      "execution_count": null,
      "metadata": {
        "id": "xv4wJn6gDQCO",
        "colab": {
          "base_uri": "https://localhost:8080/"
        },
        "outputId": "ac049e8a-d23d-47d0-8bdc-aa03a2b935b2"
      },
      "outputs": [
        {
          "output_type": "execute_result",
          "data": {
            "text/plain": [
              "['merchantName',\n",
              " 'acqCountry',\n",
              " 'merchantCountryCode',\n",
              " 'merchantCategoryCode',\n",
              " 'currentExpDate',\n",
              " 'accountOpenDate',\n",
              " 'dateOfLastAddressChange',\n",
              " 'transactionType']"
            ]
          },
          "metadata": {},
          "execution_count": 426
        }
      ],
      "source": [
        "categorical"
      ]
    },
    {
      "cell_type": "code",
      "execution_count": null,
      "metadata": {
        "id": "hIGJAKJdCboX"
      },
      "outputs": [],
      "source": [
        "# Convert unique values menggunakan label encoding\n",
        "\n",
        "for i in categorical:\n",
        "    df[i] = le.fit_transform(df[i].astype(str))   "
      ]
    },
    {
      "cell_type": "code",
      "execution_count": null,
      "metadata": {
        "id": "Tz4ZtCikDWTJ",
        "colab": {
          "base_uri": "https://localhost:8080/"
        },
        "outputId": "e37935e7-aaf7-4336-84e7-96a1aa63de4c"
      },
      "outputs": [
        {
          "output_type": "stream",
          "name": "stdout",
          "text": [
            "<bound method DataFrame.info of         accountNumber  creditLimit  availableMoney  transactionAmount  \\\n",
            "0           733493772         5000         5000.00             111.33   \n",
            "1           733493772         5000         4888.67              24.75   \n",
            "2           733493772         5000         4863.92             187.40   \n",
            "3           733493772         5000         4676.52             227.34   \n",
            "4           733493772         5000         4449.18               0.00   \n",
            "...               ...          ...             ...                ...   \n",
            "633841      186770399         7500         2574.02               5.37   \n",
            "633842      186770399         7500         2568.65             223.70   \n",
            "633843      186770399         7500         2344.95             138.42   \n",
            "633844      186770399         7500         2206.53              16.31   \n",
            "633845      186770399         7500         2190.22              32.53   \n",
            "\n",
            "        merchantName  acqCountry  merchantCountryCode  posEntryMode  \\\n",
            "0               1065           3                    3           5.0   \n",
            "1               2084           3                    3           9.0   \n",
            "2               1065           3                    3           5.0   \n",
            "3               1065           3                    3           2.0   \n",
            "4               1065           3                    3           2.0   \n",
            "...              ...         ...                  ...           ...   \n",
            "633841            43           3                    3           5.0   \n",
            "633842           161           3                    3           9.0   \n",
            "633843           604           3                    3           2.0   \n",
            "633844          2470           3                    3           9.0   \n",
            "633845          1201           3                    3           9.0   \n",
            "\n",
            "        posConditionCode  merchantCategoryCode  ...  currentBalance  \\\n",
            "0                    1.0                    17  ...            0.00   \n",
            "1                    1.0                    17  ...          111.33   \n",
            "2                    1.0                    17  ...          136.08   \n",
            "3                    1.0                    17  ...          323.48   \n",
            "4                    1.0                    17  ...          550.82   \n",
            "...                  ...                   ...  ...             ...   \n",
            "633841               8.0                    12  ...         4925.98   \n",
            "633842               1.0                    13  ...         4931.35   \n",
            "633843               1.0                    13  ...         5155.05   \n",
            "633844               8.0                    15  ...         5293.47   \n",
            "633845               1.0                    13  ...         5309.78   \n",
            "\n",
            "        cardPresent  expirationDateKeyInMatch  duplikasi  transaction_year  \\\n",
            "0                 0                         0          0              2016   \n",
            "1                 0                         0          0              2016   \n",
            "2                 0                         0          0              2016   \n",
            "3                 0                         0          0              2016   \n",
            "4                 0                         0          0              2016   \n",
            "...             ...                       ...        ...               ...   \n",
            "633841            0                         0          0              2016   \n",
            "633842            0                         0          0              2016   \n",
            "633843            0                         0          0              2016   \n",
            "633844            0                         0          0              2016   \n",
            "633845            0                         0          0              2016   \n",
            "\n",
            "        transaction_month  transaction_week  transaction_day  \\\n",
            "0                       1                 4                8   \n",
            "1                       1                 5                9   \n",
            "2                       1                 0               11   \n",
            "3                       1                 0               11   \n",
            "4                       1                 5               16   \n",
            "...                   ...               ...              ...   \n",
            "633841                 12                 6                4   \n",
            "633842                 12                 4                9   \n",
            "633843                 12                 4               16   \n",
            "633844                 12                 0               19   \n",
            "633845                 12                 2               28   \n",
            "\n",
            "        transaction_hour  transaction_minute  \n",
            "0                     19                   4  \n",
            "1                     22                  32  \n",
            "2                     13                  36  \n",
            "3                     22                  47  \n",
            "4                      1                  41  \n",
            "...                  ...                 ...  \n",
            "633841                12                  29  \n",
            "633842                 4                  20  \n",
            "633843                 7                  58  \n",
            "633844                 2                  30  \n",
            "633845                11                  14  \n",
            "\n",
            "[633846 rows x 28 columns]>\n"
          ]
        }
      ],
      "source": [
        "print(df.info)"
      ]
    },
    {
      "cell_type": "code",
      "execution_count": null,
      "metadata": {
        "id": "-uy7lDyZDYog",
        "colab": {
          "base_uri": "https://localhost:8080/",
          "height": 718
        },
        "outputId": "bc083d17-81b4-4b76-b621-f4b095994cd9"
      },
      "outputs": [
        {
          "output_type": "display_data",
          "data": {
            "text/plain": [
              "<Figure size 864x720 with 2 Axes>"
            ],
            "image/png": "[encoded data removed]"
          },
          "metadata": {
            "needs_background": "light"
          }
        }
      ],
      "source": [
        "# Plot Heatmap\n",
        "\n",
        "plt.figure(figsize=(12,10))\n",
        "sns.heatmap(df.corr(), annot=True, cmap=plt.cm.Reds)\n",
        "plt.show()"
      ]
    },
    {
      "cell_type": "code",
      "execution_count": null,
      "metadata": {
        "id": "equ_ASoaD2O7",
        "colab": {
          "base_uri": "https://localhost:8080/"
        },
        "outputId": "ee25788c-f807-4214-a23b-e5a18efd092b"
      },
      "outputs": [
        {
          "output_type": "execute_result",
          "data": {
            "text/plain": [
              "isFraud                     1.000000\n",
              "transactionAmount           0.087525\n",
              "transactionType             0.010933\n",
              "posConditionCode            0.010223\n",
              "merchantCategoryCode        0.009946\n",
              "dateOfLastAddressChange     0.008696\n",
              "currentBalance              0.008429\n",
              "posEntryMode                0.006245\n",
              "merchantName                0.006237\n",
              "duplikasi                   0.003635\n",
              "currentExpDate              0.003313\n",
              "creditLimit                 0.003165\n",
              "transaction_minute          0.000862\n",
              "transaction_week            0.000651\n",
              "transaction_day             0.000184\n",
              "accountOpenDate            -0.000105\n",
              "transaction_hour           -0.000173\n",
              "expirationDateKeyInMatch   -0.001096\n",
              "availableMoney             -0.001500\n",
              "acqCountry                 -0.005093\n",
              "merchantCountryCode        -0.005580\n",
              "cardLast4Digits            -0.006858\n",
              "enteredCVV                 -0.007249\n",
              "cardCVV                    -0.007306\n",
              "accountNumber              -0.007447\n",
              "transaction_month          -0.009148\n",
              "cardPresent                -0.014418\n",
              "transaction_year                 NaN\n",
              "dtype: float64"
            ]
          },
          "metadata": {},
          "execution_count": 430
        }
      ],
      "source": [
        "# Korelasi kolom numerical ke target variable\n",
        "df.corrwith(df['isFraud'],axis=0).sort_values(ascending=False)"
      ]
    },
    {
      "cell_type": "markdown",
      "metadata": {
        "id": "Hyxw0Vk_EaOT"
      },
      "source": [
        "# Building Classification Model"
      ]
    },
    {
      "cell_type": "markdown",
      "metadata": {
        "id": "4mkqVTAcEf-c"
      },
      "source": [
        "## Train Test Set"
      ]
    },
    {
      "cell_type": "code",
      "execution_count": null,
      "metadata": {
        "id": "TxeElBtQDi_S"
      },
      "outputs": [],
      "source": [
        "X = df.drop('isFraud',axis=1)\n",
        "y = df['isFraud']\n",
        "\n",
        "X_train, X_test, y_train, y_test = train_test_split(X, y, test_size = 0.3, random_state = 42)"
      ]
    },
    {
      "cell_type": "markdown",
      "metadata": {
        "id": "20D9pYEVE6m_"
      },
      "source": [
        "## Logistic Regression"
      ]
    },
    {
      "cell_type": "code",
      "execution_count": null,
      "metadata": {
        "colab": {
          "base_uri": "https://localhost:8080/",
          "height": 81
        },
        "id": "JUiUA4GDE2Hp",
        "outputId": "73f0588b-3494-4555-8b36-ab20d0b6d007"
      },
      "outputs": [
        {
          "output_type": "execute_result",
          "data": {
            "text/plain": [
              "                     Accuracy  Recall     AUC  Precision\n",
              "Logistic Regression    0.9825     0.0  0.5139        0.0"
            ],
            "text/html": [
              "\n",
              "  <div id=\"df-d09dd6ab-f712-498f-8100-88f162c27c96\">\n",
              "    <div class=\"colab-df-container\">\n",
              "      <div>\n",
              "<style scoped>\n",
              "    .dataframe tbody tr th:only-of-type {\n",
              "        vertical-align: middle;\n",
              "    }\n",
              "\n",
              "    .dataframe tbody tr th {\n",
              "        vertical-align: top;\n",
              "    }\n",
              "\n",
              "    .dataframe thead th {\n",
              "        text-align: right;\n",
              "    }\n",
              "</style>\n",
              "<table border=\"1\" class=\"dataframe\">\n",
              "  <thead>\n",
              "    <tr style=\"text-align: right;\">\n",
              "      <th></th>\n",
              "      <th>Accuracy</th>\n",
              "      <th>Recall</th>\n",
              "      <th>AUC</th>\n",
              "      <th>Precision</th>\n",
              "    </tr>\n",
              "  </thead>\n",
              "  <tbody>\n",
              "    <tr>\n",
              "      <th>Logistic Regression</th>\n",
              "      <td>0.9825</td>\n",
              "      <td>0.0</td>\n",
              "      <td>0.5139</td>\n",
              "      <td>0.0</td>\n",
              "    </tr>\n",
              "  </tbody>\n",
              "</table>\n",
              "</div>\n",
              "      <button class=\"colab-df-convert\" onclick=\"convertToInteractive('df-d09dd6ab-f712-498f-8100-88f162c27c96')\"\n",
              "              title=\"Convert this dataframe to an interactive table.\"\n",
              "              style=\"display:none;\">\n",
              "        \n",
              "  <svg xmlns=\"http://www.w3.org/2000/svg\" height=\"24px\"viewBox=\"0 0 24 24\"\n",
              "       width=\"24px\">\n",
              "    <path d=\"M0 0h24v24H0V0z\" fill=\"none\"/>\n",
              "    <path d=\"M18.56 5.44l.94 2.06.94-2.06 2.06-.94-2.06-.94-.94-2.06-.94 2.06-2.06.94zm-11 1L8.5 8.5l.94-2.06 2.06-.94-2.06-.94L8.5 2.5l-.94 2.06-2.06.94zm10 10l.94 2.06.94-2.06 2.06-.94-2.06-.94-.94-2.06-.94 2.06-2.06.94z\"/><path d=\"M17.41 7.96l-1.37-1.37c-.4-.4-.92-.59-1.43-.59-.52 0-1.04.2-1.43.59L10.3 9.45l-7.72 7.72c-.78.78-.78 2.05 0 2.83L4 21.41c.39.39.9.59 1.41.59.51 0 1.02-.2 1.41-.59l7.78-7.78 2.81-2.81c.8-.78.8-2.07 0-2.86zM5.41 20L4 18.59l7.72-7.72 1.47 1.35L5.41 20z\"/>\n",
              "  </svg>\n",
              "      </button>\n",
              "      \n",
              "  <style>\n",
              "    .colab-df-container {\n",
              "      display:flex;\n",
              "      flex-wrap:wrap;\n",
              "      gap: 12px;\n",
              "    }\n",
              "\n",
              "    .colab-df-convert {\n",
              "      background-color: #E8F0FE;\n",
              "      border: none;\n",
              "      border-radius: 50%;\n",
              "      cursor: pointer;\n",
              "      display: none;\n",
              "      fill: #1967D2;\n",
              "      height: 32px;\n",
              "      padding: 0 0 0 0;\n",
              "      width: 32px;\n",
              "    }\n",
              "\n",
              "    .colab-df-convert:hover {\n",
              "      background-color: #E2EBFA;\n",
              "      box-shadow: 0px 1px 2px rgba(60, 64, 67, 0.3), 0px 1px 3px 1px rgba(60, 64, 67, 0.15);\n",
              "      fill: #174EA6;\n",
              "    }\n",
              "\n",
              "    [theme=dark] .colab-df-convert {\n",
              "      background-color: #3B4455;\n",
              "      fill: #D2E3FC;\n",
              "    }\n",
              "\n",
              "    [theme=dark] .colab-df-convert:hover {\n",
              "      background-color: #434B5C;\n",
              "      box-shadow: 0px 1px 3px 1px rgba(0, 0, 0, 0.15);\n",
              "      filter: drop-shadow(0px 1px 2px rgba(0, 0, 0, 0.3));\n",
              "      fill: #FFFFFF;\n",
              "    }\n",
              "  </style>\n",
              "\n",
              "      <script>\n",
              "        const buttonEl =\n",
              "          document.querySelector('#df-d09dd6ab-f712-498f-8100-88f162c27c96 button.colab-df-convert');\n",
              "        buttonEl.style.display =\n",
              "          google.colab.kernel.accessAllowed ? 'block' : 'none';\n",
              "\n",
              "        async function convertToInteractive(key) {\n",
              "          const element = document.querySelector('#df-d09dd6ab-f712-498f-8100-88f162c27c96');\n",
              "          const dataTable =\n",
              "            await google.colab.kernel.invokeFunction('convertToInteractive',\n",
              "                                                     [key], {});\n",
              "          if (!dataTable) return;\n",
              "\n",
              "          const docLinkHtml = 'Like what you see? Visit the ' +\n",
              "            '<a target=\"_blank\" href=https://colab.research.google.com/notebooks/data_table.ipynb>data table notebook</a>'\n",
              "            + ' to learn more about interactive tables.';\n",
              "          element.innerHTML = '';\n",
              "          dataTable['output_type'] = 'display_data';\n",
              "          await google.colab.output.renderOutput(dataTable, element);\n",
              "          const docLink = document.createElement('div');\n",
              "          docLink.innerHTML = docLinkHtml;\n",
              "          element.appendChild(docLink);\n",
              "        }\n",
              "      </script>\n",
              "    </div>\n",
              "  </div>\n",
              "  "
            ]
          },
          "metadata": {},
          "execution_count": 432
        }
      ],
      "source": [
        "accuracy= []\n",
        "recall =[]\n",
        "auc= []\n",
        "precision = []\n",
        "\n",
        "nr = SMOTE()\n",
        "X_train, y_train = nr.fit_resample(X_train, y_train)\n",
        "logreg = LogisticRegression(max_iter=1000)\n",
        "logreg.fit(X_train, y_train)\n",
        "y_pred=logreg.predict(X_test)\n",
        "\n",
        "y_pred_prob = logreg.predict_proba(X_test)[::,1]\n",
        "\n",
        "accuracy.append(round(accuracy_score(y_test, y_pred),4))\n",
        "recall.append(round(recall_score(y_test, y_pred),4))\n",
        "auc.append(round(roc_auc_score(y_test,y_pred_prob),4))\n",
        "precision.append(round(precision_score(y_test, y_pred),4))\n",
        "\n",
        "model_names = ['Logistic Regression']\n",
        "result_df4 = pd.DataFrame({'Accuracy':accuracy,'Recall':recall,'AUC':auc, 'Precision':precision}, index=model_names)\n",
        "result_df4"
      ]
    },
    {
      "cell_type": "code",
      "execution_count": null,
      "metadata": {
        "id": "BRvru2oAFRf2",
        "colab": {
          "base_uri": "https://localhost:8080/",
          "height": 472
        },
        "outputId": "8d6ea579-8b1a-453b-e1a3-575c1d341415"
      },
      "outputs": [
        {
          "output_type": "display_data",
          "data": {
            "text/plain": [
              "<Figure size 576x576 with 2 Axes>"
            ],
            "image/png": "[encoded data removed]"
          },
          "metadata": {
            "needs_background": "light"
          }
        }
      ],
      "source": [
        "fig, ax = plt.subplots(figsize=(8, 8))\n",
        "plt.title('Confusion Matrix Logistic Regression')\n",
        "plot_confusion_matrix(logreg, X_test, y_test, cmap=plt.cm.Reds, ax=ax);"
      ]
    },
    {
      "cell_type": "code",
      "execution_count": null,
      "metadata": {
        "colab": {
          "base_uri": "https://localhost:8080/",
          "height": 295
        },
        "id": "nEvudnKHHp3r",
        "outputId": "62a4f729-1dad-44e4-d655-7c896ac17e12"
      },
      "outputs": [
        {
          "output_type": "display_data",
          "data": {
            "text/plain": [
              "<Figure size 432x288 with 1 Axes>"
            ],
            "image/png": "[encoded data removed]"
          },
          "metadata": {
            "needs_background": "light"
          }
        }
      ],
      "source": [
        "fpr, tpr, Threshold = roc_curve(y_test, y_pred_prob)\n",
        "plt.title('Logistic Regression ROC_AUC Curve')\n",
        "plt.plot(fpr, tpr, 'b',label='AUC = %0.2f'% roc_auc_score(y_test, y_pred_prob))\n",
        "plt.legend(loc='lower right')\n",
        "plt.plot([0,1],[0,1],'r--')\n",
        "plt.xlim([-0.1,1.0])\n",
        "plt.ylim([-0.1,1.01])\n",
        "plt.ylabel('True Positive Rate')\n",
        "plt.xlabel('False Positive Rate')\n",
        "plt.show()"
      ]
    },
    {
      "cell_type": "markdown",
      "metadata": {
        "id": "WpEcCzJpIgHN"
      },
      "source": [
        "## Gradient Boosting"
      ]
    },
    {
      "cell_type": "code",
      "execution_count": null,
      "metadata": {
        "colab": {
          "base_uri": "https://localhost:8080/",
          "height": 81
        },
        "id": "QY4B1K6rIWAp",
        "outputId": "b6e10e0f-7a12-4503-d11b-2f26f59527ff"
      },
      "outputs": [
        {
          "output_type": "execute_result",
          "data": {
            "text/plain": [
              "                   Accuracy  Recall     AUC  Precision\n",
              "Gradient Boosting    0.9261  0.1933  0.6932     0.0534"
            ],
            "text/html": [
              "\n",
              "  <div id=\"df-682b169f-5b1f-4e71-8d32-fac3d0ca5399\">\n",
              "    <div class=\"colab-df-container\">\n",
              "      <div>\n",
              "<style scoped>\n",
              "    .dataframe tbody tr th:only-of-type {\n",
              "        vertical-align: middle;\n",
              "    }\n",
              "\n",
              "    .dataframe tbody tr th {\n",
              "        vertical-align: top;\n",
              "    }\n",
              "\n",
              "    .dataframe thead th {\n",
              "        text-align: right;\n",
              "    }\n",
              "</style>\n",
              "<table border=\"1\" class=\"dataframe\">\n",
              "  <thead>\n",
              "    <tr style=\"text-align: right;\">\n",
              "      <th></th>\n",
              "      <th>Accuracy</th>\n",
              "      <th>Recall</th>\n",
              "      <th>AUC</th>\n",
              "      <th>Precision</th>\n",
              "    </tr>\n",
              "  </thead>\n",
              "  <tbody>\n",
              "    <tr>\n",
              "      <th>Gradient Boosting</th>\n",
              "      <td>0.9261</td>\n",
              "      <td>0.1933</td>\n",
              "      <td>0.6932</td>\n",
              "      <td>0.0534</td>\n",
              "    </tr>\n",
              "  </tbody>\n",
              "</table>\n",
              "</div>\n",
              "      <button class=\"colab-df-convert\" onclick=\"convertToInteractive('df-682b169f-5b1f-4e71-8d32-fac3d0ca5399')\"\n",
              "              title=\"Convert this dataframe to an interactive table.\"\n",
              "              style=\"display:none;\">\n",
              "        \n",
              "  <svg xmlns=\"http://www.w3.org/2000/svg\" height=\"24px\"viewBox=\"0 0 24 24\"\n",
              "       width=\"24px\">\n",
              "    <path d=\"M0 0h24v24H0V0z\" fill=\"none\"/>\n",
              "    <path d=\"M18.56 5.44l.94 2.06.94-2.06 2.06-.94-2.06-.94-.94-2.06-.94 2.06-2.06.94zm-11 1L8.5 8.5l.94-2.06 2.06-.94-2.06-.94L8.5 2.5l-.94 2.06-2.06.94zm10 10l.94 2.06.94-2.06 2.06-.94-2.06-.94-.94-2.06-.94 2.06-2.06.94z\"/><path d=\"M17.41 7.96l-1.37-1.37c-.4-.4-.92-.59-1.43-.59-.52 0-1.04.2-1.43.59L10.3 9.45l-7.72 7.72c-.78.78-.78 2.05 0 2.83L4 21.41c.39.39.9.59 1.41.59.51 0 1.02-.2 1.41-.59l7.78-7.78 2.81-2.81c.8-.78.8-2.07 0-2.86zM5.41 20L4 18.59l7.72-7.72 1.47 1.35L5.41 20z\"/>\n",
              "  </svg>\n",
              "      </button>\n",
              "      \n",
              "  <style>\n",
              "    .colab-df-container {\n",
              "      display:flex;\n",
              "      flex-wrap:wrap;\n",
              "      gap: 12px;\n",
              "    }\n",
              "\n",
              "    .colab-df-convert {\n",
              "      background-color: #E8F0FE;\n",
              "      border: none;\n",
              "      border-radius: 50%;\n",
              "      cursor: pointer;\n",
              "      display: none;\n",
              "      fill: #1967D2;\n",
              "      height: 32px;\n",
              "      padding: 0 0 0 0;\n",
              "      width: 32px;\n",
              "    }\n",
              "\n",
              "    .colab-df-convert:hover {\n",
              "      background-color: #E2EBFA;\n",
              "      box-shadow: 0px 1px 2px rgba(60, 64, 67, 0.3), 0px 1px 3px 1px rgba(60, 64, 67, 0.15);\n",
              "      fill: #174EA6;\n",
              "    }\n",
              "\n",
              "    [theme=dark] .colab-df-convert {\n",
              "      background-color: #3B4455;\n",
              "      fill: #D2E3FC;\n",
              "    }\n",
              "\n",
              "    [theme=dark] .colab-df-convert:hover {\n",
              "      background-color: #434B5C;\n",
              "      box-shadow: 0px 1px 3px 1px rgba(0, 0, 0, 0.15);\n",
              "      filter: drop-shadow(0px 1px 2px rgba(0, 0, 0, 0.3));\n",
              "      fill: #FFFFFF;\n",
              "    }\n",
              "  </style>\n",
              "\n",
              "      <script>\n",
              "        const buttonEl =\n",
              "          document.querySelector('#df-682b169f-5b1f-4e71-8d32-fac3d0ca5399 button.colab-df-convert');\n",
              "        buttonEl.style.display =\n",
              "          google.colab.kernel.accessAllowed ? 'block' : 'none';\n",
              "\n",
              "        async function convertToInteractive(key) {\n",
              "          const element = document.querySelector('#df-682b169f-5b1f-4e71-8d32-fac3d0ca5399');\n",
              "          const dataTable =\n",
              "            await google.colab.kernel.invokeFunction('convertToInteractive',\n",
              "                                                     [key], {});\n",
              "          if (!dataTable) return;\n",
              "\n",
              "          const docLinkHtml = 'Like what you see? Visit the ' +\n",
              "            '<a target=\"_blank\" href=https://colab.research.google.com/notebooks/data_table.ipynb>data table notebook</a>'\n",
              "            + ' to learn more about interactive tables.';\n",
              "          element.innerHTML = '';\n",
              "          dataTable['output_type'] = 'display_data';\n",
              "          await google.colab.output.renderOutput(dataTable, element);\n",
              "          const docLink = document.createElement('div');\n",
              "          docLink.innerHTML = docLinkHtml;\n",
              "          element.appendChild(docLink);\n",
              "        }\n",
              "      </script>\n",
              "    </div>\n",
              "  </div>\n",
              "  "
            ]
          },
          "metadata": {},
          "execution_count": 435
        }
      ],
      "source": [
        "accuracy= []\n",
        "recall =[]\n",
        "auc= []\n",
        "precision = []\n",
        "\n",
        "nr = SMOTE()\n",
        "X_train, y_train = nr.fit_resample(X_train, y_train)\n",
        "\n",
        "gb = GradientBoostingClassifier()\n",
        "gb.fit(X_train,y_train)\n",
        "y_pred = gb.predict(X_test)\n",
        "\n",
        "y_pred_prob = gb.predict_proba(X_test)[::,1]\n",
        "\n",
        "accuracy.append(round(accuracy_score(y_test, y_pred),4))\n",
        "recall.append(round(recall_score(y_test, y_pred),4))\n",
        "auc.append(round(roc_auc_score(y_test, y_pred_prob),4))\n",
        "precision.append(round(precision_score(y_test, y_pred),4))\n",
        "\n",
        "model_names = ['Gradient Boosting']\n",
        "result_df3 = pd.DataFrame({'Accuracy':accuracy,'Recall':recall, 'AUC':auc, 'Precision':precision}, index=model_names)\n",
        "result_df3"
      ]
    },
    {
      "cell_type": "code",
      "execution_count": null,
      "metadata": {
        "colab": {
          "base_uri": "https://localhost:8080/"
        },
        "id": "75cQFCKqKcPC",
        "outputId": "60160108-7f95-4309-b931-124e2511fbc8"
      },
      "outputs": [
        {
          "output_type": "display_data",
          "data": {
            "text/plain": [
              "<Figure size 576x576 with 2 Axes>"
            ],
            "image/png": "[encoded data removed]"
          },
          "metadata": {
            "needs_background": "light"
          }
        }
      ],
      "source": [
        "\n",
        "fig, ax = plt.subplots(figsize=(8, 8))\n",
        "plt.title('Confusion Matrix Gradient Boosting')\n",
        "plot_confusion_matrix(gb, X_test, y_test, cmap=plt.cm.Reds, ax=ax);"
      ]
    },
    {
      "cell_type": "code",
      "execution_count": null,
      "metadata": {
        "colab": {
          "base_uri": "https://localhost:8080/"
        },
        "id": "l-XYwLQtMFg6",
        "outputId": "be11713b-57ef-4549-a232-651a4f18b5fd"
      },
      "outputs": [
        {
          "output_type": "display_data",
          "data": {
            "text/plain": [
              "<Figure size 432x288 with 1 Axes>"
            ],
            "image/png": "[encoded data removed]"
          },
          "metadata": {
            "needs_background": "light"
          }
        }
      ],
      "source": [
        "fpr, tpr, Threshold = roc_curve(y_test, y_pred_prob)\n",
        "plt.title('Gradient Boosting ROC_AUC Curve')\n",
        "plt.plot(fpr, tpr, 'b',label='AUC = %0.2f'% roc_auc_score(y_test, y_pred_prob))\n",
        "plt.legend(loc='lower right')\n",
        "plt.plot([0,1],[0,1],'r--')\n",
        "plt.xlim([-0.1,1.0])\n",
        "plt.ylim([-0.1,1.01])\n",
        "plt.ylabel('True Positive Rate')\n",
        "plt.xlabel('False Positive Rate')\n",
        "plt.show()"
      ]
    },
    {
      "cell_type": "markdown",
      "metadata": {
        "id": "fc-zb44bMymZ"
      },
      "source": [
        "## XGBoost Classifier"
      ]
    },
    {
      "cell_type": "code",
      "execution_count": null,
      "metadata": {
        "colab": {
          "base_uri": "https://localhost:8080/",
          "height": 81
        },
        "id": "jLss8m_VMPjs",
        "outputId": "6443d9dc-6948-4312-a3e2-3dc34fb27396"
      },
      "outputs": [
        {
          "output_type": "execute_result",
          "data": {
            "text/plain": [
              "                    Accuracy  Recall     AUC  Precision\n",
              "XGBoost Classifier    0.7827  0.4792  0.6928     0.0386"
            ],
            "text/html": [
              "\n",
              "  <div id=\"df-eabacc5b-cfe6-43bc-b9e9-5a50a8e21d42\">\n",
              "    <div class=\"colab-df-container\">\n",
              "      <div>\n",
              "<style scoped>\n",
              "    .dataframe tbody tr th:only-of-type {\n",
              "        vertical-align: middle;\n",
              "    }\n",
              "\n",
              "    .dataframe tbody tr th {\n",
              "        vertical-align: top;\n",
              "    }\n",
              "\n",
              "    .dataframe thead th {\n",
              "        text-align: right;\n",
              "    }\n",
              "</style>\n",
              "<table border=\"1\" class=\"dataframe\">\n",
              "  <thead>\n",
              "    <tr style=\"text-align: right;\">\n",
              "      <th></th>\n",
              "      <th>Accuracy</th>\n",
              "      <th>Recall</th>\n",
              "      <th>AUC</th>\n",
              "      <th>Precision</th>\n",
              "    </tr>\n",
              "  </thead>\n",
              "  <tbody>\n",
              "    <tr>\n",
              "      <th>XGBoost Classifier</th>\n",
              "      <td>0.7827</td>\n",
              "      <td>0.4792</td>\n",
              "      <td>0.6928</td>\n",
              "      <td>0.0386</td>\n",
              "    </tr>\n",
              "  </tbody>\n",
              "</table>\n",
              "</div>\n",
              "      <button class=\"colab-df-convert\" onclick=\"convertToInteractive('df-eabacc5b-cfe6-43bc-b9e9-5a50a8e21d42')\"\n",
              "              title=\"Convert this dataframe to an interactive table.\"\n",
              "              style=\"display:none;\">\n",
              "        \n",
              "  <svg xmlns=\"http://www.w3.org/2000/svg\" height=\"24px\"viewBox=\"0 0 24 24\"\n",
              "       width=\"24px\">\n",
              "    <path d=\"M0 0h24v24H0V0z\" fill=\"none\"/>\n",
              "    <path d=\"M18.56 5.44l.94 2.06.94-2.06 2.06-.94-2.06-.94-.94-2.06-.94 2.06-2.06.94zm-11 1L8.5 8.5l.94-2.06 2.06-.94-2.06-.94L8.5 2.5l-.94 2.06-2.06.94zm10 10l.94 2.06.94-2.06 2.06-.94-2.06-.94-.94-2.06-.94 2.06-2.06.94z\"/><path d=\"M17.41 7.96l-1.37-1.37c-.4-.4-.92-.59-1.43-.59-.52 0-1.04.2-1.43.59L10.3 9.45l-7.72 7.72c-.78.78-.78 2.05 0 2.83L4 21.41c.39.39.9.59 1.41.59.51 0 1.02-.2 1.41-.59l7.78-7.78 2.81-2.81c.8-.78.8-2.07 0-2.86zM5.41 20L4 18.59l7.72-7.72 1.47 1.35L5.41 20z\"/>\n",
              "  </svg>\n",
              "      </button>\n",
              "      \n",
              "  <style>\n",
              "    .colab-df-container {\n",
              "      display:flex;\n",
              "      flex-wrap:wrap;\n",
              "      gap: 12px;\n",
              "    }\n",
              "\n",
              "    .colab-df-convert {\n",
              "      background-color: #E8F0FE;\n",
              "      border: none;\n",
              "      border-radius: 50%;\n",
              "      cursor: pointer;\n",
              "      display: none;\n",
              "      fill: #1967D2;\n",
              "      height: 32px;\n",
              "      padding: 0 0 0 0;\n",
              "      width: 32px;\n",
              "    }\n",
              "\n",
              "    .colab-df-convert:hover {\n",
              "      background-color: #E2EBFA;\n",
              "      box-shadow: 0px 1px 2px rgba(60, 64, 67, 0.3), 0px 1px 3px 1px rgba(60, 64, 67, 0.15);\n",
              "      fill: #174EA6;\n",
              "    }\n",
              "\n",
              "    [theme=dark] .colab-df-convert {\n",
              "      background-color: #3B4455;\n",
              "      fill: #D2E3FC;\n",
              "    }\n",
              "\n",
              "    [theme=dark] .colab-df-convert:hover {\n",
              "      background-color: #434B5C;\n",
              "      box-shadow: 0px 1px 3px 1px rgba(0, 0, 0, 0.15);\n",
              "      filter: drop-shadow(0px 1px 2px rgba(0, 0, 0, 0.3));\n",
              "      fill: #FFFFFF;\n",
              "    }\n",
              "  </style>\n",
              "\n",
              "      <script>\n",
              "        const buttonEl =\n",
              "          document.querySelector('#df-eabacc5b-cfe6-43bc-b9e9-5a50a8e21d42 button.colab-df-convert');\n",
              "        buttonEl.style.display =\n",
              "          google.colab.kernel.accessAllowed ? 'block' : 'none';\n",
              "\n",
              "        async function convertToInteractive(key) {\n",
              "          const element = document.querySelector('#df-eabacc5b-cfe6-43bc-b9e9-5a50a8e21d42');\n",
              "          const dataTable =\n",
              "            await google.colab.kernel.invokeFunction('convertToInteractive',\n",
              "                                                     [key], {});\n",
              "          if (!dataTable) return;\n",
              "\n",
              "          const docLinkHtml = 'Like what you see? Visit the ' +\n",
              "            '<a target=\"_blank\" href=https://colab.research.google.com/notebooks/data_table.ipynb>data table notebook</a>'\n",
              "            + ' to learn more about interactive tables.';\n",
              "          element.innerHTML = '';\n",
              "          dataTable['output_type'] = 'display_data';\n",
              "          await google.colab.output.renderOutput(dataTable, element);\n",
              "          const docLink = document.createElement('div');\n",
              "          docLink.innerHTML = docLinkHtml;\n",
              "          element.appendChild(docLink);\n",
              "        }\n",
              "      </script>\n",
              "    </div>\n",
              "  </div>\n",
              "  "
            ]
          },
          "metadata": {},
          "execution_count": 438
        }
      ],
      "source": [
        "accuracy= []\n",
        "recall =[]\n",
        "auc= []\n",
        "precision = []\n",
        "\n",
        "nr = SMOTE()\n",
        "X_train, y_train = nr.fit_resample(X_train, y_train)\n",
        "\n",
        "xgbc_base = XGBClassifier(random_state=0,scale_pos_weight=3)\n",
        "\n",
        "xgbc_base.fit(X_train, y_train)\n",
        "y_pred = xgbc_base.predict(X_test)\n",
        "\n",
        "y_pred_prob = xgbc_base.predict_proba(X_test)[::,1]\n",
        "\n",
        "accuracy.append(round(accuracy_score(y_test, y_pred),4))\n",
        "recall.append(round(recall_score(y_test, y_pred),4))\n",
        "auc.append(round(roc_auc_score(y_test, y_pred_prob),4))\n",
        "precision.append(round(precision_score(y_test, y_pred),4))\n",
        "\n",
        "model_names = ['XGBoost Classifier']\n",
        "result_df2 = pd.DataFrame({'Accuracy':accuracy,'Recall':recall, 'AUC':auc, 'Precision':precision}, index=model_names)\n",
        "result_df2"
      ]
    },
    {
      "cell_type": "code",
      "execution_count": null,
      "metadata": {
        "colab": {
          "base_uri": "https://localhost:8080/",
          "height": 466
        },
        "id": "xT8YOgftNoaH",
        "outputId": "f7e67840-3608-41cf-998a-5cc3098ff07a"
      },
      "outputs": [
        {
          "output_type": "display_data",
          "data": {
            "text/plain": [
              "<Figure size 576x576 with 2 Axes>"
            ],
            "image/png": "[encoded data removed]"
          },
          "metadata": {
            "needs_background": "light"
          }
        }
      ],
      "source": [
        "fig, ax = plt.subplots(figsize=(8, 8))\n",
        "plt.title('Confusion Matrix XGBoost Classifier')\n",
        "plot_confusion_matrix(xgbc_base, X_test, y_test, cmap=plt.cm.Reds, ax=ax);"
      ]
    },
    {
      "cell_type": "code",
      "execution_count": null,
      "metadata": {
        "colab": {
          "base_uri": "https://localhost:8080/",
          "height": 295
        },
        "id": "qbkJ2xakN3l6",
        "outputId": "2a901e30-617a-4183-9193-6eebeb7c6f9f"
      },
      "outputs": [
        {
          "output_type": "display_data",
          "data": {
            "text/plain": [
              "<Figure size 432x288 with 1 Axes>"
            ],
            "image/png": "[encoded data removed]"
          },
          "metadata": {
            "needs_background": "light"
          }
        }
      ],
      "source": [
        "fpr, tpr, Threshold = roc_curve(y_test, y_pred_prob)\n",
        "plt.title('XGBoost Classifier ROC_AUC Curve')\n",
        "plt.plot(fpr, tpr, 'b',label='AUC = %0.2f'% roc_auc_score(y_test, y_pred_prob))\n",
        "plt.legend(loc='lower right')\n",
        "plt.plot([0,1],[0,1],'r--')\n",
        "plt.xlim([-0.1,1.0])\n",
        "plt.ylim([-0.1,1.01])\n",
        "plt.ylabel('True Positive Rate')\n",
        "plt.xlabel('False Positive Rate')\n",
        "plt.show()"
      ]
    },
    {
      "cell_type": "markdown",
      "source": [
        "Random Forest"
      ],
      "metadata": {
        "id": "IFAKFaMDaGde"
      }
    },
    {
      "cell_type": "code",
      "execution_count": null,
      "metadata": {
        "colab": {
          "base_uri": "https://localhost:8080/",
          "height": 81
        },
        "id": "kdbK6Xu6OMPI",
        "outputId": "b1f264cf-fcab-4dd5-dddc-1528ebce444c"
      },
      "outputs": [
        {
          "output_type": "execute_result",
          "data": {
            "text/plain": [
              "               Accuracy  Recall     AUC  Precision\n",
              "Random Forest    0.9788  0.0632  0.7818     0.1875"
            ],
            "text/html": [
              "\n",
              "  <div id=\"df-9bb78e40-7bad-4efa-bf20-f353bd2cee3a\">\n",
              "    <div class=\"colab-df-container\">\n",
              "      <div>\n",
              "<style scoped>\n",
              "    .dataframe tbody tr th:only-of-type {\n",
              "        vertical-align: middle;\n",
              "    }\n",
              "\n",
              "    .dataframe tbody tr th {\n",
              "        vertical-align: top;\n",
              "    }\n",
              "\n",
              "    .dataframe thead th {\n",
              "        text-align: right;\n",
              "    }\n",
              "</style>\n",
              "<table border=\"1\" class=\"dataframe\">\n",
              "  <thead>\n",
              "    <tr style=\"text-align: right;\">\n",
              "      <th></th>\n",
              "      <th>Accuracy</th>\n",
              "      <th>Recall</th>\n",
              "      <th>AUC</th>\n",
              "      <th>Precision</th>\n",
              "    </tr>\n",
              "  </thead>\n",
              "  <tbody>\n",
              "    <tr>\n",
              "      <th>Random Forest</th>\n",
              "      <td>0.9788</td>\n",
              "      <td>0.0632</td>\n",
              "      <td>0.7818</td>\n",
              "      <td>0.1875</td>\n",
              "    </tr>\n",
              "  </tbody>\n",
              "</table>\n",
              "</div>\n",
              "      <button class=\"colab-df-convert\" onclick=\"convertToInteractive('df-9bb78e40-7bad-4efa-bf20-f353bd2cee3a')\"\n",
              "              title=\"Convert this dataframe to an interactive table.\"\n",
              "              style=\"display:none;\">\n",
              "        \n",
              "  <svg xmlns=\"http://www.w3.org/2000/svg\" height=\"24px\"viewBox=\"0 0 24 24\"\n",
              "       width=\"24px\">\n",
              "    <path d=\"M0 0h24v24H0V0z\" fill=\"none\"/>\n",
              "    <path d=\"M18.56 5.44l.94 2.06.94-2.06 2.06-.94-2.06-.94-.94-2.06-.94 2.06-2.06.94zm-11 1L8.5 8.5l.94-2.06 2.06-.94-2.06-.94L8.5 2.5l-.94 2.06-2.06.94zm10 10l.94 2.06.94-2.06 2.06-.94-2.06-.94-.94-2.06-.94 2.06-2.06.94z\"/><path d=\"M17.41 7.96l-1.37-1.37c-.4-.4-.92-.59-1.43-.59-.52 0-1.04.2-1.43.59L10.3 9.45l-7.72 7.72c-.78.78-.78 2.05 0 2.83L4 21.41c.39.39.9.59 1.41.59.51 0 1.02-.2 1.41-.59l7.78-7.78 2.81-2.81c.8-.78.8-2.07 0-2.86zM5.41 20L4 18.59l7.72-7.72 1.47 1.35L5.41 20z\"/>\n",
              "  </svg>\n",
              "      </button>\n",
              "      \n",
              "  <style>\n",
              "    .colab-df-container {\n",
              "      display:flex;\n",
              "      flex-wrap:wrap;\n",
              "      gap: 12px;\n",
              "    }\n",
              "\n",
              "    .colab-df-convert {\n",
              "      background-color: #E8F0FE;\n",
              "      border: none;\n",
              "      border-radius: 50%;\n",
              "      cursor: pointer;\n",
              "      display: none;\n",
              "      fill: #1967D2;\n",
              "      height: 32px;\n",
              "      padding: 0 0 0 0;\n",
              "      width: 32px;\n",
              "    }\n",
              "\n",
              "    .colab-df-convert:hover {\n",
              "      background-color: #E2EBFA;\n",
              "      box-shadow: 0px 1px 2px rgba(60, 64, 67, 0.3), 0px 1px 3px 1px rgba(60, 64, 67, 0.15);\n",
              "      fill: #174EA6;\n",
              "    }\n",
              "\n",
              "    [theme=dark] .colab-df-convert {\n",
              "      background-color: #3B4455;\n",
              "      fill: #D2E3FC;\n",
              "    }\n",
              "\n",
              "    [theme=dark] .colab-df-convert:hover {\n",
              "      background-color: #434B5C;\n",
              "      box-shadow: 0px 1px 3px 1px rgba(0, 0, 0, 0.15);\n",
              "      filter: drop-shadow(0px 1px 2px rgba(0, 0, 0, 0.3));\n",
              "      fill: #FFFFFF;\n",
              "    }\n",
              "  </style>\n",
              "\n",
              "      <script>\n",
              "        const buttonEl =\n",
              "          document.querySelector('#df-9bb78e40-7bad-4efa-bf20-f353bd2cee3a button.colab-df-convert');\n",
              "        buttonEl.style.display =\n",
              "          google.colab.kernel.accessAllowed ? 'block' : 'none';\n",
              "\n",
              "        async function convertToInteractive(key) {\n",
              "          const element = document.querySelector('#df-9bb78e40-7bad-4efa-bf20-f353bd2cee3a');\n",
              "          const dataTable =\n",
              "            await google.colab.kernel.invokeFunction('convertToInteractive',\n",
              "                                                     [key], {});\n",
              "          if (!dataTable) return;\n",
              "\n",
              "          const docLinkHtml = 'Like what you see? Visit the ' +\n",
              "            '<a target=\"_blank\" href=https://colab.research.google.com/notebooks/data_table.ipynb>data table notebook</a>'\n",
              "            + ' to learn more about interactive tables.';\n",
              "          element.innerHTML = '';\n",
              "          dataTable['output_type'] = 'display_data';\n",
              "          await google.colab.output.renderOutput(dataTable, element);\n",
              "          const docLink = document.createElement('div');\n",
              "          docLink.innerHTML = docLinkHtml;\n",
              "          element.appendChild(docLink);\n",
              "        }\n",
              "      </script>\n",
              "    </div>\n",
              "  </div>\n",
              "  "
            ]
          },
          "metadata": {},
          "execution_count": 441
        }
      ],
      "source": [
        "accuracy= []\n",
        "recall =[]\n",
        "auc= []\n",
        "precision = []\n",
        "\n",
        "\n",
        "rf = RandomForestClassifier(n_estimators = 200)\n",
        "rf.fit(X_train, y_train)\n",
        "y_pred = rf.predict(X_test)\n",
        "\n",
        "y_pred_prob = rf.predict_proba(X_test)[::,1]\n",
        "\n",
        "accuracy.append(round(accuracy_score(y_test, y_pred),4))\n",
        "recall.append(round(recall_score(y_test, y_pred),4))\n",
        "auc.append(round(roc_auc_score(y_test, y_pred_prob),4))\n",
        "precision.append(round(precision_score(y_test, y_pred),4))\n",
        "\n",
        "model_names = ['Random Forest']\n",
        "result_df1 = pd.DataFrame({'Accuracy':accuracy,'Recall':recall, 'AUC':auc, 'Precision':precision}, index=model_names)\n",
        "result_df1"
      ]
    },
    {
      "cell_type": "code",
      "execution_count": null,
      "metadata": {
        "colab": {
          "base_uri": "https://localhost:8080/",
          "height": 466
        },
        "id": "Ft0fTPk1Ql0x",
        "outputId": "6698ec78-5c3a-47a1-9492-d84e536c9c09"
      },
      "outputs": [
        {
          "output_type": "display_data",
          "data": {
            "text/plain": [
              "<Figure size 576x576 with 2 Axes>"
            ],
            "image/png": "[encoded data removed]"
          },
          "metadata": {
            "needs_background": "light"
          }
        }
      ],
      "source": [
        "fig, ax = plt.subplots(figsize=(8, 8))\n",
        "plt.title('Confusion Matrix Random Forest')\n",
        "plot_confusion_matrix(rf, X_test, y_test, cmap=plt.cm.Reds, ax=ax);"
      ]
    },
    {
      "cell_type": "code",
      "execution_count": null,
      "metadata": {
        "colab": {
          "base_uri": "https://localhost:8080/",
          "height": 295
        },
        "id": "09qyF2jiQrEp",
        "outputId": "17c589f0-e918-48e8-c4c4-dd8c1f49eaee"
      },
      "outputs": [
        {
          "output_type": "display_data",
          "data": {
            "text/plain": [
              "<Figure size 432x288 with 1 Axes>"
            ],
            "image/png": "[encoded data removed]"
          },
          "metadata": {
            "needs_background": "light"
          }
        }
      ],
      "source": [
        "fpr, tpr, Threshold = roc_curve(y_test, y_pred_prob)\n",
        "plt.title('Random Forest ROC_AUC Curve')\n",
        "plt.plot(fpr, tpr, 'b',label='AUC = %0.2f'% roc_auc_score(y_test, y_pred_prob))\n",
        "plt.legend(loc='lower right')\n",
        "plt.plot([0,1],[0,1],'r--')\n",
        "plt.xlim([-0.1,1.0])\n",
        "plt.ylim([-0.1,1.01])\n",
        "plt.ylabel('True Positive Rate')\n",
        "plt.xlabel('False Positive Rate')\n",
        "plt.show()"
      ]
    },
    {
      "cell_type": "code",
      "source": [
        "importances = list(rf.feature_importances_)\n",
        "feature_importances = [(feature, round(importance, 2)) for feature, importance in zip(X.columns, importances)]\n",
        "feature_importances = sorted(feature_importances, key = lambda x: x[1], reverse = True) \n",
        "[print('{:20}    Importance: {}'.format(*pair)) for pair in feature_importances];"
      ],
      "metadata": {
        "colab": {
          "base_uri": "https://localhost:8080/"
        },
        "id": "-nlgrDR4aImF",
        "outputId": "c36070fb-d399-4905-e78f-41103c5d9530"
      },
      "execution_count": null,
      "outputs": [
        {
          "output_type": "stream",
          "name": "stdout",
          "text": [
            "posEntryMode            Importance: 0.26\n",
            "transactionAmount       Importance: 0.13\n",
            "posConditionCode        Importance: 0.1\n",
            "merchantName            Importance: 0.05\n",
            "merchantCategoryCode    Importance: 0.04\n",
            "transaction_week        Importance: 0.04\n",
            "accountNumber           Importance: 0.03\n",
            "accountOpenDate         Importance: 0.03\n",
            "dateOfLastAddressChange    Importance: 0.03\n",
            "cardLast4Digits         Importance: 0.03\n",
            "currentBalance          Importance: 0.03\n",
            "cardPresent             Importance: 0.03\n",
            "transaction_month       Importance: 0.03\n",
            "creditLimit             Importance: 0.02\n",
            "availableMoney          Importance: 0.02\n",
            "currentExpDate          Importance: 0.02\n",
            "cardCVV                 Importance: 0.02\n",
            "enteredCVV              Importance: 0.02\n",
            "transaction_day         Importance: 0.02\n",
            "transaction_hour        Importance: 0.02\n",
            "transaction_minute      Importance: 0.02\n",
            "transactionType         Importance: 0.01\n",
            "acqCountry              Importance: 0.0\n",
            "merchantCountryCode     Importance: 0.0\n",
            "expirationDateKeyInMatch    Importance: 0.0\n",
            "duplikasi               Importance: 0.0\n",
            "transaction_year        Importance: 0.0\n"
          ]
        }
      ]
    },
    {
      "cell_type": "code",
      "execution_count": null,
      "metadata": {
        "colab": {
          "base_uri": "https://localhost:8080/"
        },
        "id": "QLOiPYpHQzAG",
        "outputId": "474ef257-e0f1-4cb0-9892-28817e9eeaf6"
      },
      "outputs": [
        {
          "output_type": "execute_result",
          "data": {
            "text/plain": [
              "                     Accuracy  Recall     AUC  Precision\n",
              "Random Forest          0.9788  0.0632  0.7818     0.1875\n",
              "XGBoost Classifier     0.7827  0.4792  0.6928     0.0386\n",
              "Gradient Boosting      0.9261  0.1933  0.6932     0.0534\n",
              "Logistic Regression    0.9825  0.0000  0.5139     0.0000"
            ],
            "text/html": [
              "\n",
              "  <div id=\"df-d33d182a-e8f2-431b-94b7-20f715c0203f\">\n",
              "    <div class=\"colab-df-container\">\n",
              "      <div>\n",
              "<style scoped>\n",
              "    .dataframe tbody tr th:only-of-type {\n",
              "        vertical-align: middle;\n",
              "    }\n",
              "\n",
              "    .dataframe tbody tr th {\n",
              "        vertical-align: top;\n",
              "    }\n",
              "\n",
              "    .dataframe thead th {\n",
              "        text-align: right;\n",
              "    }\n",
              "</style>\n",
              "<table border=\"1\" class=\"dataframe\">\n",
              "  <thead>\n",
              "    <tr style=\"text-align: right;\">\n",
              "      <th></th>\n",
              "      <th>Accuracy</th>\n",
              "      <th>Recall</th>\n",
              "      <th>AUC</th>\n",
              "      <th>Precision</th>\n",
              "    </tr>\n",
              "  </thead>\n",
              "  <tbody>\n",
              "    <tr>\n",
              "      <th>Random Forest</th>\n",
              "      <td>0.9788</td>\n",
              "      <td>0.0632</td>\n",
              "      <td>0.7818</td>\n",
              "      <td>0.1875</td>\n",
              "    </tr>\n",
              "    <tr>\n",
              "      <th>XGBoost Classifier</th>\n",
              "      <td>0.7827</td>\n",
              "      <td>0.4792</td>\n",
              "      <td>0.6928</td>\n",
              "      <td>0.0386</td>\n",
              "    </tr>\n",
              "    <tr>\n",
              "      <th>Gradient Boosting</th>\n",
              "      <td>0.9261</td>\n",
              "      <td>0.1933</td>\n",
              "      <td>0.6932</td>\n",
              "      <td>0.0534</td>\n",
              "    </tr>\n",
              "    <tr>\n",
              "      <th>Logistic Regression</th>\n",
              "      <td>0.9825</td>\n",
              "      <td>0.0000</td>\n",
              "      <td>0.5139</td>\n",
              "      <td>0.0000</td>\n",
              "    </tr>\n",
              "  </tbody>\n",
              "</table>\n",
              "</div>\n",
              "      <button class=\"colab-df-convert\" onclick=\"convertToInteractive('df-d33d182a-e8f2-431b-94b7-20f715c0203f')\"\n",
              "              title=\"Convert this dataframe to an interactive table.\"\n",
              "              style=\"display:none;\">\n",
              "        \n",
              "  <svg xmlns=\"http://www.w3.org/2000/svg\" height=\"24px\"viewBox=\"0 0 24 24\"\n",
              "       width=\"24px\">\n",
              "    <path d=\"M0 0h24v24H0V0z\" fill=\"none\"/>\n",
              "    <path d=\"M18.56 5.44l.94 2.06.94-2.06 2.06-.94-2.06-.94-.94-2.06-.94 2.06-2.06.94zm-11 1L8.5 8.5l.94-2.06 2.06-.94-2.06-.94L8.5 2.5l-.94 2.06-2.06.94zm10 10l.94 2.06.94-2.06 2.06-.94-2.06-.94-.94-2.06-.94 2.06-2.06.94z\"/><path d=\"M17.41 7.96l-1.37-1.37c-.4-.4-.92-.59-1.43-.59-.52 0-1.04.2-1.43.59L10.3 9.45l-7.72 7.72c-.78.78-.78 2.05 0 2.83L4 21.41c.39.39.9.59 1.41.59.51 0 1.02-.2 1.41-.59l7.78-7.78 2.81-2.81c.8-.78.8-2.07 0-2.86zM5.41 20L4 18.59l7.72-7.72 1.47 1.35L5.41 20z\"/>\n",
              "  </svg>\n",
              "      </button>\n",
              "      \n",
              "  <style>\n",
              "    .colab-df-container {\n",
              "      display:flex;\n",
              "      flex-wrap:wrap;\n",
              "      gap: 12px;\n",
              "    }\n",
              "\n",
              "    .colab-df-convert {\n",
              "      background-color: #E8F0FE;\n",
              "      border: none;\n",
              "      border-radius: 50%;\n",
              "      cursor: pointer;\n",
              "      display: none;\n",
              "      fill: #1967D2;\n",
              "      height: 32px;\n",
              "      padding: 0 0 0 0;\n",
              "      width: 32px;\n",
              "    }\n",
              "\n",
              "    .colab-df-convert:hover {\n",
              "      background-color: #E2EBFA;\n",
              "      box-shadow: 0px 1px 2px rgba(60, 64, 67, 0.3), 0px 1px 3px 1px rgba(60, 64, 67, 0.15);\n",
              "      fill: #174EA6;\n",
              "    }\n",
              "\n",
              "    [theme=dark] .colab-df-convert {\n",
              "      background-color: #3B4455;\n",
              "      fill: #D2E3FC;\n",
              "    }\n",
              "\n",
              "    [theme=dark] .colab-df-convert:hover {\n",
              "      background-color: #434B5C;\n",
              "      box-shadow: 0px 1px 3px 1px rgba(0, 0, 0, 0.15);\n",
              "      filter: drop-shadow(0px 1px 2px rgba(0, 0, 0, 0.3));\n",
              "      fill: #FFFFFF;\n",
              "    }\n",
              "  </style>\n",
              "\n",
              "      <script>\n",
              "        const buttonEl =\n",
              "          document.querySelector('#df-d33d182a-e8f2-431b-94b7-20f715c0203f button.colab-df-convert');\n",
              "        buttonEl.style.display =\n",
              "          google.colab.kernel.accessAllowed ? 'block' : 'none';\n",
              "\n",
              "        async function convertToInteractive(key) {\n",
              "          const element = document.querySelector('#df-d33d182a-e8f2-431b-94b7-20f715c0203f');\n",
              "          const dataTable =\n",
              "            await google.colab.kernel.invokeFunction('convertToInteractive',\n",
              "                                                     [key], {});\n",
              "          if (!dataTable) return;\n",
              "\n",
              "          const docLinkHtml = 'Like what you see? Visit the ' +\n",
              "            '<a target=\"_blank\" href=https://colab.research.google.com/notebooks/data_table.ipynb>data table notebook</a>'\n",
              "            + ' to learn more about interactive tables.';\n",
              "          element.innerHTML = '';\n",
              "          dataTable['output_type'] = 'display_data';\n",
              "          await google.colab.output.renderOutput(dataTable, element);\n",
              "          const docLink = document.createElement('div');\n",
              "          docLink.innerHTML = docLinkHtml;\n",
              "          element.appendChild(docLink);\n",
              "        }\n",
              "      </script>\n",
              "    </div>\n",
              "  </div>\n",
              "  "
            ]
          },
          "metadata": {},
          "execution_count": 445
        }
      ],
      "source": [
        "result_final= pd.concat([result_df1,result_df2,result_df3,result_df4],axis=0)\n",
        "result_final"
      ]
    },
    {
      "cell_type": "code",
      "source": [
        ""
      ],
      "metadata": {
        "id": "3pUlS4GceyaZ"
      },
      "execution_count": null,
      "outputs": []
    }
  ],
  "metadata": {
    "colab": {
      "name": "Final_Project_Zenius_Data_Analysis_Kelompok_11.ipynb",
      "provenance": [],
      "collapsed_sections": [],
      "mount_file_id": "1xssoaKCD5_1stp8pKsabM7-VEnRYKPan",
      "authorship_tag": "ABX9TyN76fj66cpSg7PrgfwCFCxL",
      "include_colab_link": true
    },
    "kernelspec": {
      "display_name": "Python 3",
      "name": "python3"
    },
    "language_info": {
      "name": "python"
    }
  },
  "nbformat": 4,
  "nbformat_minor": 0
}