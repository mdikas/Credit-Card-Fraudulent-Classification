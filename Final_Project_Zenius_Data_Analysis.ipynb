{
  "cells": [
    {
      "cell_type": "markdown",
      "metadata": {
        "id": "view-in-github",
        "colab_type": "text"
      },
      "source": [
        "<a href=\"https://colab.research.google.com/github/mdikas/final-project-zenius-data-analysis/blob/main/Final_Project_Zenius_Data_Analysis.ipynb\" target=\"_parent\"><img src=\"https://colab.research.google.com/assets/colab-badge.svg\" alt=\"Open In Colab\"/></a>"
      ]
    },
    {
      "cell_type": "code",
      "execution_count": null,
      "metadata": {
        "id": "Y2SjEw1Kmvot"
      },
      "outputs": [],
      "source": [
        "import numpy as np \n",
        "import pandas as pd \n",
        "import seaborn as sns\n",
        "import matplotlib.pyplot as plt\n",
        "from sklearn.metrics import accuracy_score,f1_score,precision_score, recall_score\n",
        "from sklearn.linear_model import LogisticRegression\n",
        "from sklearn.ensemble import RandomForestClassifier\n",
        "from xgboost import XGBClassifier\n",
        "from sklearn.ensemble import GradientBoostingClassifier\n",
        "import xgboost as xgb\n",
        "import warnings\n",
        "warnings.filterwarnings(\"ignore\")\n",
        "from sklearn.preprocessing import MinMaxScaler\n",
        "from sklearn.model_selection import train_test_split\n",
        "from sklearn.model_selection import cross_val_score\n",
        "from sklearn.preprocessing import LabelEncoder\n",
        "from imblearn.under_sampling import RandomUnderSampler ,TomekLinks\n",
        "from imblearn.over_sampling import RandomOverSampler,SMOTE\n",
        "from sklearn.metrics import confusion_matrix\n",
        "from sklearn.metrics import recall_score\n",
        "from sklearn.metrics import plot_precision_recall_curve\n",
        "from sklearn.metrics import roc_curve, roc_auc_score\n",
        "from sklearn.metrics import accuracy_score,classification_report, recall_score,confusion_matrix, roc_auc_score, precision_score, f1_score, roc_curve, auc, plot_confusion_matrix,plot_roc_curve,precision_recall_curve"
      ]
    },
    {
      "cell_type": "code",
      "execution_count": null,
      "metadata": {
        "id": "sIcJ_HMBm_rO"
      },
      "outputs": [],
      "source": [
        "df = pd.read_csv('/content/drive/MyDrive/Colab_Notebooks/MSIB/Dataset/transactions.csv')"
      ]
    },
    {
      "cell_type": "code",
      "source": [
        "# from google.colab import drive\n",
        "# drive.mount('/content/drive')"
      ],
      "metadata": {
        "id": "VbHQ8qwb4fXz"
      },
      "execution_count": null,
      "outputs": []
    },
    {
      "cell_type": "markdown",
      "source": [
        "## Data Understanding"
      ],
      "metadata": {
        "id": "d6eMZGkUG4h4"
      }
    },
    {
      "cell_type": "code",
      "execution_count": null,
      "metadata": {
        "id": "rhyxeYwNnFJt",
        "colab": {
          "base_uri": "https://localhost:8080/",
          "height": 300
        },
        "outputId": "2e2c8034-f259-4e63-abc8-dd8aa6249b4e"
      },
      "outputs": [
        {
          "output_type": "execute_result",
          "data": {
            "text/plain": [
              "   accountNumber  customerId  creditLimit  availableMoney  \\\n",
              "0      733493772   733493772         5000         5000.00   \n",
              "1      733493772   733493772         5000         4888.67   \n",
              "2      733493772   733493772         5000         4863.92   \n",
              "3      733493772   733493772         5000         4676.52   \n",
              "4      733493772   733493772         5000         4449.18   \n",
              "\n",
              "   transactionDateTime  transactionAmount merchantName acqCountry  \\\n",
              "0  2016-01-08T19:04:50             111.33         Lyft         US   \n",
              "1  2016-01-09T22:32:39              24.75         Uber         US   \n",
              "2  2016-01-11T13:36:55             187.40         Lyft         US   \n",
              "3  2016-01-11T22:47:46             227.34         Lyft         US   \n",
              "4  2016-01-16T01:41:11               0.00         Lyft         US   \n",
              "\n",
              "  merchantCountryCode  posEntryMode  ...  isFraud echoBuffer currentBalance  \\\n",
              "0                  US           5.0  ...     True        NaN           0.00   \n",
              "1                  US           9.0  ...    False        NaN         111.33   \n",
              "2                  US           5.0  ...    False        NaN         136.08   \n",
              "3                  US           2.0  ...     True        NaN         323.48   \n",
              "4                  US           2.0  ...    False        NaN         550.82   \n",
              "\n",
              "  merchantCity merchantState  merchantZip  cardPresent  posOnPremises  \\\n",
              "0          NaN           NaN          NaN        False            NaN   \n",
              "1          NaN           NaN          NaN        False            NaN   \n",
              "2          NaN           NaN          NaN        False            NaN   \n",
              "3          NaN           NaN          NaN        False            NaN   \n",
              "4          NaN           NaN          NaN        False            NaN   \n",
              "\n",
              "  recurringAuthInd  expirationDateKeyInMatch  \n",
              "0              NaN                     False  \n",
              "1              NaN                     False  \n",
              "2              NaN                     False  \n",
              "3              NaN                     False  \n",
              "4              NaN                     False  \n",
              "\n",
              "[5 rows x 29 columns]"
            ],
            "text/html": [
              "\n",
              "  <div id=\"df-9def81f5-a792-42c0-9fde-be7237f918ec\">\n",
              "    <div class=\"colab-df-container\">\n",
              "      <div>\n",
              "<style scoped>\n",
              "    .dataframe tbody tr th:only-of-type {\n",
              "        vertical-align: middle;\n",
              "    }\n",
              "\n",
              "    .dataframe tbody tr th {\n",
              "        vertical-align: top;\n",
              "    }\n",
              "\n",
              "    .dataframe thead th {\n",
              "        text-align: right;\n",
              "    }\n",
              "</style>\n",
              "<table border=\"1\" class=\"dataframe\">\n",
              "  <thead>\n",
              "    <tr style=\"text-align: right;\">\n",
              "      <th></th>\n",
              "      <th>accountNumber</th>\n",
              "      <th>customerId</th>\n",
              "      <th>creditLimit</th>\n",
              "      <th>availableMoney</th>\n",
              "      <th>transactionDateTime</th>\n",
              "      <th>transactionAmount</th>\n",
              "      <th>merchantName</th>\n",
              "      <th>acqCountry</th>\n",
              "      <th>merchantCountryCode</th>\n",
              "      <th>posEntryMode</th>\n",
              "      <th>...</th>\n",
              "      <th>isFraud</th>\n",
              "      <th>echoBuffer</th>\n",
              "      <th>currentBalance</th>\n",
              "      <th>merchantCity</th>\n",
              "      <th>merchantState</th>\n",
              "      <th>merchantZip</th>\n",
              "      <th>cardPresent</th>\n",
              "      <th>posOnPremises</th>\n",
              "      <th>recurringAuthInd</th>\n",
              "      <th>expirationDateKeyInMatch</th>\n",
              "    </tr>\n",
              "  </thead>\n",
              "  <tbody>\n",
              "    <tr>\n",
              "      <th>0</th>\n",
              "      <td>733493772</td>\n",
              "      <td>733493772</td>\n",
              "      <td>5000</td>\n",
              "      <td>5000.00</td>\n",
              "      <td>2016-01-08T19:04:50</td>\n",
              "      <td>111.33</td>\n",
              "      <td>Lyft</td>\n",
              "      <td>US</td>\n",
              "      <td>US</td>\n",
              "      <td>5.0</td>\n",
              "      <td>...</td>\n",
              "      <td>True</td>\n",
              "      <td>NaN</td>\n",
              "      <td>0.00</td>\n",
              "      <td>NaN</td>\n",
              "      <td>NaN</td>\n",
              "      <td>NaN</td>\n",
              "      <td>False</td>\n",
              "      <td>NaN</td>\n",
              "      <td>NaN</td>\n",
              "      <td>False</td>\n",
              "    </tr>\n",
              "    <tr>\n",
              "      <th>1</th>\n",
              "      <td>733493772</td>\n",
              "      <td>733493772</td>\n",
              "      <td>5000</td>\n",
              "      <td>4888.67</td>\n",
              "      <td>2016-01-09T22:32:39</td>\n",
              "      <td>24.75</td>\n",
              "      <td>Uber</td>\n",
              "      <td>US</td>\n",
              "      <td>US</td>\n",
              "      <td>9.0</td>\n",
              "      <td>...</td>\n",
              "      <td>False</td>\n",
              "      <td>NaN</td>\n",
              "      <td>111.33</td>\n",
              "      <td>NaN</td>\n",
              "      <td>NaN</td>\n",
              "      <td>NaN</td>\n",
              "      <td>False</td>\n",
              "      <td>NaN</td>\n",
              "      <td>NaN</td>\n",
              "      <td>False</td>\n",
              "    </tr>\n",
              "    <tr>\n",
              "      <th>2</th>\n",
              "      <td>733493772</td>\n",
              "      <td>733493772</td>\n",
              "      <td>5000</td>\n",
              "      <td>4863.92</td>\n",
              "      <td>2016-01-11T13:36:55</td>\n",
              "      <td>187.40</td>\n",
              "      <td>Lyft</td>\n",
              "      <td>US</td>\n",
              "      <td>US</td>\n",
              "      <td>5.0</td>\n",
              "      <td>...</td>\n",
              "      <td>False</td>\n",
              "      <td>NaN</td>\n",
              "      <td>136.08</td>\n",
              "      <td>NaN</td>\n",
              "      <td>NaN</td>\n",
              "      <td>NaN</td>\n",
              "      <td>False</td>\n",
              "      <td>NaN</td>\n",
              "      <td>NaN</td>\n",
              "      <td>False</td>\n",
              "    </tr>\n",
              "    <tr>\n",
              "      <th>3</th>\n",
              "      <td>733493772</td>\n",
              "      <td>733493772</td>\n",
              "      <td>5000</td>\n",
              "      <td>4676.52</td>\n",
              "      <td>2016-01-11T22:47:46</td>\n",
              "      <td>227.34</td>\n",
              "      <td>Lyft</td>\n",
              "      <td>US</td>\n",
              "      <td>US</td>\n",
              "      <td>2.0</td>\n",
              "      <td>...</td>\n",
              "      <td>True</td>\n",
              "      <td>NaN</td>\n",
              "      <td>323.48</td>\n",
              "      <td>NaN</td>\n",
              "      <td>NaN</td>\n",
              "      <td>NaN</td>\n",
              "      <td>False</td>\n",
              "      <td>NaN</td>\n",
              "      <td>NaN</td>\n",
              "      <td>False</td>\n",
              "    </tr>\n",
              "    <tr>\n",
              "      <th>4</th>\n",
              "      <td>733493772</td>\n",
              "      <td>733493772</td>\n",
              "      <td>5000</td>\n",
              "      <td>4449.18</td>\n",
              "      <td>2016-01-16T01:41:11</td>\n",
              "      <td>0.00</td>\n",
              "      <td>Lyft</td>\n",
              "      <td>US</td>\n",
              "      <td>US</td>\n",
              "      <td>2.0</td>\n",
              "      <td>...</td>\n",
              "      <td>False</td>\n",
              "      <td>NaN</td>\n",
              "      <td>550.82</td>\n",
              "      <td>NaN</td>\n",
              "      <td>NaN</td>\n",
              "      <td>NaN</td>\n",
              "      <td>False</td>\n",
              "      <td>NaN</td>\n",
              "      <td>NaN</td>\n",
              "      <td>False</td>\n",
              "    </tr>\n",
              "  </tbody>\n",
              "</table>\n",
              "<p>5 rows × 29 columns</p>\n",
              "</div>\n",
              "      <button class=\"colab-df-convert\" onclick=\"convertToInteractive('df-9def81f5-a792-42c0-9fde-be7237f918ec')\"\n",
              "              title=\"Convert this dataframe to an interactive table.\"\n",
              "              style=\"display:none;\">\n",
              "        \n",
              "  <svg xmlns=\"http://www.w3.org/2000/svg\" height=\"24px\"viewBox=\"0 0 24 24\"\n",
              "       width=\"24px\">\n",
              "    <path d=\"M0 0h24v24H0V0z\" fill=\"none\"/>\n",
              "    <path d=\"M18.56 5.44l.94 2.06.94-2.06 2.06-.94-2.06-.94-.94-2.06-.94 2.06-2.06.94zm-11 1L8.5 8.5l.94-2.06 2.06-.94-2.06-.94L8.5 2.5l-.94 2.06-2.06.94zm10 10l.94 2.06.94-2.06 2.06-.94-2.06-.94-.94-2.06-.94 2.06-2.06.94z\"/><path d=\"M17.41 7.96l-1.37-1.37c-.4-.4-.92-.59-1.43-.59-.52 0-1.04.2-1.43.59L10.3 9.45l-7.72 7.72c-.78.78-.78 2.05 0 2.83L4 21.41c.39.39.9.59 1.41.59.51 0 1.02-.2 1.41-.59l7.78-7.78 2.81-2.81c.8-.78.8-2.07 0-2.86zM5.41 20L4 18.59l7.72-7.72 1.47 1.35L5.41 20z\"/>\n",
              "  </svg>\n",
              "      </button>\n",
              "      \n",
              "  <style>\n",
              "    .colab-df-container {\n",
              "      display:flex;\n",
              "      flex-wrap:wrap;\n",
              "      gap: 12px;\n",
              "    }\n",
              "\n",
              "    .colab-df-convert {\n",
              "      background-color: #E8F0FE;\n",
              "      border: none;\n",
              "      border-radius: 50%;\n",
              "      cursor: pointer;\n",
              "      display: none;\n",
              "      fill: #1967D2;\n",
              "      height: 32px;\n",
              "      padding: 0 0 0 0;\n",
              "      width: 32px;\n",
              "    }\n",
              "\n",
              "    .colab-df-convert:hover {\n",
              "      background-color: #E2EBFA;\n",
              "      box-shadow: 0px 1px 2px rgba(60, 64, 67, 0.3), 0px 1px 3px 1px rgba(60, 64, 67, 0.15);\n",
              "      fill: #174EA6;\n",
              "    }\n",
              "\n",
              "    [theme=dark] .colab-df-convert {\n",
              "      background-color: #3B4455;\n",
              "      fill: #D2E3FC;\n",
              "    }\n",
              "\n",
              "    [theme=dark] .colab-df-convert:hover {\n",
              "      background-color: #434B5C;\n",
              "      box-shadow: 0px 1px 3px 1px rgba(0, 0, 0, 0.15);\n",
              "      filter: drop-shadow(0px 1px 2px rgba(0, 0, 0, 0.3));\n",
              "      fill: #FFFFFF;\n",
              "    }\n",
              "  </style>\n",
              "\n",
              "      <script>\n",
              "        const buttonEl =\n",
              "          document.querySelector('#df-9def81f5-a792-42c0-9fde-be7237f918ec button.colab-df-convert');\n",
              "        buttonEl.style.display =\n",
              "          google.colab.kernel.accessAllowed ? 'block' : 'none';\n",
              "\n",
              "        async function convertToInteractive(key) {\n",
              "          const element = document.querySelector('#df-9def81f5-a792-42c0-9fde-be7237f918ec');\n",
              "          const dataTable =\n",
              "            await google.colab.kernel.invokeFunction('convertToInteractive',\n",
              "                                                     [key], {});\n",
              "          if (!dataTable) return;\n",
              "\n",
              "          const docLinkHtml = 'Like what you see? Visit the ' +\n",
              "            '<a target=\"_blank\" href=https://colab.research.google.com/notebooks/data_table.ipynb>data table notebook</a>'\n",
              "            + ' to learn more about interactive tables.';\n",
              "          element.innerHTML = '';\n",
              "          dataTable['output_type'] = 'display_data';\n",
              "          await google.colab.output.renderOutput(dataTable, element);\n",
              "          const docLink = document.createElement('div');\n",
              "          docLink.innerHTML = docLinkHtml;\n",
              "          element.appendChild(docLink);\n",
              "        }\n",
              "      </script>\n",
              "    </div>\n",
              "  </div>\n",
              "  "
            ]
          },
          "metadata": {},
          "execution_count": 5
        }
      ],
      "source": [
        "# preview the dataset\n",
        "\n",
        "df.head()"
      ]
    },
    {
      "cell_type": "code",
      "execution_count": null,
      "metadata": {
        "id": "DHh-CF2xnRUe",
        "colab": {
          "base_uri": "https://localhost:8080/"
        },
        "outputId": "09e35939-be07-41a4-9cbc-dab2177831eb"
      },
      "outputs": [
        {
          "output_type": "stream",
          "name": "stdout",
          "text": [
            "<class 'pandas.core.frame.DataFrame'>\n",
            "RangeIndex: 641914 entries, 0 to 641913\n",
            "Data columns (total 29 columns):\n",
            " #   Column                    Non-Null Count   Dtype  \n",
            "---  ------                    --------------   -----  \n",
            " 0   accountNumber             641914 non-null  int64  \n",
            " 1   customerId                641914 non-null  int64  \n",
            " 2   creditLimit               641914 non-null  int64  \n",
            " 3   availableMoney            641914 non-null  float64\n",
            " 4   transactionDateTime       641914 non-null  object \n",
            " 5   transactionAmount         641914 non-null  float64\n",
            " 6   merchantName              641914 non-null  object \n",
            " 7   acqCountry                638001 non-null  object \n",
            " 8   merchantCountryCode       641290 non-null  object \n",
            " 9   posEntryMode              638569 non-null  float64\n",
            " 10  posConditionCode          641627 non-null  float64\n",
            " 11  merchantCategoryCode      641914 non-null  object \n",
            " 12  currentExpDate            641914 non-null  object \n",
            " 13  accountOpenDate           641914 non-null  object \n",
            " 14  dateOfLastAddressChange   641914 non-null  object \n",
            " 15  cardCVV                   641914 non-null  int64  \n",
            " 16  enteredCVV                641914 non-null  int64  \n",
            " 17  cardLast4Digits           641914 non-null  int64  \n",
            " 18  transactionType           641325 non-null  object \n",
            " 19  isFraud                   641914 non-null  bool   \n",
            " 20  echoBuffer                0 non-null       float64\n",
            " 21  currentBalance            641914 non-null  float64\n",
            " 22  merchantCity              0 non-null       float64\n",
            " 23  merchantState             0 non-null       float64\n",
            " 24  merchantZip               0 non-null       float64\n",
            " 25  cardPresent               641914 non-null  bool   \n",
            " 26  posOnPremises             0 non-null       float64\n",
            " 27  recurringAuthInd          0 non-null       float64\n",
            " 28  expirationDateKeyInMatch  641914 non-null  bool   \n",
            "dtypes: bool(3), float64(11), int64(6), object(9)\n",
            "memory usage: 129.2+ MB\n"
          ]
        }
      ],
      "source": [
        "# view summary of the dataset\n",
        "\n",
        "df.info()"
      ]
    },
    {
      "cell_type": "code",
      "source": [
        "# Drop empty column\n",
        "\n",
        "df = df.drop(columns=['echoBuffer','merchantCity','merchantState','merchantZip','posOnPremises',\n",
        "                      'recurringAuthInd'])"
      ],
      "metadata": {
        "id": "BA74FlzYL_8n"
      },
      "execution_count": null,
      "outputs": []
    },
    {
      "cell_type": "code",
      "execution_count": null,
      "metadata": {
        "id": "tdBMR7GkzwlM",
        "colab": {
          "base_uri": "https://localhost:8080/"
        },
        "outputId": "eb0e5afc-7516-48c1-c7e4-f07b0e84bc42"
      },
      "outputs": [
        {
          "output_type": "execute_result",
          "data": {
            "text/plain": [
              "accountNumber                  0\n",
              "customerId                     0\n",
              "creditLimit                    0\n",
              "availableMoney                 0\n",
              "transactionDateTime            0\n",
              "transactionAmount              0\n",
              "merchantName                   0\n",
              "acqCountry                  3913\n",
              "merchantCountryCode          624\n",
              "posEntryMode                3345\n",
              "posConditionCode             287\n",
              "merchantCategoryCode           0\n",
              "currentExpDate                 0\n",
              "accountOpenDate                0\n",
              "dateOfLastAddressChange        0\n",
              "cardCVV                        0\n",
              "enteredCVV                     0\n",
              "cardLast4Digits                0\n",
              "transactionType              589\n",
              "isFraud                        0\n",
              "currentBalance                 0\n",
              "cardPresent                    0\n",
              "expirationDateKeyInMatch       0\n",
              "dtype: int64"
            ]
          },
          "metadata": {},
          "execution_count": 8
        }
      ],
      "source": [
        "# Check missing values\n",
        "\n",
        "df.isnull().sum()"
      ]
    },
    {
      "cell_type": "code",
      "source": [
        "# view dimensions of dataset\n",
        "\n",
        "df.shape"
      ],
      "metadata": {
        "colab": {
          "base_uri": "https://localhost:8080/"
        },
        "id": "KUD9FueOMdIS",
        "outputId": "c07c801b-41ef-445a-c641-98ca4fb79ff4"
      },
      "execution_count": null,
      "outputs": [
        {
          "output_type": "execute_result",
          "data": {
            "text/plain": [
              "(641914, 23)"
            ]
          },
          "metadata": {},
          "execution_count": 9
        }
      ]
    },
    {
      "cell_type": "code",
      "source": [
        "# drop row with null values\n",
        "df = df.dropna()\n",
        " \n",
        "# reset index\n",
        "df = df.reset_index(drop = True)"
      ],
      "metadata": {
        "id": "v0-6JV9qMZW1"
      },
      "execution_count": null,
      "outputs": []
    },
    {
      "cell_type": "code",
      "execution_count": null,
      "metadata": {
        "id": "y1uxu9zjz8ls",
        "colab": {
          "base_uri": "https://localhost:8080/"
        },
        "outputId": "d848442a-cdbc-4587-b2ac-cea980a740d6"
      },
      "outputs": [
        {
          "output_type": "execute_result",
          "data": {
            "text/plain": [
              "accountNumber               0\n",
              "customerId                  0\n",
              "creditLimit                 0\n",
              "availableMoney              0\n",
              "transactionDateTime         0\n",
              "transactionAmount           0\n",
              "merchantName                0\n",
              "acqCountry                  0\n",
              "merchantCountryCode         0\n",
              "posEntryMode                0\n",
              "posConditionCode            0\n",
              "merchantCategoryCode        0\n",
              "currentExpDate              0\n",
              "accountOpenDate             0\n",
              "dateOfLastAddressChange     0\n",
              "cardCVV                     0\n",
              "enteredCVV                  0\n",
              "cardLast4Digits             0\n",
              "transactionType             0\n",
              "isFraud                     0\n",
              "currentBalance              0\n",
              "cardPresent                 0\n",
              "expirationDateKeyInMatch    0\n",
              "dtype: int64"
            ]
          },
          "metadata": {},
          "execution_count": 11
        }
      ],
      "source": [
        "# Check missing values\n",
        "\n",
        "df.isnull().sum()"
      ]
    },
    {
      "cell_type": "markdown",
      "metadata": {
        "id": "XUrtt0_EoL0U"
      },
      "source": [
        "Explore Categorical Variables"
      ]
    },
    {
      "cell_type": "code",
      "execution_count": null,
      "metadata": {
        "id": "q_REv1DHnu2r",
        "colab": {
          "base_uri": "https://localhost:8080/"
        },
        "outputId": "1230c383-3402-4aaa-c5ac-99378f1baddf"
      },
      "outputs": [
        {
          "output_type": "stream",
          "name": "stdout",
          "text": [
            "9 categorical variables\n",
            "\n"
          ]
        }
      ],
      "source": [
        "# Find categorical variables\n",
        "\n",
        "categorical = [var for var in df.columns if df[var].dtype=='object']\n",
        "\n",
        "print('{} categorical variables\\n'.format(len(categorical)))"
      ]
    },
    {
      "cell_type": "code",
      "execution_count": null,
      "metadata": {
        "id": "f0Tr3PRKoPyR",
        "colab": {
          "base_uri": "https://localhost:8080/"
        },
        "outputId": "8750eeb6-6a80-486c-d1a4-47f35e9843d6"
      },
      "outputs": [
        {
          "output_type": "stream",
          "name": "stdout",
          "text": [
            "The categorical variables are : ['transactionDateTime', 'merchantName', 'acqCountry', 'merchantCountryCode', 'merchantCategoryCode', 'currentExpDate', 'accountOpenDate', 'dateOfLastAddressChange', 'transactionType']\n"
          ]
        }
      ],
      "source": [
        "print('The categorical variables are :', categorical)"
      ]
    },
    {
      "cell_type": "code",
      "execution_count": null,
      "metadata": {
        "id": "owZm0zalo2JY",
        "colab": {
          "base_uri": "https://localhost:8080/"
        },
        "outputId": "fa480e65-cb8f-4f00-f654-4f6cdd2a4552"
      },
      "outputs": [
        {
          "output_type": "stream",
          "name": "stdout",
          "text": [
            "3 boolean variables\n",
            "\n"
          ]
        }
      ],
      "source": [
        "# find boolean variables\n",
        "\n",
        "boolean = [var for var in df.columns if df[var].dtype=='bool']\n",
        "\n",
        "print('{} boolean variables\\n'.format(len(boolean)))"
      ]
    },
    {
      "cell_type": "code",
      "execution_count": null,
      "metadata": {
        "id": "9jnqUc8JpM70",
        "colab": {
          "base_uri": "https://localhost:8080/"
        },
        "outputId": "6988649b-082d-4c16-ba0d-299bd43329ea"
      },
      "outputs": [
        {
          "output_type": "stream",
          "name": "stdout",
          "text": [
            "The boolean variables are : ['isFraud', 'cardPresent', 'expirationDateKeyInMatch']\n"
          ]
        }
      ],
      "source": [
        "print('The boolean variables are :', boolean)"
      ]
    },
    {
      "cell_type": "code",
      "execution_count": null,
      "metadata": {
        "id": "x0o9VWM3pYhp",
        "colab": {
          "base_uri": "https://localhost:8080/"
        },
        "outputId": "77bd0ca0-52d9-40e6-8da2-7e89bb3ce13a"
      },
      "outputs": [
        {
          "output_type": "stream",
          "name": "stdout",
          "text": [
            "transactionDateTime  contains  627556  labels\n",
            "merchantName  contains  2491  labels\n",
            "acqCountry  contains  4  labels\n",
            "merchantCountryCode  contains  4  labels\n",
            "merchantCategoryCode  contains  19  labels\n",
            "currentExpDate  contains  165  labels\n",
            "accountOpenDate  contains  1826  labels\n",
            "dateOfLastAddressChange  contains  2186  labels\n",
            "transactionType  contains  3  labels\n"
          ]
        }
      ],
      "source": [
        "# View the number of labels for each categorical variable\n",
        "\n",
        "for var in categorical:\n",
        "    print(var, ' contains ', len(df[var].unique()), ' labels')"
      ]
    },
    {
      "cell_type": "markdown",
      "source": [
        "Summary of categorical variables\n",
        "\n",
        "* There are a total of 12 variables.\n",
        "* There are 5 categorical variables (merchantName, acqCountry, merchantCountryCode, merchantCategoryCode, and transactionType).\n",
        "* There are 4 date variables (transactionDateTime, currentExpDate, accountOpenDate, and dateOfLastAddressChange).\n",
        "* There are 3 binary variables (isFraud, cardPresent, and expirationDateKeyInMatch.\n",
        "* isFraud is the target variable.\n",
        "\n",
        "\n"
      ],
      "metadata": {
        "id": "RZO1qaxDI6se"
      }
    },
    {
      "cell_type": "markdown",
      "metadata": {
        "id": "0Vg9x7ToyzPE"
      },
      "source": [
        "Explore Numerical Variables"
      ]
    },
    {
      "cell_type": "code",
      "execution_count": null,
      "metadata": {
        "id": "Bp70XnzByeZa",
        "colab": {
          "base_uri": "https://localhost:8080/"
        },
        "outputId": "ee43bf59-7f57-4c62-a3d6-dd741e9ea52f"
      },
      "outputs": [
        {
          "output_type": "stream",
          "name": "stdout",
          "text": [
            "11 numerical variables\n",
            "\n"
          ]
        }
      ],
      "source": [
        "# find numerical variables\n",
        "\n",
        "numerical = [var for var in df.columns if df[var].dtype=='int64' or df[var].dtype=='float64']\n",
        "\n",
        "print('{} numerical variables\\n'.format(len(numerical)))"
      ]
    },
    {
      "cell_type": "code",
      "execution_count": null,
      "metadata": {
        "id": "s2CGTcJky_-M",
        "colab": {
          "base_uri": "https://localhost:8080/",
          "height": 270
        },
        "outputId": "ae696b86-ee2f-4f2d-9353-b2733feb3dc1"
      },
      "outputs": [
        {
          "output_type": "execute_result",
          "data": {
            "text/plain": [
              "   accountNumber  customerId  creditLimit  availableMoney  transactionAmount  \\\n",
              "0      733493772   733493772         5000         5000.00             111.33   \n",
              "1      733493772   733493772         5000         4888.67              24.75   \n",
              "2      733493772   733493772         5000         4863.92             187.40   \n",
              "3      733493772   733493772         5000         4676.52             227.34   \n",
              "4      733493772   733493772         5000         4449.18               0.00   \n",
              "\n",
              "   posEntryMode  posConditionCode  cardCVV  enteredCVV  cardLast4Digits  \\\n",
              "0           5.0               1.0      492         492             9184   \n",
              "1           9.0               1.0      492         492             9184   \n",
              "2           5.0               1.0      492         492             9184   \n",
              "3           2.0               1.0      492         492             9184   \n",
              "4           2.0               1.0      492         492             9184   \n",
              "\n",
              "   currentBalance  \n",
              "0            0.00  \n",
              "1          111.33  \n",
              "2          136.08  \n",
              "3          323.48  \n",
              "4          550.82  "
            ],
            "text/html": [
              "\n",
              "  <div id=\"df-18c12304-7bbd-4ea3-a2bb-6897668dfe9a\">\n",
              "    <div class=\"colab-df-container\">\n",
              "      <div>\n",
              "<style scoped>\n",
              "    .dataframe tbody tr th:only-of-type {\n",
              "        vertical-align: middle;\n",
              "    }\n",
              "\n",
              "    .dataframe tbody tr th {\n",
              "        vertical-align: top;\n",
              "    }\n",
              "\n",
              "    .dataframe thead th {\n",
              "        text-align: right;\n",
              "    }\n",
              "</style>\n",
              "<table border=\"1\" class=\"dataframe\">\n",
              "  <thead>\n",
              "    <tr style=\"text-align: right;\">\n",
              "      <th></th>\n",
              "      <th>accountNumber</th>\n",
              "      <th>customerId</th>\n",
              "      <th>creditLimit</th>\n",
              "      <th>availableMoney</th>\n",
              "      <th>transactionAmount</th>\n",
              "      <th>posEntryMode</th>\n",
              "      <th>posConditionCode</th>\n",
              "      <th>cardCVV</th>\n",
              "      <th>enteredCVV</th>\n",
              "      <th>cardLast4Digits</th>\n",
              "      <th>currentBalance</th>\n",
              "    </tr>\n",
              "  </thead>\n",
              "  <tbody>\n",
              "    <tr>\n",
              "      <th>0</th>\n",
              "      <td>733493772</td>\n",
              "      <td>733493772</td>\n",
              "      <td>5000</td>\n",
              "      <td>5000.00</td>\n",
              "      <td>111.33</td>\n",
              "      <td>5.0</td>\n",
              "      <td>1.0</td>\n",
              "      <td>492</td>\n",
              "      <td>492</td>\n",
              "      <td>9184</td>\n",
              "      <td>0.00</td>\n",
              "    </tr>\n",
              "    <tr>\n",
              "      <th>1</th>\n",
              "      <td>733493772</td>\n",
              "      <td>733493772</td>\n",
              "      <td>5000</td>\n",
              "      <td>4888.67</td>\n",
              "      <td>24.75</td>\n",
              "      <td>9.0</td>\n",
              "      <td>1.0</td>\n",
              "      <td>492</td>\n",
              "      <td>492</td>\n",
              "      <td>9184</td>\n",
              "      <td>111.33</td>\n",
              "    </tr>\n",
              "    <tr>\n",
              "      <th>2</th>\n",
              "      <td>733493772</td>\n",
              "      <td>733493772</td>\n",
              "      <td>5000</td>\n",
              "      <td>4863.92</td>\n",
              "      <td>187.40</td>\n",
              "      <td>5.0</td>\n",
              "      <td>1.0</td>\n",
              "      <td>492</td>\n",
              "      <td>492</td>\n",
              "      <td>9184</td>\n",
              "      <td>136.08</td>\n",
              "    </tr>\n",
              "    <tr>\n",
              "      <th>3</th>\n",
              "      <td>733493772</td>\n",
              "      <td>733493772</td>\n",
              "      <td>5000</td>\n",
              "      <td>4676.52</td>\n",
              "      <td>227.34</td>\n",
              "      <td>2.0</td>\n",
              "      <td>1.0</td>\n",
              "      <td>492</td>\n",
              "      <td>492</td>\n",
              "      <td>9184</td>\n",
              "      <td>323.48</td>\n",
              "    </tr>\n",
              "    <tr>\n",
              "      <th>4</th>\n",
              "      <td>733493772</td>\n",
              "      <td>733493772</td>\n",
              "      <td>5000</td>\n",
              "      <td>4449.18</td>\n",
              "      <td>0.00</td>\n",
              "      <td>2.0</td>\n",
              "      <td>1.0</td>\n",
              "      <td>492</td>\n",
              "      <td>492</td>\n",
              "      <td>9184</td>\n",
              "      <td>550.82</td>\n",
              "    </tr>\n",
              "  </tbody>\n",
              "</table>\n",
              "</div>\n",
              "      <button class=\"colab-df-convert\" onclick=\"convertToInteractive('df-18c12304-7bbd-4ea3-a2bb-6897668dfe9a')\"\n",
              "              title=\"Convert this dataframe to an interactive table.\"\n",
              "              style=\"display:none;\">\n",
              "        \n",
              "  <svg xmlns=\"http://www.w3.org/2000/svg\" height=\"24px\"viewBox=\"0 0 24 24\"\n",
              "       width=\"24px\">\n",
              "    <path d=\"M0 0h24v24H0V0z\" fill=\"none\"/>\n",
              "    <path d=\"M18.56 5.44l.94 2.06.94-2.06 2.06-.94-2.06-.94-.94-2.06-.94 2.06-2.06.94zm-11 1L8.5 8.5l.94-2.06 2.06-.94-2.06-.94L8.5 2.5l-.94 2.06-2.06.94zm10 10l.94 2.06.94-2.06 2.06-.94-2.06-.94-.94-2.06-.94 2.06-2.06.94z\"/><path d=\"M17.41 7.96l-1.37-1.37c-.4-.4-.92-.59-1.43-.59-.52 0-1.04.2-1.43.59L10.3 9.45l-7.72 7.72c-.78.78-.78 2.05 0 2.83L4 21.41c.39.39.9.59 1.41.59.51 0 1.02-.2 1.41-.59l7.78-7.78 2.81-2.81c.8-.78.8-2.07 0-2.86zM5.41 20L4 18.59l7.72-7.72 1.47 1.35L5.41 20z\"/>\n",
              "  </svg>\n",
              "      </button>\n",
              "      \n",
              "  <style>\n",
              "    .colab-df-container {\n",
              "      display:flex;\n",
              "      flex-wrap:wrap;\n",
              "      gap: 12px;\n",
              "    }\n",
              "\n",
              "    .colab-df-convert {\n",
              "      background-color: #E8F0FE;\n",
              "      border: none;\n",
              "      border-radius: 50%;\n",
              "      cursor: pointer;\n",
              "      display: none;\n",
              "      fill: #1967D2;\n",
              "      height: 32px;\n",
              "      padding: 0 0 0 0;\n",
              "      width: 32px;\n",
              "    }\n",
              "\n",
              "    .colab-df-convert:hover {\n",
              "      background-color: #E2EBFA;\n",
              "      box-shadow: 0px 1px 2px rgba(60, 64, 67, 0.3), 0px 1px 3px 1px rgba(60, 64, 67, 0.15);\n",
              "      fill: #174EA6;\n",
              "    }\n",
              "\n",
              "    [theme=dark] .colab-df-convert {\n",
              "      background-color: #3B4455;\n",
              "      fill: #D2E3FC;\n",
              "    }\n",
              "\n",
              "    [theme=dark] .colab-df-convert:hover {\n",
              "      background-color: #434B5C;\n",
              "      box-shadow: 0px 1px 3px 1px rgba(0, 0, 0, 0.15);\n",
              "      filter: drop-shadow(0px 1px 2px rgba(0, 0, 0, 0.3));\n",
              "      fill: #FFFFFF;\n",
              "    }\n",
              "  </style>\n",
              "\n",
              "      <script>\n",
              "        const buttonEl =\n",
              "          document.querySelector('#df-18c12304-7bbd-4ea3-a2bb-6897668dfe9a button.colab-df-convert');\n",
              "        buttonEl.style.display =\n",
              "          google.colab.kernel.accessAllowed ? 'block' : 'none';\n",
              "\n",
              "        async function convertToInteractive(key) {\n",
              "          const element = document.querySelector('#df-18c12304-7bbd-4ea3-a2bb-6897668dfe9a');\n",
              "          const dataTable =\n",
              "            await google.colab.kernel.invokeFunction('convertToInteractive',\n",
              "                                                     [key], {});\n",
              "          if (!dataTable) return;\n",
              "\n",
              "          const docLinkHtml = 'Like what you see? Visit the ' +\n",
              "            '<a target=\"_blank\" href=https://colab.research.google.com/notebooks/data_table.ipynb>data table notebook</a>'\n",
              "            + ' to learn more about interactive tables.';\n",
              "          element.innerHTML = '';\n",
              "          dataTable['output_type'] = 'display_data';\n",
              "          await google.colab.output.renderOutput(dataTable, element);\n",
              "          const docLink = document.createElement('div');\n",
              "          docLink.innerHTML = docLinkHtml;\n",
              "          element.appendChild(docLink);\n",
              "        }\n",
              "      </script>\n",
              "    </div>\n",
              "  </div>\n",
              "  "
            ]
          },
          "metadata": {},
          "execution_count": 18
        }
      ],
      "source": [
        "# view the numerical variables\n",
        "\n",
        "df[numerical].head()"
      ]
    },
    {
      "cell_type": "markdown",
      "source": [
        "Summary of numerical variables\n",
        "\n",
        "* There are 11 numerical variables\n",
        "* These are given by, accountNumber, customerId, creditLimit, availableMoney, transactionAmount, posEntryMode, posConditionCode, cardCVV, enteredCVV, cardLast4Digits, and currentBalance."
      ],
      "metadata": {
        "id": "4YLe9iZ4LTFx"
      }
    },
    {
      "cell_type": "markdown",
      "metadata": {
        "id": "skMKtrqi3dh7"
      },
      "source": [
        "# Exploratory Data Analysis"
      ]
    },
    {
      "cell_type": "markdown",
      "source": [
        "### Visualization"
      ],
      "metadata": {
        "id": "0GRwNDoQL31t"
      }
    },
    {
      "cell_type": "code",
      "source": [
        "sns.countplot(df['creditLimit'].sort_values().astype(str),palette=\"flare\")"
      ],
      "metadata": {
        "id": "3pUlS4GceyaZ",
        "colab": {
          "base_uri": "https://localhost:8080/",
          "height": 296
        },
        "outputId": "008242e5-6a2a-4ce0-d133-878360b1ce0e"
      },
      "execution_count": null,
      "outputs": [
        {
          "output_type": "execute_result",
          "data": {
            "text/plain": [
              "<matplotlib.axes._subplots.AxesSubplot at 0x7f5bd5c202d0>"
            ]
          },
          "metadata": {},
          "execution_count": 19
        },
        {
          "output_type": "display_data",
          "data": {
            "text/plain": [
              "<Figure size 432x288 with 1 Axes>"
            ],
            "image/png": "[encoded data removed]"
          },
          "metadata": {
            "needs_background": "light"
          }
        }
      ]
    },
    {
      "cell_type": "markdown",
      "source": [
        "Most of the Credit Cards have 5000 as their limit, on second number it is 7500."
      ],
      "metadata": {
        "id": "BqGf555QMuwY"
      }
    },
    {
      "cell_type": "code",
      "source": [
        "sns.countplot(df['merchantCountryCode'].sort_values().astype(str),palette=\"flare\")"
      ],
      "metadata": {
        "colab": {
          "base_uri": "https://localhost:8080/",
          "height": 296
        },
        "id": "9N4NVq-zMvtI",
        "outputId": "49475521-49aa-4a3d-ce17-1fd490bae0ba"
      },
      "execution_count": null,
      "outputs": [
        {
          "output_type": "execute_result",
          "data": {
            "text/plain": [
              "<matplotlib.axes._subplots.AxesSubplot at 0x7f5bd5c47350>"
            ]
          },
          "metadata": {},
          "execution_count": 20
        },
        {
          "output_type": "display_data",
          "data": {
            "text/plain": [
              "<Figure size 432x288 with 1 Axes>"
            ],
            "image/png": "[encoded data removed]"
          },
          "metadata": {
            "needs_background": "light"
          }
        }
      ]
    },
    {
      "cell_type": "markdown",
      "source": [
        "4 Types of Merchant Country Code, where US is a dominant entity as shown."
      ],
      "metadata": {
        "id": "NvEtc28VNTfB"
      }
    },
    {
      "cell_type": "code",
      "source": [
        "sns.countplot(df['posEntryMode'].sort_values().astype(str),palette=\"flare\")"
      ],
      "metadata": {
        "colab": {
          "base_uri": "https://localhost:8080/",
          "height": 296
        },
        "id": "8IcMlnyANEls",
        "outputId": "c62a0543-f6a8-4f5b-9b45-53644bf0a423"
      },
      "execution_count": null,
      "outputs": [
        {
          "output_type": "execute_result",
          "data": {
            "text/plain": [
              "<matplotlib.axes._subplots.AxesSubplot at 0x7f5bd2ec9f10>"
            ]
          },
          "metadata": {},
          "execution_count": 21
        },
        {
          "output_type": "display_data",
          "data": {
            "text/plain": [
              "<Figure size 432x288 with 1 Axes>"
            ],
            "image/png": "[encoded data removed]"
          },
          "metadata": {
            "needs_background": "light"
          }
        }
      ]
    },
    {
      "cell_type": "markdown",
      "source": [
        "5 POS Entry Mode where “05”, “09”, and “02” covers most of the values"
      ],
      "metadata": {
        "id": "mJ3BnVytNQLY"
      }
    },
    {
      "cell_type": "code",
      "source": [
        "sns.countplot(df['posConditionCode'].sort_values().astype(str),palette=\"flare\")"
      ],
      "metadata": {
        "colab": {
          "base_uri": "https://localhost:8080/",
          "height": 296
        },
        "id": "UFQ6lKuhNrLj",
        "outputId": "b0aa00a4-94db-4445-9b61-9b13e98013b1"
      },
      "execution_count": null,
      "outputs": [
        {
          "output_type": "execute_result",
          "data": {
            "text/plain": [
              "<matplotlib.axes._subplots.AxesSubplot at 0x7f5bd4590490>"
            ]
          },
          "metadata": {},
          "execution_count": 22
        },
        {
          "output_type": "display_data",
          "data": {
            "text/plain": [
              "<Figure size 432x288 with 1 Axes>"
            ],
            "image/png": "[encoded data removed]"
          },
          "metadata": {
            "needs_background": "light"
          }
        }
      ]
    },
    {
      "cell_type": "markdown",
      "source": [
        "3 POS Condition Mode exists where “01” is dominant among all\n"
      ],
      "metadata": {
        "id": "LpT8GQbQNrm2"
      }
    },
    {
      "cell_type": "code",
      "source": [
        "sns.countplot(df['transactionType'],palette=\"flare\")"
      ],
      "metadata": {
        "colab": {
          "base_uri": "https://localhost:8080/",
          "height": 297
        },
        "id": "yxWCb0hyN4RB",
        "outputId": "6e98a087-8f93-48a7-cf10-f7135a63a86c"
      },
      "execution_count": null,
      "outputs": [
        {
          "output_type": "execute_result",
          "data": {
            "text/plain": [
              "<matplotlib.axes._subplots.AxesSubplot at 0x7f5bd35c49d0>"
            ]
          },
          "metadata": {},
          "execution_count": 23
        },
        {
          "output_type": "display_data",
          "data": {
            "text/plain": [
              "<Figure size 432x288 with 1 Axes>"
            ],
            "image/png": "[encoded data removed]"
          },
          "metadata": {
            "needs_background": "light"
          }
        }
      ]
    },
    {
      "cell_type": "markdown",
      "source": [
        "There are 3 transaction types, where purchase type is the most dominant."
      ],
      "metadata": {
        "id": "mSfdI2bFOAmF"
      }
    },
    {
      "cell_type": "code",
      "source": [
        "sns.countplot(df['cardPresent'].astype(str),palette=\"flare\")"
      ],
      "metadata": {
        "colab": {
          "base_uri": "https://localhost:8080/",
          "height": 298
        },
        "id": "CY0n3eVDOvG1",
        "outputId": "c6bee813-b8ff-4f8c-a3ae-c196c375535e"
      },
      "execution_count": null,
      "outputs": [
        {
          "output_type": "execute_result",
          "data": {
            "text/plain": [
              "<matplotlib.axes._subplots.AxesSubplot at 0x7f5bd4586cd0>"
            ]
          },
          "metadata": {},
          "execution_count": 24
        },
        {
          "output_type": "display_data",
          "data": {
            "text/plain": [
              "<Figure size 432x288 with 1 Axes>"
            ],
            "image/png": "[encoded data removed]"
          },
          "metadata": {
            "needs_background": "light"
          }
        }
      ]
    },
    {
      "cell_type": "markdown",
      "source": [
        "If card is Present during the transaction."
      ],
      "metadata": {
        "id": "zd1AayvsOtt-"
      }
    },
    {
      "cell_type": "code",
      "source": [
        "ax = sns.countplot(df['merchantName'], palette=\"flare\", order=df['merchantName'].sort_values().value_counts().iloc[:10].index)\n",
        "ax.set_xticklabels(ax.get_xticklabels(),rotation = 90)"
      ],
      "metadata": {
        "colab": {
          "base_uri": "https://localhost:8080/",
          "height": 507
        },
        "id": "_EwXLlq5PXcj",
        "outputId": "e8219622-00a1-4605-bee0-dcff496b854e"
      },
      "execution_count": null,
      "outputs": [
        {
          "output_type": "execute_result",
          "data": {
            "text/plain": [
              "[Text(0, 0, 'Lyft'),\n",
              " Text(0, 0, 'Uber'),\n",
              " Text(0, 0, 'gap.com'),\n",
              " Text(0, 0, 'target.com'),\n",
              " Text(0, 0, 'apple.com'),\n",
              " Text(0, 0, 'alibaba.com'),\n",
              " Text(0, 0, 'staples.com'),\n",
              " Text(0, 0, 'amazon.com'),\n",
              " Text(0, 0, 'ebay.com'),\n",
              " Text(0, 0, 'oldnavy.com')]"
            ]
          },
          "metadata": {},
          "execution_count": 25
        },
        {
          "output_type": "display_data",
          "data": {
            "text/plain": [
              "<Figure size 432x288 with 1 Axes>"
            ],
            "image/png": "[encoded data removed]"
          },
          "metadata": {
            "needs_background": "light"
          }
        }
      ]
    },
    {
      "cell_type": "markdown",
      "source": [
        "Top 10 Merchant by count"
      ],
      "metadata": {
        "id": "RfJ8OIZcPa96"
      }
    },
    {
      "cell_type": "code",
      "source": [
        "ax = sns.countplot(df['merchantCategoryCode'], palette=\"flare\", order=df['merchantCategoryCode'].sort_values().value_counts().iloc[:10].index)\n",
        "ax.set_xticklabels(ax.get_xticklabels(),rotation = 90)"
      ],
      "metadata": {
        "colab": {
          "base_uri": "https://localhost:8080/",
          "height": 515
        },
        "id": "_cN4BXMMPd-Q",
        "outputId": "5ec0a9df-31e2-401b-e207-f58b6ae87638"
      },
      "execution_count": null,
      "outputs": [
        {
          "output_type": "execute_result",
          "data": {
            "text/plain": [
              "[Text(0, 0, 'online_retail'),\n",
              " Text(0, 0, 'fastfood'),\n",
              " Text(0, 0, 'entertainment'),\n",
              " Text(0, 0, 'food'),\n",
              " Text(0, 0, 'rideshare'),\n",
              " Text(0, 0, 'online_gifts'),\n",
              " Text(0, 0, 'hotels'),\n",
              " Text(0, 0, 'fuel'),\n",
              " Text(0, 0, 'subscriptions'),\n",
              " Text(0, 0, 'personal care')]"
            ]
          },
          "metadata": {},
          "execution_count": 26
        },
        {
          "output_type": "display_data",
          "data": {
            "text/plain": [
              "<Figure size 432x288 with 1 Axes>"
            ],
            "image/png": "[encoded data removed]"
          },
          "metadata": {
            "needs_background": "light"
          }
        }
      ]
    },
    {
      "cell_type": "markdown",
      "source": [
        "Top 10 Category"
      ],
      "metadata": {
        "id": "0YAW_03XPiUq"
      }
    },
    {
      "cell_type": "markdown",
      "source": [
        "Histogram numerical variables"
      ],
      "metadata": {
        "id": "pOKgbGQYP9Y6"
      }
    },
    {
      "cell_type": "code",
      "source": [
        "plt.figure(figsize=(15,10))\n",
        "\n",
        "plt.subplot(2, 2, 1)\n",
        "fig = sns.histplot(df['creditLimit'],bins=10)\n",
        "fig.set_xlabel('creditLimit')\n",
        "fig.set_ylabel('Count')\n",
        "\n",
        "plt.subplot(2, 2, 2)\n",
        "fig = sns.histplot(df['availableMoney'],bins=10)\n",
        "fig.set_xlabel('availableMoney')\n",
        "fig.set_ylabel('Count')\n",
        "\n",
        "plt.subplot(2, 2, 3)\n",
        "fig = sns.histplot(df['transactionAmount'],bins=10)\n",
        "fig.set_xlabel('transactionAmount')\n",
        "fig.set_ylabel('Count')\n",
        "\n",
        "plt.subplot(2, 2, 4)\n",
        "fig = sns.histplot(df['currentBalance'],bins=10)\n",
        "fig.set_xlabel('currentBalance')\n",
        "fig.set_ylabel('Count')"
      ],
      "metadata": {
        "colab": {
          "base_uri": "https://localhost:8080/",
          "height": 623
        },
        "id": "OeOzhTU4P84g",
        "outputId": "78a05785-d914-4013-b38e-053862b8ed95"
      },
      "execution_count": null,
      "outputs": [
        {
          "output_type": "execute_result",
          "data": {
            "text/plain": [
              "Text(0, 0.5, 'Count')"
            ]
          },
          "metadata": {},
          "execution_count": 27
        },
        {
          "output_type": "display_data",
          "data": {
            "text/plain": [
              "<Figure size 1080x720 with 4 Axes>"
            ],
            "image/png": "[encoded data removed]"
          },
          "metadata": {
            "needs_background": "light"
          }
        }
      ]
    },
    {
      "cell_type": "markdown",
      "source": [
        "These Numerical Atrributes are Right Skewed"
      ],
      "metadata": {
        "id": "I-nkaoVnQdNp"
      }
    },
    {
      "cell_type": "markdown",
      "source": [
        "Boxplot numerical variables"
      ],
      "metadata": {
        "id": "rOkDSm2GQL6Z"
      }
    },
    {
      "cell_type": "code",
      "source": [
        "# Box Plots help analyzing the Outliers in the datasets and the skewness\n",
        "\n",
        "plt.figure(figsize=(15,10))\n",
        "\n",
        "\n",
        "plt.subplot(2, 4, 1)\n",
        "fig = sns.boxplot(data=df['creditLimit'],palette=\"flare\")\n",
        "fig.set_title('creditLimit')\n",
        "\n",
        "plt.subplot(2, 4, 2)\n",
        "fig = sns.boxplot(data=df['availableMoney'],palette=\"flare\")\n",
        "fig.set_title('availableMoney')\n",
        "\n",
        "plt.subplot(2, 4, 3)\n",
        "fig = sns.boxplot(data=df['transactionAmount'],palette=\"flare\")\n",
        "fig.set_title('transactionAmount')\n",
        "\n",
        "plt.subplot(2, 4, 4)\n",
        "fig = sns.boxplot(data=df['currentBalance'],palette=\"flare\")\n",
        "fig.set_title('currentBalance')"
      ],
      "metadata": {
        "colab": {
          "base_uri": "https://localhost:8080/",
          "height": 328
        },
        "id": "IQJVUti2QLjH",
        "outputId": "9f8f251a-ecc8-4134-a8f2-a6349d441710"
      },
      "execution_count": null,
      "outputs": [
        {
          "output_type": "execute_result",
          "data": {
            "text/plain": [
              "Text(0.5, 1.0, 'currentBalance')"
            ]
          },
          "metadata": {},
          "execution_count": 28
        },
        {
          "output_type": "display_data",
          "data": {
            "text/plain": [
              "<Figure size 1080x720 with 4 Axes>"
            ],
            "image/png": "[encoded data removed]"
          },
          "metadata": {
            "needs_background": "light"
          }
        }
      ]
    },
    {
      "cell_type": "markdown",
      "source": [
        "Plot Heatmap to see Correlation Matrix between these 4 Numerical Attributes."
      ],
      "metadata": {
        "id": "BFgwoj9hRQaA"
      }
    },
    {
      "cell_type": "code",
      "source": [
        "num_c = ['creditLimit','availableMoney','transactionAmount','currentBalance']\n",
        "\n",
        "plt.figure(figsize=(10,8))\n",
        "sns.heatmap(df[num_c].corr(), annot=True, cmap=plt.cm.Reds)\n",
        "plt.show()"
      ],
      "metadata": {
        "colab": {
          "base_uri": "https://localhost:8080/",
          "height": 487
        },
        "id": "D1hxkqs9QvYU",
        "outputId": "166b76b4-bc12-4e21-c125-b3aaced5d20b"
      },
      "execution_count": null,
      "outputs": [
        {
          "output_type": "display_data",
          "data": {
            "text/plain": [
              "<Figure size 720x576 with 2 Axes>"
            ],
            "image/png": "[encoded data removed]"
          },
          "metadata": {
            "needs_background": "light"
          }
        }
      ]
    },
    {
      "cell_type": "markdown",
      "source": [
        "## Data Wrangling"
      ],
      "metadata": {
        "id": "xGMezBu-Hp8F"
      }
    },
    {
      "cell_type": "code",
      "source": [
        "df.info()"
      ],
      "metadata": {
        "colab": {
          "base_uri": "https://localhost:8080/"
        },
        "id": "f9BZY15GHrTS",
        "outputId": "7e313bf8-990b-43cc-b5ee-034a680d3005"
      },
      "execution_count": null,
      "outputs": [
        {
          "output_type": "stream",
          "name": "stdout",
          "text": [
            "<class 'pandas.core.frame.DataFrame'>\n",
            "RangeIndex: 633846 entries, 0 to 633845\n",
            "Data columns (total 23 columns):\n",
            " #   Column                    Non-Null Count   Dtype  \n",
            "---  ------                    --------------   -----  \n",
            " 0   accountNumber             633846 non-null  int64  \n",
            " 1   customerId                633846 non-null  int64  \n",
            " 2   creditLimit               633846 non-null  int64  \n",
            " 3   availableMoney            633846 non-null  float64\n",
            " 4   transactionDateTime       633846 non-null  object \n",
            " 5   transactionAmount         633846 non-null  float64\n",
            " 6   merchantName              633846 non-null  object \n",
            " 7   acqCountry                633846 non-null  object \n",
            " 8   merchantCountryCode       633846 non-null  object \n",
            " 9   posEntryMode              633846 non-null  float64\n",
            " 10  posConditionCode          633846 non-null  float64\n",
            " 11  merchantCategoryCode      633846 non-null  object \n",
            " 12  currentExpDate            633846 non-null  object \n",
            " 13  accountOpenDate           633846 non-null  object \n",
            " 14  dateOfLastAddressChange   633846 non-null  object \n",
            " 15  cardCVV                   633846 non-null  int64  \n",
            " 16  enteredCVV                633846 non-null  int64  \n",
            " 17  cardLast4Digits           633846 non-null  int64  \n",
            " 18  transactionType           633846 non-null  object \n",
            " 19  isFraud                   633846 non-null  bool   \n",
            " 20  currentBalance            633846 non-null  float64\n",
            " 21  cardPresent               633846 non-null  bool   \n",
            " 22  expirationDateKeyInMatch  633846 non-null  bool   \n",
            "dtypes: bool(3), float64(5), int64(6), object(9)\n",
            "memory usage: 98.5+ MB\n"
          ]
        }
      ]
    },
    {
      "cell_type": "code",
      "source": [
        "# Drop 3 date column and merchantName\n",
        "\n",
        "df = df.drop(columns=['currentExpDate','accountOpenDate','dateOfLastAddressChange','merchantName'])"
      ],
      "metadata": {
        "id": "xMdNzwWSRf0c"
      },
      "execution_count": null,
      "outputs": []
    },
    {
      "cell_type": "code",
      "source": [
        "df.info()"
      ],
      "metadata": {
        "colab": {
          "base_uri": "https://localhost:8080/"
        },
        "id": "h1At8MLVRn4h",
        "outputId": "ef29a003-31cd-4182-e5ad-d8823fbe4c63"
      },
      "execution_count": null,
      "outputs": [
        {
          "output_type": "stream",
          "name": "stdout",
          "text": [
            "<class 'pandas.core.frame.DataFrame'>\n",
            "RangeIndex: 633846 entries, 0 to 633845\n",
            "Data columns (total 19 columns):\n",
            " #   Column                    Non-Null Count   Dtype  \n",
            "---  ------                    --------------   -----  \n",
            " 0   accountNumber             633846 non-null  int64  \n",
            " 1   customerId                633846 non-null  int64  \n",
            " 2   creditLimit               633846 non-null  int64  \n",
            " 3   availableMoney            633846 non-null  float64\n",
            " 4   transactionDateTime       633846 non-null  object \n",
            " 5   transactionAmount         633846 non-null  float64\n",
            " 6   acqCountry                633846 non-null  object \n",
            " 7   merchantCountryCode       633846 non-null  object \n",
            " 8   posEntryMode              633846 non-null  float64\n",
            " 9   posConditionCode          633846 non-null  float64\n",
            " 10  merchantCategoryCode      633846 non-null  object \n",
            " 11  cardCVV                   633846 non-null  int64  \n",
            " 12  enteredCVV                633846 non-null  int64  \n",
            " 13  cardLast4Digits           633846 non-null  int64  \n",
            " 14  transactionType           633846 non-null  object \n",
            " 15  isFraud                   633846 non-null  bool   \n",
            " 16  currentBalance            633846 non-null  float64\n",
            " 17  cardPresent               633846 non-null  bool   \n",
            " 18  expirationDateKeyInMatch  633846 non-null  bool   \n",
            "dtypes: bool(3), float64(5), int64(6), object(5)\n",
            "memory usage: 79.2+ MB\n"
          ]
        }
      ]
    },
    {
      "cell_type": "markdown",
      "source": [
        "Matched CVV"
      ],
      "metadata": {
        "id": "zOLp-eo7UQaz"
      }
    },
    {
      "cell_type": "code",
      "source": [
        "# Make new column named 'matchedCVV' with the values are if cardCVV is equal to enteredCVV\n",
        "\n",
        "df['matchedCVV'] = df['cardCVV'].eq(df['enteredCVV'])"
      ],
      "metadata": {
        "id": "aCFBmezTSsZq"
      },
      "execution_count": null,
      "outputs": []
    },
    {
      "cell_type": "code",
      "source": [
        "df['matchedCVV'].value_counts()"
      ],
      "metadata": {
        "colab": {
          "base_uri": "https://localhost:8080/"
        },
        "id": "q0HzOiOmT7Kw",
        "outputId": "91e22f55-ca1f-4505-cbca-366c03b9f778"
      },
      "execution_count": null,
      "outputs": [
        {
          "output_type": "execute_result",
          "data": {
            "text/plain": [
              "True     627976\n",
              "False      5870\n",
              "Name: matchedCVV, dtype: int64"
            ]
          },
          "metadata": {},
          "execution_count": 34
        }
      ]
    },
    {
      "cell_type": "code",
      "source": [
        "# Drop cardCVV and enteredCVV\n",
        "\n",
        "df = df.drop(columns=['cardCVV','enteredCVV'])"
      ],
      "metadata": {
        "id": "vonSz8geTtyx"
      },
      "execution_count": null,
      "outputs": []
    },
    {
      "cell_type": "markdown",
      "source": [
        "Transaction Date Time"
      ],
      "metadata": {
        "id": "3W1fYFIRUTbW"
      }
    },
    {
      "cell_type": "code",
      "source": [
        "# convert 'transactionDateTime' into datetime format\n",
        "\n",
        "df['transactionDateTime'] = pd.to_datetime(df['transactionDateTime'])\n",
        "df['transactionDateTime']"
      ],
      "metadata": {
        "colab": {
          "base_uri": "https://localhost:8080/"
        },
        "id": "s11EjZijUDp2",
        "outputId": "1c966d6b-dbf1-4796-fe5f-29547ab1fb79"
      },
      "execution_count": null,
      "outputs": [
        {
          "output_type": "execute_result",
          "data": {
            "text/plain": [
              "0        2016-01-08 19:04:50\n",
              "1        2016-01-09 22:32:39\n",
              "2        2016-01-11 13:36:55\n",
              "3        2016-01-11 22:47:46\n",
              "4        2016-01-16 01:41:11\n",
              "                 ...        \n",
              "633841   2016-12-04 12:29:21\n",
              "633842   2016-12-09 04:20:35\n",
              "633843   2016-12-16 07:58:23\n",
              "633844   2016-12-19 02:30:35\n",
              "633845   2016-12-28 11:14:14\n",
              "Name: transactionDateTime, Length: 633846, dtype: datetime64[ns]"
            ]
          },
          "metadata": {},
          "execution_count": 36
        }
      ]
    },
    {
      "cell_type": "code",
      "source": [
        "# Extracting duplicate transactions\n",
        "Duplicated = (df.sort_values(['transactionDateTime']).groupby(['accountNumber', 'transactionAmount'], sort=False)['transactionDateTime'].diff().dt.total_seconds().lt(600))"
      ],
      "metadata": {
        "id": "P3Q0qHBSWmWm"
      },
      "execution_count": null,
      "outputs": []
    },
    {
      "cell_type": "code",
      "source": [
        "# make new column 'multiSwipe'\n",
        "\n",
        "df['multiSwipe'] = Duplicated"
      ],
      "metadata": {
        "id": "aQp_-TtjWxyj"
      },
      "execution_count": null,
      "outputs": []
    },
    {
      "cell_type": "code",
      "source": [
        "# extract transactionDateTime into year,month,week,day,hour,and minute\n",
        "\n",
        "df['transaction_year'] = df['transactionDateTime'].dt.year\n",
        "df['transaction_month'] = df['transactionDateTime'].dt.month\n",
        "df['transaction_week'] = df['transactionDateTime'].dt.weekday\n",
        "df['transaction_day'] = df['transactionDateTime'].dt.day\n",
        "df['transaction_hour'] = df['transactionDateTime'].dt.hour\n",
        "df['transaction_minute'] = df['transactionDateTime'].dt.minute"
      ],
      "metadata": {
        "id": "80mvdYpuUj8_"
      },
      "execution_count": null,
      "outputs": []
    },
    {
      "cell_type": "code",
      "source": [
        "# drop transactionDateTime\n",
        "\n",
        "df = df.drop(columns=['transactionDateTime'])"
      ],
      "metadata": {
        "id": "_QR0TabvUtjG"
      },
      "execution_count": null,
      "outputs": []
    },
    {
      "cell_type": "code",
      "source": [
        "df.head()"
      ],
      "metadata": {
        "colab": {
          "base_uri": "https://localhost:8080/",
          "height": 300
        },
        "id": "RO-RAauQUwIc",
        "outputId": "a79f9b0f-3f59-46c1-9785-ab73faf4618a"
      },
      "execution_count": null,
      "outputs": [
        {
          "output_type": "execute_result",
          "data": {
            "text/plain": [
              "   accountNumber  customerId  creditLimit  availableMoney  transactionAmount  \\\n",
              "0      733493772   733493772         5000         5000.00             111.33   \n",
              "1      733493772   733493772         5000         4888.67              24.75   \n",
              "2      733493772   733493772         5000         4863.92             187.40   \n",
              "3      733493772   733493772         5000         4676.52             227.34   \n",
              "4      733493772   733493772         5000         4449.18               0.00   \n",
              "\n",
              "  acqCountry merchantCountryCode  posEntryMode  posConditionCode  \\\n",
              "0         US                  US           5.0               1.0   \n",
              "1         US                  US           9.0               1.0   \n",
              "2         US                  US           5.0               1.0   \n",
              "3         US                  US           2.0               1.0   \n",
              "4         US                  US           2.0               1.0   \n",
              "\n",
              "  merchantCategoryCode  ...  cardPresent expirationDateKeyInMatch  matchedCVV  \\\n",
              "0            rideshare  ...        False                    False        True   \n",
              "1            rideshare  ...        False                    False        True   \n",
              "2            rideshare  ...        False                    False        True   \n",
              "3            rideshare  ...        False                    False        True   \n",
              "4            rideshare  ...        False                    False        True   \n",
              "\n",
              "   multiSwipe  transaction_year  transaction_month  transaction_week  \\\n",
              "0       False              2016                  1                 4   \n",
              "1       False              2016                  1                 5   \n",
              "2       False              2016                  1                 0   \n",
              "3       False              2016                  1                 0   \n",
              "4       False              2016                  1                 5   \n",
              "\n",
              "   transaction_day  transaction_hour  transaction_minute  \n",
              "0                8                19                   4  \n",
              "1                9                22                  32  \n",
              "2               11                13                  36  \n",
              "3               11                22                  47  \n",
              "4               16                 1                  41  \n",
              "\n",
              "[5 rows x 24 columns]"
            ],
            "text/html": [
              "\n",
              "  <div id=\"df-495843f3-037c-4b31-a5cd-17e98b25aba6\">\n",
              "    <div class=\"colab-df-container\">\n",
              "      <div>\n",
              "<style scoped>\n",
              "    .dataframe tbody tr th:only-of-type {\n",
              "        vertical-align: middle;\n",
              "    }\n",
              "\n",
              "    .dataframe tbody tr th {\n",
              "        vertical-align: top;\n",
              "    }\n",
              "\n",
              "    .dataframe thead th {\n",
              "        text-align: right;\n",
              "    }\n",
              "</style>\n",
              "<table border=\"1\" class=\"dataframe\">\n",
              "  <thead>\n",
              "    <tr style=\"text-align: right;\">\n",
              "      <th></th>\n",
              "      <th>accountNumber</th>\n",
              "      <th>customerId</th>\n",
              "      <th>creditLimit</th>\n",
              "      <th>availableMoney</th>\n",
              "      <th>transactionAmount</th>\n",
              "      <th>acqCountry</th>\n",
              "      <th>merchantCountryCode</th>\n",
              "      <th>posEntryMode</th>\n",
              "      <th>posConditionCode</th>\n",
              "      <th>merchantCategoryCode</th>\n",
              "      <th>...</th>\n",
              "      <th>cardPresent</th>\n",
              "      <th>expirationDateKeyInMatch</th>\n",
              "      <th>matchedCVV</th>\n",
              "      <th>multiSwipe</th>\n",
              "      <th>transaction_year</th>\n",
              "      <th>transaction_month</th>\n",
              "      <th>transaction_week</th>\n",
              "      <th>transaction_day</th>\n",
              "      <th>transaction_hour</th>\n",
              "      <th>transaction_minute</th>\n",
              "    </tr>\n",
              "  </thead>\n",
              "  <tbody>\n",
              "    <tr>\n",
              "      <th>0</th>\n",
              "      <td>733493772</td>\n",
              "      <td>733493772</td>\n",
              "      <td>5000</td>\n",
              "      <td>5000.00</td>\n",
              "      <td>111.33</td>\n",
              "      <td>US</td>\n",
              "      <td>US</td>\n",
              "      <td>5.0</td>\n",
              "      <td>1.0</td>\n",
              "      <td>rideshare</td>\n",
              "      <td>...</td>\n",
              "      <td>False</td>\n",
              "      <td>False</td>\n",
              "      <td>True</td>\n",
              "      <td>False</td>\n",
              "      <td>2016</td>\n",
              "      <td>1</td>\n",
              "      <td>4</td>\n",
              "      <td>8</td>\n",
              "      <td>19</td>\n",
              "      <td>4</td>\n",
              "    </tr>\n",
              "    <tr>\n",
              "      <th>1</th>\n",
              "      <td>733493772</td>\n",
              "      <td>733493772</td>\n",
              "      <td>5000</td>\n",
              "      <td>4888.67</td>\n",
              "      <td>24.75</td>\n",
              "      <td>US</td>\n",
              "      <td>US</td>\n",
              "      <td>9.0</td>\n",
              "      <td>1.0</td>\n",
              "      <td>rideshare</td>\n",
              "      <td>...</td>\n",
              "      <td>False</td>\n",
              "      <td>False</td>\n",
              "      <td>True</td>\n",
              "      <td>False</td>\n",
              "      <td>2016</td>\n",
              "      <td>1</td>\n",
              "      <td>5</td>\n",
              "      <td>9</td>\n",
              "      <td>22</td>\n",
              "      <td>32</td>\n",
              "    </tr>\n",
              "    <tr>\n",
              "      <th>2</th>\n",
              "      <td>733493772</td>\n",
              "      <td>733493772</td>\n",
              "      <td>5000</td>\n",
              "      <td>4863.92</td>\n",
              "      <td>187.40</td>\n",
              "      <td>US</td>\n",
              "      <td>US</td>\n",
              "      <td>5.0</td>\n",
              "      <td>1.0</td>\n",
              "      <td>rideshare</td>\n",
              "      <td>...</td>\n",
              "      <td>False</td>\n",
              "      <td>False</td>\n",
              "      <td>True</td>\n",
              "      <td>False</td>\n",
              "      <td>2016</td>\n",
              "      <td>1</td>\n",
              "      <td>0</td>\n",
              "      <td>11</td>\n",
              "      <td>13</td>\n",
              "      <td>36</td>\n",
              "    </tr>\n",
              "    <tr>\n",
              "      <th>3</th>\n",
              "      <td>733493772</td>\n",
              "      <td>733493772</td>\n",
              "      <td>5000</td>\n",
              "      <td>4676.52</td>\n",
              "      <td>227.34</td>\n",
              "      <td>US</td>\n",
              "      <td>US</td>\n",
              "      <td>2.0</td>\n",
              "      <td>1.0</td>\n",
              "      <td>rideshare</td>\n",
              "      <td>...</td>\n",
              "      <td>False</td>\n",
              "      <td>False</td>\n",
              "      <td>True</td>\n",
              "      <td>False</td>\n",
              "      <td>2016</td>\n",
              "      <td>1</td>\n",
              "      <td>0</td>\n",
              "      <td>11</td>\n",
              "      <td>22</td>\n",
              "      <td>47</td>\n",
              "    </tr>\n",
              "    <tr>\n",
              "      <th>4</th>\n",
              "      <td>733493772</td>\n",
              "      <td>733493772</td>\n",
              "      <td>5000</td>\n",
              "      <td>4449.18</td>\n",
              "      <td>0.00</td>\n",
              "      <td>US</td>\n",
              "      <td>US</td>\n",
              "      <td>2.0</td>\n",
              "      <td>1.0</td>\n",
              "      <td>rideshare</td>\n",
              "      <td>...</td>\n",
              "      <td>False</td>\n",
              "      <td>False</td>\n",
              "      <td>True</td>\n",
              "      <td>False</td>\n",
              "      <td>2016</td>\n",
              "      <td>1</td>\n",
              "      <td>5</td>\n",
              "      <td>16</td>\n",
              "      <td>1</td>\n",
              "      <td>41</td>\n",
              "    </tr>\n",
              "  </tbody>\n",
              "</table>\n",
              "<p>5 rows × 24 columns</p>\n",
              "</div>\n",
              "      <button class=\"colab-df-convert\" onclick=\"convertToInteractive('df-495843f3-037c-4b31-a5cd-17e98b25aba6')\"\n",
              "              title=\"Convert this dataframe to an interactive table.\"\n",
              "              style=\"display:none;\">\n",
              "        \n",
              "  <svg xmlns=\"http://www.w3.org/2000/svg\" height=\"24px\"viewBox=\"0 0 24 24\"\n",
              "       width=\"24px\">\n",
              "    <path d=\"M0 0h24v24H0V0z\" fill=\"none\"/>\n",
              "    <path d=\"M18.56 5.44l.94 2.06.94-2.06 2.06-.94-2.06-.94-.94-2.06-.94 2.06-2.06.94zm-11 1L8.5 8.5l.94-2.06 2.06-.94-2.06-.94L8.5 2.5l-.94 2.06-2.06.94zm10 10l.94 2.06.94-2.06 2.06-.94-2.06-.94-.94-2.06-.94 2.06-2.06.94z\"/><path d=\"M17.41 7.96l-1.37-1.37c-.4-.4-.92-.59-1.43-.59-.52 0-1.04.2-1.43.59L10.3 9.45l-7.72 7.72c-.78.78-.78 2.05 0 2.83L4 21.41c.39.39.9.59 1.41.59.51 0 1.02-.2 1.41-.59l7.78-7.78 2.81-2.81c.8-.78.8-2.07 0-2.86zM5.41 20L4 18.59l7.72-7.72 1.47 1.35L5.41 20z\"/>\n",
              "  </svg>\n",
              "      </button>\n",
              "      \n",
              "  <style>\n",
              "    .colab-df-container {\n",
              "      display:flex;\n",
              "      flex-wrap:wrap;\n",
              "      gap: 12px;\n",
              "    }\n",
              "\n",
              "    .colab-df-convert {\n",
              "      background-color: #E8F0FE;\n",
              "      border: none;\n",
              "      border-radius: 50%;\n",
              "      cursor: pointer;\n",
              "      display: none;\n",
              "      fill: #1967D2;\n",
              "      height: 32px;\n",
              "      padding: 0 0 0 0;\n",
              "      width: 32px;\n",
              "    }\n",
              "\n",
              "    .colab-df-convert:hover {\n",
              "      background-color: #E2EBFA;\n",
              "      box-shadow: 0px 1px 2px rgba(60, 64, 67, 0.3), 0px 1px 3px 1px rgba(60, 64, 67, 0.15);\n",
              "      fill: #174EA6;\n",
              "    }\n",
              "\n",
              "    [theme=dark] .colab-df-convert {\n",
              "      background-color: #3B4455;\n",
              "      fill: #D2E3FC;\n",
              "    }\n",
              "\n",
              "    [theme=dark] .colab-df-convert:hover {\n",
              "      background-color: #434B5C;\n",
              "      box-shadow: 0px 1px 3px 1px rgba(0, 0, 0, 0.15);\n",
              "      filter: drop-shadow(0px 1px 2px rgba(0, 0, 0, 0.3));\n",
              "      fill: #FFFFFF;\n",
              "    }\n",
              "  </style>\n",
              "\n",
              "      <script>\n",
              "        const buttonEl =\n",
              "          document.querySelector('#df-495843f3-037c-4b31-a5cd-17e98b25aba6 button.colab-df-convert');\n",
              "        buttonEl.style.display =\n",
              "          google.colab.kernel.accessAllowed ? 'block' : 'none';\n",
              "\n",
              "        async function convertToInteractive(key) {\n",
              "          const element = document.querySelector('#df-495843f3-037c-4b31-a5cd-17e98b25aba6');\n",
              "          const dataTable =\n",
              "            await google.colab.kernel.invokeFunction('convertToInteractive',\n",
              "                                                     [key], {});\n",
              "          if (!dataTable) return;\n",
              "\n",
              "          const docLinkHtml = 'Like what you see? Visit the ' +\n",
              "            '<a target=\"_blank\" href=https://colab.research.google.com/notebooks/data_table.ipynb>data table notebook</a>'\n",
              "            + ' to learn more about interactive tables.';\n",
              "          element.innerHTML = '';\n",
              "          dataTable['output_type'] = 'display_data';\n",
              "          await google.colab.output.renderOutput(dataTable, element);\n",
              "          const docLink = document.createElement('div');\n",
              "          docLink.innerHTML = docLinkHtml;\n",
              "          element.appendChild(docLink);\n",
              "        }\n",
              "      </script>\n",
              "    </div>\n",
              "  </div>\n",
              "  "
            ]
          },
          "metadata": {},
          "execution_count": 41
        }
      ]
    },
    {
      "cell_type": "code",
      "source": [
        "# drop accountNumber and customerId\n",
        "\n",
        "df = df.drop(columns=['accountNumber','customerId'])"
      ],
      "metadata": {
        "id": "vWNjtVEbVtw4"
      },
      "execution_count": null,
      "outputs": []
    },
    {
      "cell_type": "code",
      "source": [
        "# show unique values acqCountry dan merchantCountryCode\n",
        "\n",
        "df['acqCountry'].unique()"
      ],
      "metadata": {
        "colab": {
          "base_uri": "https://localhost:8080/"
        },
        "id": "Jry3esBGXui_",
        "outputId": "ddc1b780-4273-4306-df20-fd1412111e04"
      },
      "execution_count": null,
      "outputs": [
        {
          "output_type": "execute_result",
          "data": {
            "text/plain": [
              "array(['US', 'PR', 'MEX', 'CAN'], dtype=object)"
            ]
          },
          "metadata": {},
          "execution_count": 43
        }
      ]
    },
    {
      "cell_type": "code",
      "source": [
        "df['merchantCountryCode'].unique()"
      ],
      "metadata": {
        "colab": {
          "base_uri": "https://localhost:8080/"
        },
        "id": "1bkCjTVOX6GJ",
        "outputId": "53d57c09-244b-48de-8b07-6fdf6d3c060e"
      },
      "execution_count": null,
      "outputs": [
        {
          "output_type": "execute_result",
          "data": {
            "text/plain": [
              "array(['US', 'PR', 'MEX', 'CAN'], dtype=object)"
            ]
          },
          "metadata": {},
          "execution_count": 44
        }
      ]
    },
    {
      "cell_type": "code",
      "source": [
        "# Same label column handling (US,MEX,PR,CAN)\n",
        "\n",
        "cols = []\n",
        "for column in df.merchantCountryCode:\n",
        "    if column == 'MEX':\n",
        "      cols.append(f'MEX_{1}')\n",
        "      continue\n",
        "    elif column == 'US':\n",
        "      cols.append(f'US_{1}')\n",
        "      continue\n",
        "    elif column == 'PR':\n",
        "      cols.append(f'PR_{1}')\n",
        "      continue \n",
        "    elif column == 'CAN':\n",
        "      cols.append(f'CAN_{1}')\n",
        "      continue \n",
        "    cols.append(column)\n",
        "df.merchantCountryCode = cols"
      ],
      "metadata": {
        "id": "L6w6iMojX6wW"
      },
      "execution_count": null,
      "outputs": []
    },
    {
      "cell_type": "code",
      "source": [
        "df['merchantCountryCode'].unique()"
      ],
      "metadata": {
        "colab": {
          "base_uri": "https://localhost:8080/"
        },
        "id": "YKcjugG5YOds",
        "outputId": "654f708d-a4d0-4ec8-9da5-67c6c0f0fa75"
      },
      "execution_count": null,
      "outputs": [
        {
          "output_type": "execute_result",
          "data": {
            "text/plain": [
              "array(['US_1', 'PR_1', 'MEX_1', 'CAN_1'], dtype=object)"
            ]
          },
          "metadata": {},
          "execution_count": 46
        }
      ]
    },
    {
      "cell_type": "code",
      "source": [
        "# Check missing values\n",
        "\n",
        "df.isnull().sum()"
      ],
      "metadata": {
        "colab": {
          "base_uri": "https://localhost:8080/"
        },
        "id": "8r1gMJmYYX6g",
        "outputId": "54aee51c-e2b7-4a8b-965f-b59241a456e7"
      },
      "execution_count": null,
      "outputs": [
        {
          "output_type": "execute_result",
          "data": {
            "text/plain": [
              "creditLimit                 0\n",
              "availableMoney              0\n",
              "transactionAmount           0\n",
              "acqCountry                  0\n",
              "merchantCountryCode         0\n",
              "posEntryMode                0\n",
              "posConditionCode            0\n",
              "merchantCategoryCode        0\n",
              "cardLast4Digits             0\n",
              "transactionType             0\n",
              "isFraud                     0\n",
              "currentBalance              0\n",
              "cardPresent                 0\n",
              "expirationDateKeyInMatch    0\n",
              "matchedCVV                  0\n",
              "multiSwipe                  0\n",
              "transaction_year            0\n",
              "transaction_month           0\n",
              "transaction_week            0\n",
              "transaction_day             0\n",
              "transaction_hour            0\n",
              "transaction_minute          0\n",
              "dtype: int64"
            ]
          },
          "metadata": {},
          "execution_count": 47
        }
      ]
    },
    {
      "cell_type": "code",
      "source": [
        "df.head()"
      ],
      "metadata": {
        "colab": {
          "base_uri": "https://localhost:8080/",
          "height": 300
        },
        "id": "DOQR2mmBYjiT",
        "outputId": "4624050d-feb9-4a2c-fa18-351f3f12714a"
      },
      "execution_count": null,
      "outputs": [
        {
          "output_type": "execute_result",
          "data": {
            "text/plain": [
              "   creditLimit  availableMoney  transactionAmount acqCountry  \\\n",
              "0         5000         5000.00             111.33         US   \n",
              "1         5000         4888.67              24.75         US   \n",
              "2         5000         4863.92             187.40         US   \n",
              "3         5000         4676.52             227.34         US   \n",
              "4         5000         4449.18               0.00         US   \n",
              "\n",
              "  merchantCountryCode  posEntryMode  posConditionCode merchantCategoryCode  \\\n",
              "0                US_1           5.0               1.0            rideshare   \n",
              "1                US_1           9.0               1.0            rideshare   \n",
              "2                US_1           5.0               1.0            rideshare   \n",
              "3                US_1           2.0               1.0            rideshare   \n",
              "4                US_1           2.0               1.0            rideshare   \n",
              "\n",
              "   cardLast4Digits       transactionType  ...  cardPresent  \\\n",
              "0             9184              PURCHASE  ...        False   \n",
              "1             9184              PURCHASE  ...        False   \n",
              "2             9184              PURCHASE  ...        False   \n",
              "3             9184              PURCHASE  ...        False   \n",
              "4             9184  ADDRESS_VERIFICATION  ...        False   \n",
              "\n",
              "   expirationDateKeyInMatch  matchedCVV  multiSwipe  transaction_year  \\\n",
              "0                     False        True       False              2016   \n",
              "1                     False        True       False              2016   \n",
              "2                     False        True       False              2016   \n",
              "3                     False        True       False              2016   \n",
              "4                     False        True       False              2016   \n",
              "\n",
              "   transaction_month  transaction_week  transaction_day  transaction_hour  \\\n",
              "0                  1                 4                8                19   \n",
              "1                  1                 5                9                22   \n",
              "2                  1                 0               11                13   \n",
              "3                  1                 0               11                22   \n",
              "4                  1                 5               16                 1   \n",
              "\n",
              "   transaction_minute  \n",
              "0                   4  \n",
              "1                  32  \n",
              "2                  36  \n",
              "3                  47  \n",
              "4                  41  \n",
              "\n",
              "[5 rows x 22 columns]"
            ],
            "text/html": [
              "\n",
              "  <div id=\"df-eaf517e6-3fc6-4e43-883f-b7fac2a0448a\">\n",
              "    <div class=\"colab-df-container\">\n",
              "      <div>\n",
              "<style scoped>\n",
              "    .dataframe tbody tr th:only-of-type {\n",
              "        vertical-align: middle;\n",
              "    }\n",
              "\n",
              "    .dataframe tbody tr th {\n",
              "        vertical-align: top;\n",
              "    }\n",
              "\n",
              "    .dataframe thead th {\n",
              "        text-align: right;\n",
              "    }\n",
              "</style>\n",
              "<table border=\"1\" class=\"dataframe\">\n",
              "  <thead>\n",
              "    <tr style=\"text-align: right;\">\n",
              "      <th></th>\n",
              "      <th>creditLimit</th>\n",
              "      <th>availableMoney</th>\n",
              "      <th>transactionAmount</th>\n",
              "      <th>acqCountry</th>\n",
              "      <th>merchantCountryCode</th>\n",
              "      <th>posEntryMode</th>\n",
              "      <th>posConditionCode</th>\n",
              "      <th>merchantCategoryCode</th>\n",
              "      <th>cardLast4Digits</th>\n",
              "      <th>transactionType</th>\n",
              "      <th>...</th>\n",
              "      <th>cardPresent</th>\n",
              "      <th>expirationDateKeyInMatch</th>\n",
              "      <th>matchedCVV</th>\n",
              "      <th>multiSwipe</th>\n",
              "      <th>transaction_year</th>\n",
              "      <th>transaction_month</th>\n",
              "      <th>transaction_week</th>\n",
              "      <th>transaction_day</th>\n",
              "      <th>transaction_hour</th>\n",
              "      <th>transaction_minute</th>\n",
              "    </tr>\n",
              "  </thead>\n",
              "  <tbody>\n",
              "    <tr>\n",
              "      <th>0</th>\n",
              "      <td>5000</td>\n",
              "      <td>5000.00</td>\n",
              "      <td>111.33</td>\n",
              "      <td>US</td>\n",
              "      <td>US_1</td>\n",
              "      <td>5.0</td>\n",
              "      <td>1.0</td>\n",
              "      <td>rideshare</td>\n",
              "      <td>9184</td>\n",
              "      <td>PURCHASE</td>\n",
              "      <td>...</td>\n",
              "      <td>False</td>\n",
              "      <td>False</td>\n",
              "      <td>True</td>\n",
              "      <td>False</td>\n",
              "      <td>2016</td>\n",
              "      <td>1</td>\n",
              "      <td>4</td>\n",
              "      <td>8</td>\n",
              "      <td>19</td>\n",
              "      <td>4</td>\n",
              "    </tr>\n",
              "    <tr>\n",
              "      <th>1</th>\n",
              "      <td>5000</td>\n",
              "      <td>4888.67</td>\n",
              "      <td>24.75</td>\n",
              "      <td>US</td>\n",
              "      <td>US_1</td>\n",
              "      <td>9.0</td>\n",
              "      <td>1.0</td>\n",
              "      <td>rideshare</td>\n",
              "      <td>9184</td>\n",
              "      <td>PURCHASE</td>\n",
              "      <td>...</td>\n",
              "      <td>False</td>\n",
              "      <td>False</td>\n",
              "      <td>True</td>\n",
              "      <td>False</td>\n",
              "      <td>2016</td>\n",
              "      <td>1</td>\n",
              "      <td>5</td>\n",
              "      <td>9</td>\n",
              "      <td>22</td>\n",
              "      <td>32</td>\n",
              "    </tr>\n",
              "    <tr>\n",
              "      <th>2</th>\n",
              "      <td>5000</td>\n",
              "      <td>4863.92</td>\n",
              "      <td>187.40</td>\n",
              "      <td>US</td>\n",
              "      <td>US_1</td>\n",
              "      <td>5.0</td>\n",
              "      <td>1.0</td>\n",
              "      <td>rideshare</td>\n",
              "      <td>9184</td>\n",
              "      <td>PURCHASE</td>\n",
              "      <td>...</td>\n",
              "      <td>False</td>\n",
              "      <td>False</td>\n",
              "      <td>True</td>\n",
              "      <td>False</td>\n",
              "      <td>2016</td>\n",
              "      <td>1</td>\n",
              "      <td>0</td>\n",
              "      <td>11</td>\n",
              "      <td>13</td>\n",
              "      <td>36</td>\n",
              "    </tr>\n",
              "    <tr>\n",
              "      <th>3</th>\n",
              "      <td>5000</td>\n",
              "      <td>4676.52</td>\n",
              "      <td>227.34</td>\n",
              "      <td>US</td>\n",
              "      <td>US_1</td>\n",
              "      <td>2.0</td>\n",
              "      <td>1.0</td>\n",
              "      <td>rideshare</td>\n",
              "      <td>9184</td>\n",
              "      <td>PURCHASE</td>\n",
              "      <td>...</td>\n",
              "      <td>False</td>\n",
              "      <td>False</td>\n",
              "      <td>True</td>\n",
              "      <td>False</td>\n",
              "      <td>2016</td>\n",
              "      <td>1</td>\n",
              "      <td>0</td>\n",
              "      <td>11</td>\n",
              "      <td>22</td>\n",
              "      <td>47</td>\n",
              "    </tr>\n",
              "    <tr>\n",
              "      <th>4</th>\n",
              "      <td>5000</td>\n",
              "      <td>4449.18</td>\n",
              "      <td>0.00</td>\n",
              "      <td>US</td>\n",
              "      <td>US_1</td>\n",
              "      <td>2.0</td>\n",
              "      <td>1.0</td>\n",
              "      <td>rideshare</td>\n",
              "      <td>9184</td>\n",
              "      <td>ADDRESS_VERIFICATION</td>\n",
              "      <td>...</td>\n",
              "      <td>False</td>\n",
              "      <td>False</td>\n",
              "      <td>True</td>\n",
              "      <td>False</td>\n",
              "      <td>2016</td>\n",
              "      <td>1</td>\n",
              "      <td>5</td>\n",
              "      <td>16</td>\n",
              "      <td>1</td>\n",
              "      <td>41</td>\n",
              "    </tr>\n",
              "  </tbody>\n",
              "</table>\n",
              "<p>5 rows × 22 columns</p>\n",
              "</div>\n",
              "      <button class=\"colab-df-convert\" onclick=\"convertToInteractive('df-eaf517e6-3fc6-4e43-883f-b7fac2a0448a')\"\n",
              "              title=\"Convert this dataframe to an interactive table.\"\n",
              "              style=\"display:none;\">\n",
              "        \n",
              "  <svg xmlns=\"http://www.w3.org/2000/svg\" height=\"24px\"viewBox=\"0 0 24 24\"\n",
              "       width=\"24px\">\n",
              "    <path d=\"M0 0h24v24H0V0z\" fill=\"none\"/>\n",
              "    <path d=\"M18.56 5.44l.94 2.06.94-2.06 2.06-.94-2.06-.94-.94-2.06-.94 2.06-2.06.94zm-11 1L8.5 8.5l.94-2.06 2.06-.94-2.06-.94L8.5 2.5l-.94 2.06-2.06.94zm10 10l.94 2.06.94-2.06 2.06-.94-2.06-.94-.94-2.06-.94 2.06-2.06.94z\"/><path d=\"M17.41 7.96l-1.37-1.37c-.4-.4-.92-.59-1.43-.59-.52 0-1.04.2-1.43.59L10.3 9.45l-7.72 7.72c-.78.78-.78 2.05 0 2.83L4 21.41c.39.39.9.59 1.41.59.51 0 1.02-.2 1.41-.59l7.78-7.78 2.81-2.81c.8-.78.8-2.07 0-2.86zM5.41 20L4 18.59l7.72-7.72 1.47 1.35L5.41 20z\"/>\n",
              "  </svg>\n",
              "      </button>\n",
              "      \n",
              "  <style>\n",
              "    .colab-df-container {\n",
              "      display:flex;\n",
              "      flex-wrap:wrap;\n",
              "      gap: 12px;\n",
              "    }\n",
              "\n",
              "    .colab-df-convert {\n",
              "      background-color: #E8F0FE;\n",
              "      border: none;\n",
              "      border-radius: 50%;\n",
              "      cursor: pointer;\n",
              "      display: none;\n",
              "      fill: #1967D2;\n",
              "      height: 32px;\n",
              "      padding: 0 0 0 0;\n",
              "      width: 32px;\n",
              "    }\n",
              "\n",
              "    .colab-df-convert:hover {\n",
              "      background-color: #E2EBFA;\n",
              "      box-shadow: 0px 1px 2px rgba(60, 64, 67, 0.3), 0px 1px 3px 1px rgba(60, 64, 67, 0.15);\n",
              "      fill: #174EA6;\n",
              "    }\n",
              "\n",
              "    [theme=dark] .colab-df-convert {\n",
              "      background-color: #3B4455;\n",
              "      fill: #D2E3FC;\n",
              "    }\n",
              "\n",
              "    [theme=dark] .colab-df-convert:hover {\n",
              "      background-color: #434B5C;\n",
              "      box-shadow: 0px 1px 3px 1px rgba(0, 0, 0, 0.15);\n",
              "      filter: drop-shadow(0px 1px 2px rgba(0, 0, 0, 0.3));\n",
              "      fill: #FFFFFF;\n",
              "    }\n",
              "  </style>\n",
              "\n",
              "      <script>\n",
              "        const buttonEl =\n",
              "          document.querySelector('#df-eaf517e6-3fc6-4e43-883f-b7fac2a0448a button.colab-df-convert');\n",
              "        buttonEl.style.display =\n",
              "          google.colab.kernel.accessAllowed ? 'block' : 'none';\n",
              "\n",
              "        async function convertToInteractive(key) {\n",
              "          const element = document.querySelector('#df-eaf517e6-3fc6-4e43-883f-b7fac2a0448a');\n",
              "          const dataTable =\n",
              "            await google.colab.kernel.invokeFunction('convertToInteractive',\n",
              "                                                     [key], {});\n",
              "          if (!dataTable) return;\n",
              "\n",
              "          const docLinkHtml = 'Like what you see? Visit the ' +\n",
              "            '<a target=\"_blank\" href=https://colab.research.google.com/notebooks/data_table.ipynb>data table notebook</a>'\n",
              "            + ' to learn more about interactive tables.';\n",
              "          element.innerHTML = '';\n",
              "          dataTable['output_type'] = 'display_data';\n",
              "          await google.colab.output.renderOutput(dataTable, element);\n",
              "          const docLink = document.createElement('div');\n",
              "          docLink.innerHTML = docLinkHtml;\n",
              "          element.appendChild(docLink);\n",
              "        }\n",
              "      </script>\n",
              "    </div>\n",
              "  </div>\n",
              "  "
            ]
          },
          "metadata": {},
          "execution_count": 48
        }
      ]
    },
    {
      "cell_type": "code",
      "source": [
        "# Convert column 'isFraud','cardPresent','expirationDateKeyInMatch' (Boolean) into str\n",
        "# and convert column 'posEntryMode','posConditionCode' (int) into str\n",
        "\n",
        "cnv_obj = ['posEntryMode','posConditionCode']\n",
        "\n",
        "df[cnv_obj]=df[cnv_obj].astype(str)"
      ],
      "metadata": {
        "id": "5nxyxiKSZNNs"
      },
      "execution_count": null,
      "outputs": []
    },
    {
      "cell_type": "code",
      "source": [
        "# refresh variable boolean\n",
        "\n",
        "boolean = [var for var in df.columns if df[var].dtype=='bool']\n",
        "\n",
        "print('{} boolean variables\\n'.format(len(boolean)))"
      ],
      "metadata": {
        "colab": {
          "base_uri": "https://localhost:8080/"
        },
        "id": "i5SivAzQZj2z",
        "outputId": "6fce8663-24d3-40d8-a60b-df1d87424e4c"
      },
      "execution_count": null,
      "outputs": [
        {
          "output_type": "stream",
          "name": "stdout",
          "text": [
            "5 boolean variables\n",
            "\n"
          ]
        }
      ]
    },
    {
      "cell_type": "code",
      "source": [
        "boolean"
      ],
      "metadata": {
        "colab": {
          "base_uri": "https://localhost:8080/"
        },
        "id": "VrT0jOW0Zvju",
        "outputId": "cec37c03-4a5c-4253-e209-86a4d7b4ed71"
      },
      "execution_count": null,
      "outputs": [
        {
          "output_type": "execute_result",
          "data": {
            "text/plain": [
              "['isFraud',\n",
              " 'cardPresent',\n",
              " 'expirationDateKeyInMatch',\n",
              " 'matchedCVV',\n",
              " 'multiSwipe']"
            ]
          },
          "metadata": {},
          "execution_count": 51
        }
      ]
    },
    {
      "cell_type": "code",
      "source": [
        "le = LabelEncoder()"
      ],
      "metadata": {
        "id": "7ndXyK-2buZd"
      },
      "execution_count": null,
      "outputs": []
    },
    {
      "cell_type": "code",
      "source": [
        "for col in boolean:\n",
        "    df[col]=le.fit_transform(df[col])"
      ],
      "metadata": {
        "id": "WFoBHa2mbxPy"
      },
      "execution_count": null,
      "outputs": []
    },
    {
      "cell_type": "code",
      "source": [
        "df[boolean].head()"
      ],
      "metadata": {
        "colab": {
          "base_uri": "https://localhost:8080/",
          "height": 206
        },
        "id": "E6oHQGgebyPR",
        "outputId": "7cc80bd0-13f2-49ab-95ce-1b51a77ca45e"
      },
      "execution_count": null,
      "outputs": [
        {
          "output_type": "execute_result",
          "data": {
            "text/plain": [
              "   isFraud  cardPresent  expirationDateKeyInMatch  matchedCVV  multiSwipe\n",
              "0        1            0                         0           1           0\n",
              "1        0            0                         0           1           0\n",
              "2        0            0                         0           1           0\n",
              "3        1            0                         0           1           0\n",
              "4        0            0                         0           1           0"
            ],
            "text/html": [
              "\n",
              "  <div id=\"df-31fb8cf7-5ecd-4416-9a69-b2b0689ad337\">\n",
              "    <div class=\"colab-df-container\">\n",
              "      <div>\n",
              "<style scoped>\n",
              "    .dataframe tbody tr th:only-of-type {\n",
              "        vertical-align: middle;\n",
              "    }\n",
              "\n",
              "    .dataframe tbody tr th {\n",
              "        vertical-align: top;\n",
              "    }\n",
              "\n",
              "    .dataframe thead th {\n",
              "        text-align: right;\n",
              "    }\n",
              "</style>\n",
              "<table border=\"1\" class=\"dataframe\">\n",
              "  <thead>\n",
              "    <tr style=\"text-align: right;\">\n",
              "      <th></th>\n",
              "      <th>isFraud</th>\n",
              "      <th>cardPresent</th>\n",
              "      <th>expirationDateKeyInMatch</th>\n",
              "      <th>matchedCVV</th>\n",
              "      <th>multiSwipe</th>\n",
              "    </tr>\n",
              "  </thead>\n",
              "  <tbody>\n",
              "    <tr>\n",
              "      <th>0</th>\n",
              "      <td>1</td>\n",
              "      <td>0</td>\n",
              "      <td>0</td>\n",
              "      <td>1</td>\n",
              "      <td>0</td>\n",
              "    </tr>\n",
              "    <tr>\n",
              "      <th>1</th>\n",
              "      <td>0</td>\n",
              "      <td>0</td>\n",
              "      <td>0</td>\n",
              "      <td>1</td>\n",
              "      <td>0</td>\n",
              "    </tr>\n",
              "    <tr>\n",
              "      <th>2</th>\n",
              "      <td>0</td>\n",
              "      <td>0</td>\n",
              "      <td>0</td>\n",
              "      <td>1</td>\n",
              "      <td>0</td>\n",
              "    </tr>\n",
              "    <tr>\n",
              "      <th>3</th>\n",
              "      <td>1</td>\n",
              "      <td>0</td>\n",
              "      <td>0</td>\n",
              "      <td>1</td>\n",
              "      <td>0</td>\n",
              "    </tr>\n",
              "    <tr>\n",
              "      <th>4</th>\n",
              "      <td>0</td>\n",
              "      <td>0</td>\n",
              "      <td>0</td>\n",
              "      <td>1</td>\n",
              "      <td>0</td>\n",
              "    </tr>\n",
              "  </tbody>\n",
              "</table>\n",
              "</div>\n",
              "      <button class=\"colab-df-convert\" onclick=\"convertToInteractive('df-31fb8cf7-5ecd-4416-9a69-b2b0689ad337')\"\n",
              "              title=\"Convert this dataframe to an interactive table.\"\n",
              "              style=\"display:none;\">\n",
              "        \n",
              "  <svg xmlns=\"http://www.w3.org/2000/svg\" height=\"24px\"viewBox=\"0 0 24 24\"\n",
              "       width=\"24px\">\n",
              "    <path d=\"M0 0h24v24H0V0z\" fill=\"none\"/>\n",
              "    <path d=\"M18.56 5.44l.94 2.06.94-2.06 2.06-.94-2.06-.94-.94-2.06-.94 2.06-2.06.94zm-11 1L8.5 8.5l.94-2.06 2.06-.94-2.06-.94L8.5 2.5l-.94 2.06-2.06.94zm10 10l.94 2.06.94-2.06 2.06-.94-2.06-.94-.94-2.06-.94 2.06-2.06.94z\"/><path d=\"M17.41 7.96l-1.37-1.37c-.4-.4-.92-.59-1.43-.59-.52 0-1.04.2-1.43.59L10.3 9.45l-7.72 7.72c-.78.78-.78 2.05 0 2.83L4 21.41c.39.39.9.59 1.41.59.51 0 1.02-.2 1.41-.59l7.78-7.78 2.81-2.81c.8-.78.8-2.07 0-2.86zM5.41 20L4 18.59l7.72-7.72 1.47 1.35L5.41 20z\"/>\n",
              "  </svg>\n",
              "      </button>\n",
              "      \n",
              "  <style>\n",
              "    .colab-df-container {\n",
              "      display:flex;\n",
              "      flex-wrap:wrap;\n",
              "      gap: 12px;\n",
              "    }\n",
              "\n",
              "    .colab-df-convert {\n",
              "      background-color: #E8F0FE;\n",
              "      border: none;\n",
              "      border-radius: 50%;\n",
              "      cursor: pointer;\n",
              "      display: none;\n",
              "      fill: #1967D2;\n",
              "      height: 32px;\n",
              "      padding: 0 0 0 0;\n",
              "      width: 32px;\n",
              "    }\n",
              "\n",
              "    .colab-df-convert:hover {\n",
              "      background-color: #E2EBFA;\n",
              "      box-shadow: 0px 1px 2px rgba(60, 64, 67, 0.3), 0px 1px 3px 1px rgba(60, 64, 67, 0.15);\n",
              "      fill: #174EA6;\n",
              "    }\n",
              "\n",
              "    [theme=dark] .colab-df-convert {\n",
              "      background-color: #3B4455;\n",
              "      fill: #D2E3FC;\n",
              "    }\n",
              "\n",
              "    [theme=dark] .colab-df-convert:hover {\n",
              "      background-color: #434B5C;\n",
              "      box-shadow: 0px 1px 3px 1px rgba(0, 0, 0, 0.15);\n",
              "      filter: drop-shadow(0px 1px 2px rgba(0, 0, 0, 0.3));\n",
              "      fill: #FFFFFF;\n",
              "    }\n",
              "  </style>\n",
              "\n",
              "      <script>\n",
              "        const buttonEl =\n",
              "          document.querySelector('#df-31fb8cf7-5ecd-4416-9a69-b2b0689ad337 button.colab-df-convert');\n",
              "        buttonEl.style.display =\n",
              "          google.colab.kernel.accessAllowed ? 'block' : 'none';\n",
              "\n",
              "        async function convertToInteractive(key) {\n",
              "          const element = document.querySelector('#df-31fb8cf7-5ecd-4416-9a69-b2b0689ad337');\n",
              "          const dataTable =\n",
              "            await google.colab.kernel.invokeFunction('convertToInteractive',\n",
              "                                                     [key], {});\n",
              "          if (!dataTable) return;\n",
              "\n",
              "          const docLinkHtml = 'Like what you see? Visit the ' +\n",
              "            '<a target=\"_blank\" href=https://colab.research.google.com/notebooks/data_table.ipynb>data table notebook</a>'\n",
              "            + ' to learn more about interactive tables.';\n",
              "          element.innerHTML = '';\n",
              "          dataTable['output_type'] = 'display_data';\n",
              "          await google.colab.output.renderOutput(dataTable, element);\n",
              "          const docLink = document.createElement('div');\n",
              "          docLink.innerHTML = docLinkHtml;\n",
              "          element.appendChild(docLink);\n",
              "        }\n",
              "      </script>\n",
              "    </div>\n",
              "  </div>\n",
              "  "
            ]
          },
          "metadata": {},
          "execution_count": 54
        }
      ]
    },
    {
      "cell_type": "code",
      "source": [
        "# find numerical variables\n",
        "\n",
        "numerical = [var for var in df.columns if df[var].dtype=='int64' or df[var].dtype=='float64']\n",
        "\n",
        "print('{} numerical variables\\n'.format(len(numerical)))"
      ],
      "metadata": {
        "colab": {
          "base_uri": "https://localhost:8080/"
        },
        "id": "m7wIgsF4cvbg",
        "outputId": "3c8ff141-5f54-4c60-8e99-0d36314dca23"
      },
      "execution_count": null,
      "outputs": [
        {
          "output_type": "stream",
          "name": "stdout",
          "text": [
            "16 numerical variables\n",
            "\n"
          ]
        }
      ]
    },
    {
      "cell_type": "code",
      "source": [
        "# Find categorical variables\n",
        "\n",
        "categorical = [var for var in df.columns if df[var].dtype=='object']\n",
        "\n",
        "print('{} categorical variables\\n'.format(len(categorical)))"
      ],
      "metadata": {
        "colab": {
          "base_uri": "https://localhost:8080/"
        },
        "id": "fjKg2ftMbzOm",
        "outputId": "82984075-3e55-4e87-a36e-f27bd42463b3"
      },
      "execution_count": null,
      "outputs": [
        {
          "output_type": "stream",
          "name": "stdout",
          "text": [
            "6 categorical variables\n",
            "\n"
          ]
        }
      ]
    },
    {
      "cell_type": "code",
      "source": [
        "categorical"
      ],
      "metadata": {
        "colab": {
          "base_uri": "https://localhost:8080/"
        },
        "id": "nOk7kiCzcRLJ",
        "outputId": "dc0cf47d-99b7-436c-aef3-3bff458e43cd"
      },
      "execution_count": null,
      "outputs": [
        {
          "output_type": "execute_result",
          "data": {
            "text/plain": [
              "['acqCountry',\n",
              " 'merchantCountryCode',\n",
              " 'posEntryMode',\n",
              " 'posConditionCode',\n",
              " 'merchantCategoryCode',\n",
              " 'transactionType']"
            ]
          },
          "metadata": {},
          "execution_count": 57
        }
      ]
    },
    {
      "cell_type": "code",
      "source": [
        "df = pd.concat([df[numerical],\n",
        "                     pd.get_dummies(df.acqCountry,drop_first=True), \n",
        "                     pd.get_dummies(df.merchantCountryCode,drop_first=True),\n",
        "                     pd.get_dummies(df.posEntryMode,drop_first=True),\n",
        "                     pd.get_dummies(df.posConditionCode,drop_first=True),\n",
        "                     pd.get_dummies(df.merchantCategoryCode,drop_first=True),\n",
        "                     pd.get_dummies(df.transactionType,drop_first=True)], axis=1)"
      ],
      "metadata": {
        "id": "vxwLf_FJcoNq"
      },
      "execution_count": null,
      "outputs": []
    },
    {
      "cell_type": "code",
      "source": [
        "df.head()"
      ],
      "metadata": {
        "colab": {
          "base_uri": "https://localhost:8080/",
          "height": 317
        },
        "id": "40_c5VxrcShe",
        "outputId": "24c538e2-afa8-420f-f077-b2d333b1c77f"
      },
      "execution_count": null,
      "outputs": [
        {
          "output_type": "execute_result",
          "data": {
            "text/plain": [
              "   creditLimit  availableMoney  transactionAmount  cardLast4Digits  isFraud  \\\n",
              "0         5000         5000.00             111.33             9184        1   \n",
              "1         5000         4888.67              24.75             9184        0   \n",
              "2         5000         4863.92             187.40             9184        0   \n",
              "3         5000         4676.52             227.34             9184        1   \n",
              "4         5000         4449.18               0.00             9184        0   \n",
              "\n",
              "   currentBalance  cardPresent  expirationDateKeyInMatch  matchedCVV  \\\n",
              "0            0.00            0                         0           1   \n",
              "1          111.33            0                         0           1   \n",
              "2          136.08            0                         0           1   \n",
              "3          323.48            0                         0           1   \n",
              "4          550.82            0                         0           1   \n",
              "\n",
              "   multiSwipe  ...  hotels  mobileapps  online_gifts  online_retail  \\\n",
              "0           0  ...       0           0             0              0   \n",
              "1           0  ...       0           0             0              0   \n",
              "2           0  ...       0           0             0              0   \n",
              "3           0  ...       0           0             0              0   \n",
              "4           0  ...       0           0             0              0   \n",
              "\n",
              "   online_subscriptions  personal care  rideshare  subscriptions  PURCHASE  \\\n",
              "0                     0              0          1              0         1   \n",
              "1                     0              0          1              0         1   \n",
              "2                     0              0          1              0         1   \n",
              "3                     0              0          1              0         1   \n",
              "4                     0              0          1              0         0   \n",
              "\n",
              "   REVERSAL  \n",
              "0         0  \n",
              "1         0  \n",
              "2         0  \n",
              "3         0  \n",
              "4         0  \n",
              "\n",
              "[5 rows x 48 columns]"
            ],
            "text/html": [
              "\n",
              "  <div id=\"df-e0121f0a-33f8-4970-9326-f59315d91d70\">\n",
              "    <div class=\"colab-df-container\">\n",
              "      <div>\n",
              "<style scoped>\n",
              "    .dataframe tbody tr th:only-of-type {\n",
              "        vertical-align: middle;\n",
              "    }\n",
              "\n",
              "    .dataframe tbody tr th {\n",
              "        vertical-align: top;\n",
              "    }\n",
              "\n",
              "    .dataframe thead th {\n",
              "        text-align: right;\n",
              "    }\n",
              "</style>\n",
              "<table border=\"1\" class=\"dataframe\">\n",
              "  <thead>\n",
              "    <tr style=\"text-align: right;\">\n",
              "      <th></th>\n",
              "      <th>creditLimit</th>\n",
              "      <th>availableMoney</th>\n",
              "      <th>transactionAmount</th>\n",
              "      <th>cardLast4Digits</th>\n",
              "      <th>isFraud</th>\n",
              "      <th>currentBalance</th>\n",
              "      <th>cardPresent</th>\n",
              "      <th>expirationDateKeyInMatch</th>\n",
              "      <th>matchedCVV</th>\n",
              "      <th>multiSwipe</th>\n",
              "      <th>...</th>\n",
              "      <th>hotels</th>\n",
              "      <th>mobileapps</th>\n",
              "      <th>online_gifts</th>\n",
              "      <th>online_retail</th>\n",
              "      <th>online_subscriptions</th>\n",
              "      <th>personal care</th>\n",
              "      <th>rideshare</th>\n",
              "      <th>subscriptions</th>\n",
              "      <th>PURCHASE</th>\n",
              "      <th>REVERSAL</th>\n",
              "    </tr>\n",
              "  </thead>\n",
              "  <tbody>\n",
              "    <tr>\n",
              "      <th>0</th>\n",
              "      <td>5000</td>\n",
              "      <td>5000.00</td>\n",
              "      <td>111.33</td>\n",
              "      <td>9184</td>\n",
              "      <td>1</td>\n",
              "      <td>0.00</td>\n",
              "      <td>0</td>\n",
              "      <td>0</td>\n",
              "      <td>1</td>\n",
              "      <td>0</td>\n",
              "      <td>...</td>\n",
              "      <td>0</td>\n",
              "      <td>0</td>\n",
              "      <td>0</td>\n",
              "      <td>0</td>\n",
              "      <td>0</td>\n",
              "      <td>0</td>\n",
              "      <td>1</td>\n",
              "      <td>0</td>\n",
              "      <td>1</td>\n",
              "      <td>0</td>\n",
              "    </tr>\n",
              "    <tr>\n",
              "      <th>1</th>\n",
              "      <td>5000</td>\n",
              "      <td>4888.67</td>\n",
              "      <td>24.75</td>\n",
              "      <td>9184</td>\n",
              "      <td>0</td>\n",
              "      <td>111.33</td>\n",
              "      <td>0</td>\n",
              "      <td>0</td>\n",
              "      <td>1</td>\n",
              "      <td>0</td>\n",
              "      <td>...</td>\n",
              "      <td>0</td>\n",
              "      <td>0</td>\n",
              "      <td>0</td>\n",
              "      <td>0</td>\n",
              "      <td>0</td>\n",
              "      <td>0</td>\n",
              "      <td>1</td>\n",
              "      <td>0</td>\n",
              "      <td>1</td>\n",
              "      <td>0</td>\n",
              "    </tr>\n",
              "    <tr>\n",
              "      <th>2</th>\n",
              "      <td>5000</td>\n",
              "      <td>4863.92</td>\n",
              "      <td>187.40</td>\n",
              "      <td>9184</td>\n",
              "      <td>0</td>\n",
              "      <td>136.08</td>\n",
              "      <td>0</td>\n",
              "      <td>0</td>\n",
              "      <td>1</td>\n",
              "      <td>0</td>\n",
              "      <td>...</td>\n",
              "      <td>0</td>\n",
              "      <td>0</td>\n",
              "      <td>0</td>\n",
              "      <td>0</td>\n",
              "      <td>0</td>\n",
              "      <td>0</td>\n",
              "      <td>1</td>\n",
              "      <td>0</td>\n",
              "      <td>1</td>\n",
              "      <td>0</td>\n",
              "    </tr>\n",
              "    <tr>\n",
              "      <th>3</th>\n",
              "      <td>5000</td>\n",
              "      <td>4676.52</td>\n",
              "      <td>227.34</td>\n",
              "      <td>9184</td>\n",
              "      <td>1</td>\n",
              "      <td>323.48</td>\n",
              "      <td>0</td>\n",
              "      <td>0</td>\n",
              "      <td>1</td>\n",
              "      <td>0</td>\n",
              "      <td>...</td>\n",
              "      <td>0</td>\n",
              "      <td>0</td>\n",
              "      <td>0</td>\n",
              "      <td>0</td>\n",
              "      <td>0</td>\n",
              "      <td>0</td>\n",
              "      <td>1</td>\n",
              "      <td>0</td>\n",
              "      <td>1</td>\n",
              "      <td>0</td>\n",
              "    </tr>\n",
              "    <tr>\n",
              "      <th>4</th>\n",
              "      <td>5000</td>\n",
              "      <td>4449.18</td>\n",
              "      <td>0.00</td>\n",
              "      <td>9184</td>\n",
              "      <td>0</td>\n",
              "      <td>550.82</td>\n",
              "      <td>0</td>\n",
              "      <td>0</td>\n",
              "      <td>1</td>\n",
              "      <td>0</td>\n",
              "      <td>...</td>\n",
              "      <td>0</td>\n",
              "      <td>0</td>\n",
              "      <td>0</td>\n",
              "      <td>0</td>\n",
              "      <td>0</td>\n",
              "      <td>0</td>\n",
              "      <td>1</td>\n",
              "      <td>0</td>\n",
              "      <td>0</td>\n",
              "      <td>0</td>\n",
              "    </tr>\n",
              "  </tbody>\n",
              "</table>\n",
              "<p>5 rows × 48 columns</p>\n",
              "</div>\n",
              "      <button class=\"colab-df-convert\" onclick=\"convertToInteractive('df-e0121f0a-33f8-4970-9326-f59315d91d70')\"\n",
              "              title=\"Convert this dataframe to an interactive table.\"\n",
              "              style=\"display:none;\">\n",
              "        \n",
              "  <svg xmlns=\"http://www.w3.org/2000/svg\" height=\"24px\"viewBox=\"0 0 24 24\"\n",
              "       width=\"24px\">\n",
              "    <path d=\"M0 0h24v24H0V0z\" fill=\"none\"/>\n",
              "    <path d=\"M18.56 5.44l.94 2.06.94-2.06 2.06-.94-2.06-.94-.94-2.06-.94 2.06-2.06.94zm-11 1L8.5 8.5l.94-2.06 2.06-.94-2.06-.94L8.5 2.5l-.94 2.06-2.06.94zm10 10l.94 2.06.94-2.06 2.06-.94-2.06-.94-.94-2.06-.94 2.06-2.06.94z\"/><path d=\"M17.41 7.96l-1.37-1.37c-.4-.4-.92-.59-1.43-.59-.52 0-1.04.2-1.43.59L10.3 9.45l-7.72 7.72c-.78.78-.78 2.05 0 2.83L4 21.41c.39.39.9.59 1.41.59.51 0 1.02-.2 1.41-.59l7.78-7.78 2.81-2.81c.8-.78.8-2.07 0-2.86zM5.41 20L4 18.59l7.72-7.72 1.47 1.35L5.41 20z\"/>\n",
              "  </svg>\n",
              "      </button>\n",
              "      \n",
              "  <style>\n",
              "    .colab-df-container {\n",
              "      display:flex;\n",
              "      flex-wrap:wrap;\n",
              "      gap: 12px;\n",
              "    }\n",
              "\n",
              "    .colab-df-convert {\n",
              "      background-color: #E8F0FE;\n",
              "      border: none;\n",
              "      border-radius: 50%;\n",
              "      cursor: pointer;\n",
              "      display: none;\n",
              "      fill: #1967D2;\n",
              "      height: 32px;\n",
              "      padding: 0 0 0 0;\n",
              "      width: 32px;\n",
              "    }\n",
              "\n",
              "    .colab-df-convert:hover {\n",
              "      background-color: #E2EBFA;\n",
              "      box-shadow: 0px 1px 2px rgba(60, 64, 67, 0.3), 0px 1px 3px 1px rgba(60, 64, 67, 0.15);\n",
              "      fill: #174EA6;\n",
              "    }\n",
              "\n",
              "    [theme=dark] .colab-df-convert {\n",
              "      background-color: #3B4455;\n",
              "      fill: #D2E3FC;\n",
              "    }\n",
              "\n",
              "    [theme=dark] .colab-df-convert:hover {\n",
              "      background-color: #434B5C;\n",
              "      box-shadow: 0px 1px 3px 1px rgba(0, 0, 0, 0.15);\n",
              "      filter: drop-shadow(0px 1px 2px rgba(0, 0, 0, 0.3));\n",
              "      fill: #FFFFFF;\n",
              "    }\n",
              "  </style>\n",
              "\n",
              "      <script>\n",
              "        const buttonEl =\n",
              "          document.querySelector('#df-e0121f0a-33f8-4970-9326-f59315d91d70 button.colab-df-convert');\n",
              "        buttonEl.style.display =\n",
              "          google.colab.kernel.accessAllowed ? 'block' : 'none';\n",
              "\n",
              "        async function convertToInteractive(key) {\n",
              "          const element = document.querySelector('#df-e0121f0a-33f8-4970-9326-f59315d91d70');\n",
              "          const dataTable =\n",
              "            await google.colab.kernel.invokeFunction('convertToInteractive',\n",
              "                                                     [key], {});\n",
              "          if (!dataTable) return;\n",
              "\n",
              "          const docLinkHtml = 'Like what you see? Visit the ' +\n",
              "            '<a target=\"_blank\" href=https://colab.research.google.com/notebooks/data_table.ipynb>data table notebook</a>'\n",
              "            + ' to learn more about interactive tables.';\n",
              "          element.innerHTML = '';\n",
              "          dataTable['output_type'] = 'display_data';\n",
              "          await google.colab.output.renderOutput(dataTable, element);\n",
              "          const docLink = document.createElement('div');\n",
              "          docLink.innerHTML = docLinkHtml;\n",
              "          element.appendChild(docLink);\n",
              "        }\n",
              "      </script>\n",
              "    </div>\n",
              "  </div>\n",
              "  "
            ]
          },
          "metadata": {},
          "execution_count": 59
        }
      ]
    },
    {
      "cell_type": "markdown",
      "source": [
        "# Classification Model"
      ],
      "metadata": {
        "id": "Mq--BynIKgAD"
      }
    },
    {
      "cell_type": "code",
      "source": [
        "def resampling(data,sampling_method) :\n",
        "  X = data.drop(['isFraud'], axis=1)\n",
        "  y = data['isFraud']\n",
        "\n",
        "  X, y  = sampling_method.fit_resample(X, y)\n",
        "\n",
        "  X_train, X_test, y_train, y_test = train_test_split(X, y, test_size = 0.2, random_state = 0)\n",
        "\n",
        "  cols = X_train.columns\n",
        "  scaler = MinMaxScaler()\n",
        "  X_train = scaler.fit_transform(X_train)\n",
        "  X_test = scaler.transform(X_test)\n",
        "  X_train = pd.DataFrame(X_train, columns=[cols])\n",
        "  X_test = pd.DataFrame(X_test, columns=[cols])\n",
        "\n",
        "  return X_train,X_test,y_train, y_test "
      ],
      "metadata": {
        "id": "yk0Zv1TiFCGp"
      },
      "execution_count": null,
      "outputs": []
    },
    {
      "cell_type": "markdown",
      "source": [
        "## UnderSampling"
      ],
      "metadata": {
        "id": "KrsAfMVDKX0c"
      }
    },
    {
      "cell_type": "code",
      "source": [
        "X_train,X_test,y_train,y_test  = resampling(df,RandomUnderSampler())"
      ],
      "metadata": {
        "id": "eG9uIGVHFrNn"
      },
      "execution_count": null,
      "outputs": []
    },
    {
      "cell_type": "markdown",
      "source": [
        "Logistic Regression"
      ],
      "metadata": {
        "id": "XQ8OpdvbKxeQ"
      }
    },
    {
      "cell_type": "code",
      "source": [
        "accuracy= []\n",
        "recall =[]\n",
        "auc= []\n",
        "precision = []\n",
        "\n",
        "\n",
        "logreg = LogisticRegression(max_iter=1000)\n",
        "logreg.fit(X_train, y_train)\n",
        "y_pred=logreg.predict(X_test)\n",
        "\n",
        "y_pred_prob = logreg.predict_proba(X_test)[::,1]\n",
        "\n",
        "\n",
        "accuracy.append(round(accuracy_score(y_test, y_pred),2))\n",
        "recall.append(round(recall_score(y_test, y_pred),2))\n",
        "auc.append(round(roc_auc_score(y_test,y_pred_prob),2))\n",
        "precision.append(round(precision_score(y_test, y_pred),2))\n",
        "\n",
        "model_names = ['LogisticRegression_UnderSampling']\n",
        "underlog = pd.DataFrame({'Accuracy':accuracy,'Recall':recall,'ROC_AUC':auc, 'Precision':precision}, index=model_names)\n",
        "underlog"
      ],
      "metadata": {
        "colab": {
          "base_uri": "https://localhost:8080/",
          "height": 81
        },
        "id": "Btll7M2nIYBW",
        "outputId": "3d0a01a0-c338-414b-ff64-0cfb56aadecc"
      },
      "execution_count": null,
      "outputs": [
        {
          "output_type": "execute_result",
          "data": {
            "text/plain": [
              "                                  Accuracy  Recall  ROC_AUC  Precision\n",
              "LogisticRegression_UnderSampling      0.68    0.71     0.75       0.67"
            ],
            "text/html": [
              "\n",
              "  <div id=\"df-5c6f9796-84d9-4d89-aeb8-857d0ba80695\">\n",
              "    <div class=\"colab-df-container\">\n",
              "      <div>\n",
              "<style scoped>\n",
              "    .dataframe tbody tr th:only-of-type {\n",
              "        vertical-align: middle;\n",
              "    }\n",
              "\n",
              "    .dataframe tbody tr th {\n",
              "        vertical-align: top;\n",
              "    }\n",
              "\n",
              "    .dataframe thead th {\n",
              "        text-align: right;\n",
              "    }\n",
              "</style>\n",
              "<table border=\"1\" class=\"dataframe\">\n",
              "  <thead>\n",
              "    <tr style=\"text-align: right;\">\n",
              "      <th></th>\n",
              "      <th>Accuracy</th>\n",
              "      <th>Recall</th>\n",
              "      <th>ROC_AUC</th>\n",
              "      <th>Precision</th>\n",
              "    </tr>\n",
              "  </thead>\n",
              "  <tbody>\n",
              "    <tr>\n",
              "      <th>LogisticRegression_UnderSampling</th>\n",
              "      <td>0.68</td>\n",
              "      <td>0.71</td>\n",
              "      <td>0.75</td>\n",
              "      <td>0.67</td>\n",
              "    </tr>\n",
              "  </tbody>\n",
              "</table>\n",
              "</div>\n",
              "      <button class=\"colab-df-convert\" onclick=\"convertToInteractive('df-5c6f9796-84d9-4d89-aeb8-857d0ba80695')\"\n",
              "              title=\"Convert this dataframe to an interactive table.\"\n",
              "              style=\"display:none;\">\n",
              "        \n",
              "  <svg xmlns=\"http://www.w3.org/2000/svg\" height=\"24px\"viewBox=\"0 0 24 24\"\n",
              "       width=\"24px\">\n",
              "    <path d=\"M0 0h24v24H0V0z\" fill=\"none\"/>\n",
              "    <path d=\"M18.56 5.44l.94 2.06.94-2.06 2.06-.94-2.06-.94-.94-2.06-.94 2.06-2.06.94zm-11 1L8.5 8.5l.94-2.06 2.06-.94-2.06-.94L8.5 2.5l-.94 2.06-2.06.94zm10 10l.94 2.06.94-2.06 2.06-.94-2.06-.94-.94-2.06-.94 2.06-2.06.94z\"/><path d=\"M17.41 7.96l-1.37-1.37c-.4-.4-.92-.59-1.43-.59-.52 0-1.04.2-1.43.59L10.3 9.45l-7.72 7.72c-.78.78-.78 2.05 0 2.83L4 21.41c.39.39.9.59 1.41.59.51 0 1.02-.2 1.41-.59l7.78-7.78 2.81-2.81c.8-.78.8-2.07 0-2.86zM5.41 20L4 18.59l7.72-7.72 1.47 1.35L5.41 20z\"/>\n",
              "  </svg>\n",
              "      </button>\n",
              "      \n",
              "  <style>\n",
              "    .colab-df-container {\n",
              "      display:flex;\n",
              "      flex-wrap:wrap;\n",
              "      gap: 12px;\n",
              "    }\n",
              "\n",
              "    .colab-df-convert {\n",
              "      background-color: #E8F0FE;\n",
              "      border: none;\n",
              "      border-radius: 50%;\n",
              "      cursor: pointer;\n",
              "      display: none;\n",
              "      fill: #1967D2;\n",
              "      height: 32px;\n",
              "      padding: 0 0 0 0;\n",
              "      width: 32px;\n",
              "    }\n",
              "\n",
              "    .colab-df-convert:hover {\n",
              "      background-color: #E2EBFA;\n",
              "      box-shadow: 0px 1px 2px rgba(60, 64, 67, 0.3), 0px 1px 3px 1px rgba(60, 64, 67, 0.15);\n",
              "      fill: #174EA6;\n",
              "    }\n",
              "\n",
              "    [theme=dark] .colab-df-convert {\n",
              "      background-color: #3B4455;\n",
              "      fill: #D2E3FC;\n",
              "    }\n",
              "\n",
              "    [theme=dark] .colab-df-convert:hover {\n",
              "      background-color: #434B5C;\n",
              "      box-shadow: 0px 1px 3px 1px rgba(0, 0, 0, 0.15);\n",
              "      filter: drop-shadow(0px 1px 2px rgba(0, 0, 0, 0.3));\n",
              "      fill: #FFFFFF;\n",
              "    }\n",
              "  </style>\n",
              "\n",
              "      <script>\n",
              "        const buttonEl =\n",
              "          document.querySelector('#df-5c6f9796-84d9-4d89-aeb8-857d0ba80695 button.colab-df-convert');\n",
              "        buttonEl.style.display =\n",
              "          google.colab.kernel.accessAllowed ? 'block' : 'none';\n",
              "\n",
              "        async function convertToInteractive(key) {\n",
              "          const element = document.querySelector('#df-5c6f9796-84d9-4d89-aeb8-857d0ba80695');\n",
              "          const dataTable =\n",
              "            await google.colab.kernel.invokeFunction('convertToInteractive',\n",
              "                                                     [key], {});\n",
              "          if (!dataTable) return;\n",
              "\n",
              "          const docLinkHtml = 'Like what you see? Visit the ' +\n",
              "            '<a target=\"_blank\" href=https://colab.research.google.com/notebooks/data_table.ipynb>data table notebook</a>'\n",
              "            + ' to learn more about interactive tables.';\n",
              "          element.innerHTML = '';\n",
              "          dataTable['output_type'] = 'display_data';\n",
              "          await google.colab.output.renderOutput(dataTable, element);\n",
              "          const docLink = document.createElement('div');\n",
              "          docLink.innerHTML = docLinkHtml;\n",
              "          element.appendChild(docLink);\n",
              "        }\n",
              "      </script>\n",
              "    </div>\n",
              "  </div>\n",
              "  "
            ]
          },
          "metadata": {},
          "execution_count": 62
        }
      ]
    },
    {
      "cell_type": "code",
      "source": [
        "Conf_Mat = confusion_matrix(y_test, y_pred)\n",
        "figs, axes = plt.subplots(1,2, figsize=(12,4))\n",
        "labels = ['No Fraud', 'Fraud']\n",
        "disp = plot_confusion_matrix(logreg, X_test, y_test, display_labels=labels, cmap=plt.cm.Reds, ax=axes[0])\n",
        "\n",
        "Class_rep = classification_report(y_test, y_pred)\n",
        "print(Class_rep)\n",
        "\n",
        "fpr, tpr, Threshold = roc_curve(y_test, y_pred_prob)\n",
        "plt.title('Logistic Regression UnderSampling')\n",
        "plt.plot(fpr, tpr, 'b',label='AUC = %0.2f'% roc_auc_score(y_test, y_pred_prob))\n",
        "plt.legend(loc='lower right')\n",
        "plt.plot([0,1],[0,1],'r--')\n",
        "plt.xlim([-0.1,1.0])\n",
        "plt.ylim([-0.1,1.01])\n",
        "plt.ylabel('True Positive Rate')\n",
        "plt.xlabel('False Positive Rate')\n",
        "plt.show()"
      ],
      "metadata": {
        "colab": {
          "base_uri": "https://localhost:8080/",
          "height": 451
        },
        "id": "WTQk8mqV1Zbb",
        "outputId": "abcd6ec5-c49a-4251-ef4b-bd0b9b33e628"
      },
      "execution_count": null,
      "outputs": [
        {
          "output_type": "stream",
          "name": "stdout",
          "text": [
            "              precision    recall  f1-score   support\n",
            "\n",
            "           0       0.69      0.65      0.67      2188\n",
            "           1       0.67      0.71      0.69      2169\n",
            "\n",
            "    accuracy                           0.68      4357\n",
            "   macro avg       0.68      0.68      0.68      4357\n",
            "weighted avg       0.68      0.68      0.68      4357\n",
            "\n"
          ]
        },
        {
          "output_type": "display_data",
          "data": {
            "text/plain": [
              "<Figure size 864x288 with 3 Axes>"
            ],
            "image/png": "[encoded data removed]"
          },
          "metadata": {
            "needs_background": "light"
          }
        }
      ]
    },
    {
      "cell_type": "markdown",
      "source": [
        "Gradient Boosting"
      ],
      "metadata": {
        "id": "Tu-QB22JK6_T"
      }
    },
    {
      "cell_type": "code",
      "source": [
        "accuracy= []\n",
        "recall =[]\n",
        "auc= []\n",
        "precision = []\n",
        "\n",
        "\n",
        "gb = GradientBoostingClassifier()\n",
        "gb.fit(X_train,y_train)\n",
        "y_pred = gb.predict(X_test)\n",
        "\n",
        "y_pred_prob = gb.predict_proba(X_test)[::,1]\n",
        "\n",
        "\n",
        "accuracy.append(round(accuracy_score(y_test, y_pred),2))\n",
        "recall.append(round(recall_score(y_test, y_pred),2))\n",
        "auc.append(round(roc_auc_score(y_test,y_pred_prob),2))\n",
        "precision.append(round(precision_score(y_test, y_pred),2))\n",
        "\n",
        "\n",
        "model_names = ['GradientBoosting_UnderSampling']\n",
        "undergb = pd.DataFrame({'Accuracy':accuracy,'Recall':recall,'ROC_AUC':auc, 'Precision':precision}, index=model_names)\n",
        "undergb"
      ],
      "metadata": {
        "colab": {
          "base_uri": "https://localhost:8080/",
          "height": 81
        },
        "id": "b2S42SlTjX_V",
        "outputId": "ee47f9b4-51e4-4c97-bef9-4ebe214cf337"
      },
      "execution_count": null,
      "outputs": [
        {
          "output_type": "execute_result",
          "data": {
            "text/plain": [
              "                                Accuracy  Recall  ROC_AUC  Precision\n",
              "GradientBoosting_UnderSampling       0.7    0.73     0.77       0.69"
            ],
            "text/html": [
              "\n",
              "  <div id=\"df-833ce88f-62a6-44e4-996a-3e15593d2474\">\n",
              "    <div class=\"colab-df-container\">\n",
              "      <div>\n",
              "<style scoped>\n",
              "    .dataframe tbody tr th:only-of-type {\n",
              "        vertical-align: middle;\n",
              "    }\n",
              "\n",
              "    .dataframe tbody tr th {\n",
              "        vertical-align: top;\n",
              "    }\n",
              "\n",
              "    .dataframe thead th {\n",
              "        text-align: right;\n",
              "    }\n",
              "</style>\n",
              "<table border=\"1\" class=\"dataframe\">\n",
              "  <thead>\n",
              "    <tr style=\"text-align: right;\">\n",
              "      <th></th>\n",
              "      <th>Accuracy</th>\n",
              "      <th>Recall</th>\n",
              "      <th>ROC_AUC</th>\n",
              "      <th>Precision</th>\n",
              "    </tr>\n",
              "  </thead>\n",
              "  <tbody>\n",
              "    <tr>\n",
              "      <th>GradientBoosting_UnderSampling</th>\n",
              "      <td>0.7</td>\n",
              "      <td>0.73</td>\n",
              "      <td>0.77</td>\n",
              "      <td>0.69</td>\n",
              "    </tr>\n",
              "  </tbody>\n",
              "</table>\n",
              "</div>\n",
              "      <button class=\"colab-df-convert\" onclick=\"convertToInteractive('df-833ce88f-62a6-44e4-996a-3e15593d2474')\"\n",
              "              title=\"Convert this dataframe to an interactive table.\"\n",
              "              style=\"display:none;\">\n",
              "        \n",
              "  <svg xmlns=\"http://www.w3.org/2000/svg\" height=\"24px\"viewBox=\"0 0 24 24\"\n",
              "       width=\"24px\">\n",
              "    <path d=\"M0 0h24v24H0V0z\" fill=\"none\"/>\n",
              "    <path d=\"M18.56 5.44l.94 2.06.94-2.06 2.06-.94-2.06-.94-.94-2.06-.94 2.06-2.06.94zm-11 1L8.5 8.5l.94-2.06 2.06-.94-2.06-.94L8.5 2.5l-.94 2.06-2.06.94zm10 10l.94 2.06.94-2.06 2.06-.94-2.06-.94-.94-2.06-.94 2.06-2.06.94z\"/><path d=\"M17.41 7.96l-1.37-1.37c-.4-.4-.92-.59-1.43-.59-.52 0-1.04.2-1.43.59L10.3 9.45l-7.72 7.72c-.78.78-.78 2.05 0 2.83L4 21.41c.39.39.9.59 1.41.59.51 0 1.02-.2 1.41-.59l7.78-7.78 2.81-2.81c.8-.78.8-2.07 0-2.86zM5.41 20L4 18.59l7.72-7.72 1.47 1.35L5.41 20z\"/>\n",
              "  </svg>\n",
              "      </button>\n",
              "      \n",
              "  <style>\n",
              "    .colab-df-container {\n",
              "      display:flex;\n",
              "      flex-wrap:wrap;\n",
              "      gap: 12px;\n",
              "    }\n",
              "\n",
              "    .colab-df-convert {\n",
              "      background-color: #E8F0FE;\n",
              "      border: none;\n",
              "      border-radius: 50%;\n",
              "      cursor: pointer;\n",
              "      display: none;\n",
              "      fill: #1967D2;\n",
              "      height: 32px;\n",
              "      padding: 0 0 0 0;\n",
              "      width: 32px;\n",
              "    }\n",
              "\n",
              "    .colab-df-convert:hover {\n",
              "      background-color: #E2EBFA;\n",
              "      box-shadow: 0px 1px 2px rgba(60, 64, 67, 0.3), 0px 1px 3px 1px rgba(60, 64, 67, 0.15);\n",
              "      fill: #174EA6;\n",
              "    }\n",
              "\n",
              "    [theme=dark] .colab-df-convert {\n",
              "      background-color: #3B4455;\n",
              "      fill: #D2E3FC;\n",
              "    }\n",
              "\n",
              "    [theme=dark] .colab-df-convert:hover {\n",
              "      background-color: #434B5C;\n",
              "      box-shadow: 0px 1px 3px 1px rgba(0, 0, 0, 0.15);\n",
              "      filter: drop-shadow(0px 1px 2px rgba(0, 0, 0, 0.3));\n",
              "      fill: #FFFFFF;\n",
              "    }\n",
              "  </style>\n",
              "\n",
              "      <script>\n",
              "        const buttonEl =\n",
              "          document.querySelector('#df-833ce88f-62a6-44e4-996a-3e15593d2474 button.colab-df-convert');\n",
              "        buttonEl.style.display =\n",
              "          google.colab.kernel.accessAllowed ? 'block' : 'none';\n",
              "\n",
              "        async function convertToInteractive(key) {\n",
              "          const element = document.querySelector('#df-833ce88f-62a6-44e4-996a-3e15593d2474');\n",
              "          const dataTable =\n",
              "            await google.colab.kernel.invokeFunction('convertToInteractive',\n",
              "                                                     [key], {});\n",
              "          if (!dataTable) return;\n",
              "\n",
              "          const docLinkHtml = 'Like what you see? Visit the ' +\n",
              "            '<a target=\"_blank\" href=https://colab.research.google.com/notebooks/data_table.ipynb>data table notebook</a>'\n",
              "            + ' to learn more about interactive tables.';\n",
              "          element.innerHTML = '';\n",
              "          dataTable['output_type'] = 'display_data';\n",
              "          await google.colab.output.renderOutput(dataTable, element);\n",
              "          const docLink = document.createElement('div');\n",
              "          docLink.innerHTML = docLinkHtml;\n",
              "          element.appendChild(docLink);\n",
              "        }\n",
              "      </script>\n",
              "    </div>\n",
              "  </div>\n",
              "  "
            ]
          },
          "metadata": {},
          "execution_count": 64
        }
      ]
    },
    {
      "cell_type": "code",
      "source": [
        "Conf_Mat = confusion_matrix(y_test, y_pred)\n",
        "figs, axes = plt.subplots(1,2, figsize=(12,4))\n",
        "labels = ['No Fraud', 'Fraud']\n",
        "disp = plot_confusion_matrix(gb, X_test, y_test, display_labels=labels, cmap=plt.cm.Reds, ax=axes[0])\n",
        "\n",
        "Class_rep = classification_report(y_test, y_pred)\n",
        "print(Class_rep)\n",
        "\n",
        "fpr, tpr, Threshold = roc_curve(y_test, y_pred_prob)\n",
        "plt.title('Gradient Boosting UnderSampling')\n",
        "plt.plot(fpr, tpr, 'b',label='AUC = %0.2f'% roc_auc_score(y_test, y_pred_prob))\n",
        "plt.legend(loc='lower right')\n",
        "plt.plot([0,1],[0,1],'r--')\n",
        "plt.xlim([-0.1,1.0])\n",
        "plt.ylim([-0.1,1.01])\n",
        "plt.ylabel('True Positive Rate')\n",
        "plt.xlabel('False Positive Rate')\n",
        "plt.show()"
      ],
      "metadata": {
        "colab": {
          "base_uri": "https://localhost:8080/",
          "height": 451
        },
        "id": "G7Zqhz2J3o4H",
        "outputId": "9a0c99f1-0a18-41be-f540-e8f9e633f0cb"
      },
      "execution_count": null,
      "outputs": [
        {
          "output_type": "stream",
          "name": "stdout",
          "text": [
            "              precision    recall  f1-score   support\n",
            "\n",
            "           0       0.71      0.67      0.69      2188\n",
            "           1       0.69      0.73      0.71      2169\n",
            "\n",
            "    accuracy                           0.70      4357\n",
            "   macro avg       0.70      0.70      0.70      4357\n",
            "weighted avg       0.70      0.70      0.70      4357\n",
            "\n"
          ]
        },
        {
          "output_type": "display_data",
          "data": {
            "text/plain": [
              "<Figure size 864x288 with 3 Axes>"
            ],
            "image/png": "[encoded data removed]"
          },
          "metadata": {
            "needs_background": "light"
          }
        }
      ]
    },
    {
      "cell_type": "markdown",
      "source": [
        "XGBoost Classifier"
      ],
      "metadata": {
        "id": "LPRV2KVGLJGb"
      }
    },
    {
      "cell_type": "code",
      "source": [
        "accuracy= []\n",
        "recall =[]\n",
        "auc= []\n",
        "precision = []\n",
        "\n",
        "\n",
        "xgbc_base = XGBClassifier(random_state=0)\n",
        "xgbc_base.fit(X_train,y_train)\n",
        "y_pred = xgbc_base.predict(X_test)\n",
        "\n",
        "y_pred_prob = xgbc_base.predict_proba(X_test)[::,1]\n",
        "\n",
        "accuracy.append(round(accuracy_score(y_test, y_pred),2))\n",
        "recall.append(round(recall_score(y_test, y_pred),2))\n",
        "auc.append(round(roc_auc_score(y_test,y_pred_prob),2))\n",
        "precision.append(round(precision_score(y_test, y_pred),2))\n",
        "\n",
        "model_names = ['XGBoost_UnderSampling']\n",
        "underxgbc = pd.DataFrame({'Accuracy':accuracy,'Recall':recall,'ROC_AUC':auc, 'Precision':precision}, index=model_names)\n",
        "underxgbc"
      ],
      "metadata": {
        "colab": {
          "base_uri": "https://localhost:8080/",
          "height": 81
        },
        "id": "jVMrMAFoLSVV",
        "outputId": "75556117-a7db-4b92-ed16-696f1ed80831"
      },
      "execution_count": null,
      "outputs": [
        {
          "output_type": "execute_result",
          "data": {
            "text/plain": [
              "                       Accuracy  Recall  ROC_AUC  Precision\n",
              "XGBoost_UnderSampling       0.7    0.73     0.77       0.69"
            ],
            "text/html": [
              "\n",
              "  <div id=\"df-18a28173-186b-4727-89f6-d32de6ccb847\">\n",
              "    <div class=\"colab-df-container\">\n",
              "      <div>\n",
              "<style scoped>\n",
              "    .dataframe tbody tr th:only-of-type {\n",
              "        vertical-align: middle;\n",
              "    }\n",
              "\n",
              "    .dataframe tbody tr th {\n",
              "        vertical-align: top;\n",
              "    }\n",
              "\n",
              "    .dataframe thead th {\n",
              "        text-align: right;\n",
              "    }\n",
              "</style>\n",
              "<table border=\"1\" class=\"dataframe\">\n",
              "  <thead>\n",
              "    <tr style=\"text-align: right;\">\n",
              "      <th></th>\n",
              "      <th>Accuracy</th>\n",
              "      <th>Recall</th>\n",
              "      <th>ROC_AUC</th>\n",
              "      <th>Precision</th>\n",
              "    </tr>\n",
              "  </thead>\n",
              "  <tbody>\n",
              "    <tr>\n",
              "      <th>XGBoost_UnderSampling</th>\n",
              "      <td>0.7</td>\n",
              "      <td>0.73</td>\n",
              "      <td>0.77</td>\n",
              "      <td>0.69</td>\n",
              "    </tr>\n",
              "  </tbody>\n",
              "</table>\n",
              "</div>\n",
              "      <button class=\"colab-df-convert\" onclick=\"convertToInteractive('df-18a28173-186b-4727-89f6-d32de6ccb847')\"\n",
              "              title=\"Convert this dataframe to an interactive table.\"\n",
              "              style=\"display:none;\">\n",
              "        \n",
              "  <svg xmlns=\"http://www.w3.org/2000/svg\" height=\"24px\"viewBox=\"0 0 24 24\"\n",
              "       width=\"24px\">\n",
              "    <path d=\"M0 0h24v24H0V0z\" fill=\"none\"/>\n",
              "    <path d=\"M18.56 5.44l.94 2.06.94-2.06 2.06-.94-2.06-.94-.94-2.06-.94 2.06-2.06.94zm-11 1L8.5 8.5l.94-2.06 2.06-.94-2.06-.94L8.5 2.5l-.94 2.06-2.06.94zm10 10l.94 2.06.94-2.06 2.06-.94-2.06-.94-.94-2.06-.94 2.06-2.06.94z\"/><path d=\"M17.41 7.96l-1.37-1.37c-.4-.4-.92-.59-1.43-.59-.52 0-1.04.2-1.43.59L10.3 9.45l-7.72 7.72c-.78.78-.78 2.05 0 2.83L4 21.41c.39.39.9.59 1.41.59.51 0 1.02-.2 1.41-.59l7.78-7.78 2.81-2.81c.8-.78.8-2.07 0-2.86zM5.41 20L4 18.59l7.72-7.72 1.47 1.35L5.41 20z\"/>\n",
              "  </svg>\n",
              "      </button>\n",
              "      \n",
              "  <style>\n",
              "    .colab-df-container {\n",
              "      display:flex;\n",
              "      flex-wrap:wrap;\n",
              "      gap: 12px;\n",
              "    }\n",
              "\n",
              "    .colab-df-convert {\n",
              "      background-color: #E8F0FE;\n",
              "      border: none;\n",
              "      border-radius: 50%;\n",
              "      cursor: pointer;\n",
              "      display: none;\n",
              "      fill: #1967D2;\n",
              "      height: 32px;\n",
              "      padding: 0 0 0 0;\n",
              "      width: 32px;\n",
              "    }\n",
              "\n",
              "    .colab-df-convert:hover {\n",
              "      background-color: #E2EBFA;\n",
              "      box-shadow: 0px 1px 2px rgba(60, 64, 67, 0.3), 0px 1px 3px 1px rgba(60, 64, 67, 0.15);\n",
              "      fill: #174EA6;\n",
              "    }\n",
              "\n",
              "    [theme=dark] .colab-df-convert {\n",
              "      background-color: #3B4455;\n",
              "      fill: #D2E3FC;\n",
              "    }\n",
              "\n",
              "    [theme=dark] .colab-df-convert:hover {\n",
              "      background-color: #434B5C;\n",
              "      box-shadow: 0px 1px 3px 1px rgba(0, 0, 0, 0.15);\n",
              "      filter: drop-shadow(0px 1px 2px rgba(0, 0, 0, 0.3));\n",
              "      fill: #FFFFFF;\n",
              "    }\n",
              "  </style>\n",
              "\n",
              "      <script>\n",
              "        const buttonEl =\n",
              "          document.querySelector('#df-18a28173-186b-4727-89f6-d32de6ccb847 button.colab-df-convert');\n",
              "        buttonEl.style.display =\n",
              "          google.colab.kernel.accessAllowed ? 'block' : 'none';\n",
              "\n",
              "        async function convertToInteractive(key) {\n",
              "          const element = document.querySelector('#df-18a28173-186b-4727-89f6-d32de6ccb847');\n",
              "          const dataTable =\n",
              "            await google.colab.kernel.invokeFunction('convertToInteractive',\n",
              "                                                     [key], {});\n",
              "          if (!dataTable) return;\n",
              "\n",
              "          const docLinkHtml = 'Like what you see? Visit the ' +\n",
              "            '<a target=\"_blank\" href=https://colab.research.google.com/notebooks/data_table.ipynb>data table notebook</a>'\n",
              "            + ' to learn more about interactive tables.';\n",
              "          element.innerHTML = '';\n",
              "          dataTable['output_type'] = 'display_data';\n",
              "          await google.colab.output.renderOutput(dataTable, element);\n",
              "          const docLink = document.createElement('div');\n",
              "          docLink.innerHTML = docLinkHtml;\n",
              "          element.appendChild(docLink);\n",
              "        }\n",
              "      </script>\n",
              "    </div>\n",
              "  </div>\n",
              "  "
            ]
          },
          "metadata": {},
          "execution_count": 66
        }
      ]
    },
    {
      "cell_type": "code",
      "source": [
        "Conf_Mat = confusion_matrix(y_test, y_pred)\n",
        "figs, axes = plt.subplots(1,2, figsize=(12,4))\n",
        "labels = ['No Fraud', 'Fraud']\n",
        "disp = plot_confusion_matrix(xgbc_base, X_test, y_test, display_labels=labels, cmap=plt.cm.Reds, ax=axes[0])\n",
        "\n",
        "Class_rep = classification_report(y_test, y_pred)\n",
        "print(Class_rep)\n",
        "\n",
        "fpr, tpr, Threshold = roc_curve(y_test, y_pred_prob)\n",
        "plt.title('XGBoost UnderSampling')\n",
        "plt.plot(fpr, tpr, 'b',label='AUC = %0.2f'% roc_auc_score(y_test, y_pred_prob))\n",
        "plt.legend(loc='lower right')\n",
        "plt.plot([0,1],[0,1],'r--')\n",
        "plt.xlim([-0.1,1.0])\n",
        "plt.ylim([-0.1,1.01])\n",
        "plt.ylabel('True Positive Rate')\n",
        "plt.xlabel('False Positive Rate')\n",
        "plt.show()"
      ],
      "metadata": {
        "colab": {
          "base_uri": "https://localhost:8080/",
          "height": 451
        },
        "id": "VAUcBxtN34Yw",
        "outputId": "660a5b34-2f69-4963-af3e-925ebaff012a"
      },
      "execution_count": null,
      "outputs": [
        {
          "output_type": "stream",
          "name": "stdout",
          "text": [
            "              precision    recall  f1-score   support\n",
            "\n",
            "           0       0.71      0.67      0.69      2188\n",
            "           1       0.69      0.73      0.71      2169\n",
            "\n",
            "    accuracy                           0.70      4357\n",
            "   macro avg       0.70      0.70      0.70      4357\n",
            "weighted avg       0.70      0.70      0.70      4357\n",
            "\n"
          ]
        },
        {
          "output_type": "display_data",
          "data": {
            "text/plain": [
              "<Figure size 864x288 with 3 Axes>"
            ],
            "image/png": "[encoded data removed]"
          },
          "metadata": {
            "needs_background": "light"
          }
        }
      ]
    },
    {
      "cell_type": "markdown",
      "source": [
        "Random Forest"
      ],
      "metadata": {
        "id": "2nnRYkZoPvfi"
      }
    },
    {
      "cell_type": "code",
      "source": [
        "accuracy= []\n",
        "recall =[]\n",
        "auc= []\n",
        "precision = []\n",
        "\n",
        "rf = RandomForestClassifier(n_estimators = 200)\n",
        "rf.fit(X_train, y_train)\n",
        "y_pred = rf.predict(X_test)\n",
        "\n",
        "y_pred_prob = rf.predict_proba(X_test)[::,1]\n",
        "\n",
        "\n",
        "accuracy.append(round(accuracy_score(y_test, y_pred),2))\n",
        "recall.append(round(recall_score(y_test, y_pred),2))\n",
        "auc.append(round(roc_auc_score(y_test,y_pred_prob),2))\n",
        "precision.append(round(precision_score(y_test, y_pred),2))\n",
        "\n",
        "model_names = ['RandomForest_UnderSampling']\n",
        "underrf = pd.DataFrame({'Accuracy':accuracy,'Recall':recall,'ROC_AUC':auc, 'Precision':precision}, index=model_names)\n",
        "underrf"
      ],
      "metadata": {
        "colab": {
          "base_uri": "https://localhost:8080/",
          "height": 81
        },
        "id": "oIHSHY1jOq9W",
        "outputId": "7b99f3b9-64b7-4d9d-920b-a133df9426b4"
      },
      "execution_count": null,
      "outputs": [
        {
          "output_type": "execute_result",
          "data": {
            "text/plain": [
              "                            Accuracy  Recall  ROC_AUC  Precision\n",
              "RandomForest_UnderSampling      0.71    0.74     0.78       0.69"
            ],
            "text/html": [
              "\n",
              "  <div id=\"df-7094049d-1126-432f-8756-48f5b15ea3f7\">\n",
              "    <div class=\"colab-df-container\">\n",
              "      <div>\n",
              "<style scoped>\n",
              "    .dataframe tbody tr th:only-of-type {\n",
              "        vertical-align: middle;\n",
              "    }\n",
              "\n",
              "    .dataframe tbody tr th {\n",
              "        vertical-align: top;\n",
              "    }\n",
              "\n",
              "    .dataframe thead th {\n",
              "        text-align: right;\n",
              "    }\n",
              "</style>\n",
              "<table border=\"1\" class=\"dataframe\">\n",
              "  <thead>\n",
              "    <tr style=\"text-align: right;\">\n",
              "      <th></th>\n",
              "      <th>Accuracy</th>\n",
              "      <th>Recall</th>\n",
              "      <th>ROC_AUC</th>\n",
              "      <th>Precision</th>\n",
              "    </tr>\n",
              "  </thead>\n",
              "  <tbody>\n",
              "    <tr>\n",
              "      <th>RandomForest_UnderSampling</th>\n",
              "      <td>0.71</td>\n",
              "      <td>0.74</td>\n",
              "      <td>0.78</td>\n",
              "      <td>0.69</td>\n",
              "    </tr>\n",
              "  </tbody>\n",
              "</table>\n",
              "</div>\n",
              "      <button class=\"colab-df-convert\" onclick=\"convertToInteractive('df-7094049d-1126-432f-8756-48f5b15ea3f7')\"\n",
              "              title=\"Convert this dataframe to an interactive table.\"\n",
              "              style=\"display:none;\">\n",
              "        \n",
              "  <svg xmlns=\"http://www.w3.org/2000/svg\" height=\"24px\"viewBox=\"0 0 24 24\"\n",
              "       width=\"24px\">\n",
              "    <path d=\"M0 0h24v24H0V0z\" fill=\"none\"/>\n",
              "    <path d=\"M18.56 5.44l.94 2.06.94-2.06 2.06-.94-2.06-.94-.94-2.06-.94 2.06-2.06.94zm-11 1L8.5 8.5l.94-2.06 2.06-.94-2.06-.94L8.5 2.5l-.94 2.06-2.06.94zm10 10l.94 2.06.94-2.06 2.06-.94-2.06-.94-.94-2.06-.94 2.06-2.06.94z\"/><path d=\"M17.41 7.96l-1.37-1.37c-.4-.4-.92-.59-1.43-.59-.52 0-1.04.2-1.43.59L10.3 9.45l-7.72 7.72c-.78.78-.78 2.05 0 2.83L4 21.41c.39.39.9.59 1.41.59.51 0 1.02-.2 1.41-.59l7.78-7.78 2.81-2.81c.8-.78.8-2.07 0-2.86zM5.41 20L4 18.59l7.72-7.72 1.47 1.35L5.41 20z\"/>\n",
              "  </svg>\n",
              "      </button>\n",
              "      \n",
              "  <style>\n",
              "    .colab-df-container {\n",
              "      display:flex;\n",
              "      flex-wrap:wrap;\n",
              "      gap: 12px;\n",
              "    }\n",
              "\n",
              "    .colab-df-convert {\n",
              "      background-color: #E8F0FE;\n",
              "      border: none;\n",
              "      border-radius: 50%;\n",
              "      cursor: pointer;\n",
              "      display: none;\n",
              "      fill: #1967D2;\n",
              "      height: 32px;\n",
              "      padding: 0 0 0 0;\n",
              "      width: 32px;\n",
              "    }\n",
              "\n",
              "    .colab-df-convert:hover {\n",
              "      background-color: #E2EBFA;\n",
              "      box-shadow: 0px 1px 2px rgba(60, 64, 67, 0.3), 0px 1px 3px 1px rgba(60, 64, 67, 0.15);\n",
              "      fill: #174EA6;\n",
              "    }\n",
              "\n",
              "    [theme=dark] .colab-df-convert {\n",
              "      background-color: #3B4455;\n",
              "      fill: #D2E3FC;\n",
              "    }\n",
              "\n",
              "    [theme=dark] .colab-df-convert:hover {\n",
              "      background-color: #434B5C;\n",
              "      box-shadow: 0px 1px 3px 1px rgba(0, 0, 0, 0.15);\n",
              "      filter: drop-shadow(0px 1px 2px rgba(0, 0, 0, 0.3));\n",
              "      fill: #FFFFFF;\n",
              "    }\n",
              "  </style>\n",
              "\n",
              "      <script>\n",
              "        const buttonEl =\n",
              "          document.querySelector('#df-7094049d-1126-432f-8756-48f5b15ea3f7 button.colab-df-convert');\n",
              "        buttonEl.style.display =\n",
              "          google.colab.kernel.accessAllowed ? 'block' : 'none';\n",
              "\n",
              "        async function convertToInteractive(key) {\n",
              "          const element = document.querySelector('#df-7094049d-1126-432f-8756-48f5b15ea3f7');\n",
              "          const dataTable =\n",
              "            await google.colab.kernel.invokeFunction('convertToInteractive',\n",
              "                                                     [key], {});\n",
              "          if (!dataTable) return;\n",
              "\n",
              "          const docLinkHtml = 'Like what you see? Visit the ' +\n",
              "            '<a target=\"_blank\" href=https://colab.research.google.com/notebooks/data_table.ipynb>data table notebook</a>'\n",
              "            + ' to learn more about interactive tables.';\n",
              "          element.innerHTML = '';\n",
              "          dataTable['output_type'] = 'display_data';\n",
              "          await google.colab.output.renderOutput(dataTable, element);\n",
              "          const docLink = document.createElement('div');\n",
              "          docLink.innerHTML = docLinkHtml;\n",
              "          element.appendChild(docLink);\n",
              "        }\n",
              "      </script>\n",
              "    </div>\n",
              "  </div>\n",
              "  "
            ]
          },
          "metadata": {},
          "execution_count": 68
        }
      ]
    },
    {
      "cell_type": "code",
      "source": [
        "Conf_Mat = confusion_matrix(y_test, y_pred)\n",
        "figs, axes = plt.subplots(1,2, figsize=(12,4))\n",
        "labels = ['No Fraud', 'Fraud']\n",
        "disp = plot_confusion_matrix(rf, X_test, y_test, display_labels=labels, cmap=plt.cm.Reds, ax=axes[0])\n",
        "\n",
        "Class_rep = classification_report(y_test, y_pred)\n",
        "print(Class_rep)\n",
        "\n",
        "fpr, tpr, Threshold = roc_curve(y_test, y_pred_prob)\n",
        "plt.title('Random Forest UnderSampling')\n",
        "plt.plot(fpr, tpr, 'b',label='AUC = %0.2f'% roc_auc_score(y_test, y_pred_prob))\n",
        "plt.legend(loc='lower right')\n",
        "plt.plot([0,1],[0,1],'r--')\n",
        "plt.xlim([-0.1,1.0])\n",
        "plt.ylim([-0.1,1.01])\n",
        "plt.ylabel('True Positive Rate')\n",
        "plt.xlabel('False Positive Rate')\n",
        "plt.show()"
      ],
      "metadata": {
        "colab": {
          "base_uri": "https://localhost:8080/",
          "height": 451
        },
        "id": "uKx5E0_Q4DF6",
        "outputId": "ddee3dc7-abcb-4f76-c46d-d1e7c89b342f"
      },
      "execution_count": null,
      "outputs": [
        {
          "output_type": "stream",
          "name": "stdout",
          "text": [
            "              precision    recall  f1-score   support\n",
            "\n",
            "           0       0.72      0.68      0.70      2188\n",
            "           1       0.69      0.74      0.71      2169\n",
            "\n",
            "    accuracy                           0.71      4357\n",
            "   macro avg       0.71      0.71      0.71      4357\n",
            "weighted avg       0.71      0.71      0.71      4357\n",
            "\n"
          ]
        },
        {
          "output_type": "display_data",
          "data": {
            "text/plain": [
              "<Figure size 864x288 with 3 Axes>"
            ],
            "image/png": "[encoded data removed]"
          },
          "metadata": {
            "needs_background": "light"
          }
        }
      ]
    },
    {
      "cell_type": "markdown",
      "source": [
        "## OverSampling"
      ],
      "metadata": {
        "id": "lPMWhY2yPQai"
      }
    },
    {
      "cell_type": "code",
      "source": [
        "X_train,X_test,y_train,y_test  = resampling(df,RandomOverSampler())"
      ],
      "metadata": {
        "id": "X32_yoZLPW1L"
      },
      "execution_count": null,
      "outputs": []
    },
    {
      "cell_type": "markdown",
      "source": [
        "Logistic Regression"
      ],
      "metadata": {
        "id": "OKddMfk4PlxV"
      }
    },
    {
      "cell_type": "code",
      "source": [
        "accuracy= []\n",
        "recall =[]\n",
        "auc= []\n",
        "precision = []\n",
        "\n",
        "\n",
        "logreg = LogisticRegression(max_iter=1000)\n",
        "logreg.fit(X_train, y_train)\n",
        "y_pred=logreg.predict(X_test)\n",
        "\n",
        "y_pred_prob = logreg.predict_proba(X_test)[::,1]\n",
        "\n",
        "\n",
        "accuracy.append(round(accuracy_score(y_test, y_pred),2))\n",
        "recall.append(round(recall_score(y_test, y_pred),2))\n",
        "auc.append(round(roc_auc_score(y_test,y_pred_prob),2))\n",
        "precision.append(round(precision_score(y_test, y_pred),2))\n",
        "\n",
        "model_names = ['LogisticRegression_OverSampling']\n",
        "overlog = pd.DataFrame({'Accuracy':accuracy,'Recall':recall,'ROC_AUC':auc, 'Precision':precision}, index=model_names)\n",
        "overlog"
      ],
      "metadata": {
        "id": "2lzGlFYxPpYz",
        "colab": {
          "base_uri": "https://localhost:8080/",
          "height": 81
        },
        "outputId": "de4d07b6-f20f-4320-8a11-82b6a641675f"
      },
      "execution_count": null,
      "outputs": [
        {
          "output_type": "execute_result",
          "data": {
            "text/plain": [
              "                                 Accuracy  Recall  ROC_AUC  Precision\n",
              "LogisticRegression_OverSampling      0.68    0.72     0.74       0.67"
            ],
            "text/html": [
              "\n",
              "  <div id=\"df-b36d3d2e-c80a-44d4-8e79-b4aa2982442d\">\n",
              "    <div class=\"colab-df-container\">\n",
              "      <div>\n",
              "<style scoped>\n",
              "    .dataframe tbody tr th:only-of-type {\n",
              "        vertical-align: middle;\n",
              "    }\n",
              "\n",
              "    .dataframe tbody tr th {\n",
              "        vertical-align: top;\n",
              "    }\n",
              "\n",
              "    .dataframe thead th {\n",
              "        text-align: right;\n",
              "    }\n",
              "</style>\n",
              "<table border=\"1\" class=\"dataframe\">\n",
              "  <thead>\n",
              "    <tr style=\"text-align: right;\">\n",
              "      <th></th>\n",
              "      <th>Accuracy</th>\n",
              "      <th>Recall</th>\n",
              "      <th>ROC_AUC</th>\n",
              "      <th>Precision</th>\n",
              "    </tr>\n",
              "  </thead>\n",
              "  <tbody>\n",
              "    <tr>\n",
              "      <th>LogisticRegression_OverSampling</th>\n",
              "      <td>0.68</td>\n",
              "      <td>0.72</td>\n",
              "      <td>0.74</td>\n",
              "      <td>0.67</td>\n",
              "    </tr>\n",
              "  </tbody>\n",
              "</table>\n",
              "</div>\n",
              "      <button class=\"colab-df-convert\" onclick=\"convertToInteractive('df-b36d3d2e-c80a-44d4-8e79-b4aa2982442d')\"\n",
              "              title=\"Convert this dataframe to an interactive table.\"\n",
              "              style=\"display:none;\">\n",
              "        \n",
              "  <svg xmlns=\"http://www.w3.org/2000/svg\" height=\"24px\"viewBox=\"0 0 24 24\"\n",
              "       width=\"24px\">\n",
              "    <path d=\"M0 0h24v24H0V0z\" fill=\"none\"/>\n",
              "    <path d=\"M18.56 5.44l.94 2.06.94-2.06 2.06-.94-2.06-.94-.94-2.06-.94 2.06-2.06.94zm-11 1L8.5 8.5l.94-2.06 2.06-.94-2.06-.94L8.5 2.5l-.94 2.06-2.06.94zm10 10l.94 2.06.94-2.06 2.06-.94-2.06-.94-.94-2.06-.94 2.06-2.06.94z\"/><path d=\"M17.41 7.96l-1.37-1.37c-.4-.4-.92-.59-1.43-.59-.52 0-1.04.2-1.43.59L10.3 9.45l-7.72 7.72c-.78.78-.78 2.05 0 2.83L4 21.41c.39.39.9.59 1.41.59.51 0 1.02-.2 1.41-.59l7.78-7.78 2.81-2.81c.8-.78.8-2.07 0-2.86zM5.41 20L4 18.59l7.72-7.72 1.47 1.35L5.41 20z\"/>\n",
              "  </svg>\n",
              "      </button>\n",
              "      \n",
              "  <style>\n",
              "    .colab-df-container {\n",
              "      display:flex;\n",
              "      flex-wrap:wrap;\n",
              "      gap: 12px;\n",
              "    }\n",
              "\n",
              "    .colab-df-convert {\n",
              "      background-color: #E8F0FE;\n",
              "      border: none;\n",
              "      border-radius: 50%;\n",
              "      cursor: pointer;\n",
              "      display: none;\n",
              "      fill: #1967D2;\n",
              "      height: 32px;\n",
              "      padding: 0 0 0 0;\n",
              "      width: 32px;\n",
              "    }\n",
              "\n",
              "    .colab-df-convert:hover {\n",
              "      background-color: #E2EBFA;\n",
              "      box-shadow: 0px 1px 2px rgba(60, 64, 67, 0.3), 0px 1px 3px 1px rgba(60, 64, 67, 0.15);\n",
              "      fill: #174EA6;\n",
              "    }\n",
              "\n",
              "    [theme=dark] .colab-df-convert {\n",
              "      background-color: #3B4455;\n",
              "      fill: #D2E3FC;\n",
              "    }\n",
              "\n",
              "    [theme=dark] .colab-df-convert:hover {\n",
              "      background-color: #434B5C;\n",
              "      box-shadow: 0px 1px 3px 1px rgba(0, 0, 0, 0.15);\n",
              "      filter: drop-shadow(0px 1px 2px rgba(0, 0, 0, 0.3));\n",
              "      fill: #FFFFFF;\n",
              "    }\n",
              "  </style>\n",
              "\n",
              "      <script>\n",
              "        const buttonEl =\n",
              "          document.querySelector('#df-b36d3d2e-c80a-44d4-8e79-b4aa2982442d button.colab-df-convert');\n",
              "        buttonEl.style.display =\n",
              "          google.colab.kernel.accessAllowed ? 'block' : 'none';\n",
              "\n",
              "        async function convertToInteractive(key) {\n",
              "          const element = document.querySelector('#df-b36d3d2e-c80a-44d4-8e79-b4aa2982442d');\n",
              "          const dataTable =\n",
              "            await google.colab.kernel.invokeFunction('convertToInteractive',\n",
              "                                                     [key], {});\n",
              "          if (!dataTable) return;\n",
              "\n",
              "          const docLinkHtml = 'Like what you see? Visit the ' +\n",
              "            '<a target=\"_blank\" href=https://colab.research.google.com/notebooks/data_table.ipynb>data table notebook</a>'\n",
              "            + ' to learn more about interactive tables.';\n",
              "          element.innerHTML = '';\n",
              "          dataTable['output_type'] = 'display_data';\n",
              "          await google.colab.output.renderOutput(dataTable, element);\n",
              "          const docLink = document.createElement('div');\n",
              "          docLink.innerHTML = docLinkHtml;\n",
              "          element.appendChild(docLink);\n",
              "        }\n",
              "      </script>\n",
              "    </div>\n",
              "  </div>\n",
              "  "
            ]
          },
          "metadata": {},
          "execution_count": 71
        }
      ]
    },
    {
      "cell_type": "code",
      "source": [
        "Conf_Mat = confusion_matrix(y_test, y_pred)\n",
        "figs, axes = plt.subplots(1,2, figsize=(12,4))\n",
        "labels = ['No Fraud', 'Fraud']\n",
        "disp = plot_confusion_matrix(logreg, X_test, y_test, display_labels=labels, cmap=plt.cm.Reds, ax=axes[0])\n",
        "\n",
        "Class_rep = classification_report(y_test, y_pred)\n",
        "print(Class_rep)\n",
        "\n",
        "fpr, tpr, Threshold = roc_curve(y_test, y_pred_prob)\n",
        "plt.title('Logistic Regression OverSampling')\n",
        "plt.plot(fpr, tpr, 'b',label='AUC = %0.2f'% roc_auc_score(y_test, y_pred_prob))\n",
        "plt.legend(loc='lower right')\n",
        "plt.plot([0,1],[0,1],'r--')\n",
        "plt.xlim([-0.1,1.0])\n",
        "plt.ylim([-0.1,1.01])\n",
        "plt.ylabel('True Positive Rate')\n",
        "plt.xlabel('False Positive Rate')\n",
        "plt.show()"
      ],
      "metadata": {
        "colab": {
          "base_uri": "https://localhost:8080/",
          "height": 451
        },
        "id": "iC7wsauz4pLM",
        "outputId": "95ffbce6-f826-4ac4-ddae-02f3c4216d87"
      },
      "execution_count": null,
      "outputs": [
        {
          "output_type": "stream",
          "name": "stdout",
          "text": [
            "              precision    recall  f1-score   support\n",
            "\n",
            "           0       0.69      0.64      0.67    124177\n",
            "           1       0.67      0.72      0.69    125005\n",
            "\n",
            "    accuracy                           0.68    249182\n",
            "   macro avg       0.68      0.68      0.68    249182\n",
            "weighted avg       0.68      0.68      0.68    249182\n",
            "\n"
          ]
        },
        {
          "output_type": "display_data",
          "data": {
            "text/plain": [
              "<Figure size 864x288 with 3 Axes>"
            ],
            "image/png": "[encoded data removed]"
          },
          "metadata": {
            "needs_background": "light"
          }
        }
      ]
    },
    {
      "cell_type": "markdown",
      "source": [
        "Gradient Boosting"
      ],
      "metadata": {
        "id": "9RTGy67oPp0b"
      }
    },
    {
      "cell_type": "code",
      "source": [
        "accuracy= []\n",
        "recall =[]\n",
        "auc= []\n",
        "precision = []\n",
        "\n",
        "\n",
        "gb = GradientBoostingClassifier()\n",
        "gb.fit(X_train,y_train)\n",
        "y_pred = gb.predict(X_test)\n",
        "\n",
        "y_pred_prob = gb.predict_proba(X_test)[::,1]\n",
        "\n",
        "\n",
        "accuracy.append(round(accuracy_score(y_test, y_pred),2))\n",
        "recall.append(round(recall_score(y_test, y_pred),2))\n",
        "auc.append(round(roc_auc_score(y_test,y_pred_prob),2))\n",
        "precision.append(round(precision_score(y_test, y_pred),2))\n",
        "\n",
        "\n",
        "model_names = ['GradientBoosting_OverSampling']\n",
        "overgb = pd.DataFrame({'Accuracy':accuracy,'Recall':recall,'ROC_AUC':auc, 'Precision':precision}, index=model_names)\n",
        "overgb"
      ],
      "metadata": {
        "id": "zrgENcZGP0t4",
        "colab": {
          "base_uri": "https://localhost:8080/",
          "height": 81
        },
        "outputId": "bff64f70-6d97-4b93-d9b1-96fe20688327"
      },
      "execution_count": null,
      "outputs": [
        {
          "output_type": "execute_result",
          "data": {
            "text/plain": [
              "                               Accuracy  Recall  ROC_AUC  Precision\n",
              "GradientBoosting_OverSampling       0.7    0.71     0.77       0.69"
            ],
            "text/html": [
              "\n",
              "  <div id=\"df-35f50b93-8324-4e31-9a74-b2e09f51fabb\">\n",
              "    <div class=\"colab-df-container\">\n",
              "      <div>\n",
              "<style scoped>\n",
              "    .dataframe tbody tr th:only-of-type {\n",
              "        vertical-align: middle;\n",
              "    }\n",
              "\n",
              "    .dataframe tbody tr th {\n",
              "        vertical-align: top;\n",
              "    }\n",
              "\n",
              "    .dataframe thead th {\n",
              "        text-align: right;\n",
              "    }\n",
              "</style>\n",
              "<table border=\"1\" class=\"dataframe\">\n",
              "  <thead>\n",
              "    <tr style=\"text-align: right;\">\n",
              "      <th></th>\n",
              "      <th>Accuracy</th>\n",
              "      <th>Recall</th>\n",
              "      <th>ROC_AUC</th>\n",
              "      <th>Precision</th>\n",
              "    </tr>\n",
              "  </thead>\n",
              "  <tbody>\n",
              "    <tr>\n",
              "      <th>GradientBoosting_OverSampling</th>\n",
              "      <td>0.7</td>\n",
              "      <td>0.71</td>\n",
              "      <td>0.77</td>\n",
              "      <td>0.69</td>\n",
              "    </tr>\n",
              "  </tbody>\n",
              "</table>\n",
              "</div>\n",
              "      <button class=\"colab-df-convert\" onclick=\"convertToInteractive('df-35f50b93-8324-4e31-9a74-b2e09f51fabb')\"\n",
              "              title=\"Convert this dataframe to an interactive table.\"\n",
              "              style=\"display:none;\">\n",
              "        \n",
              "  <svg xmlns=\"http://www.w3.org/2000/svg\" height=\"24px\"viewBox=\"0 0 24 24\"\n",
              "       width=\"24px\">\n",
              "    <path d=\"M0 0h24v24H0V0z\" fill=\"none\"/>\n",
              "    <path d=\"M18.56 5.44l.94 2.06.94-2.06 2.06-.94-2.06-.94-.94-2.06-.94 2.06-2.06.94zm-11 1L8.5 8.5l.94-2.06 2.06-.94-2.06-.94L8.5 2.5l-.94 2.06-2.06.94zm10 10l.94 2.06.94-2.06 2.06-.94-2.06-.94-.94-2.06-.94 2.06-2.06.94z\"/><path d=\"M17.41 7.96l-1.37-1.37c-.4-.4-.92-.59-1.43-.59-.52 0-1.04.2-1.43.59L10.3 9.45l-7.72 7.72c-.78.78-.78 2.05 0 2.83L4 21.41c.39.39.9.59 1.41.59.51 0 1.02-.2 1.41-.59l7.78-7.78 2.81-2.81c.8-.78.8-2.07 0-2.86zM5.41 20L4 18.59l7.72-7.72 1.47 1.35L5.41 20z\"/>\n",
              "  </svg>\n",
              "      </button>\n",
              "      \n",
              "  <style>\n",
              "    .colab-df-container {\n",
              "      display:flex;\n",
              "      flex-wrap:wrap;\n",
              "      gap: 12px;\n",
              "    }\n",
              "\n",
              "    .colab-df-convert {\n",
              "      background-color: #E8F0FE;\n",
              "      border: none;\n",
              "      border-radius: 50%;\n",
              "      cursor: pointer;\n",
              "      display: none;\n",
              "      fill: #1967D2;\n",
              "      height: 32px;\n",
              "      padding: 0 0 0 0;\n",
              "      width: 32px;\n",
              "    }\n",
              "\n",
              "    .colab-df-convert:hover {\n",
              "      background-color: #E2EBFA;\n",
              "      box-shadow: 0px 1px 2px rgba(60, 64, 67, 0.3), 0px 1px 3px 1px rgba(60, 64, 67, 0.15);\n",
              "      fill: #174EA6;\n",
              "    }\n",
              "\n",
              "    [theme=dark] .colab-df-convert {\n",
              "      background-color: #3B4455;\n",
              "      fill: #D2E3FC;\n",
              "    }\n",
              "\n",
              "    [theme=dark] .colab-df-convert:hover {\n",
              "      background-color: #434B5C;\n",
              "      box-shadow: 0px 1px 3px 1px rgba(0, 0, 0, 0.15);\n",
              "      filter: drop-shadow(0px 1px 2px rgba(0, 0, 0, 0.3));\n",
              "      fill: #FFFFFF;\n",
              "    }\n",
              "  </style>\n",
              "\n",
              "      <script>\n",
              "        const buttonEl =\n",
              "          document.querySelector('#df-35f50b93-8324-4e31-9a74-b2e09f51fabb button.colab-df-convert');\n",
              "        buttonEl.style.display =\n",
              "          google.colab.kernel.accessAllowed ? 'block' : 'none';\n",
              "\n",
              "        async function convertToInteractive(key) {\n",
              "          const element = document.querySelector('#df-35f50b93-8324-4e31-9a74-b2e09f51fabb');\n",
              "          const dataTable =\n",
              "            await google.colab.kernel.invokeFunction('convertToInteractive',\n",
              "                                                     [key], {});\n",
              "          if (!dataTable) return;\n",
              "\n",
              "          const docLinkHtml = 'Like what you see? Visit the ' +\n",
              "            '<a target=\"_blank\" href=https://colab.research.google.com/notebooks/data_table.ipynb>data table notebook</a>'\n",
              "            + ' to learn more about interactive tables.';\n",
              "          element.innerHTML = '';\n",
              "          dataTable['output_type'] = 'display_data';\n",
              "          await google.colab.output.renderOutput(dataTable, element);\n",
              "          const docLink = document.createElement('div');\n",
              "          docLink.innerHTML = docLinkHtml;\n",
              "          element.appendChild(docLink);\n",
              "        }\n",
              "      </script>\n",
              "    </div>\n",
              "  </div>\n",
              "  "
            ]
          },
          "metadata": {},
          "execution_count": 73
        }
      ]
    },
    {
      "cell_type": "code",
      "source": [
        "Conf_Mat = confusion_matrix(y_test, y_pred)\n",
        "figs, axes = plt.subplots(1,2, figsize=(12,4))\n",
        "labels = ['No Fraud', 'Fraud']\n",
        "disp = plot_confusion_matrix(gb, X_test, y_test, display_labels=labels, cmap=plt.cm.Reds, ax=axes[0])\n",
        "\n",
        "Class_rep = classification_report(y_test, y_pred)\n",
        "print(Class_rep)\n",
        "\n",
        "fpr, tpr, Threshold = roc_curve(y_test, y_pred_prob)\n",
        "plt.title('Gradient Boosting OverSampling')\n",
        "plt.plot(fpr, tpr, 'b',label='AUC = %0.2f'% roc_auc_score(y_test, y_pred_prob))\n",
        "plt.legend(loc='lower right')\n",
        "plt.plot([0,1],[0,1],'r--')\n",
        "plt.xlim([-0.1,1.0])\n",
        "plt.ylim([-0.1,1.01])\n",
        "plt.ylabel('True Positive Rate')\n",
        "plt.xlabel('False Positive Rate')\n",
        "plt.show()"
      ],
      "metadata": {
        "colab": {
          "base_uri": "https://localhost:8080/"
        },
        "id": "oaRnBTUv4tOr",
        "outputId": "bdac6826-4f47-4b94-99d0-4c810ee795c5"
      },
      "execution_count": null,
      "outputs": [
        {
          "output_type": "stream",
          "name": "stdout",
          "text": [
            "              precision    recall  f1-score   support\n",
            "\n",
            "           0       0.70      0.68      0.69    124177\n",
            "           1       0.69      0.71      0.70    125005\n",
            "\n",
            "    accuracy                           0.70    249182\n",
            "   macro avg       0.70      0.70      0.70    249182\n",
            "weighted avg       0.70      0.70      0.70    249182\n",
            "\n"
          ]
        },
        {
          "output_type": "display_data",
          "data": {
            "text/plain": [
              "<Figure size 864x288 with 3 Axes>"
            ],
            "image/png": "[encoded data removed]"
          },
          "metadata": {
            "needs_background": "light"
          }
        }
      ]
    },
    {
      "cell_type": "markdown",
      "source": [
        "XGBoost Classifier"
      ],
      "metadata": {
        "id": "4FIN4iIXP09O"
      }
    },
    {
      "cell_type": "code",
      "source": [
        "accuracy= []\n",
        "recall =[]\n",
        "auc= []\n",
        "precision = []\n",
        "\n",
        "\n",
        "xgbc_base = XGBClassifier(random_state=0)\n",
        "xgbc_base.fit(X_train,y_train)\n",
        "y_pred = xgbc_base.predict(X_test)\n",
        "\n",
        "y_pred_prob = xgbc_base.predict_proba(X_test)[::,1]\n",
        "\n",
        "accuracy.append(round(accuracy_score(y_test, y_pred),2))\n",
        "recall.append(round(recall_score(y_test, y_pred),2))\n",
        "auc.append(round(roc_auc_score(y_test,y_pred_prob),2))\n",
        "precision.append(round(precision_score(y_test, y_pred),2))\n",
        "\n",
        "model_names = ['XGBoost_OverSampling']\n",
        "overxgbc = pd.DataFrame({'Accuracy':accuracy,'Recall':recall,'ROC_AUC':auc, 'Precision':precision}, index=model_names)\n",
        "overxgbc"
      ],
      "metadata": {
        "id": "HwQgZaNmP5BC",
        "colab": {
          "base_uri": "https://localhost:8080/"
        },
        "outputId": "019a5df0-cd4e-4390-e0f2-c19598624312"
      },
      "execution_count": null,
      "outputs": [
        {
          "output_type": "execute_result",
          "data": {
            "text/plain": [
              "                      Accuracy  Recall  ROC_AUC  Precision\n",
              "XGBoost_OverSampling       0.7    0.71     0.76       0.69"
            ],
            "text/html": [
              "\n",
              "  <div id=\"df-0a877d00-bd6c-467a-8dd4-e26d11d19da8\">\n",
              "    <div class=\"colab-df-container\">\n",
              "      <div>\n",
              "<style scoped>\n",
              "    .dataframe tbody tr th:only-of-type {\n",
              "        vertical-align: middle;\n",
              "    }\n",
              "\n",
              "    .dataframe tbody tr th {\n",
              "        vertical-align: top;\n",
              "    }\n",
              "\n",
              "    .dataframe thead th {\n",
              "        text-align: right;\n",
              "    }\n",
              "</style>\n",
              "<table border=\"1\" class=\"dataframe\">\n",
              "  <thead>\n",
              "    <tr style=\"text-align: right;\">\n",
              "      <th></th>\n",
              "      <th>Accuracy</th>\n",
              "      <th>Recall</th>\n",
              "      <th>ROC_AUC</th>\n",
              "      <th>Precision</th>\n",
              "    </tr>\n",
              "  </thead>\n",
              "  <tbody>\n",
              "    <tr>\n",
              "      <th>XGBoost_OverSampling</th>\n",
              "      <td>0.7</td>\n",
              "      <td>0.71</td>\n",
              "      <td>0.76</td>\n",
              "      <td>0.69</td>\n",
              "    </tr>\n",
              "  </tbody>\n",
              "</table>\n",
              "</div>\n",
              "      <button class=\"colab-df-convert\" onclick=\"convertToInteractive('df-0a877d00-bd6c-467a-8dd4-e26d11d19da8')\"\n",
              "              title=\"Convert this dataframe to an interactive table.\"\n",
              "              style=\"display:none;\">\n",
              "        \n",
              "  <svg xmlns=\"http://www.w3.org/2000/svg\" height=\"24px\"viewBox=\"0 0 24 24\"\n",
              "       width=\"24px\">\n",
              "    <path d=\"M0 0h24v24H0V0z\" fill=\"none\"/>\n",
              "    <path d=\"M18.56 5.44l.94 2.06.94-2.06 2.06-.94-2.06-.94-.94-2.06-.94 2.06-2.06.94zm-11 1L8.5 8.5l.94-2.06 2.06-.94-2.06-.94L8.5 2.5l-.94 2.06-2.06.94zm10 10l.94 2.06.94-2.06 2.06-.94-2.06-.94-.94-2.06-.94 2.06-2.06.94z\"/><path d=\"M17.41 7.96l-1.37-1.37c-.4-.4-.92-.59-1.43-.59-.52 0-1.04.2-1.43.59L10.3 9.45l-7.72 7.72c-.78.78-.78 2.05 0 2.83L4 21.41c.39.39.9.59 1.41.59.51 0 1.02-.2 1.41-.59l7.78-7.78 2.81-2.81c.8-.78.8-2.07 0-2.86zM5.41 20L4 18.59l7.72-7.72 1.47 1.35L5.41 20z\"/>\n",
              "  </svg>\n",
              "      </button>\n",
              "      \n",
              "  <style>\n",
              "    .colab-df-container {\n",
              "      display:flex;\n",
              "      flex-wrap:wrap;\n",
              "      gap: 12px;\n",
              "    }\n",
              "\n",
              "    .colab-df-convert {\n",
              "      background-color: #E8F0FE;\n",
              "      border: none;\n",
              "      border-radius: 50%;\n",
              "      cursor: pointer;\n",
              "      display: none;\n",
              "      fill: #1967D2;\n",
              "      height: 32px;\n",
              "      padding: 0 0 0 0;\n",
              "      width: 32px;\n",
              "    }\n",
              "\n",
              "    .colab-df-convert:hover {\n",
              "      background-color: #E2EBFA;\n",
              "      box-shadow: 0px 1px 2px rgba(60, 64, 67, 0.3), 0px 1px 3px 1px rgba(60, 64, 67, 0.15);\n",
              "      fill: #174EA6;\n",
              "    }\n",
              "\n",
              "    [theme=dark] .colab-df-convert {\n",
              "      background-color: #3B4455;\n",
              "      fill: #D2E3FC;\n",
              "    }\n",
              "\n",
              "    [theme=dark] .colab-df-convert:hover {\n",
              "      background-color: #434B5C;\n",
              "      box-shadow: 0px 1px 3px 1px rgba(0, 0, 0, 0.15);\n",
              "      filter: drop-shadow(0px 1px 2px rgba(0, 0, 0, 0.3));\n",
              "      fill: #FFFFFF;\n",
              "    }\n",
              "  </style>\n",
              "\n",
              "      <script>\n",
              "        const buttonEl =\n",
              "          document.querySelector('#df-0a877d00-bd6c-467a-8dd4-e26d11d19da8 button.colab-df-convert');\n",
              "        buttonEl.style.display =\n",
              "          google.colab.kernel.accessAllowed ? 'block' : 'none';\n",
              "\n",
              "        async function convertToInteractive(key) {\n",
              "          const element = document.querySelector('#df-0a877d00-bd6c-467a-8dd4-e26d11d19da8');\n",
              "          const dataTable =\n",
              "            await google.colab.kernel.invokeFunction('convertToInteractive',\n",
              "                                                     [key], {});\n",
              "          if (!dataTable) return;\n",
              "\n",
              "          const docLinkHtml = 'Like what you see? Visit the ' +\n",
              "            '<a target=\"_blank\" href=https://colab.research.google.com/notebooks/data_table.ipynb>data table notebook</a>'\n",
              "            + ' to learn more about interactive tables.';\n",
              "          element.innerHTML = '';\n",
              "          dataTable['output_type'] = 'display_data';\n",
              "          await google.colab.output.renderOutput(dataTable, element);\n",
              "          const docLink = document.createElement('div');\n",
              "          docLink.innerHTML = docLinkHtml;\n",
              "          element.appendChild(docLink);\n",
              "        }\n",
              "      </script>\n",
              "    </div>\n",
              "  </div>\n",
              "  "
            ]
          },
          "metadata": {},
          "execution_count": 75
        }
      ]
    },
    {
      "cell_type": "code",
      "source": [
        "Conf_Mat = confusion_matrix(y_test, y_pred)\n",
        "figs, axes = plt.subplots(1,2, figsize=(12,4))\n",
        "labels = ['No Fraud', 'Fraud']\n",
        "disp = plot_confusion_matrix(xgbc_base, X_test, y_test, display_labels=labels, cmap=plt.cm.Reds, ax=axes[0])\n",
        "\n",
        "Class_rep = classification_report(y_test, y_pred)\n",
        "print(Class_rep)\n",
        "\n",
        "fpr, tpr, Threshold = roc_curve(y_test, y_pred_prob)\n",
        "plt.title('XGBoost OverSampling')\n",
        "plt.plot(fpr, tpr, 'b',label='AUC = %0.2f'% roc_auc_score(y_test, y_pred_prob))\n",
        "plt.legend(loc='lower right')\n",
        "plt.plot([0,1],[0,1],'r--')\n",
        "plt.xlim([-0.1,1.0])\n",
        "plt.ylim([-0.1,1.01])\n",
        "plt.ylabel('True Positive Rate')\n",
        "plt.xlabel('False Positive Rate')\n",
        "plt.show()"
      ],
      "metadata": {
        "colab": {
          "base_uri": "https://localhost:8080/"
        },
        "id": "E4MindjG47ok",
        "outputId": "1ad3264f-5756-44d6-cd4f-b03a32b6981f"
      },
      "execution_count": null,
      "outputs": [
        {
          "output_type": "stream",
          "name": "stdout",
          "text": [
            "              precision    recall  f1-score   support\n",
            "\n",
            "           0       0.70      0.68      0.69    124177\n",
            "           1       0.69      0.71      0.70    125005\n",
            "\n",
            "    accuracy                           0.70    249182\n",
            "   macro avg       0.70      0.70      0.70    249182\n",
            "weighted avg       0.70      0.70      0.70    249182\n",
            "\n"
          ]
        },
        {
          "output_type": "display_data",
          "data": {
            "text/plain": [
              "<Figure size 864x288 with 3 Axes>"
            ],
            "image/png": "[encoded data removed]"
          },
          "metadata": {
            "needs_background": "light"
          }
        }
      ]
    },
    {
      "cell_type": "markdown",
      "source": [
        "Random Forest"
      ],
      "metadata": {
        "id": "4M4GZCD3P5Yp"
      }
    },
    {
      "cell_type": "code",
      "source": [
        "accuracy= []\n",
        "recall =[]\n",
        "auc= []\n",
        "precision = []\n",
        "\n",
        "rf = RandomForestClassifier(n_estimators = 200)\n",
        "rf.fit(X_train, y_train)\n",
        "y_pred = rf.predict(X_test)\n",
        "\n",
        "y_pred_prob = rf.predict_proba(X_test)[::,1]\n",
        "\n",
        "\n",
        "accuracy.append(round(accuracy_score(y_test, y_pred),2))\n",
        "recall.append(round(recall_score(y_test, y_pred),2))\n",
        "auc.append(round(roc_auc_score(y_test,y_pred_prob),2))\n",
        "precision.append(round(precision_score(y_test, y_pred),2))\n",
        "\n",
        "model_names = ['RandomForest_OverSampling']\n",
        "overrf = pd.DataFrame({'Accuracy':accuracy,'Recall':recall,'ROC_AUC':auc, 'Precision':precision}, index=model_names)\n",
        "overrf"
      ],
      "metadata": {
        "id": "sWIDLNzoP7zC",
        "colab": {
          "base_uri": "https://localhost:8080/",
          "height": 81
        },
        "outputId": "35fe9659-ecd2-4d7f-a551-c1ea93c9ffd5"
      },
      "execution_count": null,
      "outputs": [
        {
          "output_type": "execute_result",
          "data": {
            "text/plain": [
              "                           Accuracy  Recall  ROC_AUC  Precision\n",
              "RandomForest_OverSampling       1.0     1.0      1.0        1.0"
            ],
            "text/html": [
              "\n",
              "  <div id=\"df-f21ceb3e-3e54-4969-8bf5-ccc584bbc2d7\">\n",
              "    <div class=\"colab-df-container\">\n",
              "      <div>\n",
              "<style scoped>\n",
              "    .dataframe tbody tr th:only-of-type {\n",
              "        vertical-align: middle;\n",
              "    }\n",
              "\n",
              "    .dataframe tbody tr th {\n",
              "        vertical-align: top;\n",
              "    }\n",
              "\n",
              "    .dataframe thead th {\n",
              "        text-align: right;\n",
              "    }\n",
              "</style>\n",
              "<table border=\"1\" class=\"dataframe\">\n",
              "  <thead>\n",
              "    <tr style=\"text-align: right;\">\n",
              "      <th></th>\n",
              "      <th>Accuracy</th>\n",
              "      <th>Recall</th>\n",
              "      <th>ROC_AUC</th>\n",
              "      <th>Precision</th>\n",
              "    </tr>\n",
              "  </thead>\n",
              "  <tbody>\n",
              "    <tr>\n",
              "      <th>RandomForest_OverSampling</th>\n",
              "      <td>1.0</td>\n",
              "      <td>1.0</td>\n",
              "      <td>1.0</td>\n",
              "      <td>1.0</td>\n",
              "    </tr>\n",
              "  </tbody>\n",
              "</table>\n",
              "</div>\n",
              "      <button class=\"colab-df-convert\" onclick=\"convertToInteractive('df-f21ceb3e-3e54-4969-8bf5-ccc584bbc2d7')\"\n",
              "              title=\"Convert this dataframe to an interactive table.\"\n",
              "              style=\"display:none;\">\n",
              "        \n",
              "  <svg xmlns=\"http://www.w3.org/2000/svg\" height=\"24px\"viewBox=\"0 0 24 24\"\n",
              "       width=\"24px\">\n",
              "    <path d=\"M0 0h24v24H0V0z\" fill=\"none\"/>\n",
              "    <path d=\"M18.56 5.44l.94 2.06.94-2.06 2.06-.94-2.06-.94-.94-2.06-.94 2.06-2.06.94zm-11 1L8.5 8.5l.94-2.06 2.06-.94-2.06-.94L8.5 2.5l-.94 2.06-2.06.94zm10 10l.94 2.06.94-2.06 2.06-.94-2.06-.94-.94-2.06-.94 2.06-2.06.94z\"/><path d=\"M17.41 7.96l-1.37-1.37c-.4-.4-.92-.59-1.43-.59-.52 0-1.04.2-1.43.59L10.3 9.45l-7.72 7.72c-.78.78-.78 2.05 0 2.83L4 21.41c.39.39.9.59 1.41.59.51 0 1.02-.2 1.41-.59l7.78-7.78 2.81-2.81c.8-.78.8-2.07 0-2.86zM5.41 20L4 18.59l7.72-7.72 1.47 1.35L5.41 20z\"/>\n",
              "  </svg>\n",
              "      </button>\n",
              "      \n",
              "  <style>\n",
              "    .colab-df-container {\n",
              "      display:flex;\n",
              "      flex-wrap:wrap;\n",
              "      gap: 12px;\n",
              "    }\n",
              "\n",
              "    .colab-df-convert {\n",
              "      background-color: #E8F0FE;\n",
              "      border: none;\n",
              "      border-radius: 50%;\n",
              "      cursor: pointer;\n",
              "      display: none;\n",
              "      fill: #1967D2;\n",
              "      height: 32px;\n",
              "      padding: 0 0 0 0;\n",
              "      width: 32px;\n",
              "    }\n",
              "\n",
              "    .colab-df-convert:hover {\n",
              "      background-color: #E2EBFA;\n",
              "      box-shadow: 0px 1px 2px rgba(60, 64, 67, 0.3), 0px 1px 3px 1px rgba(60, 64, 67, 0.15);\n",
              "      fill: #174EA6;\n",
              "    }\n",
              "\n",
              "    [theme=dark] .colab-df-convert {\n",
              "      background-color: #3B4455;\n",
              "      fill: #D2E3FC;\n",
              "    }\n",
              "\n",
              "    [theme=dark] .colab-df-convert:hover {\n",
              "      background-color: #434B5C;\n",
              "      box-shadow: 0px 1px 3px 1px rgba(0, 0, 0, 0.15);\n",
              "      filter: drop-shadow(0px 1px 2px rgba(0, 0, 0, 0.3));\n",
              "      fill: #FFFFFF;\n",
              "    }\n",
              "  </style>\n",
              "\n",
              "      <script>\n",
              "        const buttonEl =\n",
              "          document.querySelector('#df-f21ceb3e-3e54-4969-8bf5-ccc584bbc2d7 button.colab-df-convert');\n",
              "        buttonEl.style.display =\n",
              "          google.colab.kernel.accessAllowed ? 'block' : 'none';\n",
              "\n",
              "        async function convertToInteractive(key) {\n",
              "          const element = document.querySelector('#df-f21ceb3e-3e54-4969-8bf5-ccc584bbc2d7');\n",
              "          const dataTable =\n",
              "            await google.colab.kernel.invokeFunction('convertToInteractive',\n",
              "                                                     [key], {});\n",
              "          if (!dataTable) return;\n",
              "\n",
              "          const docLinkHtml = 'Like what you see? Visit the ' +\n",
              "            '<a target=\"_blank\" href=https://colab.research.google.com/notebooks/data_table.ipynb>data table notebook</a>'\n",
              "            + ' to learn more about interactive tables.';\n",
              "          element.innerHTML = '';\n",
              "          dataTable['output_type'] = 'display_data';\n",
              "          await google.colab.output.renderOutput(dataTable, element);\n",
              "          const docLink = document.createElement('div');\n",
              "          docLink.innerHTML = docLinkHtml;\n",
              "          element.appendChild(docLink);\n",
              "        }\n",
              "      </script>\n",
              "    </div>\n",
              "  </div>\n",
              "  "
            ]
          },
          "metadata": {},
          "execution_count": 77
        }
      ]
    },
    {
      "cell_type": "code",
      "source": [
        "Conf_Mat = confusion_matrix(y_test, y_pred)\n",
        "figs, axes = plt.subplots(1,2, figsize=(12,4))\n",
        "labels = ['No Fraud', 'Fraud']\n",
        "disp = plot_confusion_matrix(rf, X_test, y_test, display_labels=labels, cmap=plt.cm.Reds, ax=axes[0])\n",
        "\n",
        "Class_rep = classification_report(y_test, y_pred)\n",
        "print(Class_rep)\n",
        "\n",
        "fpr, tpr, Threshold = roc_curve(y_test, y_pred_prob)\n",
        "plt.title('Random Forest OverSampling')\n",
        "plt.plot(fpr, tpr, 'b',label='AUC = %0.2f'% roc_auc_score(y_test, y_pred_prob))\n",
        "plt.legend(loc='lower right')\n",
        "plt.plot([0,1],[0,1],'r--')\n",
        "plt.xlim([-0.1,1.0])\n",
        "plt.ylim([-0.1,1.01])\n",
        "plt.ylabel('True Positive Rate')\n",
        "plt.xlabel('False Positive Rate')\n",
        "plt.show()"
      ],
      "metadata": {
        "colab": {
          "base_uri": "https://localhost:8080/"
        },
        "id": "08AtI0rC5bjq",
        "outputId": "0b6458d4-de73-4d04-e363-9fc7be3a471f"
      },
      "execution_count": null,
      "outputs": [
        {
          "output_type": "stream",
          "name": "stdout",
          "text": [
            "              precision    recall  f1-score   support\n",
            "\n",
            "           0       1.00      1.00      1.00    124177\n",
            "           1       1.00      1.00      1.00    125005\n",
            "\n",
            "    accuracy                           1.00    249182\n",
            "   macro avg       1.00      1.00      1.00    249182\n",
            "weighted avg       1.00      1.00      1.00    249182\n",
            "\n"
          ]
        },
        {
          "output_type": "display_data",
          "data": {
            "text/plain": [
              "<Figure size 864x288 with 3 Axes>"
            ],
            "image/png": "[encoded data removed]"
          },
          "metadata": {
            "needs_background": "light"
          }
        }
      ]
    },
    {
      "cell_type": "markdown",
      "source": [
        "## SMOTE"
      ],
      "metadata": {
        "id": "FRRd2rFaP8QQ"
      }
    },
    {
      "cell_type": "code",
      "source": [
        "X_train,X_test,y_train,y_test  = resampling(df,SMOTE())"
      ],
      "metadata": {
        "id": "IpmKhw5bQFok"
      },
      "execution_count": null,
      "outputs": []
    },
    {
      "cell_type": "markdown",
      "source": [
        "Logistic Regression"
      ],
      "metadata": {
        "id": "LgW4icz7QGKn"
      }
    },
    {
      "cell_type": "code",
      "source": [
        "accuracy= []\n",
        "recall =[]\n",
        "auc= []\n",
        "precision = []\n",
        "\n",
        "\n",
        "logreg = LogisticRegression(max_iter=1000)\n",
        "logreg.fit(X_train, y_train)\n",
        "y_pred=logreg.predict(X_test)\n",
        "\n",
        "y_pred_prob = logreg.predict_proba(X_test)[::,1]\n",
        "\n",
        "\n",
        "accuracy.append(round(accuracy_score(y_test, y_pred),2))\n",
        "recall.append(round(recall_score(y_test, y_pred),2))\n",
        "auc.append(round(roc_auc_score(y_test,y_pred_prob),2))\n",
        "precision.append(round(precision_score(y_test, y_pred),2))\n",
        "\n",
        "model_names = ['LogisticRegression_SMOTE']\n",
        "smotelog = pd.DataFrame({'Accuracy':accuracy,'Recall':recall,'ROC_AUC':auc, 'Precision':precision}, index=model_names)\n",
        "smotelog"
      ],
      "metadata": {
        "id": "nIWI4RX-QoFG",
        "colab": {
          "base_uri": "https://localhost:8080/",
          "height": 81
        },
        "outputId": "604cff52-1d36-44dc-9c42-8143e7343b77"
      },
      "execution_count": null,
      "outputs": [
        {
          "output_type": "execute_result",
          "data": {
            "text/plain": [
              "                          Accuracy  Recall  ROC_AUC  Precision\n",
              "LogisticRegression_SMOTE      0.87    0.85     0.95       0.89"
            ],
            "text/html": [
              "\n",
              "  <div id=\"df-84b40606-3eb1-4778-947b-14e317724d6b\">\n",
              "    <div class=\"colab-df-container\">\n",
              "      <div>\n",
              "<style scoped>\n",
              "    .dataframe tbody tr th:only-of-type {\n",
              "        vertical-align: middle;\n",
              "    }\n",
              "\n",
              "    .dataframe tbody tr th {\n",
              "        vertical-align: top;\n",
              "    }\n",
              "\n",
              "    .dataframe thead th {\n",
              "        text-align: right;\n",
              "    }\n",
              "</style>\n",
              "<table border=\"1\" class=\"dataframe\">\n",
              "  <thead>\n",
              "    <tr style=\"text-align: right;\">\n",
              "      <th></th>\n",
              "      <th>Accuracy</th>\n",
              "      <th>Recall</th>\n",
              "      <th>ROC_AUC</th>\n",
              "      <th>Precision</th>\n",
              "    </tr>\n",
              "  </thead>\n",
              "  <tbody>\n",
              "    <tr>\n",
              "      <th>LogisticRegression_SMOTE</th>\n",
              "      <td>0.87</td>\n",
              "      <td>0.85</td>\n",
              "      <td>0.95</td>\n",
              "      <td>0.89</td>\n",
              "    </tr>\n",
              "  </tbody>\n",
              "</table>\n",
              "</div>\n",
              "      <button class=\"colab-df-convert\" onclick=\"convertToInteractive('df-84b40606-3eb1-4778-947b-14e317724d6b')\"\n",
              "              title=\"Convert this dataframe to an interactive table.\"\n",
              "              style=\"display:none;\">\n",
              "        \n",
              "  <svg xmlns=\"http://www.w3.org/2000/svg\" height=\"24px\"viewBox=\"0 0 24 24\"\n",
              "       width=\"24px\">\n",
              "    <path d=\"M0 0h24v24H0V0z\" fill=\"none\"/>\n",
              "    <path d=\"M18.56 5.44l.94 2.06.94-2.06 2.06-.94-2.06-.94-.94-2.06-.94 2.06-2.06.94zm-11 1L8.5 8.5l.94-2.06 2.06-.94-2.06-.94L8.5 2.5l-.94 2.06-2.06.94zm10 10l.94 2.06.94-2.06 2.06-.94-2.06-.94-.94-2.06-.94 2.06-2.06.94z\"/><path d=\"M17.41 7.96l-1.37-1.37c-.4-.4-.92-.59-1.43-.59-.52 0-1.04.2-1.43.59L10.3 9.45l-7.72 7.72c-.78.78-.78 2.05 0 2.83L4 21.41c.39.39.9.59 1.41.59.51 0 1.02-.2 1.41-.59l7.78-7.78 2.81-2.81c.8-.78.8-2.07 0-2.86zM5.41 20L4 18.59l7.72-7.72 1.47 1.35L5.41 20z\"/>\n",
              "  </svg>\n",
              "      </button>\n",
              "      \n",
              "  <style>\n",
              "    .colab-df-container {\n",
              "      display:flex;\n",
              "      flex-wrap:wrap;\n",
              "      gap: 12px;\n",
              "    }\n",
              "\n",
              "    .colab-df-convert {\n",
              "      background-color: #E8F0FE;\n",
              "      border: none;\n",
              "      border-radius: 50%;\n",
              "      cursor: pointer;\n",
              "      display: none;\n",
              "      fill: #1967D2;\n",
              "      height: 32px;\n",
              "      padding: 0 0 0 0;\n",
              "      width: 32px;\n",
              "    }\n",
              "\n",
              "    .colab-df-convert:hover {\n",
              "      background-color: #E2EBFA;\n",
              "      box-shadow: 0px 1px 2px rgba(60, 64, 67, 0.3), 0px 1px 3px 1px rgba(60, 64, 67, 0.15);\n",
              "      fill: #174EA6;\n",
              "    }\n",
              "\n",
              "    [theme=dark] .colab-df-convert {\n",
              "      background-color: #3B4455;\n",
              "      fill: #D2E3FC;\n",
              "    }\n",
              "\n",
              "    [theme=dark] .colab-df-convert:hover {\n",
              "      background-color: #434B5C;\n",
              "      box-shadow: 0px 1px 3px 1px rgba(0, 0, 0, 0.15);\n",
              "      filter: drop-shadow(0px 1px 2px rgba(0, 0, 0, 0.3));\n",
              "      fill: #FFFFFF;\n",
              "    }\n",
              "  </style>\n",
              "\n",
              "      <script>\n",
              "        const buttonEl =\n",
              "          document.querySelector('#df-84b40606-3eb1-4778-947b-14e317724d6b button.colab-df-convert');\n",
              "        buttonEl.style.display =\n",
              "          google.colab.kernel.accessAllowed ? 'block' : 'none';\n",
              "\n",
              "        async function convertToInteractive(key) {\n",
              "          const element = document.querySelector('#df-84b40606-3eb1-4778-947b-14e317724d6b');\n",
              "          const dataTable =\n",
              "            await google.colab.kernel.invokeFunction('convertToInteractive',\n",
              "                                                     [key], {});\n",
              "          if (!dataTable) return;\n",
              "\n",
              "          const docLinkHtml = 'Like what you see? Visit the ' +\n",
              "            '<a target=\"_blank\" href=https://colab.research.google.com/notebooks/data_table.ipynb>data table notebook</a>'\n",
              "            + ' to learn more about interactive tables.';\n",
              "          element.innerHTML = '';\n",
              "          dataTable['output_type'] = 'display_data';\n",
              "          await google.colab.output.renderOutput(dataTable, element);\n",
              "          const docLink = document.createElement('div');\n",
              "          docLink.innerHTML = docLinkHtml;\n",
              "          element.appendChild(docLink);\n",
              "        }\n",
              "      </script>\n",
              "    </div>\n",
              "  </div>\n",
              "  "
            ]
          },
          "metadata": {},
          "execution_count": 80
        }
      ]
    },
    {
      "cell_type": "code",
      "source": [
        "Conf_Mat = confusion_matrix(y_test, y_pred)\n",
        "figs, axes = plt.subplots(1,2, figsize=(12,4))\n",
        "labels = ['No Fraud', 'Fraud']\n",
        "disp = plot_confusion_matrix(logreg, X_test, y_test, display_labels=labels, cmap=plt.cm.Reds, ax=axes[0])\n",
        "\n",
        "Class_rep = classification_report(y_test, y_pred)\n",
        "print(Class_rep)\n",
        "\n",
        "fpr, tpr, Threshold = roc_curve(y_test, y_pred_prob)\n",
        "plt.title('Logistic Regression SMOTE')\n",
        "plt.plot(fpr, tpr, 'b',label='AUC = %0.2f'% roc_auc_score(y_test, y_pred_prob))\n",
        "plt.legend(loc='lower right')\n",
        "plt.plot([0,1],[0,1],'r--')\n",
        "plt.xlim([-0.1,1.0])\n",
        "plt.ylim([-0.1,1.01])\n",
        "plt.ylabel('True Positive Rate')\n",
        "plt.xlabel('False Positive Rate')\n",
        "plt.show()"
      ],
      "metadata": {
        "colab": {
          "base_uri": "https://localhost:8080/"
        },
        "id": "EQQaAJsR5kLq",
        "outputId": "eeab8cb2-101c-40a6-da3a-f5710060ea02"
      },
      "execution_count": null,
      "outputs": [
        {
          "output_type": "stream",
          "name": "stdout",
          "text": [
            "              precision    recall  f1-score   support\n",
            "\n",
            "           0       0.86      0.89      0.87    124177\n",
            "           1       0.89      0.85      0.87    125005\n",
            "\n",
            "    accuracy                           0.87    249182\n",
            "   macro avg       0.87      0.87      0.87    249182\n",
            "weighted avg       0.87      0.87      0.87    249182\n",
            "\n"
          ]
        },
        {
          "output_type": "display_data",
          "data": {
            "text/plain": [
              "<Figure size 864x288 with 3 Axes>"
            ],
            "image/png": "[encoded data removed]"
          },
          "metadata": {
            "needs_background": "light"
          }
        }
      ]
    },
    {
      "cell_type": "markdown",
      "source": [
        "Gradient Boosting"
      ],
      "metadata": {
        "id": "3648nItMQI8Y"
      }
    },
    {
      "cell_type": "code",
      "source": [
        "accuracy= []\n",
        "recall =[]\n",
        "auc= []\n",
        "precision = []\n",
        "\n",
        "\n",
        "gb = GradientBoostingClassifier()\n",
        "gb.fit(X_train,y_train)\n",
        "y_pred = gb.predict(X_test)\n",
        "\n",
        "y_pred_prob = gb.predict_proba(X_test)[::,1]\n",
        "\n",
        "\n",
        "accuracy.append(round(accuracy_score(y_test, y_pred),2))\n",
        "recall.append(round(recall_score(y_test, y_pred),2))\n",
        "auc.append(round(roc_auc_score(y_test,y_pred_prob),2))\n",
        "precision.append(round(precision_score(y_test, y_pred),2))\n",
        "\n",
        "\n",
        "model_names = ['GradientBoosting_SMOTE']\n",
        "smotegb = pd.DataFrame({'Accuracy':accuracy,'Recall':recall,'ROC_AUC':auc, 'Precision':precision}, index=model_names)\n",
        "smotegb"
      ],
      "metadata": {
        "id": "byu_0aZ0QocV",
        "colab": {
          "base_uri": "https://localhost:8080/",
          "height": 81
        },
        "outputId": "42635b52-1340-46c9-9623-987277297392"
      },
      "execution_count": null,
      "outputs": [
        {
          "output_type": "execute_result",
          "data": {
            "text/plain": [
              "                        Accuracy  Recall  ROC_AUC  Precision\n",
              "GradientBoosting_SMOTE      0.88    0.89     0.95       0.87"
            ],
            "text/html": [
              "\n",
              "  <div id=\"df-3c4b79c0-3113-4f78-90d3-d905fda8ecb1\">\n",
              "    <div class=\"colab-df-container\">\n",
              "      <div>\n",
              "<style scoped>\n",
              "    .dataframe tbody tr th:only-of-type {\n",
              "        vertical-align: middle;\n",
              "    }\n",
              "\n",
              "    .dataframe tbody tr th {\n",
              "        vertical-align: top;\n",
              "    }\n",
              "\n",
              "    .dataframe thead th {\n",
              "        text-align: right;\n",
              "    }\n",
              "</style>\n",
              "<table border=\"1\" class=\"dataframe\">\n",
              "  <thead>\n",
              "    <tr style=\"text-align: right;\">\n",
              "      <th></th>\n",
              "      <th>Accuracy</th>\n",
              "      <th>Recall</th>\n",
              "      <th>ROC_AUC</th>\n",
              "      <th>Precision</th>\n",
              "    </tr>\n",
              "  </thead>\n",
              "  <tbody>\n",
              "    <tr>\n",
              "      <th>GradientBoosting_SMOTE</th>\n",
              "      <td>0.88</td>\n",
              "      <td>0.89</td>\n",
              "      <td>0.95</td>\n",
              "      <td>0.87</td>\n",
              "    </tr>\n",
              "  </tbody>\n",
              "</table>\n",
              "</div>\n",
              "      <button class=\"colab-df-convert\" onclick=\"convertToInteractive('df-3c4b79c0-3113-4f78-90d3-d905fda8ecb1')\"\n",
              "              title=\"Convert this dataframe to an interactive table.\"\n",
              "              style=\"display:none;\">\n",
              "        \n",
              "  <svg xmlns=\"http://www.w3.org/2000/svg\" height=\"24px\"viewBox=\"0 0 24 24\"\n",
              "       width=\"24px\">\n",
              "    <path d=\"M0 0h24v24H0V0z\" fill=\"none\"/>\n",
              "    <path d=\"M18.56 5.44l.94 2.06.94-2.06 2.06-.94-2.06-.94-.94-2.06-.94 2.06-2.06.94zm-11 1L8.5 8.5l.94-2.06 2.06-.94-2.06-.94L8.5 2.5l-.94 2.06-2.06.94zm10 10l.94 2.06.94-2.06 2.06-.94-2.06-.94-.94-2.06-.94 2.06-2.06.94z\"/><path d=\"M17.41 7.96l-1.37-1.37c-.4-.4-.92-.59-1.43-.59-.52 0-1.04.2-1.43.59L10.3 9.45l-7.72 7.72c-.78.78-.78 2.05 0 2.83L4 21.41c.39.39.9.59 1.41.59.51 0 1.02-.2 1.41-.59l7.78-7.78 2.81-2.81c.8-.78.8-2.07 0-2.86zM5.41 20L4 18.59l7.72-7.72 1.47 1.35L5.41 20z\"/>\n",
              "  </svg>\n",
              "      </button>\n",
              "      \n",
              "  <style>\n",
              "    .colab-df-container {\n",
              "      display:flex;\n",
              "      flex-wrap:wrap;\n",
              "      gap: 12px;\n",
              "    }\n",
              "\n",
              "    .colab-df-convert {\n",
              "      background-color: #E8F0FE;\n",
              "      border: none;\n",
              "      border-radius: 50%;\n",
              "      cursor: pointer;\n",
              "      display: none;\n",
              "      fill: #1967D2;\n",
              "      height: 32px;\n",
              "      padding: 0 0 0 0;\n",
              "      width: 32px;\n",
              "    }\n",
              "\n",
              "    .colab-df-convert:hover {\n",
              "      background-color: #E2EBFA;\n",
              "      box-shadow: 0px 1px 2px rgba(60, 64, 67, 0.3), 0px 1px 3px 1px rgba(60, 64, 67, 0.15);\n",
              "      fill: #174EA6;\n",
              "    }\n",
              "\n",
              "    [theme=dark] .colab-df-convert {\n",
              "      background-color: #3B4455;\n",
              "      fill: #D2E3FC;\n",
              "    }\n",
              "\n",
              "    [theme=dark] .colab-df-convert:hover {\n",
              "      background-color: #434B5C;\n",
              "      box-shadow: 0px 1px 3px 1px rgba(0, 0, 0, 0.15);\n",
              "      filter: drop-shadow(0px 1px 2px rgba(0, 0, 0, 0.3));\n",
              "      fill: #FFFFFF;\n",
              "    }\n",
              "  </style>\n",
              "\n",
              "      <script>\n",
              "        const buttonEl =\n",
              "          document.querySelector('#df-3c4b79c0-3113-4f78-90d3-d905fda8ecb1 button.colab-df-convert');\n",
              "        buttonEl.style.display =\n",
              "          google.colab.kernel.accessAllowed ? 'block' : 'none';\n",
              "\n",
              "        async function convertToInteractive(key) {\n",
              "          const element = document.querySelector('#df-3c4b79c0-3113-4f78-90d3-d905fda8ecb1');\n",
              "          const dataTable =\n",
              "            await google.colab.kernel.invokeFunction('convertToInteractive',\n",
              "                                                     [key], {});\n",
              "          if (!dataTable) return;\n",
              "\n",
              "          const docLinkHtml = 'Like what you see? Visit the ' +\n",
              "            '<a target=\"_blank\" href=https://colab.research.google.com/notebooks/data_table.ipynb>data table notebook</a>'\n",
              "            + ' to learn more about interactive tables.';\n",
              "          element.innerHTML = '';\n",
              "          dataTable['output_type'] = 'display_data';\n",
              "          await google.colab.output.renderOutput(dataTable, element);\n",
              "          const docLink = document.createElement('div');\n",
              "          docLink.innerHTML = docLinkHtml;\n",
              "          element.appendChild(docLink);\n",
              "        }\n",
              "      </script>\n",
              "    </div>\n",
              "  </div>\n",
              "  "
            ]
          },
          "metadata": {},
          "execution_count": 82
        }
      ]
    },
    {
      "cell_type": "code",
      "source": [
        "Conf_Mat = confusion_matrix(y_test, y_pred)\n",
        "figs, axes = plt.subplots(1,2, figsize=(12,4))\n",
        "labels = ['No Fraud', 'Fraud']\n",
        "disp = plot_confusion_matrix(gb, X_test, y_test, display_labels=labels, cmap=plt.cm.Reds, ax=axes[0])\n",
        "\n",
        "Class_rep = classification_report(y_test, y_pred)\n",
        "print(Class_rep)\n",
        "\n",
        "fpr, tpr, Threshold = roc_curve(y_test, y_pred_prob)\n",
        "plt.title('Gradient Boosting SMOTE')\n",
        "plt.plot(fpr, tpr, 'b',label='AUC = %0.2f'% roc_auc_score(y_test, y_pred_prob))\n",
        "plt.legend(loc='lower right')\n",
        "plt.plot([0,1],[0,1],'r--')\n",
        "plt.xlim([-0.1,1.0])\n",
        "plt.ylim([-0.1,1.01])\n",
        "plt.ylabel('True Positive Rate')\n",
        "plt.xlabel('False Positive Rate')\n",
        "plt.show()"
      ],
      "metadata": {
        "colab": {
          "base_uri": "https://localhost:8080/",
          "height": 451
        },
        "id": "sgGx_Xhq5k4U",
        "outputId": "5fe257d7-feef-4728-c2d9-99d452fa41d3"
      },
      "execution_count": null,
      "outputs": [
        {
          "output_type": "stream",
          "name": "stdout",
          "text": [
            "              precision    recall  f1-score   support\n",
            "\n",
            "           0       0.89      0.87      0.88    124177\n",
            "           1       0.87      0.89      0.88    125005\n",
            "\n",
            "    accuracy                           0.88    249182\n",
            "   macro avg       0.88      0.88      0.88    249182\n",
            "weighted avg       0.88      0.88      0.88    249182\n",
            "\n"
          ]
        },
        {
          "output_type": "display_data",
          "data": {
            "text/plain": [
              "<Figure size 864x288 with 3 Axes>"
            ],
            "image/png": "[encoded data removed]"
          },
          "metadata": {
            "needs_background": "light"
          }
        }
      ]
    },
    {
      "cell_type": "markdown",
      "source": [
        "XGBoost Classifier"
      ],
      "metadata": {
        "id": "KSGhCtZ5QLrL"
      }
    },
    {
      "cell_type": "code",
      "source": [
        "accuracy= []\n",
        "recall =[]\n",
        "auc= []\n",
        "precision = []\n",
        "\n",
        "\n",
        "xgbc_base = XGBClassifier(random_state=0)\n",
        "xgbc_base.fit(X_train,y_train)\n",
        "y_pred = xgbc_base.predict(X_test)\n",
        "\n",
        "y_pred_prob = xgbc_base.predict_proba(X_test)[::,1]\n",
        "\n",
        "accuracy.append(round(accuracy_score(y_test, y_pred),2))\n",
        "recall.append(round(recall_score(y_test, y_pred),2))\n",
        "auc.append(round(roc_auc_score(y_test,y_pred_prob),2))\n",
        "precision.append(round(precision_score(y_test, y_pred),2))\n",
        "\n",
        "model_names = ['XGBoost_SMOTE']\n",
        "smotexgbc = pd.DataFrame({'Accuracy':accuracy,'Recall':recall,'ROC_AUC':auc, 'Precision':precision}, index=model_names)\n",
        "smotexgbc"
      ],
      "metadata": {
        "id": "bIFCA5taQruS",
        "colab": {
          "base_uri": "https://localhost:8080/",
          "height": 81
        },
        "outputId": "fac79790-342a-4670-87bc-b0df5866e543"
      },
      "execution_count": null,
      "outputs": [
        {
          "output_type": "execute_result",
          "data": {
            "text/plain": [
              "               Accuracy  Recall  ROC_AUC  Precision\n",
              "XGBoost_SMOTE      0.88     0.9     0.95       0.87"
            ],
            "text/html": [
              "\n",
              "  <div id=\"df-ee313f22-e51d-42da-8d07-0556cd5a8b77\">\n",
              "    <div class=\"colab-df-container\">\n",
              "      <div>\n",
              "<style scoped>\n",
              "    .dataframe tbody tr th:only-of-type {\n",
              "        vertical-align: middle;\n",
              "    }\n",
              "\n",
              "    .dataframe tbody tr th {\n",
              "        vertical-align: top;\n",
              "    }\n",
              "\n",
              "    .dataframe thead th {\n",
              "        text-align: right;\n",
              "    }\n",
              "</style>\n",
              "<table border=\"1\" class=\"dataframe\">\n",
              "  <thead>\n",
              "    <tr style=\"text-align: right;\">\n",
              "      <th></th>\n",
              "      <th>Accuracy</th>\n",
              "      <th>Recall</th>\n",
              "      <th>ROC_AUC</th>\n",
              "      <th>Precision</th>\n",
              "    </tr>\n",
              "  </thead>\n",
              "  <tbody>\n",
              "    <tr>\n",
              "      <th>XGBoost_SMOTE</th>\n",
              "      <td>0.88</td>\n",
              "      <td>0.9</td>\n",
              "      <td>0.95</td>\n",
              "      <td>0.87</td>\n",
              "    </tr>\n",
              "  </tbody>\n",
              "</table>\n",
              "</div>\n",
              "      <button class=\"colab-df-convert\" onclick=\"convertToInteractive('df-ee313f22-e51d-42da-8d07-0556cd5a8b77')\"\n",
              "              title=\"Convert this dataframe to an interactive table.\"\n",
              "              style=\"display:none;\">\n",
              "        \n",
              "  <svg xmlns=\"http://www.w3.org/2000/svg\" height=\"24px\"viewBox=\"0 0 24 24\"\n",
              "       width=\"24px\">\n",
              "    <path d=\"M0 0h24v24H0V0z\" fill=\"none\"/>\n",
              "    <path d=\"M18.56 5.44l.94 2.06.94-2.06 2.06-.94-2.06-.94-.94-2.06-.94 2.06-2.06.94zm-11 1L8.5 8.5l.94-2.06 2.06-.94-2.06-.94L8.5 2.5l-.94 2.06-2.06.94zm10 10l.94 2.06.94-2.06 2.06-.94-2.06-.94-.94-2.06-.94 2.06-2.06.94z\"/><path d=\"M17.41 7.96l-1.37-1.37c-.4-.4-.92-.59-1.43-.59-.52 0-1.04.2-1.43.59L10.3 9.45l-7.72 7.72c-.78.78-.78 2.05 0 2.83L4 21.41c.39.39.9.59 1.41.59.51 0 1.02-.2 1.41-.59l7.78-7.78 2.81-2.81c.8-.78.8-2.07 0-2.86zM5.41 20L4 18.59l7.72-7.72 1.47 1.35L5.41 20z\"/>\n",
              "  </svg>\n",
              "      </button>\n",
              "      \n",
              "  <style>\n",
              "    .colab-df-container {\n",
              "      display:flex;\n",
              "      flex-wrap:wrap;\n",
              "      gap: 12px;\n",
              "    }\n",
              "\n",
              "    .colab-df-convert {\n",
              "      background-color: #E8F0FE;\n",
              "      border: none;\n",
              "      border-radius: 50%;\n",
              "      cursor: pointer;\n",
              "      display: none;\n",
              "      fill: #1967D2;\n",
              "      height: 32px;\n",
              "      padding: 0 0 0 0;\n",
              "      width: 32px;\n",
              "    }\n",
              "\n",
              "    .colab-df-convert:hover {\n",
              "      background-color: #E2EBFA;\n",
              "      box-shadow: 0px 1px 2px rgba(60, 64, 67, 0.3), 0px 1px 3px 1px rgba(60, 64, 67, 0.15);\n",
              "      fill: #174EA6;\n",
              "    }\n",
              "\n",
              "    [theme=dark] .colab-df-convert {\n",
              "      background-color: #3B4455;\n",
              "      fill: #D2E3FC;\n",
              "    }\n",
              "\n",
              "    [theme=dark] .colab-df-convert:hover {\n",
              "      background-color: #434B5C;\n",
              "      box-shadow: 0px 1px 3px 1px rgba(0, 0, 0, 0.15);\n",
              "      filter: drop-shadow(0px 1px 2px rgba(0, 0, 0, 0.3));\n",
              "      fill: #FFFFFF;\n",
              "    }\n",
              "  </style>\n",
              "\n",
              "      <script>\n",
              "        const buttonEl =\n",
              "          document.querySelector('#df-ee313f22-e51d-42da-8d07-0556cd5a8b77 button.colab-df-convert');\n",
              "        buttonEl.style.display =\n",
              "          google.colab.kernel.accessAllowed ? 'block' : 'none';\n",
              "\n",
              "        async function convertToInteractive(key) {\n",
              "          const element = document.querySelector('#df-ee313f22-e51d-42da-8d07-0556cd5a8b77');\n",
              "          const dataTable =\n",
              "            await google.colab.kernel.invokeFunction('convertToInteractive',\n",
              "                                                     [key], {});\n",
              "          if (!dataTable) return;\n",
              "\n",
              "          const docLinkHtml = 'Like what you see? Visit the ' +\n",
              "            '<a target=\"_blank\" href=https://colab.research.google.com/notebooks/data_table.ipynb>data table notebook</a>'\n",
              "            + ' to learn more about interactive tables.';\n",
              "          element.innerHTML = '';\n",
              "          dataTable['output_type'] = 'display_data';\n",
              "          await google.colab.output.renderOutput(dataTable, element);\n",
              "          const docLink = document.createElement('div');\n",
              "          docLink.innerHTML = docLinkHtml;\n",
              "          element.appendChild(docLink);\n",
              "        }\n",
              "      </script>\n",
              "    </div>\n",
              "  </div>\n",
              "  "
            ]
          },
          "metadata": {},
          "execution_count": 84
        }
      ]
    },
    {
      "cell_type": "code",
      "source": [
        "Conf_Mat = confusion_matrix(y_test, y_pred)\n",
        "figs, axes = plt.subplots(1,2, figsize=(12,4))\n",
        "labels = ['No Fraud', 'Fraud']\n",
        "disp = plot_confusion_matrix(xgbc_base, X_test, y_test, display_labels=labels, cmap=plt.cm.Reds, ax=axes[0])\n",
        "\n",
        "Class_rep = classification_report(y_test, y_pred)\n",
        "print(Class_rep)\n",
        "\n",
        "fpr, tpr, Threshold = roc_curve(y_test, y_pred_prob)\n",
        "plt.title('XGBoost SMOTE')\n",
        "plt.plot(fpr, tpr, 'b',label='AUC = %0.2f'% roc_auc_score(y_test, y_pred_prob))\n",
        "plt.legend(loc='lower right')\n",
        "plt.plot([0,1],[0,1],'r--')\n",
        "plt.xlim([-0.1,1.0])\n",
        "plt.ylim([-0.1,1.01])\n",
        "plt.ylabel('True Positive Rate')\n",
        "plt.xlabel('False Positive Rate')\n",
        "plt.show()"
      ],
      "metadata": {
        "colab": {
          "base_uri": "https://localhost:8080/"
        },
        "id": "4EA1S15d5lTo",
        "outputId": "e4181abc-e44a-479f-f9e2-c740f1a7c44e"
      },
      "execution_count": null,
      "outputs": [
        {
          "output_type": "stream",
          "name": "stdout",
          "text": [
            "              precision    recall  f1-score   support\n",
            "\n",
            "           0       0.89      0.86      0.88    124177\n",
            "           1       0.87      0.90      0.88    125005\n",
            "\n",
            "    accuracy                           0.88    249182\n",
            "   macro avg       0.88      0.88      0.88    249182\n",
            "weighted avg       0.88      0.88      0.88    249182\n",
            "\n"
          ]
        },
        {
          "output_type": "display_data",
          "data": {
            "text/plain": [
              "<Figure size 864x288 with 3 Axes>"
            ],
            "image/png": "[encoded data removed]"
          },
          "metadata": {
            "needs_background": "light"
          }
        }
      ]
    },
    {
      "cell_type": "markdown",
      "source": [
        "Random Forest"
      ],
      "metadata": {
        "id": "CtmnzwZmQPhj"
      }
    },
    {
      "cell_type": "code",
      "source": [
        "accuracy= []\n",
        "recall =[]\n",
        "auc= []\n",
        "precision = []\n",
        "\n",
        "rf = RandomForestClassifier(n_estimators = 200)\n",
        "rf.fit(X_train, y_train)\n",
        "y_pred = rf.predict(X_test)\n",
        "\n",
        "y_pred_prob = rf.predict_proba(X_test)[::,1]\n",
        "\n",
        "\n",
        "accuracy.append(round(accuracy_score(y_test, y_pred),2))\n",
        "recall.append(round(recall_score(y_test, y_pred),2))\n",
        "auc.append(round(roc_auc_score(y_test,y_pred_prob),2))\n",
        "precision.append(round(precision_score(y_test, y_pred),2))\n",
        "\n",
        "model_names = ['RandomForest_SMOTE']\n",
        "smoterf = pd.DataFrame({'Accuracy':accuracy,'Recall':recall,'ROC_AUC':auc, 'Precision':precision}, index=model_names)\n",
        "smoterf"
      ],
      "metadata": {
        "id": "UxwUAsp1QsHs",
        "colab": {
          "base_uri": "https://localhost:8080/",
          "height": 81
        },
        "outputId": "a97c3dc3-196c-493b-ec2a-266c6dc163df"
      },
      "execution_count": null,
      "outputs": [
        {
          "output_type": "execute_result",
          "data": {
            "text/plain": [
              "                    Accuracy  Recall  ROC_AUC  Precision\n",
              "RandomForest_SMOTE      0.98    0.98      1.0       0.98"
            ],
            "text/html": [
              "\n",
              "  <div id=\"df-00c6cb24-e87b-4ad3-a12c-0308f74bbd16\">\n",
              "    <div class=\"colab-df-container\">\n",
              "      <div>\n",
              "<style scoped>\n",
              "    .dataframe tbody tr th:only-of-type {\n",
              "        vertical-align: middle;\n",
              "    }\n",
              "\n",
              "    .dataframe tbody tr th {\n",
              "        vertical-align: top;\n",
              "    }\n",
              "\n",
              "    .dataframe thead th {\n",
              "        text-align: right;\n",
              "    }\n",
              "</style>\n",
              "<table border=\"1\" class=\"dataframe\">\n",
              "  <thead>\n",
              "    <tr style=\"text-align: right;\">\n",
              "      <th></th>\n",
              "      <th>Accuracy</th>\n",
              "      <th>Recall</th>\n",
              "      <th>ROC_AUC</th>\n",
              "      <th>Precision</th>\n",
              "    </tr>\n",
              "  </thead>\n",
              "  <tbody>\n",
              "    <tr>\n",
              "      <th>RandomForest_SMOTE</th>\n",
              "      <td>0.98</td>\n",
              "      <td>0.98</td>\n",
              "      <td>1.0</td>\n",
              "      <td>0.98</td>\n",
              "    </tr>\n",
              "  </tbody>\n",
              "</table>\n",
              "</div>\n",
              "      <button class=\"colab-df-convert\" onclick=\"convertToInteractive('df-00c6cb24-e87b-4ad3-a12c-0308f74bbd16')\"\n",
              "              title=\"Convert this dataframe to an interactive table.\"\n",
              "              style=\"display:none;\">\n",
              "        \n",
              "  <svg xmlns=\"http://www.w3.org/2000/svg\" height=\"24px\"viewBox=\"0 0 24 24\"\n",
              "       width=\"24px\">\n",
              "    <path d=\"M0 0h24v24H0V0z\" fill=\"none\"/>\n",
              "    <path d=\"M18.56 5.44l.94 2.06.94-2.06 2.06-.94-2.06-.94-.94-2.06-.94 2.06-2.06.94zm-11 1L8.5 8.5l.94-2.06 2.06-.94-2.06-.94L8.5 2.5l-.94 2.06-2.06.94zm10 10l.94 2.06.94-2.06 2.06-.94-2.06-.94-.94-2.06-.94 2.06-2.06.94z\"/><path d=\"M17.41 7.96l-1.37-1.37c-.4-.4-.92-.59-1.43-.59-.52 0-1.04.2-1.43.59L10.3 9.45l-7.72 7.72c-.78.78-.78 2.05 0 2.83L4 21.41c.39.39.9.59 1.41.59.51 0 1.02-.2 1.41-.59l7.78-7.78 2.81-2.81c.8-.78.8-2.07 0-2.86zM5.41 20L4 18.59l7.72-7.72 1.47 1.35L5.41 20z\"/>\n",
              "  </svg>\n",
              "      </button>\n",
              "      \n",
              "  <style>\n",
              "    .colab-df-container {\n",
              "      display:flex;\n",
              "      flex-wrap:wrap;\n",
              "      gap: 12px;\n",
              "    }\n",
              "\n",
              "    .colab-df-convert {\n",
              "      background-color: #E8F0FE;\n",
              "      border: none;\n",
              "      border-radius: 50%;\n",
              "      cursor: pointer;\n",
              "      display: none;\n",
              "      fill: #1967D2;\n",
              "      height: 32px;\n",
              "      padding: 0 0 0 0;\n",
              "      width: 32px;\n",
              "    }\n",
              "\n",
              "    .colab-df-convert:hover {\n",
              "      background-color: #E2EBFA;\n",
              "      box-shadow: 0px 1px 2px rgba(60, 64, 67, 0.3), 0px 1px 3px 1px rgba(60, 64, 67, 0.15);\n",
              "      fill: #174EA6;\n",
              "    }\n",
              "\n",
              "    [theme=dark] .colab-df-convert {\n",
              "      background-color: #3B4455;\n",
              "      fill: #D2E3FC;\n",
              "    }\n",
              "\n",
              "    [theme=dark] .colab-df-convert:hover {\n",
              "      background-color: #434B5C;\n",
              "      box-shadow: 0px 1px 3px 1px rgba(0, 0, 0, 0.15);\n",
              "      filter: drop-shadow(0px 1px 2px rgba(0, 0, 0, 0.3));\n",
              "      fill: #FFFFFF;\n",
              "    }\n",
              "  </style>\n",
              "\n",
              "      <script>\n",
              "        const buttonEl =\n",
              "          document.querySelector('#df-00c6cb24-e87b-4ad3-a12c-0308f74bbd16 button.colab-df-convert');\n",
              "        buttonEl.style.display =\n",
              "          google.colab.kernel.accessAllowed ? 'block' : 'none';\n",
              "\n",
              "        async function convertToInteractive(key) {\n",
              "          const element = document.querySelector('#df-00c6cb24-e87b-4ad3-a12c-0308f74bbd16');\n",
              "          const dataTable =\n",
              "            await google.colab.kernel.invokeFunction('convertToInteractive',\n",
              "                                                     [key], {});\n",
              "          if (!dataTable) return;\n",
              "\n",
              "          const docLinkHtml = 'Like what you see? Visit the ' +\n",
              "            '<a target=\"_blank\" href=https://colab.research.google.com/notebooks/data_table.ipynb>data table notebook</a>'\n",
              "            + ' to learn more about interactive tables.';\n",
              "          element.innerHTML = '';\n",
              "          dataTable['output_type'] = 'display_data';\n",
              "          await google.colab.output.renderOutput(dataTable, element);\n",
              "          const docLink = document.createElement('div');\n",
              "          docLink.innerHTML = docLinkHtml;\n",
              "          element.appendChild(docLink);\n",
              "        }\n",
              "      </script>\n",
              "    </div>\n",
              "  </div>\n",
              "  "
            ]
          },
          "metadata": {},
          "execution_count": 86
        }
      ]
    },
    {
      "cell_type": "code",
      "source": [
        "Conf_Mat = confusion_matrix(y_test, y_pred)\n",
        "figs, axes = plt.subplots(1,2, figsize=(12,4))\n",
        "labels = ['No Fraud', 'Fraud']\n",
        "disp = plot_confusion_matrix(rf, X_test, y_test, display_labels=labels, cmap=plt.cm.Reds, ax=axes[0])\n",
        "\n",
        "Class_rep = classification_report(y_test, y_pred)\n",
        "print(Class_rep)\n",
        "\n",
        "fpr, tpr, Threshold = roc_curve(y_test, y_pred_prob)\n",
        "plt.title('Random Forest SMOTE')\n",
        "plt.plot(fpr, tpr, 'b',label='AUC = %0.2f'% roc_auc_score(y_test, y_pred_prob))\n",
        "plt.legend(loc='lower right')\n",
        "plt.plot([0,1],[0,1],'r--')\n",
        "plt.xlim([-0.1,1.0])\n",
        "plt.ylim([-0.1,1.01])\n",
        "plt.ylabel('True Positive Rate')\n",
        "plt.xlabel('False Positive Rate')\n",
        "plt.show()"
      ],
      "metadata": {
        "colab": {
          "base_uri": "https://localhost:8080/"
        },
        "id": "288SaYvE5l9S",
        "outputId": "9a4461b2-f97d-48da-8d06-055f4551dee3"
      },
      "execution_count": null,
      "outputs": [
        {
          "output_type": "stream",
          "name": "stdout",
          "text": [
            "              precision    recall  f1-score   support\n",
            "\n",
            "           0       0.98      0.98      0.98    124177\n",
            "           1       0.98      0.98      0.98    125005\n",
            "\n",
            "    accuracy                           0.98    249182\n",
            "   macro avg       0.98      0.98      0.98    249182\n",
            "weighted avg       0.98      0.98      0.98    249182\n",
            "\n"
          ]
        },
        {
          "output_type": "display_data",
          "data": {
            "text/plain": [
              "<Figure size 864x288 with 3 Axes>"
            ],
            "image/png": "[encoded data removed]"
          },
          "metadata": {
            "needs_background": "light"
          }
        }
      ]
    },
    {
      "cell_type": "markdown",
      "source": [
        "## Result"
      ],
      "metadata": {
        "id": "NvVU71kP5p-p"
      }
    },
    {
      "cell_type": "code",
      "source": [
        "result_df = pd.concat([underlog,overlog,smotelog,undergb,overgb,smotegb,underxgbc,overxgbc,smotexgbc,underrf,overrf,smoterf],axis=0)"
      ],
      "metadata": {
        "id": "4hdF9hFZ5tMQ"
      },
      "execution_count": null,
      "outputs": []
    },
    {
      "cell_type": "code",
      "source": [
        "result_df"
      ],
      "metadata": {
        "colab": {
          "base_uri": "https://localhost:8080/"
        },
        "id": "jW9do6F6HcSG",
        "outputId": "bde8a501-9f2c-4aee-e77d-35753db4b316"
      },
      "execution_count": null,
      "outputs": [
        {
          "output_type": "execute_result",
          "data": {
            "text/plain": [
              "                                  Accuracy  Recall  ROC_AUC  Precision\n",
              "LogisticRegression_UnderSampling      0.68    0.71     0.75       0.67\n",
              "LogisticRegression_OverSampling       0.68    0.72     0.74       0.67\n",
              "LogisticRegression_SMOTE              0.87    0.85     0.95       0.89\n",
              "GradientBoosting_UnderSampling        0.70    0.73     0.77       0.69\n",
              "GradientBoosting_OverSampling         0.70    0.71     0.77       0.69\n",
              "GradientBoosting_SMOTE                0.88    0.89     0.95       0.87\n",
              "XGBoost_UnderSampling                 0.70    0.73     0.77       0.69\n",
              "XGBoost_OverSampling                  0.70    0.71     0.76       0.69\n",
              "XGBoost_SMOTE                         0.88    0.90     0.95       0.87\n",
              "RandomForest_UnderSampling            0.71    0.74     0.78       0.69\n",
              "RandomForest_OverSampling             1.00    1.00     1.00       1.00\n",
              "RandomForest_SMOTE                    0.98    0.98     1.00       0.98"
            ],
            "text/html": [
              "\n",
              "  <div id=\"df-9fce6912-0fe5-4b2f-adb6-74c846fff8ef\">\n",
              "    <div class=\"colab-df-container\">\n",
              "      <div>\n",
              "<style scoped>\n",
              "    .dataframe tbody tr th:only-of-type {\n",
              "        vertical-align: middle;\n",
              "    }\n",
              "\n",
              "    .dataframe tbody tr th {\n",
              "        vertical-align: top;\n",
              "    }\n",
              "\n",
              "    .dataframe thead th {\n",
              "        text-align: right;\n",
              "    }\n",
              "</style>\n",
              "<table border=\"1\" class=\"dataframe\">\n",
              "  <thead>\n",
              "    <tr style=\"text-align: right;\">\n",
              "      <th></th>\n",
              "      <th>Accuracy</th>\n",
              "      <th>Recall</th>\n",
              "      <th>ROC_AUC</th>\n",
              "      <th>Precision</th>\n",
              "    </tr>\n",
              "  </thead>\n",
              "  <tbody>\n",
              "    <tr>\n",
              "      <th>LogisticRegression_UnderSampling</th>\n",
              "      <td>0.68</td>\n",
              "      <td>0.71</td>\n",
              "      <td>0.75</td>\n",
              "      <td>0.67</td>\n",
              "    </tr>\n",
              "    <tr>\n",
              "      <th>LogisticRegression_OverSampling</th>\n",
              "      <td>0.68</td>\n",
              "      <td>0.72</td>\n",
              "      <td>0.74</td>\n",
              "      <td>0.67</td>\n",
              "    </tr>\n",
              "    <tr>\n",
              "      <th>LogisticRegression_SMOTE</th>\n",
              "      <td>0.87</td>\n",
              "      <td>0.85</td>\n",
              "      <td>0.95</td>\n",
              "      <td>0.89</td>\n",
              "    </tr>\n",
              "    <tr>\n",
              "      <th>GradientBoosting_UnderSampling</th>\n",
              "      <td>0.70</td>\n",
              "      <td>0.73</td>\n",
              "      <td>0.77</td>\n",
              "      <td>0.69</td>\n",
              "    </tr>\n",
              "    <tr>\n",
              "      <th>GradientBoosting_OverSampling</th>\n",
              "      <td>0.70</td>\n",
              "      <td>0.71</td>\n",
              "      <td>0.77</td>\n",
              "      <td>0.69</td>\n",
              "    </tr>\n",
              "    <tr>\n",
              "      <th>GradientBoosting_SMOTE</th>\n",
              "      <td>0.88</td>\n",
              "      <td>0.89</td>\n",
              "      <td>0.95</td>\n",
              "      <td>0.87</td>\n",
              "    </tr>\n",
              "    <tr>\n",
              "      <th>XGBoost_UnderSampling</th>\n",
              "      <td>0.70</td>\n",
              "      <td>0.73</td>\n",
              "      <td>0.77</td>\n",
              "      <td>0.69</td>\n",
              "    </tr>\n",
              "    <tr>\n",
              "      <th>XGBoost_OverSampling</th>\n",
              "      <td>0.70</td>\n",
              "      <td>0.71</td>\n",
              "      <td>0.76</td>\n",
              "      <td>0.69</td>\n",
              "    </tr>\n",
              "    <tr>\n",
              "      <th>XGBoost_SMOTE</th>\n",
              "      <td>0.88</td>\n",
              "      <td>0.90</td>\n",
              "      <td>0.95</td>\n",
              "      <td>0.87</td>\n",
              "    </tr>\n",
              "    <tr>\n",
              "      <th>RandomForest_UnderSampling</th>\n",
              "      <td>0.71</td>\n",
              "      <td>0.74</td>\n",
              "      <td>0.78</td>\n",
              "      <td>0.69</td>\n",
              "    </tr>\n",
              "    <tr>\n",
              "      <th>RandomForest_OverSampling</th>\n",
              "      <td>1.00</td>\n",
              "      <td>1.00</td>\n",
              "      <td>1.00</td>\n",
              "      <td>1.00</td>\n",
              "    </tr>\n",
              "    <tr>\n",
              "      <th>RandomForest_SMOTE</th>\n",
              "      <td>0.98</td>\n",
              "      <td>0.98</td>\n",
              "      <td>1.00</td>\n",
              "      <td>0.98</td>\n",
              "    </tr>\n",
              "  </tbody>\n",
              "</table>\n",
              "</div>\n",
              "      <button class=\"colab-df-convert\" onclick=\"convertToInteractive('df-9fce6912-0fe5-4b2f-adb6-74c846fff8ef')\"\n",
              "              title=\"Convert this dataframe to an interactive table.\"\n",
              "              style=\"display:none;\">\n",
              "        \n",
              "  <svg xmlns=\"http://www.w3.org/2000/svg\" height=\"24px\"viewBox=\"0 0 24 24\"\n",
              "       width=\"24px\">\n",
              "    <path d=\"M0 0h24v24H0V0z\" fill=\"none\"/>\n",
              "    <path d=\"M18.56 5.44l.94 2.06.94-2.06 2.06-.94-2.06-.94-.94-2.06-.94 2.06-2.06.94zm-11 1L8.5 8.5l.94-2.06 2.06-.94-2.06-.94L8.5 2.5l-.94 2.06-2.06.94zm10 10l.94 2.06.94-2.06 2.06-.94-2.06-.94-.94-2.06-.94 2.06-2.06.94z\"/><path d=\"M17.41 7.96l-1.37-1.37c-.4-.4-.92-.59-1.43-.59-.52 0-1.04.2-1.43.59L10.3 9.45l-7.72 7.72c-.78.78-.78 2.05 0 2.83L4 21.41c.39.39.9.59 1.41.59.51 0 1.02-.2 1.41-.59l7.78-7.78 2.81-2.81c.8-.78.8-2.07 0-2.86zM5.41 20L4 18.59l7.72-7.72 1.47 1.35L5.41 20z\"/>\n",
              "  </svg>\n",
              "      </button>\n",
              "      \n",
              "  <style>\n",
              "    .colab-df-container {\n",
              "      display:flex;\n",
              "      flex-wrap:wrap;\n",
              "      gap: 12px;\n",
              "    }\n",
              "\n",
              "    .colab-df-convert {\n",
              "      background-color: #E8F0FE;\n",
              "      border: none;\n",
              "      border-radius: 50%;\n",
              "      cursor: pointer;\n",
              "      display: none;\n",
              "      fill: #1967D2;\n",
              "      height: 32px;\n",
              "      padding: 0 0 0 0;\n",
              "      width: 32px;\n",
              "    }\n",
              "\n",
              "    .colab-df-convert:hover {\n",
              "      background-color: #E2EBFA;\n",
              "      box-shadow: 0px 1px 2px rgba(60, 64, 67, 0.3), 0px 1px 3px 1px rgba(60, 64, 67, 0.15);\n",
              "      fill: #174EA6;\n",
              "    }\n",
              "\n",
              "    [theme=dark] .colab-df-convert {\n",
              "      background-color: #3B4455;\n",
              "      fill: #D2E3FC;\n",
              "    }\n",
              "\n",
              "    [theme=dark] .colab-df-convert:hover {\n",
              "      background-color: #434B5C;\n",
              "      box-shadow: 0px 1px 3px 1px rgba(0, 0, 0, 0.15);\n",
              "      filter: drop-shadow(0px 1px 2px rgba(0, 0, 0, 0.3));\n",
              "      fill: #FFFFFF;\n",
              "    }\n",
              "  </style>\n",
              "\n",
              "      <script>\n",
              "        const buttonEl =\n",
              "          document.querySelector('#df-9fce6912-0fe5-4b2f-adb6-74c846fff8ef button.colab-df-convert');\n",
              "        buttonEl.style.display =\n",
              "          google.colab.kernel.accessAllowed ? 'block' : 'none';\n",
              "\n",
              "        async function convertToInteractive(key) {\n",
              "          const element = document.querySelector('#df-9fce6912-0fe5-4b2f-adb6-74c846fff8ef');\n",
              "          const dataTable =\n",
              "            await google.colab.kernel.invokeFunction('convertToInteractive',\n",
              "                                                     [key], {});\n",
              "          if (!dataTable) return;\n",
              "\n",
              "          const docLinkHtml = 'Like what you see? Visit the ' +\n",
              "            '<a target=\"_blank\" href=https://colab.research.google.com/notebooks/data_table.ipynb>data table notebook</a>'\n",
              "            + ' to learn more about interactive tables.';\n",
              "          element.innerHTML = '';\n",
              "          dataTable['output_type'] = 'display_data';\n",
              "          await google.colab.output.renderOutput(dataTable, element);\n",
              "          const docLink = document.createElement('div');\n",
              "          docLink.innerHTML = docLinkHtml;\n",
              "          element.appendChild(docLink);\n",
              "        }\n",
              "      </script>\n",
              "    </div>\n",
              "  </div>\n",
              "  "
            ]
          },
          "metadata": {},
          "execution_count": 89
        }
      ]
    }
  ],
  "metadata": {
    "colab": {
      "name": "Improved_Final_Project_Zenius_Data_Analysis_Kelompok_11.ipynb",
      "provenance": [],
      "collapsed_sections": [],
      "include_colab_link": true
    },
    "kernelspec": {
      "display_name": "Python 3",
      "name": "python3"
    },
    "language_info": {
      "name": "python"
    }
  },
  "nbformat": 4,
  "nbformat_minor": 0
}