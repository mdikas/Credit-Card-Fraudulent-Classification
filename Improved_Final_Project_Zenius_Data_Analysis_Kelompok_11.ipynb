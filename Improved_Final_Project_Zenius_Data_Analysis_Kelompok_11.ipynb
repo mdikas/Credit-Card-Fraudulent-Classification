{
  "cells": [
    {
      "cell_type": "markdown",
      "metadata": {
        "id": "view-in-github",
        "colab_type": "text"
      },
      "source": [
        "<a href=\"https://colab.research.google.com/github/mdikas/final-project-zenius-data-analyst/blob/main/Improved_Final_Project_Zenius_Data_Analysis_Kelompok_11.ipynb\" target=\"_parent\"><img src=\"https://colab.research.google.com/assets/colab-badge.svg\" alt=\"Open In Colab\"/></a>"
      ]
    },
    {
      "cell_type": "code",
      "execution_count": 4,
      "metadata": {
        "id": "Y2SjEw1Kmvot"
      },
      "outputs": [],
      "source": [
        "import numpy as np \n",
        "import pandas as pd \n",
        "import seaborn as sns\n",
        "import matplotlib.pyplot as plt\n",
        "from sklearn.metrics import accuracy_score,f1_score,precision_score, recall_score\n",
        "from sklearn.linear_model import LogisticRegression\n",
        "from sklearn.ensemble import RandomForestClassifier\n",
        "from xgboost import XGBClassifier\n",
        "from sklearn.ensemble import GradientBoostingClassifier\n",
        "import xgboost as xgb\n",
        "import warnings\n",
        "warnings.filterwarnings(\"ignore\")\n",
        "from sklearn.preprocessing import MinMaxScaler\n",
        "from sklearn.model_selection import train_test_split\n",
        "from sklearn.model_selection import cross_val_score\n",
        "from sklearn.preprocessing import LabelEncoder\n",
        "from imblearn.under_sampling import RandomUnderSampler ,TomekLinks\n",
        "from imblearn.over_sampling import RandomOverSampler,SMOTE\n",
        "from sklearn.metrics import confusion_matrix\n",
        "from sklearn.metrics import recall_score\n",
        "from sklearn.metrics import plot_precision_recall_curve\n",
        "from sklearn.metrics import roc_curve, roc_auc_score\n",
        "from sklearn.metrics import accuracy_score,classification_report, recall_score,confusion_matrix, roc_auc_score, precision_score, f1_score, roc_curve, auc, plot_confusion_matrix,plot_roc_curve,precision_recall_curve"
      ]
    },
    {
      "cell_type": "code",
      "execution_count": 5,
      "metadata": {
        "id": "sIcJ_HMBm_rO"
      },
      "outputs": [],
      "source": [
        "df = pd.read_csv('/content/drive/MyDrive/Colab_Notebooks/MSIB/Dataset/transactions.csv')"
      ]
    },
    {
      "cell_type": "code",
      "source": [
        "# from google.colab import drive\n",
        "# drive.mount('/content/drive')"
      ],
      "metadata": {
        "id": "VbHQ8qwb4fXz"
      },
      "execution_count": 6,
      "outputs": []
    },
    {
      "cell_type": "markdown",
      "source": [
        "## Data Understanding"
      ],
      "metadata": {
        "id": "d6eMZGkUG4h4"
      }
    },
    {
      "cell_type": "code",
      "execution_count": 7,
      "metadata": {
        "id": "rhyxeYwNnFJt",
        "colab": {
          "base_uri": "https://localhost:8080/",
          "height": 300
        },
        "outputId": "b2373a18-caff-48f4-84df-ae24a8c9c0eb"
      },
      "outputs": [
        {
          "output_type": "execute_result",
          "data": {
            "text/plain": [
              "   accountNumber  customerId  creditLimit  availableMoney  \\\n",
              "0      733493772   733493772         5000         5000.00   \n",
              "1      733493772   733493772         5000         4888.67   \n",
              "2      733493772   733493772         5000         4863.92   \n",
              "3      733493772   733493772         5000         4676.52   \n",
              "4      733493772   733493772         5000         4449.18   \n",
              "\n",
              "   transactionDateTime  transactionAmount merchantName acqCountry  \\\n",
              "0  2016-01-08T19:04:50             111.33         Lyft         US   \n",
              "1  2016-01-09T22:32:39              24.75         Uber         US   \n",
              "2  2016-01-11T13:36:55             187.40         Lyft         US   \n",
              "3  2016-01-11T22:47:46             227.34         Lyft         US   \n",
              "4  2016-01-16T01:41:11               0.00         Lyft         US   \n",
              "\n",
              "  merchantCountryCode  posEntryMode  ...  isFraud echoBuffer currentBalance  \\\n",
              "0                  US           5.0  ...     True        NaN           0.00   \n",
              "1                  US           9.0  ...    False        NaN         111.33   \n",
              "2                  US           5.0  ...    False        NaN         136.08   \n",
              "3                  US           2.0  ...     True        NaN         323.48   \n",
              "4                  US           2.0  ...    False        NaN         550.82   \n",
              "\n",
              "  merchantCity merchantState  merchantZip  cardPresent  posOnPremises  \\\n",
              "0          NaN           NaN          NaN        False            NaN   \n",
              "1          NaN           NaN          NaN        False            NaN   \n",
              "2          NaN           NaN          NaN        False            NaN   \n",
              "3          NaN           NaN          NaN        False            NaN   \n",
              "4          NaN           NaN          NaN        False            NaN   \n",
              "\n",
              "  recurringAuthInd  expirationDateKeyInMatch  \n",
              "0              NaN                     False  \n",
              "1              NaN                     False  \n",
              "2              NaN                     False  \n",
              "3              NaN                     False  \n",
              "4              NaN                     False  \n",
              "\n",
              "[5 rows x 29 columns]"
            ],
            "text/html": [
              "\n",
              "  <div id=\"df-5084b6f1-51b0-4ed2-8709-440b68878ba0\">\n",
              "    <div class=\"colab-df-container\">\n",
              "      <div>\n",
              "<style scoped>\n",
              "    .dataframe tbody tr th:only-of-type {\n",
              "        vertical-align: middle;\n",
              "    }\n",
              "\n",
              "    .dataframe tbody tr th {\n",
              "        vertical-align: top;\n",
              "    }\n",
              "\n",
              "    .dataframe thead th {\n",
              "        text-align: right;\n",
              "    }\n",
              "</style>\n",
              "<table border=\"1\" class=\"dataframe\">\n",
              "  <thead>\n",
              "    <tr style=\"text-align: right;\">\n",
              "      <th></th>\n",
              "      <th>accountNumber</th>\n",
              "      <th>customerId</th>\n",
              "      <th>creditLimit</th>\n",
              "      <th>availableMoney</th>\n",
              "      <th>transactionDateTime</th>\n",
              "      <th>transactionAmount</th>\n",
              "      <th>merchantName</th>\n",
              "      <th>acqCountry</th>\n",
              "      <th>merchantCountryCode</th>\n",
              "      <th>posEntryMode</th>\n",
              "      <th>...</th>\n",
              "      <th>isFraud</th>\n",
              "      <th>echoBuffer</th>\n",
              "      <th>currentBalance</th>\n",
              "      <th>merchantCity</th>\n",
              "      <th>merchantState</th>\n",
              "      <th>merchantZip</th>\n",
              "      <th>cardPresent</th>\n",
              "      <th>posOnPremises</th>\n",
              "      <th>recurringAuthInd</th>\n",
              "      <th>expirationDateKeyInMatch</th>\n",
              "    </tr>\n",
              "  </thead>\n",
              "  <tbody>\n",
              "    <tr>\n",
              "      <th>0</th>\n",
              "      <td>733493772</td>\n",
              "      <td>733493772</td>\n",
              "      <td>5000</td>\n",
              "      <td>5000.00</td>\n",
              "      <td>2016-01-08T19:04:50</td>\n",
              "      <td>111.33</td>\n",
              "      <td>Lyft</td>\n",
              "      <td>US</td>\n",
              "      <td>US</td>\n",
              "      <td>5.0</td>\n",
              "      <td>...</td>\n",
              "      <td>True</td>\n",
              "      <td>NaN</td>\n",
              "      <td>0.00</td>\n",
              "      <td>NaN</td>\n",
              "      <td>NaN</td>\n",
              "      <td>NaN</td>\n",
              "      <td>False</td>\n",
              "      <td>NaN</td>\n",
              "      <td>NaN</td>\n",
              "      <td>False</td>\n",
              "    </tr>\n",
              "    <tr>\n",
              "      <th>1</th>\n",
              "      <td>733493772</td>\n",
              "      <td>733493772</td>\n",
              "      <td>5000</td>\n",
              "      <td>4888.67</td>\n",
              "      <td>2016-01-09T22:32:39</td>\n",
              "      <td>24.75</td>\n",
              "      <td>Uber</td>\n",
              "      <td>US</td>\n",
              "      <td>US</td>\n",
              "      <td>9.0</td>\n",
              "      <td>...</td>\n",
              "      <td>False</td>\n",
              "      <td>NaN</td>\n",
              "      <td>111.33</td>\n",
              "      <td>NaN</td>\n",
              "      <td>NaN</td>\n",
              "      <td>NaN</td>\n",
              "      <td>False</td>\n",
              "      <td>NaN</td>\n",
              "      <td>NaN</td>\n",
              "      <td>False</td>\n",
              "    </tr>\n",
              "    <tr>\n",
              "      <th>2</th>\n",
              "      <td>733493772</td>\n",
              "      <td>733493772</td>\n",
              "      <td>5000</td>\n",
              "      <td>4863.92</td>\n",
              "      <td>2016-01-11T13:36:55</td>\n",
              "      <td>187.40</td>\n",
              "      <td>Lyft</td>\n",
              "      <td>US</td>\n",
              "      <td>US</td>\n",
              "      <td>5.0</td>\n",
              "      <td>...</td>\n",
              "      <td>False</td>\n",
              "      <td>NaN</td>\n",
              "      <td>136.08</td>\n",
              "      <td>NaN</td>\n",
              "      <td>NaN</td>\n",
              "      <td>NaN</td>\n",
              "      <td>False</td>\n",
              "      <td>NaN</td>\n",
              "      <td>NaN</td>\n",
              "      <td>False</td>\n",
              "    </tr>\n",
              "    <tr>\n",
              "      <th>3</th>\n",
              "      <td>733493772</td>\n",
              "      <td>733493772</td>\n",
              "      <td>5000</td>\n",
              "      <td>4676.52</td>\n",
              "      <td>2016-01-11T22:47:46</td>\n",
              "      <td>227.34</td>\n",
              "      <td>Lyft</td>\n",
              "      <td>US</td>\n",
              "      <td>US</td>\n",
              "      <td>2.0</td>\n",
              "      <td>...</td>\n",
              "      <td>True</td>\n",
              "      <td>NaN</td>\n",
              "      <td>323.48</td>\n",
              "      <td>NaN</td>\n",
              "      <td>NaN</td>\n",
              "      <td>NaN</td>\n",
              "      <td>False</td>\n",
              "      <td>NaN</td>\n",
              "      <td>NaN</td>\n",
              "      <td>False</td>\n",
              "    </tr>\n",
              "    <tr>\n",
              "      <th>4</th>\n",
              "      <td>733493772</td>\n",
              "      <td>733493772</td>\n",
              "      <td>5000</td>\n",
              "      <td>4449.18</td>\n",
              "      <td>2016-01-16T01:41:11</td>\n",
              "      <td>0.00</td>\n",
              "      <td>Lyft</td>\n",
              "      <td>US</td>\n",
              "      <td>US</td>\n",
              "      <td>2.0</td>\n",
              "      <td>...</td>\n",
              "      <td>False</td>\n",
              "      <td>NaN</td>\n",
              "      <td>550.82</td>\n",
              "      <td>NaN</td>\n",
              "      <td>NaN</td>\n",
              "      <td>NaN</td>\n",
              "      <td>False</td>\n",
              "      <td>NaN</td>\n",
              "      <td>NaN</td>\n",
              "      <td>False</td>\n",
              "    </tr>\n",
              "  </tbody>\n",
              "</table>\n",
              "<p>5 rows × 29 columns</p>\n",
              "</div>\n",
              "      <button class=\"colab-df-convert\" onclick=\"convertToInteractive('df-5084b6f1-51b0-4ed2-8709-440b68878ba0')\"\n",
              "              title=\"Convert this dataframe to an interactive table.\"\n",
              "              style=\"display:none;\">\n",
              "        \n",
              "  <svg xmlns=\"http://www.w3.org/2000/svg\" height=\"24px\"viewBox=\"0 0 24 24\"\n",
              "       width=\"24px\">\n",
              "    <path d=\"M0 0h24v24H0V0z\" fill=\"none\"/>\n",
              "    <path d=\"M18.56 5.44l.94 2.06.94-2.06 2.06-.94-2.06-.94-.94-2.06-.94 2.06-2.06.94zm-11 1L8.5 8.5l.94-2.06 2.06-.94-2.06-.94L8.5 2.5l-.94 2.06-2.06.94zm10 10l.94 2.06.94-2.06 2.06-.94-2.06-.94-.94-2.06-.94 2.06-2.06.94z\"/><path d=\"M17.41 7.96l-1.37-1.37c-.4-.4-.92-.59-1.43-.59-.52 0-1.04.2-1.43.59L10.3 9.45l-7.72 7.72c-.78.78-.78 2.05 0 2.83L4 21.41c.39.39.9.59 1.41.59.51 0 1.02-.2 1.41-.59l7.78-7.78 2.81-2.81c.8-.78.8-2.07 0-2.86zM5.41 20L4 18.59l7.72-7.72 1.47 1.35L5.41 20z\"/>\n",
              "  </svg>\n",
              "      </button>\n",
              "      \n",
              "  <style>\n",
              "    .colab-df-container {\n",
              "      display:flex;\n",
              "      flex-wrap:wrap;\n",
              "      gap: 12px;\n",
              "    }\n",
              "\n",
              "    .colab-df-convert {\n",
              "      background-color: #E8F0FE;\n",
              "      border: none;\n",
              "      border-radius: 50%;\n",
              "      cursor: pointer;\n",
              "      display: none;\n",
              "      fill: #1967D2;\n",
              "      height: 32px;\n",
              "      padding: 0 0 0 0;\n",
              "      width: 32px;\n",
              "    }\n",
              "\n",
              "    .colab-df-convert:hover {\n",
              "      background-color: #E2EBFA;\n",
              "      box-shadow: 0px 1px 2px rgba(60, 64, 67, 0.3), 0px 1px 3px 1px rgba(60, 64, 67, 0.15);\n",
              "      fill: #174EA6;\n",
              "    }\n",
              "\n",
              "    [theme=dark] .colab-df-convert {\n",
              "      background-color: #3B4455;\n",
              "      fill: #D2E3FC;\n",
              "    }\n",
              "\n",
              "    [theme=dark] .colab-df-convert:hover {\n",
              "      background-color: #434B5C;\n",
              "      box-shadow: 0px 1px 3px 1px rgba(0, 0, 0, 0.15);\n",
              "      filter: drop-shadow(0px 1px 2px rgba(0, 0, 0, 0.3));\n",
              "      fill: #FFFFFF;\n",
              "    }\n",
              "  </style>\n",
              "\n",
              "      <script>\n",
              "        const buttonEl =\n",
              "          document.querySelector('#df-5084b6f1-51b0-4ed2-8709-440b68878ba0 button.colab-df-convert');\n",
              "        buttonEl.style.display =\n",
              "          google.colab.kernel.accessAllowed ? 'block' : 'none';\n",
              "\n",
              "        async function convertToInteractive(key) {\n",
              "          const element = document.querySelector('#df-5084b6f1-51b0-4ed2-8709-440b68878ba0');\n",
              "          const dataTable =\n",
              "            await google.colab.kernel.invokeFunction('convertToInteractive',\n",
              "                                                     [key], {});\n",
              "          if (!dataTable) return;\n",
              "\n",
              "          const docLinkHtml = 'Like what you see? Visit the ' +\n",
              "            '<a target=\"_blank\" href=https://colab.research.google.com/notebooks/data_table.ipynb>data table notebook</a>'\n",
              "            + ' to learn more about interactive tables.';\n",
              "          element.innerHTML = '';\n",
              "          dataTable['output_type'] = 'display_data';\n",
              "          await google.colab.output.renderOutput(dataTable, element);\n",
              "          const docLink = document.createElement('div');\n",
              "          docLink.innerHTML = docLinkHtml;\n",
              "          element.appendChild(docLink);\n",
              "        }\n",
              "      </script>\n",
              "    </div>\n",
              "  </div>\n",
              "  "
            ]
          },
          "metadata": {},
          "execution_count": 7
        }
      ],
      "source": [
        "# preview the dataset\n",
        "\n",
        "df.head()"
      ]
    },
    {
      "cell_type": "code",
      "execution_count": 8,
      "metadata": {
        "id": "DHh-CF2xnRUe",
        "colab": {
          "base_uri": "https://localhost:8080/"
        },
        "outputId": "217bb5d3-8850-4346-9d45-ce54282dcf5b"
      },
      "outputs": [
        {
          "output_type": "stream",
          "name": "stdout",
          "text": [
            "<class 'pandas.core.frame.DataFrame'>\n",
            "RangeIndex: 641914 entries, 0 to 641913\n",
            "Data columns (total 29 columns):\n",
            " #   Column                    Non-Null Count   Dtype  \n",
            "---  ------                    --------------   -----  \n",
            " 0   accountNumber             641914 non-null  int64  \n",
            " 1   customerId                641914 non-null  int64  \n",
            " 2   creditLimit               641914 non-null  int64  \n",
            " 3   availableMoney            641914 non-null  float64\n",
            " 4   transactionDateTime       641914 non-null  object \n",
            " 5   transactionAmount         641914 non-null  float64\n",
            " 6   merchantName              641914 non-null  object \n",
            " 7   acqCountry                638001 non-null  object \n",
            " 8   merchantCountryCode       641290 non-null  object \n",
            " 9   posEntryMode              638569 non-null  float64\n",
            " 10  posConditionCode          641627 non-null  float64\n",
            " 11  merchantCategoryCode      641914 non-null  object \n",
            " 12  currentExpDate            641914 non-null  object \n",
            " 13  accountOpenDate           641914 non-null  object \n",
            " 14  dateOfLastAddressChange   641914 non-null  object \n",
            " 15  cardCVV                   641914 non-null  int64  \n",
            " 16  enteredCVV                641914 non-null  int64  \n",
            " 17  cardLast4Digits           641914 non-null  int64  \n",
            " 18  transactionType           641325 non-null  object \n",
            " 19  isFraud                   641914 non-null  bool   \n",
            " 20  echoBuffer                0 non-null       float64\n",
            " 21  currentBalance            641914 non-null  float64\n",
            " 22  merchantCity              0 non-null       float64\n",
            " 23  merchantState             0 non-null       float64\n",
            " 24  merchantZip               0 non-null       float64\n",
            " 25  cardPresent               641914 non-null  bool   \n",
            " 26  posOnPremises             0 non-null       float64\n",
            " 27  recurringAuthInd          0 non-null       float64\n",
            " 28  expirationDateKeyInMatch  641914 non-null  bool   \n",
            "dtypes: bool(3), float64(11), int64(6), object(9)\n",
            "memory usage: 129.2+ MB\n"
          ]
        }
      ],
      "source": [
        "# view summary of the dataset\n",
        "\n",
        "df.info()"
      ]
    },
    {
      "cell_type": "code",
      "execution_count": 9,
      "metadata": {
        "id": "tdBMR7GkzwlM",
        "colab": {
          "base_uri": "https://localhost:8080/"
        },
        "outputId": "209f00ee-9b54-430f-bba9-2da40308155d"
      },
      "outputs": [
        {
          "output_type": "execute_result",
          "data": {
            "text/plain": [
              "accountNumber                    0\n",
              "customerId                       0\n",
              "creditLimit                      0\n",
              "availableMoney                   0\n",
              "transactionDateTime              0\n",
              "transactionAmount                0\n",
              "merchantName                     0\n",
              "acqCountry                    3913\n",
              "merchantCountryCode            624\n",
              "posEntryMode                  3345\n",
              "posConditionCode               287\n",
              "merchantCategoryCode             0\n",
              "currentExpDate                   0\n",
              "accountOpenDate                  0\n",
              "dateOfLastAddressChange          0\n",
              "cardCVV                          0\n",
              "enteredCVV                       0\n",
              "cardLast4Digits                  0\n",
              "transactionType                589\n",
              "isFraud                          0\n",
              "echoBuffer                  641914\n",
              "currentBalance                   0\n",
              "merchantCity                641914\n",
              "merchantState               641914\n",
              "merchantZip                 641914\n",
              "cardPresent                      0\n",
              "posOnPremises               641914\n",
              "recurringAuthInd            641914\n",
              "expirationDateKeyInMatch         0\n",
              "dtype: int64"
            ]
          },
          "metadata": {},
          "execution_count": 9
        }
      ],
      "source": [
        "# Check missing values\n",
        "\n",
        "df.isnull().sum()"
      ]
    },
    {
      "cell_type": "code",
      "execution_count": 10,
      "metadata": {
        "id": "y1uxu9zjz8ls",
        "colab": {
          "base_uri": "https://localhost:8080/"
        },
        "outputId": "cd9f0c33-cf57-4fe3-8964-fac7d2cb7e39"
      },
      "outputs": [
        {
          "output_type": "execute_result",
          "data": {
            "text/plain": [
              "(641914, 29)"
            ]
          },
          "metadata": {},
          "execution_count": 10
        }
      ],
      "source": [
        "# view dimensions of dataset\n",
        "\n",
        "df.shape"
      ]
    },
    {
      "cell_type": "markdown",
      "metadata": {
        "id": "XUrtt0_EoL0U"
      },
      "source": [
        "Explore Categorical Variables"
      ]
    },
    {
      "cell_type": "code",
      "execution_count": 11,
      "metadata": {
        "id": "q_REv1DHnu2r",
        "colab": {
          "base_uri": "https://localhost:8080/"
        },
        "outputId": "68e68a77-56ff-4c78-bb63-14474dae0c59"
      },
      "outputs": [
        {
          "output_type": "stream",
          "name": "stdout",
          "text": [
            "9 categorical variables\n",
            "\n"
          ]
        }
      ],
      "source": [
        "# Find categorical variables\n",
        "\n",
        "categorical = [var for var in df.columns if df[var].dtype=='object']\n",
        "\n",
        "print('{} categorical variables\\n'.format(len(categorical)))"
      ]
    },
    {
      "cell_type": "code",
      "execution_count": 12,
      "metadata": {
        "id": "f0Tr3PRKoPyR",
        "colab": {
          "base_uri": "https://localhost:8080/"
        },
        "outputId": "8302254f-a61f-4501-fb42-6004c825340d"
      },
      "outputs": [
        {
          "output_type": "stream",
          "name": "stdout",
          "text": [
            "The categorical variables are : ['transactionDateTime', 'merchantName', 'acqCountry', 'merchantCountryCode', 'merchantCategoryCode', 'currentExpDate', 'accountOpenDate', 'dateOfLastAddressChange', 'transactionType']\n"
          ]
        }
      ],
      "source": [
        "print('The categorical variables are :', categorical)"
      ]
    },
    {
      "cell_type": "code",
      "execution_count": 13,
      "metadata": {
        "id": "owZm0zalo2JY",
        "colab": {
          "base_uri": "https://localhost:8080/"
        },
        "outputId": "146ced91-4e46-4bd0-f024-2238cdad1864"
      },
      "outputs": [
        {
          "output_type": "stream",
          "name": "stdout",
          "text": [
            "3 boolean variables\n",
            "\n"
          ]
        }
      ],
      "source": [
        "# find boolean variables\n",
        "\n",
        "boolean = [var for var in df.columns if df[var].dtype=='bool']\n",
        "\n",
        "print('{} boolean variables\\n'.format(len(boolean)))"
      ]
    },
    {
      "cell_type": "code",
      "execution_count": 14,
      "metadata": {
        "id": "9jnqUc8JpM70",
        "colab": {
          "base_uri": "https://localhost:8080/"
        },
        "outputId": "c09aed89-c640-4f36-b211-884692cdc486"
      },
      "outputs": [
        {
          "output_type": "stream",
          "name": "stdout",
          "text": [
            "The boolean variables are : ['isFraud', 'cardPresent', 'expirationDateKeyInMatch']\n"
          ]
        }
      ],
      "source": [
        "print('The boolean variables are :', boolean)"
      ]
    },
    {
      "cell_type": "code",
      "execution_count": 15,
      "metadata": {
        "id": "x0o9VWM3pYhp",
        "colab": {
          "base_uri": "https://localhost:8080/"
        },
        "outputId": "75f6c97a-5a64-40da-fce8-bce87982eb16"
      },
      "outputs": [
        {
          "output_type": "stream",
          "name": "stdout",
          "text": [
            "transactionDateTime  contains  635472  labels\n",
            "merchantName  contains  2493  labels\n",
            "acqCountry  contains  5  labels\n",
            "merchantCountryCode  contains  5  labels\n",
            "merchantCategoryCode  contains  19  labels\n",
            "currentExpDate  contains  165  labels\n",
            "accountOpenDate  contains  1826  labels\n",
            "dateOfLastAddressChange  contains  2186  labels\n",
            "transactionType  contains  4  labels\n"
          ]
        }
      ],
      "source": [
        "# View the number of labels for each categorical variable\n",
        "\n",
        "for var in categorical:\n",
        "    print(var, ' contains ', len(df[var].unique()), ' labels')"
      ]
    },
    {
      "cell_type": "markdown",
      "source": [
        "Summary of categorical variables\n",
        "\n",
        "* There are a total of 12 variables.\n",
        "* There are 5 categorical variables (merchantName, acqCountry, merchantCountryCode, merchantCategoryCode, and transactionType).\n",
        "* There are 4 date variables (transactionDateTime, currentExpDate, accountOpenDate, and dateOfLastAddressChange).\n",
        "* There are 3 binary variables (isFraud, cardPresent, and expirationDateKeyInMatch.\n",
        "* isFraud is the target variable.\n",
        "\n",
        "\n"
      ],
      "metadata": {
        "id": "RZO1qaxDI6se"
      }
    },
    {
      "cell_type": "markdown",
      "metadata": {
        "id": "0Vg9x7ToyzPE"
      },
      "source": [
        "Explore Numerical Variables"
      ]
    },
    {
      "cell_type": "code",
      "execution_count": 16,
      "metadata": {
        "id": "Bp70XnzByeZa",
        "colab": {
          "base_uri": "https://localhost:8080/"
        },
        "outputId": "5b17cab8-6bac-426f-c827-1e377c10f6ec"
      },
      "outputs": [
        {
          "output_type": "stream",
          "name": "stdout",
          "text": [
            "17 numerical variables\n",
            "\n"
          ]
        }
      ],
      "source": [
        "# find numerical variables\n",
        "\n",
        "numerical = [var for var in df.columns if df[var].dtype=='int64' or df[var].dtype=='float64']\n",
        "\n",
        "print('{} numerical variables\\n'.format(len(numerical)))"
      ]
    },
    {
      "cell_type": "code",
      "execution_count": 17,
      "metadata": {
        "id": "s2CGTcJky_-M",
        "colab": {
          "base_uri": "https://localhost:8080/",
          "height": 270
        },
        "outputId": "217a2e0b-3027-44e3-f627-05c30ea5adc8"
      },
      "outputs": [
        {
          "output_type": "execute_result",
          "data": {
            "text/plain": [
              "   accountNumber  customerId  creditLimit  availableMoney  transactionAmount  \\\n",
              "0      733493772   733493772         5000         5000.00             111.33   \n",
              "1      733493772   733493772         5000         4888.67              24.75   \n",
              "2      733493772   733493772         5000         4863.92             187.40   \n",
              "3      733493772   733493772         5000         4676.52             227.34   \n",
              "4      733493772   733493772         5000         4449.18               0.00   \n",
              "\n",
              "   posEntryMode  posConditionCode  cardCVV  enteredCVV  cardLast4Digits  \\\n",
              "0           5.0               1.0      492         492             9184   \n",
              "1           9.0               1.0      492         492             9184   \n",
              "2           5.0               1.0      492         492             9184   \n",
              "3           2.0               1.0      492         492             9184   \n",
              "4           2.0               1.0      492         492             9184   \n",
              "\n",
              "   echoBuffer  currentBalance  merchantCity  merchantState  merchantZip  \\\n",
              "0         NaN            0.00           NaN            NaN          NaN   \n",
              "1         NaN          111.33           NaN            NaN          NaN   \n",
              "2         NaN          136.08           NaN            NaN          NaN   \n",
              "3         NaN          323.48           NaN            NaN          NaN   \n",
              "4         NaN          550.82           NaN            NaN          NaN   \n",
              "\n",
              "   posOnPremises  recurringAuthInd  \n",
              "0            NaN               NaN  \n",
              "1            NaN               NaN  \n",
              "2            NaN               NaN  \n",
              "3            NaN               NaN  \n",
              "4            NaN               NaN  "
            ],
            "text/html": [
              "\n",
              "  <div id=\"df-51893f8f-5ceb-4146-bde1-f553386278ef\">\n",
              "    <div class=\"colab-df-container\">\n",
              "      <div>\n",
              "<style scoped>\n",
              "    .dataframe tbody tr th:only-of-type {\n",
              "        vertical-align: middle;\n",
              "    }\n",
              "\n",
              "    .dataframe tbody tr th {\n",
              "        vertical-align: top;\n",
              "    }\n",
              "\n",
              "    .dataframe thead th {\n",
              "        text-align: right;\n",
              "    }\n",
              "</style>\n",
              "<table border=\"1\" class=\"dataframe\">\n",
              "  <thead>\n",
              "    <tr style=\"text-align: right;\">\n",
              "      <th></th>\n",
              "      <th>accountNumber</th>\n",
              "      <th>customerId</th>\n",
              "      <th>creditLimit</th>\n",
              "      <th>availableMoney</th>\n",
              "      <th>transactionAmount</th>\n",
              "      <th>posEntryMode</th>\n",
              "      <th>posConditionCode</th>\n",
              "      <th>cardCVV</th>\n",
              "      <th>enteredCVV</th>\n",
              "      <th>cardLast4Digits</th>\n",
              "      <th>echoBuffer</th>\n",
              "      <th>currentBalance</th>\n",
              "      <th>merchantCity</th>\n",
              "      <th>merchantState</th>\n",
              "      <th>merchantZip</th>\n",
              "      <th>posOnPremises</th>\n",
              "      <th>recurringAuthInd</th>\n",
              "    </tr>\n",
              "  </thead>\n",
              "  <tbody>\n",
              "    <tr>\n",
              "      <th>0</th>\n",
              "      <td>733493772</td>\n",
              "      <td>733493772</td>\n",
              "      <td>5000</td>\n",
              "      <td>5000.00</td>\n",
              "      <td>111.33</td>\n",
              "      <td>5.0</td>\n",
              "      <td>1.0</td>\n",
              "      <td>492</td>\n",
              "      <td>492</td>\n",
              "      <td>9184</td>\n",
              "      <td>NaN</td>\n",
              "      <td>0.00</td>\n",
              "      <td>NaN</td>\n",
              "      <td>NaN</td>\n",
              "      <td>NaN</td>\n",
              "      <td>NaN</td>\n",
              "      <td>NaN</td>\n",
              "    </tr>\n",
              "    <tr>\n",
              "      <th>1</th>\n",
              "      <td>733493772</td>\n",
              "      <td>733493772</td>\n",
              "      <td>5000</td>\n",
              "      <td>4888.67</td>\n",
              "      <td>24.75</td>\n",
              "      <td>9.0</td>\n",
              "      <td>1.0</td>\n",
              "      <td>492</td>\n",
              "      <td>492</td>\n",
              "      <td>9184</td>\n",
              "      <td>NaN</td>\n",
              "      <td>111.33</td>\n",
              "      <td>NaN</td>\n",
              "      <td>NaN</td>\n",
              "      <td>NaN</td>\n",
              "      <td>NaN</td>\n",
              "      <td>NaN</td>\n",
              "    </tr>\n",
              "    <tr>\n",
              "      <th>2</th>\n",
              "      <td>733493772</td>\n",
              "      <td>733493772</td>\n",
              "      <td>5000</td>\n",
              "      <td>4863.92</td>\n",
              "      <td>187.40</td>\n",
              "      <td>5.0</td>\n",
              "      <td>1.0</td>\n",
              "      <td>492</td>\n",
              "      <td>492</td>\n",
              "      <td>9184</td>\n",
              "      <td>NaN</td>\n",
              "      <td>136.08</td>\n",
              "      <td>NaN</td>\n",
              "      <td>NaN</td>\n",
              "      <td>NaN</td>\n",
              "      <td>NaN</td>\n",
              "      <td>NaN</td>\n",
              "    </tr>\n",
              "    <tr>\n",
              "      <th>3</th>\n",
              "      <td>733493772</td>\n",
              "      <td>733493772</td>\n",
              "      <td>5000</td>\n",
              "      <td>4676.52</td>\n",
              "      <td>227.34</td>\n",
              "      <td>2.0</td>\n",
              "      <td>1.0</td>\n",
              "      <td>492</td>\n",
              "      <td>492</td>\n",
              "      <td>9184</td>\n",
              "      <td>NaN</td>\n",
              "      <td>323.48</td>\n",
              "      <td>NaN</td>\n",
              "      <td>NaN</td>\n",
              "      <td>NaN</td>\n",
              "      <td>NaN</td>\n",
              "      <td>NaN</td>\n",
              "    </tr>\n",
              "    <tr>\n",
              "      <th>4</th>\n",
              "      <td>733493772</td>\n",
              "      <td>733493772</td>\n",
              "      <td>5000</td>\n",
              "      <td>4449.18</td>\n",
              "      <td>0.00</td>\n",
              "      <td>2.0</td>\n",
              "      <td>1.0</td>\n",
              "      <td>492</td>\n",
              "      <td>492</td>\n",
              "      <td>9184</td>\n",
              "      <td>NaN</td>\n",
              "      <td>550.82</td>\n",
              "      <td>NaN</td>\n",
              "      <td>NaN</td>\n",
              "      <td>NaN</td>\n",
              "      <td>NaN</td>\n",
              "      <td>NaN</td>\n",
              "    </tr>\n",
              "  </tbody>\n",
              "</table>\n",
              "</div>\n",
              "      <button class=\"colab-df-convert\" onclick=\"convertToInteractive('df-51893f8f-5ceb-4146-bde1-f553386278ef')\"\n",
              "              title=\"Convert this dataframe to an interactive table.\"\n",
              "              style=\"display:none;\">\n",
              "        \n",
              "  <svg xmlns=\"http://www.w3.org/2000/svg\" height=\"24px\"viewBox=\"0 0 24 24\"\n",
              "       width=\"24px\">\n",
              "    <path d=\"M0 0h24v24H0V0z\" fill=\"none\"/>\n",
              "    <path d=\"M18.56 5.44l.94 2.06.94-2.06 2.06-.94-2.06-.94-.94-2.06-.94 2.06-2.06.94zm-11 1L8.5 8.5l.94-2.06 2.06-.94-2.06-.94L8.5 2.5l-.94 2.06-2.06.94zm10 10l.94 2.06.94-2.06 2.06-.94-2.06-.94-.94-2.06-.94 2.06-2.06.94z\"/><path d=\"M17.41 7.96l-1.37-1.37c-.4-.4-.92-.59-1.43-.59-.52 0-1.04.2-1.43.59L10.3 9.45l-7.72 7.72c-.78.78-.78 2.05 0 2.83L4 21.41c.39.39.9.59 1.41.59.51 0 1.02-.2 1.41-.59l7.78-7.78 2.81-2.81c.8-.78.8-2.07 0-2.86zM5.41 20L4 18.59l7.72-7.72 1.47 1.35L5.41 20z\"/>\n",
              "  </svg>\n",
              "      </button>\n",
              "      \n",
              "  <style>\n",
              "    .colab-df-container {\n",
              "      display:flex;\n",
              "      flex-wrap:wrap;\n",
              "      gap: 12px;\n",
              "    }\n",
              "\n",
              "    .colab-df-convert {\n",
              "      background-color: #E8F0FE;\n",
              "      border: none;\n",
              "      border-radius: 50%;\n",
              "      cursor: pointer;\n",
              "      display: none;\n",
              "      fill: #1967D2;\n",
              "      height: 32px;\n",
              "      padding: 0 0 0 0;\n",
              "      width: 32px;\n",
              "    }\n",
              "\n",
              "    .colab-df-convert:hover {\n",
              "      background-color: #E2EBFA;\n",
              "      box-shadow: 0px 1px 2px rgba(60, 64, 67, 0.3), 0px 1px 3px 1px rgba(60, 64, 67, 0.15);\n",
              "      fill: #174EA6;\n",
              "    }\n",
              "\n",
              "    [theme=dark] .colab-df-convert {\n",
              "      background-color: #3B4455;\n",
              "      fill: #D2E3FC;\n",
              "    }\n",
              "\n",
              "    [theme=dark] .colab-df-convert:hover {\n",
              "      background-color: #434B5C;\n",
              "      box-shadow: 0px 1px 3px 1px rgba(0, 0, 0, 0.15);\n",
              "      filter: drop-shadow(0px 1px 2px rgba(0, 0, 0, 0.3));\n",
              "      fill: #FFFFFF;\n",
              "    }\n",
              "  </style>\n",
              "\n",
              "      <script>\n",
              "        const buttonEl =\n",
              "          document.querySelector('#df-51893f8f-5ceb-4146-bde1-f553386278ef button.colab-df-convert');\n",
              "        buttonEl.style.display =\n",
              "          google.colab.kernel.accessAllowed ? 'block' : 'none';\n",
              "\n",
              "        async function convertToInteractive(key) {\n",
              "          const element = document.querySelector('#df-51893f8f-5ceb-4146-bde1-f553386278ef');\n",
              "          const dataTable =\n",
              "            await google.colab.kernel.invokeFunction('convertToInteractive',\n",
              "                                                     [key], {});\n",
              "          if (!dataTable) return;\n",
              "\n",
              "          const docLinkHtml = 'Like what you see? Visit the ' +\n",
              "            '<a target=\"_blank\" href=https://colab.research.google.com/notebooks/data_table.ipynb>data table notebook</a>'\n",
              "            + ' to learn more about interactive tables.';\n",
              "          element.innerHTML = '';\n",
              "          dataTable['output_type'] = 'display_data';\n",
              "          await google.colab.output.renderOutput(dataTable, element);\n",
              "          const docLink = document.createElement('div');\n",
              "          docLink.innerHTML = docLinkHtml;\n",
              "          element.appendChild(docLink);\n",
              "        }\n",
              "      </script>\n",
              "    </div>\n",
              "  </div>\n",
              "  "
            ]
          },
          "metadata": {},
          "execution_count": 17
        }
      ],
      "source": [
        "# view the numerical variables\n",
        "\n",
        "df[numerical].head()"
      ]
    },
    {
      "cell_type": "markdown",
      "source": [
        "Summary of numerical variables\n",
        "\n",
        "* There are 11 numerical variables\n",
        "* These are given by, accountNumber, customerId, creditLimit, availableMoney, transactionAmount, posEntryMode, posConditionCode, cardCVV, enteredCVV, cardLast4Digits, and currentBalance."
      ],
      "metadata": {
        "id": "4YLe9iZ4LTFx"
      }
    },
    {
      "cell_type": "markdown",
      "metadata": {
        "id": "skMKtrqi3dh7"
      },
      "source": [
        "# Exploratory Data Analysis"
      ]
    },
    {
      "cell_type": "markdown",
      "source": [
        "### Visualization"
      ],
      "metadata": {
        "id": "0GRwNDoQL31t"
      }
    },
    {
      "cell_type": "code",
      "source": [
        "sns.countplot(df['creditLimit'].sort_values().astype(str),palette=\"flare\")"
      ],
      "metadata": {
        "id": "3pUlS4GceyaZ",
        "colab": {
          "base_uri": "https://localhost:8080/",
          "height": 296
        },
        "outputId": "00f02cda-9e82-4135-bc7f-5d57ca857f6e"
      },
      "execution_count": 18,
      "outputs": [
        {
          "output_type": "execute_result",
          "data": {
            "text/plain": [
              "<matplotlib.axes._subplots.AxesSubplot at 0x7f79cec72090>"
            ]
          },
          "metadata": {},
          "execution_count": 18
        },
        {
          "output_type": "display_data",
          "data": {
            "text/plain": [
              "<Figure size 432x288 with 1 Axes>"
            ],
            "image/png": "[encoded data removed]"
          },
          "metadata": {
            "needs_background": "light"
          }
        }
      ]
    },
    {
      "cell_type": "markdown",
      "source": [
        "Most of the Credit Cards have 5000 as their limit, on second number it is 7500."
      ],
      "metadata": {
        "id": "BqGf555QMuwY"
      }
    },
    {
      "cell_type": "code",
      "source": [
        "sns.countplot(df['merchantCountryCode'].sort_values().astype(str),palette=\"flare\")"
      ],
      "metadata": {
        "colab": {
          "base_uri": "https://localhost:8080/",
          "height": 296
        },
        "id": "9N4NVq-zMvtI",
        "outputId": "f151b244-87a9-4e4e-b31d-bceddc636fcd"
      },
      "execution_count": 19,
      "outputs": [
        {
          "output_type": "execute_result",
          "data": {
            "text/plain": [
              "<matplotlib.axes._subplots.AxesSubplot at 0x7f79dcbb80d0>"
            ]
          },
          "metadata": {},
          "execution_count": 19
        },
        {
          "output_type": "display_data",
          "data": {
            "text/plain": [
              "<Figure size 432x288 with 1 Axes>"
            ],
            "image/png": "[encoded data removed]"
          },
          "metadata": {
            "needs_background": "light"
          }
        }
      ]
    },
    {
      "cell_type": "markdown",
      "source": [
        "4 Types of Merchant Country Code, where US is a dominant entity as shown."
      ],
      "metadata": {
        "id": "NvEtc28VNTfB"
      }
    },
    {
      "cell_type": "code",
      "source": [
        "sns.countplot(df['posEntryMode'].sort_values().astype(str),palette=\"flare\")"
      ],
      "metadata": {
        "colab": {
          "base_uri": "https://localhost:8080/",
          "height": 296
        },
        "id": "8IcMlnyANEls",
        "outputId": "11d10c55-156a-4eb7-aa27-56846f460074"
      },
      "execution_count": 20,
      "outputs": [
        {
          "output_type": "execute_result",
          "data": {
            "text/plain": [
              "<matplotlib.axes._subplots.AxesSubplot at 0x7f79cc787f10>"
            ]
          },
          "metadata": {},
          "execution_count": 20
        },
        {
          "output_type": "display_data",
          "data": {
            "text/plain": [
              "<Figure size 432x288 with 1 Axes>"
            ],
            "image/png": "[encoded data removed]"
          },
          "metadata": {
            "needs_background": "light"
          }
        }
      ]
    },
    {
      "cell_type": "markdown",
      "source": [
        "5 POS Entry Mode where “05”, “09”, and “02” covers most of the values"
      ],
      "metadata": {
        "id": "mJ3BnVytNQLY"
      }
    },
    {
      "cell_type": "code",
      "source": [
        "sns.countplot(df['posConditionCode'].sort_values().astype(str),palette=\"flare\")"
      ],
      "metadata": {
        "colab": {
          "base_uri": "https://localhost:8080/",
          "height": 296
        },
        "id": "UFQ6lKuhNrLj",
        "outputId": "ea6e065c-ebd4-40cc-8526-34c4cd3edce1"
      },
      "execution_count": 21,
      "outputs": [
        {
          "output_type": "execute_result",
          "data": {
            "text/plain": [
              "<matplotlib.axes._subplots.AxesSubplot at 0x7f79cb1e8d50>"
            ]
          },
          "metadata": {},
          "execution_count": 21
        },
        {
          "output_type": "display_data",
          "data": {
            "text/plain": [
              "<Figure size 432x288 with 1 Axes>"
            ],
            "image/png": "[encoded data removed]"
          },
          "metadata": {
            "needs_background": "light"
          }
        }
      ]
    },
    {
      "cell_type": "markdown",
      "source": [
        "3 POS Condition Mode exists where “01” is dominant among all\n"
      ],
      "metadata": {
        "id": "LpT8GQbQNrm2"
      }
    },
    {
      "cell_type": "code",
      "source": [
        "sns.countplot(df['transactionType'],palette=\"flare\")"
      ],
      "metadata": {
        "colab": {
          "base_uri": "https://localhost:8080/",
          "height": 297
        },
        "id": "yxWCb0hyN4RB",
        "outputId": "1939ef6e-d3ed-421d-e3ff-ec58b9f99f7b"
      },
      "execution_count": 22,
      "outputs": [
        {
          "output_type": "execute_result",
          "data": {
            "text/plain": [
              "<matplotlib.axes._subplots.AxesSubplot at 0x7f79cb1e5f90>"
            ]
          },
          "metadata": {},
          "execution_count": 22
        },
        {
          "output_type": "display_data",
          "data": {
            "text/plain": [
              "<Figure size 432x288 with 1 Axes>"
            ],
            "image/png": "[encoded data removed]"
          },
          "metadata": {
            "needs_background": "light"
          }
        }
      ]
    },
    {
      "cell_type": "markdown",
      "source": [
        "There are 3 transaction types, where purchase type is the most dominant."
      ],
      "metadata": {
        "id": "mSfdI2bFOAmF"
      }
    },
    {
      "cell_type": "code",
      "source": [
        "sns.countplot(df['cardPresent'].astype(str),palette=\"flare\")"
      ],
      "metadata": {
        "colab": {
          "base_uri": "https://localhost:8080/",
          "height": 296
        },
        "id": "CY0n3eVDOvG1",
        "outputId": "1fd90369-d03a-4333-c8c2-2b59d0cded86"
      },
      "execution_count": 23,
      "outputs": [
        {
          "output_type": "execute_result",
          "data": {
            "text/plain": [
              "<matplotlib.axes._subplots.AxesSubplot at 0x7f79cc92b3d0>"
            ]
          },
          "metadata": {},
          "execution_count": 23
        },
        {
          "output_type": "display_data",
          "data": {
            "text/plain": [
              "<Figure size 432x288 with 1 Axes>"
            ],
            "image/png": "[encoded data removed]"
          },
          "metadata": {
            "needs_background": "light"
          }
        }
      ]
    },
    {
      "cell_type": "markdown",
      "source": [
        "If card is Present during the transaction."
      ],
      "metadata": {
        "id": "zd1AayvsOtt-"
      }
    },
    {
      "cell_type": "code",
      "source": [
        "ax = sns.countplot(df['merchantName'], palette=\"flare\", order=df['merchantName'].sort_values().value_counts().iloc[:10].index)\n",
        "ax.set_xticklabels(ax.get_xticklabels(),rotation = 90)"
      ],
      "metadata": {
        "colab": {
          "base_uri": "https://localhost:8080/",
          "height": 510
        },
        "id": "_EwXLlq5PXcj",
        "outputId": "b2fbcf01-2d1b-4154-baeb-b930fd8b8651"
      },
      "execution_count": 24,
      "outputs": [
        {
          "output_type": "execute_result",
          "data": {
            "text/plain": [
              "[Text(0, 0, 'Lyft'),\n",
              " Text(0, 0, 'Uber'),\n",
              " Text(0, 0, 'gap.com'),\n",
              " Text(0, 0, 'apple.com'),\n",
              " Text(0, 0, 'target.com'),\n",
              " Text(0, 0, 'alibaba.com'),\n",
              " Text(0, 0, 'staples.com'),\n",
              " Text(0, 0, 'amazon.com'),\n",
              " Text(0, 0, 'ebay.com'),\n",
              " Text(0, 0, 'discount.com')]"
            ]
          },
          "metadata": {},
          "execution_count": 24
        },
        {
          "output_type": "display_data",
          "data": {
            "text/plain": [
              "<Figure size 432x288 with 1 Axes>"
            ],
            "image/png": "[encoded data removed]"
          },
          "metadata": {
            "needs_background": "light"
          }
        }
      ]
    },
    {
      "cell_type": "markdown",
      "source": [
        "Top 10 Merchant by count"
      ],
      "metadata": {
        "id": "RfJ8OIZcPa96"
      }
    },
    {
      "cell_type": "code",
      "source": [
        "ax = sns.countplot(df['merchantCategoryCode'], palette=\"flare\", order=df['merchantCategoryCode'].sort_values().value_counts().iloc[:10].index)\n",
        "ax.set_xticklabels(ax.get_xticklabels(),rotation = 90)"
      ],
      "metadata": {
        "colab": {
          "base_uri": "https://localhost:8080/",
          "height": 515
        },
        "id": "_cN4BXMMPd-Q",
        "outputId": "fa63e394-b4b5-4c12-9abb-d5dec48ed9cd"
      },
      "execution_count": 25,
      "outputs": [
        {
          "output_type": "execute_result",
          "data": {
            "text/plain": [
              "[Text(0, 0, 'online_retail'),\n",
              " Text(0, 0, 'fastfood'),\n",
              " Text(0, 0, 'entertainment'),\n",
              " Text(0, 0, 'food'),\n",
              " Text(0, 0, 'rideshare'),\n",
              " Text(0, 0, 'online_gifts'),\n",
              " Text(0, 0, 'hotels'),\n",
              " Text(0, 0, 'fuel'),\n",
              " Text(0, 0, 'subscriptions'),\n",
              " Text(0, 0, 'personal care')]"
            ]
          },
          "metadata": {},
          "execution_count": 25
        },
        {
          "output_type": "display_data",
          "data": {
            "text/plain": [
              "<Figure size 432x288 with 1 Axes>"
            ],
            "image/png": "[encoded data removed]"
          },
          "metadata": {
            "needs_background": "light"
          }
        }
      ]
    },
    {
      "cell_type": "markdown",
      "source": [
        "Top 10 Category"
      ],
      "metadata": {
        "id": "0YAW_03XPiUq"
      }
    },
    {
      "cell_type": "markdown",
      "source": [
        "Histogram numerical variables"
      ],
      "metadata": {
        "id": "pOKgbGQYP9Y6"
      }
    },
    {
      "cell_type": "code",
      "source": [
        "plt.figure(figsize=(15,10))\n",
        "\n",
        "plt.subplot(2, 2, 1)\n",
        "fig = sns.histplot(df['creditLimit'],bins=10)\n",
        "fig.set_xlabel('creditLimit')\n",
        "fig.set_ylabel('Count')\n",
        "\n",
        "plt.subplot(2, 2, 2)\n",
        "fig = sns.histplot(df['availableMoney'],bins=10)\n",
        "fig.set_xlabel('availableMoney')\n",
        "fig.set_ylabel('Count')\n",
        "\n",
        "plt.subplot(2, 2, 3)\n",
        "fig = sns.histplot(df['transactionAmount'],bins=10)\n",
        "fig.set_xlabel('transactionAmount')\n",
        "fig.set_ylabel('Count')\n",
        "\n",
        "plt.subplot(2, 2, 4)\n",
        "fig = sns.histplot(df['currentBalance'],bins=10)\n",
        "fig.set_xlabel('currentBalance')\n",
        "fig.set_ylabel('Count')"
      ],
      "metadata": {
        "colab": {
          "base_uri": "https://localhost:8080/",
          "height": 620
        },
        "id": "OeOzhTU4P84g",
        "outputId": "b031fccc-cc61-4016-b010-cbc9ad2ca6e9"
      },
      "execution_count": 26,
      "outputs": [
        {
          "output_type": "execute_result",
          "data": {
            "text/plain": [
              "Text(0, 0.5, 'Count')"
            ]
          },
          "metadata": {},
          "execution_count": 26
        },
        {
          "output_type": "display_data",
          "data": {
            "text/plain": [
              "<Figure size 1080x720 with 4 Axes>"
            ],
            "image/png": "[encoded data removed]"
          },
          "metadata": {
            "needs_background": "light"
          }
        }
      ]
    },
    {
      "cell_type": "markdown",
      "source": [
        "These Numerical Atrributes are Right Skewed"
      ],
      "metadata": {
        "id": "I-nkaoVnQdNp"
      }
    },
    {
      "cell_type": "markdown",
      "source": [
        "Boxplot numerical variables"
      ],
      "metadata": {
        "id": "rOkDSm2GQL6Z"
      }
    },
    {
      "cell_type": "code",
      "source": [
        "# Box Plots help analyzing the Outliers in the datasets and the skewness\n",
        "\n",
        "plt.figure(figsize=(15,10))\n",
        "\n",
        "\n",
        "plt.subplot(2, 4, 1)\n",
        "fig = sns.boxplot(data=df['creditLimit'],palette=\"flare\")\n",
        "fig.set_title('creditLimit')\n",
        "\n",
        "plt.subplot(2, 4, 2)\n",
        "fig = sns.boxplot(data=df['availableMoney'],palette=\"flare\")\n",
        "fig.set_title('availableMoney')\n",
        "\n",
        "plt.subplot(2, 4, 3)\n",
        "fig = sns.boxplot(data=df['transactionAmount'],palette=\"flare\")\n",
        "fig.set_title('transactionAmount')\n",
        "\n",
        "plt.subplot(2, 4, 4)\n",
        "fig = sns.boxplot(data=df['currentBalance'],palette=\"flare\")\n",
        "fig.set_title('currentBalance')"
      ],
      "metadata": {
        "colab": {
          "base_uri": "https://localhost:8080/",
          "height": 328
        },
        "id": "IQJVUti2QLjH",
        "outputId": "f2296443-6f29-488a-e145-d150ae45e81b"
      },
      "execution_count": 27,
      "outputs": [
        {
          "output_type": "execute_result",
          "data": {
            "text/plain": [
              "Text(0.5, 1.0, 'currentBalance')"
            ]
          },
          "metadata": {},
          "execution_count": 27
        },
        {
          "output_type": "display_data",
          "data": {
            "text/plain": [
              "<Figure size 1080x720 with 4 Axes>"
            ],
            "image/png": "[encoded data removed]"
          },
          "metadata": {
            "needs_background": "light"
          }
        }
      ]
    },
    {
      "cell_type": "markdown",
      "source": [
        "Plot Heatmap to see Correlation Matrix between these 4 Numerical Attributes."
      ],
      "metadata": {
        "id": "BFgwoj9hRQaA"
      }
    },
    {
      "cell_type": "code",
      "source": [
        "num_c = ['creditLimit','availableMoney','transactionAmount','currentBalance']\n",
        "\n",
        "plt.figure(figsize=(10,8))\n",
        "sns.heatmap(df[num_c].corr(), annot=True, cmap=plt.cm.Reds)\n",
        "plt.show()"
      ],
      "metadata": {
        "colab": {
          "base_uri": "https://localhost:8080/",
          "height": 487
        },
        "id": "D1hxkqs9QvYU",
        "outputId": "0d028f19-d247-4bfc-ebed-cbeab41a3a1d"
      },
      "execution_count": 28,
      "outputs": [
        {
          "output_type": "display_data",
          "data": {
            "text/plain": [
              "<Figure size 720x576 with 2 Axes>"
            ],
            "image/png": "[encoded data removed]"
          },
          "metadata": {
            "needs_background": "light"
          }
        }
      ]
    },
    {
      "cell_type": "markdown",
      "source": [
        "## Data Wrangling"
      ],
      "metadata": {
        "id": "xGMezBu-Hp8F"
      }
    },
    {
      "cell_type": "code",
      "source": [
        "df.info()"
      ],
      "metadata": {
        "colab": {
          "base_uri": "https://localhost:8080/"
        },
        "id": "f9BZY15GHrTS",
        "outputId": "17e6f7ff-d9e4-40cf-abd2-be266764ef7e"
      },
      "execution_count": 29,
      "outputs": [
        {
          "output_type": "stream",
          "name": "stdout",
          "text": [
            "<class 'pandas.core.frame.DataFrame'>\n",
            "RangeIndex: 641914 entries, 0 to 641913\n",
            "Data columns (total 29 columns):\n",
            " #   Column                    Non-Null Count   Dtype  \n",
            "---  ------                    --------------   -----  \n",
            " 0   accountNumber             641914 non-null  int64  \n",
            " 1   customerId                641914 non-null  int64  \n",
            " 2   creditLimit               641914 non-null  int64  \n",
            " 3   availableMoney            641914 non-null  float64\n",
            " 4   transactionDateTime       641914 non-null  object \n",
            " 5   transactionAmount         641914 non-null  float64\n",
            " 6   merchantName              641914 non-null  object \n",
            " 7   acqCountry                638001 non-null  object \n",
            " 8   merchantCountryCode       641290 non-null  object \n",
            " 9   posEntryMode              638569 non-null  float64\n",
            " 10  posConditionCode          641627 non-null  float64\n",
            " 11  merchantCategoryCode      641914 non-null  object \n",
            " 12  currentExpDate            641914 non-null  object \n",
            " 13  accountOpenDate           641914 non-null  object \n",
            " 14  dateOfLastAddressChange   641914 non-null  object \n",
            " 15  cardCVV                   641914 non-null  int64  \n",
            " 16  enteredCVV                641914 non-null  int64  \n",
            " 17  cardLast4Digits           641914 non-null  int64  \n",
            " 18  transactionType           641325 non-null  object \n",
            " 19  isFraud                   641914 non-null  bool   \n",
            " 20  echoBuffer                0 non-null       float64\n",
            " 21  currentBalance            641914 non-null  float64\n",
            " 22  merchantCity              0 non-null       float64\n",
            " 23  merchantState             0 non-null       float64\n",
            " 24  merchantZip               0 non-null       float64\n",
            " 25  cardPresent               641914 non-null  bool   \n",
            " 26  posOnPremises             0 non-null       float64\n",
            " 27  recurringAuthInd          0 non-null       float64\n",
            " 28  expirationDateKeyInMatch  641914 non-null  bool   \n",
            "dtypes: bool(3), float64(11), int64(6), object(9)\n",
            "memory usage: 129.2+ MB\n"
          ]
        }
      ]
    },
    {
      "cell_type": "code",
      "source": [
        "# Drop empty column, merchantName, and 3 date variables\n",
        "\n",
        "df = df.drop(columns=['echoBuffer','merchantCity','merchantState','merchantZip','posOnPremises',\n",
        "                      'recurringAuthInd','merchantName','currentExpDate','accountOpenDate','dateOfLastAddressChange'])"
      ],
      "metadata": {
        "id": "xMdNzwWSRf0c"
      },
      "execution_count": 30,
      "outputs": []
    },
    {
      "cell_type": "code",
      "source": [
        "df.info()"
      ],
      "metadata": {
        "colab": {
          "base_uri": "https://localhost:8080/"
        },
        "id": "h1At8MLVRn4h",
        "outputId": "6e88549d-2193-4709-dbe4-8ae29d04c6a2"
      },
      "execution_count": 31,
      "outputs": [
        {
          "output_type": "stream",
          "name": "stdout",
          "text": [
            "<class 'pandas.core.frame.DataFrame'>\n",
            "RangeIndex: 641914 entries, 0 to 641913\n",
            "Data columns (total 19 columns):\n",
            " #   Column                    Non-Null Count   Dtype  \n",
            "---  ------                    --------------   -----  \n",
            " 0   accountNumber             641914 non-null  int64  \n",
            " 1   customerId                641914 non-null  int64  \n",
            " 2   creditLimit               641914 non-null  int64  \n",
            " 3   availableMoney            641914 non-null  float64\n",
            " 4   transactionDateTime       641914 non-null  object \n",
            " 5   transactionAmount         641914 non-null  float64\n",
            " 6   acqCountry                638001 non-null  object \n",
            " 7   merchantCountryCode       641290 non-null  object \n",
            " 8   posEntryMode              638569 non-null  float64\n",
            " 9   posConditionCode          641627 non-null  float64\n",
            " 10  merchantCategoryCode      641914 non-null  object \n",
            " 11  cardCVV                   641914 non-null  int64  \n",
            " 12  enteredCVV                641914 non-null  int64  \n",
            " 13  cardLast4Digits           641914 non-null  int64  \n",
            " 14  transactionType           641325 non-null  object \n",
            " 15  isFraud                   641914 non-null  bool   \n",
            " 16  currentBalance            641914 non-null  float64\n",
            " 17  cardPresent               641914 non-null  bool   \n",
            " 18  expirationDateKeyInMatch  641914 non-null  bool   \n",
            "dtypes: bool(3), float64(5), int64(6), object(5)\n",
            "memory usage: 80.2+ MB\n"
          ]
        }
      ]
    },
    {
      "cell_type": "markdown",
      "source": [
        "Matched CVV"
      ],
      "metadata": {
        "id": "zOLp-eo7UQaz"
      }
    },
    {
      "cell_type": "code",
      "source": [
        "# Make new column named 'matchedCVV' with the values are if cardCVV is equal to enteredCVV\n",
        "\n",
        "df['matchedCVV'] = df['cardCVV'].eq(df['enteredCVV'])"
      ],
      "metadata": {
        "id": "aCFBmezTSsZq"
      },
      "execution_count": 32,
      "outputs": []
    },
    {
      "cell_type": "code",
      "source": [
        "df['matchedCVV'].value_counts()"
      ],
      "metadata": {
        "colab": {
          "base_uri": "https://localhost:8080/"
        },
        "id": "q0HzOiOmT7Kw",
        "outputId": "d8896dc9-12a0-4fa2-b39d-e6485196246a"
      },
      "execution_count": 33,
      "outputs": [
        {
          "output_type": "execute_result",
          "data": {
            "text/plain": [
              "True     635977\n",
              "False      5937\n",
              "Name: matchedCVV, dtype: int64"
            ]
          },
          "metadata": {},
          "execution_count": 33
        }
      ]
    },
    {
      "cell_type": "code",
      "source": [
        "# Drop cardCVV and enteredCVV\n",
        "\n",
        "df = df.drop(columns=['cardCVV','enteredCVV'])"
      ],
      "metadata": {
        "id": "vonSz8geTtyx"
      },
      "execution_count": 34,
      "outputs": []
    },
    {
      "cell_type": "markdown",
      "source": [
        "Transaction Date Time"
      ],
      "metadata": {
        "id": "3W1fYFIRUTbW"
      }
    },
    {
      "cell_type": "code",
      "source": [
        "# convert 'transactionDateTime' into datetime format\n",
        "\n",
        "df['transactionDateTime'] = pd.to_datetime(df['transactionDateTime'])\n",
        "df['transactionDateTime']"
      ],
      "metadata": {
        "colab": {
          "base_uri": "https://localhost:8080/"
        },
        "id": "s11EjZijUDp2",
        "outputId": "3ac5327b-87d2-4775-bef8-1a8727663e17"
      },
      "execution_count": 35,
      "outputs": [
        {
          "output_type": "execute_result",
          "data": {
            "text/plain": [
              "0        2016-01-08 19:04:50\n",
              "1        2016-01-09 22:32:39\n",
              "2        2016-01-11 13:36:55\n",
              "3        2016-01-11 22:47:46\n",
              "4        2016-01-16 01:41:11\n",
              "                 ...        \n",
              "641909   2016-12-04 12:29:21\n",
              "641910   2016-12-09 04:20:35\n",
              "641911   2016-12-16 07:58:23\n",
              "641912   2016-12-19 02:30:35\n",
              "641913   2016-12-28 11:14:14\n",
              "Name: transactionDateTime, Length: 641914, dtype: datetime64[ns]"
            ]
          },
          "metadata": {},
          "execution_count": 35
        }
      ]
    },
    {
      "cell_type": "code",
      "source": [
        "# Extracting duplicate transactions\n",
        "Duplicated = (df.sort_values(['transactionDateTime']).groupby(['accountNumber', 'transactionAmount'], sort=False)['transactionDateTime'].diff().dt.total_seconds().lt(600))"
      ],
      "metadata": {
        "id": "P3Q0qHBSWmWm"
      },
      "execution_count": 36,
      "outputs": []
    },
    {
      "cell_type": "code",
      "source": [
        "# make new column 'multiSwipe'\n",
        "\n",
        "df['multiSwipe'] = Duplicated"
      ],
      "metadata": {
        "id": "aQp_-TtjWxyj"
      },
      "execution_count": 37,
      "outputs": []
    },
    {
      "cell_type": "code",
      "source": [
        "# extract transactionDateTime into year,month,week,day,hour,and minute\n",
        "\n",
        "df['transaction_year'] = df['transactionDateTime'].dt.year\n",
        "df['transaction_month'] = df['transactionDateTime'].dt.month\n",
        "df['transaction_week'] = df['transactionDateTime'].dt.weekday\n",
        "df['transaction_day'] = df['transactionDateTime'].dt.day\n",
        "df['transaction_hour'] = df['transactionDateTime'].dt.hour\n",
        "df['transaction_minute'] = df['transactionDateTime'].dt.minute"
      ],
      "metadata": {
        "id": "80mvdYpuUj8_"
      },
      "execution_count": 38,
      "outputs": []
    },
    {
      "cell_type": "code",
      "source": [
        "# drop transactionDateTime\n",
        "\n",
        "df = df.drop(columns=['transactionDateTime'])"
      ],
      "metadata": {
        "id": "_QR0TabvUtjG"
      },
      "execution_count": 39,
      "outputs": []
    },
    {
      "cell_type": "code",
      "source": [
        "df.head()"
      ],
      "metadata": {
        "colab": {
          "base_uri": "https://localhost:8080/",
          "height": 300
        },
        "id": "RO-RAauQUwIc",
        "outputId": "a14cc5a4-3a28-4514-b313-272f07a0097a"
      },
      "execution_count": 40,
      "outputs": [
        {
          "output_type": "execute_result",
          "data": {
            "text/plain": [
              "   accountNumber  customerId  creditLimit  availableMoney  transactionAmount  \\\n",
              "0      733493772   733493772         5000         5000.00             111.33   \n",
              "1      733493772   733493772         5000         4888.67              24.75   \n",
              "2      733493772   733493772         5000         4863.92             187.40   \n",
              "3      733493772   733493772         5000         4676.52             227.34   \n",
              "4      733493772   733493772         5000         4449.18               0.00   \n",
              "\n",
              "  acqCountry merchantCountryCode  posEntryMode  posConditionCode  \\\n",
              "0         US                  US           5.0               1.0   \n",
              "1         US                  US           9.0               1.0   \n",
              "2         US                  US           5.0               1.0   \n",
              "3         US                  US           2.0               1.0   \n",
              "4         US                  US           2.0               1.0   \n",
              "\n",
              "  merchantCategoryCode  ...  cardPresent expirationDateKeyInMatch  matchedCVV  \\\n",
              "0            rideshare  ...        False                    False        True   \n",
              "1            rideshare  ...        False                    False        True   \n",
              "2            rideshare  ...        False                    False        True   \n",
              "3            rideshare  ...        False                    False        True   \n",
              "4            rideshare  ...        False                    False        True   \n",
              "\n",
              "   multiSwipe  transaction_year  transaction_month  transaction_week  \\\n",
              "0       False              2016                  1                 4   \n",
              "1       False              2016                  1                 5   \n",
              "2       False              2016                  1                 0   \n",
              "3       False              2016                  1                 0   \n",
              "4       False              2016                  1                 5   \n",
              "\n",
              "   transaction_day  transaction_hour  transaction_minute  \n",
              "0                8                19                   4  \n",
              "1                9                22                  32  \n",
              "2               11                13                  36  \n",
              "3               11                22                  47  \n",
              "4               16                 1                  41  \n",
              "\n",
              "[5 rows x 24 columns]"
            ],
            "text/html": [
              "\n",
              "  <div id=\"df-e287ce3b-7618-418c-a000-084cdca24261\">\n",
              "    <div class=\"colab-df-container\">\n",
              "      <div>\n",
              "<style scoped>\n",
              "    .dataframe tbody tr th:only-of-type {\n",
              "        vertical-align: middle;\n",
              "    }\n",
              "\n",
              "    .dataframe tbody tr th {\n",
              "        vertical-align: top;\n",
              "    }\n",
              "\n",
              "    .dataframe thead th {\n",
              "        text-align: right;\n",
              "    }\n",
              "</style>\n",
              "<table border=\"1\" class=\"dataframe\">\n",
              "  <thead>\n",
              "    <tr style=\"text-align: right;\">\n",
              "      <th></th>\n",
              "      <th>accountNumber</th>\n",
              "      <th>customerId</th>\n",
              "      <th>creditLimit</th>\n",
              "      <th>availableMoney</th>\n",
              "      <th>transactionAmount</th>\n",
              "      <th>acqCountry</th>\n",
              "      <th>merchantCountryCode</th>\n",
              "      <th>posEntryMode</th>\n",
              "      <th>posConditionCode</th>\n",
              "      <th>merchantCategoryCode</th>\n",
              "      <th>...</th>\n",
              "      <th>cardPresent</th>\n",
              "      <th>expirationDateKeyInMatch</th>\n",
              "      <th>matchedCVV</th>\n",
              "      <th>multiSwipe</th>\n",
              "      <th>transaction_year</th>\n",
              "      <th>transaction_month</th>\n",
              "      <th>transaction_week</th>\n",
              "      <th>transaction_day</th>\n",
              "      <th>transaction_hour</th>\n",
              "      <th>transaction_minute</th>\n",
              "    </tr>\n",
              "  </thead>\n",
              "  <tbody>\n",
              "    <tr>\n",
              "      <th>0</th>\n",
              "      <td>733493772</td>\n",
              "      <td>733493772</td>\n",
              "      <td>5000</td>\n",
              "      <td>5000.00</td>\n",
              "      <td>111.33</td>\n",
              "      <td>US</td>\n",
              "      <td>US</td>\n",
              "      <td>5.0</td>\n",
              "      <td>1.0</td>\n",
              "      <td>rideshare</td>\n",
              "      <td>...</td>\n",
              "      <td>False</td>\n",
              "      <td>False</td>\n",
              "      <td>True</td>\n",
              "      <td>False</td>\n",
              "      <td>2016</td>\n",
              "      <td>1</td>\n",
              "      <td>4</td>\n",
              "      <td>8</td>\n",
              "      <td>19</td>\n",
              "      <td>4</td>\n",
              "    </tr>\n",
              "    <tr>\n",
              "      <th>1</th>\n",
              "      <td>733493772</td>\n",
              "      <td>733493772</td>\n",
              "      <td>5000</td>\n",
              "      <td>4888.67</td>\n",
              "      <td>24.75</td>\n",
              "      <td>US</td>\n",
              "      <td>US</td>\n",
              "      <td>9.0</td>\n",
              "      <td>1.0</td>\n",
              "      <td>rideshare</td>\n",
              "      <td>...</td>\n",
              "      <td>False</td>\n",
              "      <td>False</td>\n",
              "      <td>True</td>\n",
              "      <td>False</td>\n",
              "      <td>2016</td>\n",
              "      <td>1</td>\n",
              "      <td>5</td>\n",
              "      <td>9</td>\n",
              "      <td>22</td>\n",
              "      <td>32</td>\n",
              "    </tr>\n",
              "    <tr>\n",
              "      <th>2</th>\n",
              "      <td>733493772</td>\n",
              "      <td>733493772</td>\n",
              "      <td>5000</td>\n",
              "      <td>4863.92</td>\n",
              "      <td>187.40</td>\n",
              "      <td>US</td>\n",
              "      <td>US</td>\n",
              "      <td>5.0</td>\n",
              "      <td>1.0</td>\n",
              "      <td>rideshare</td>\n",
              "      <td>...</td>\n",
              "      <td>False</td>\n",
              "      <td>False</td>\n",
              "      <td>True</td>\n",
              "      <td>False</td>\n",
              "      <td>2016</td>\n",
              "      <td>1</td>\n",
              "      <td>0</td>\n",
              "      <td>11</td>\n",
              "      <td>13</td>\n",
              "      <td>36</td>\n",
              "    </tr>\n",
              "    <tr>\n",
              "      <th>3</th>\n",
              "      <td>733493772</td>\n",
              "      <td>733493772</td>\n",
              "      <td>5000</td>\n",
              "      <td>4676.52</td>\n",
              "      <td>227.34</td>\n",
              "      <td>US</td>\n",
              "      <td>US</td>\n",
              "      <td>2.0</td>\n",
              "      <td>1.0</td>\n",
              "      <td>rideshare</td>\n",
              "      <td>...</td>\n",
              "      <td>False</td>\n",
              "      <td>False</td>\n",
              "      <td>True</td>\n",
              "      <td>False</td>\n",
              "      <td>2016</td>\n",
              "      <td>1</td>\n",
              "      <td>0</td>\n",
              "      <td>11</td>\n",
              "      <td>22</td>\n",
              "      <td>47</td>\n",
              "    </tr>\n",
              "    <tr>\n",
              "      <th>4</th>\n",
              "      <td>733493772</td>\n",
              "      <td>733493772</td>\n",
              "      <td>5000</td>\n",
              "      <td>4449.18</td>\n",
              "      <td>0.00</td>\n",
              "      <td>US</td>\n",
              "      <td>US</td>\n",
              "      <td>2.0</td>\n",
              "      <td>1.0</td>\n",
              "      <td>rideshare</td>\n",
              "      <td>...</td>\n",
              "      <td>False</td>\n",
              "      <td>False</td>\n",
              "      <td>True</td>\n",
              "      <td>False</td>\n",
              "      <td>2016</td>\n",
              "      <td>1</td>\n",
              "      <td>5</td>\n",
              "      <td>16</td>\n",
              "      <td>1</td>\n",
              "      <td>41</td>\n",
              "    </tr>\n",
              "  </tbody>\n",
              "</table>\n",
              "<p>5 rows × 24 columns</p>\n",
              "</div>\n",
              "      <button class=\"colab-df-convert\" onclick=\"convertToInteractive('df-e287ce3b-7618-418c-a000-084cdca24261')\"\n",
              "              title=\"Convert this dataframe to an interactive table.\"\n",
              "              style=\"display:none;\">\n",
              "        \n",
              "  <svg xmlns=\"http://www.w3.org/2000/svg\" height=\"24px\"viewBox=\"0 0 24 24\"\n",
              "       width=\"24px\">\n",
              "    <path d=\"M0 0h24v24H0V0z\" fill=\"none\"/>\n",
              "    <path d=\"M18.56 5.44l.94 2.06.94-2.06 2.06-.94-2.06-.94-.94-2.06-.94 2.06-2.06.94zm-11 1L8.5 8.5l.94-2.06 2.06-.94-2.06-.94L8.5 2.5l-.94 2.06-2.06.94zm10 10l.94 2.06.94-2.06 2.06-.94-2.06-.94-.94-2.06-.94 2.06-2.06.94z\"/><path d=\"M17.41 7.96l-1.37-1.37c-.4-.4-.92-.59-1.43-.59-.52 0-1.04.2-1.43.59L10.3 9.45l-7.72 7.72c-.78.78-.78 2.05 0 2.83L4 21.41c.39.39.9.59 1.41.59.51 0 1.02-.2 1.41-.59l7.78-7.78 2.81-2.81c.8-.78.8-2.07 0-2.86zM5.41 20L4 18.59l7.72-7.72 1.47 1.35L5.41 20z\"/>\n",
              "  </svg>\n",
              "      </button>\n",
              "      \n",
              "  <style>\n",
              "    .colab-df-container {\n",
              "      display:flex;\n",
              "      flex-wrap:wrap;\n",
              "      gap: 12px;\n",
              "    }\n",
              "\n",
              "    .colab-df-convert {\n",
              "      background-color: #E8F0FE;\n",
              "      border: none;\n",
              "      border-radius: 50%;\n",
              "      cursor: pointer;\n",
              "      display: none;\n",
              "      fill: #1967D2;\n",
              "      height: 32px;\n",
              "      padding: 0 0 0 0;\n",
              "      width: 32px;\n",
              "    }\n",
              "\n",
              "    .colab-df-convert:hover {\n",
              "      background-color: #E2EBFA;\n",
              "      box-shadow: 0px 1px 2px rgba(60, 64, 67, 0.3), 0px 1px 3px 1px rgba(60, 64, 67, 0.15);\n",
              "      fill: #174EA6;\n",
              "    }\n",
              "\n",
              "    [theme=dark] .colab-df-convert {\n",
              "      background-color: #3B4455;\n",
              "      fill: #D2E3FC;\n",
              "    }\n",
              "\n",
              "    [theme=dark] .colab-df-convert:hover {\n",
              "      background-color: #434B5C;\n",
              "      box-shadow: 0px 1px 3px 1px rgba(0, 0, 0, 0.15);\n",
              "      filter: drop-shadow(0px 1px 2px rgba(0, 0, 0, 0.3));\n",
              "      fill: #FFFFFF;\n",
              "    }\n",
              "  </style>\n",
              "\n",
              "      <script>\n",
              "        const buttonEl =\n",
              "          document.querySelector('#df-e287ce3b-7618-418c-a000-084cdca24261 button.colab-df-convert');\n",
              "        buttonEl.style.display =\n",
              "          google.colab.kernel.accessAllowed ? 'block' : 'none';\n",
              "\n",
              "        async function convertToInteractive(key) {\n",
              "          const element = document.querySelector('#df-e287ce3b-7618-418c-a000-084cdca24261');\n",
              "          const dataTable =\n",
              "            await google.colab.kernel.invokeFunction('convertToInteractive',\n",
              "                                                     [key], {});\n",
              "          if (!dataTable) return;\n",
              "\n",
              "          const docLinkHtml = 'Like what you see? Visit the ' +\n",
              "            '<a target=\"_blank\" href=https://colab.research.google.com/notebooks/data_table.ipynb>data table notebook</a>'\n",
              "            + ' to learn more about interactive tables.';\n",
              "          element.innerHTML = '';\n",
              "          dataTable['output_type'] = 'display_data';\n",
              "          await google.colab.output.renderOutput(dataTable, element);\n",
              "          const docLink = document.createElement('div');\n",
              "          docLink.innerHTML = docLinkHtml;\n",
              "          element.appendChild(docLink);\n",
              "        }\n",
              "      </script>\n",
              "    </div>\n",
              "  </div>\n",
              "  "
            ]
          },
          "metadata": {},
          "execution_count": 40
        }
      ]
    },
    {
      "cell_type": "code",
      "source": [
        "# drop accountNumber and customerId\n",
        "\n",
        "df = df.drop(columns=['accountNumber','customerId'])"
      ],
      "metadata": {
        "id": "vWNjtVEbVtw4"
      },
      "execution_count": 41,
      "outputs": []
    },
    {
      "cell_type": "code",
      "source": [
        "# show unique values acqCountry dan merchantCountryCode\n",
        "\n",
        "df['acqCountry'].unique()"
      ],
      "metadata": {
        "colab": {
          "base_uri": "https://localhost:8080/"
        },
        "id": "Jry3esBGXui_",
        "outputId": "e5c9d574-014d-4d05-aba1-f8a22f1b0f44"
      },
      "execution_count": 42,
      "outputs": [
        {
          "output_type": "execute_result",
          "data": {
            "text/plain": [
              "array(['US', nan, 'PR', 'MEX', 'CAN'], dtype=object)"
            ]
          },
          "metadata": {},
          "execution_count": 42
        }
      ]
    },
    {
      "cell_type": "code",
      "source": [
        "df['merchantCountryCode'].unique()"
      ],
      "metadata": {
        "colab": {
          "base_uri": "https://localhost:8080/"
        },
        "id": "1bkCjTVOX6GJ",
        "outputId": "06b645d8-1e57-4b6a-9a92-2a5c6986a500"
      },
      "execution_count": 43,
      "outputs": [
        {
          "output_type": "execute_result",
          "data": {
            "text/plain": [
              "array(['US', 'PR', 'MEX', nan, 'CAN'], dtype=object)"
            ]
          },
          "metadata": {},
          "execution_count": 43
        }
      ]
    },
    {
      "cell_type": "code",
      "source": [
        "# Same label column handling (US,MEX,PR,CAN)\n",
        "\n",
        "cols = []\n",
        "for column in df.merchantCountryCode:\n",
        "    if column == 'MEX':\n",
        "      cols.append(f'MEX_{1}')\n",
        "      continue\n",
        "    elif column == 'US':\n",
        "      cols.append(f'US_{1}')\n",
        "      continue\n",
        "    elif column == 'PR':\n",
        "      cols.append(f'PR_{1}')\n",
        "      continue \n",
        "    elif column == 'CAN':\n",
        "      cols.append(f'CAN_{1}')\n",
        "      continue \n",
        "    cols.append(column)\n",
        "df.merchantCountryCode = cols"
      ],
      "metadata": {
        "id": "L6w6iMojX6wW"
      },
      "execution_count": 44,
      "outputs": []
    },
    {
      "cell_type": "code",
      "source": [
        "df['merchantCountryCode'].unique()"
      ],
      "metadata": {
        "colab": {
          "base_uri": "https://localhost:8080/"
        },
        "id": "YKcjugG5YOds",
        "outputId": "8b0a2811-d15e-4031-acc2-38c01816a301"
      },
      "execution_count": 45,
      "outputs": [
        {
          "output_type": "execute_result",
          "data": {
            "text/plain": [
              "array(['US_1', 'PR_1', 'MEX_1', nan, 'CAN_1'], dtype=object)"
            ]
          },
          "metadata": {},
          "execution_count": 45
        }
      ]
    },
    {
      "cell_type": "code",
      "source": [
        "# Check missing values\n",
        "\n",
        "df.isnull().sum()"
      ],
      "metadata": {
        "colab": {
          "base_uri": "https://localhost:8080/"
        },
        "id": "8r1gMJmYYX6g",
        "outputId": "0a8689d5-1cdc-42a8-b3eb-0143ec4b96a3"
      },
      "execution_count": 46,
      "outputs": [
        {
          "output_type": "execute_result",
          "data": {
            "text/plain": [
              "creditLimit                    0\n",
              "availableMoney                 0\n",
              "transactionAmount              0\n",
              "acqCountry                  3913\n",
              "merchantCountryCode          624\n",
              "posEntryMode                3345\n",
              "posConditionCode             287\n",
              "merchantCategoryCode           0\n",
              "cardLast4Digits                0\n",
              "transactionType              589\n",
              "isFraud                        0\n",
              "currentBalance                 0\n",
              "cardPresent                    0\n",
              "expirationDateKeyInMatch       0\n",
              "matchedCVV                     0\n",
              "multiSwipe                     0\n",
              "transaction_year               0\n",
              "transaction_month              0\n",
              "transaction_week               0\n",
              "transaction_day                0\n",
              "transaction_hour               0\n",
              "transaction_minute             0\n",
              "dtype: int64"
            ]
          },
          "metadata": {},
          "execution_count": 46
        }
      ]
    },
    {
      "cell_type": "code",
      "source": [
        "df.shape"
      ],
      "metadata": {
        "colab": {
          "base_uri": "https://localhost:8080/"
        },
        "id": "UerKba0oYQaW",
        "outputId": "5baeca0c-75fc-49bf-d014-fd6f0d62ea94"
      },
      "execution_count": 47,
      "outputs": [
        {
          "output_type": "execute_result",
          "data": {
            "text/plain": [
              "(641914, 22)"
            ]
          },
          "metadata": {},
          "execution_count": 47
        }
      ]
    },
    {
      "cell_type": "code",
      "source": [
        "# drop row with null values\n",
        "df = df.dropna()\n",
        " \n",
        "# reset index\n",
        "df = df.reset_index(drop = True)"
      ],
      "metadata": {
        "id": "bH2myAuKYZgc"
      },
      "execution_count": 48,
      "outputs": []
    },
    {
      "cell_type": "code",
      "source": [
        "# Check missing values\n",
        "\n",
        "df.isnull().sum()"
      ],
      "metadata": {
        "colab": {
          "base_uri": "https://localhost:8080/"
        },
        "id": "RduHodtAYg9C",
        "outputId": "5b76a383-79e5-48da-c61f-e5f8cc5fd801"
      },
      "execution_count": 49,
      "outputs": [
        {
          "output_type": "execute_result",
          "data": {
            "text/plain": [
              "creditLimit                 0\n",
              "availableMoney              0\n",
              "transactionAmount           0\n",
              "acqCountry                  0\n",
              "merchantCountryCode         0\n",
              "posEntryMode                0\n",
              "posConditionCode            0\n",
              "merchantCategoryCode        0\n",
              "cardLast4Digits             0\n",
              "transactionType             0\n",
              "isFraud                     0\n",
              "currentBalance              0\n",
              "cardPresent                 0\n",
              "expirationDateKeyInMatch    0\n",
              "matchedCVV                  0\n",
              "multiSwipe                  0\n",
              "transaction_year            0\n",
              "transaction_month           0\n",
              "transaction_week            0\n",
              "transaction_day             0\n",
              "transaction_hour            0\n",
              "transaction_minute          0\n",
              "dtype: int64"
            ]
          },
          "metadata": {},
          "execution_count": 49
        }
      ]
    },
    {
      "cell_type": "code",
      "source": [
        "df.head()"
      ],
      "metadata": {
        "colab": {
          "base_uri": "https://localhost:8080/",
          "height": 300
        },
        "id": "DOQR2mmBYjiT",
        "outputId": "ad3c0740-8cd2-4a38-9203-95f33329a592"
      },
      "execution_count": 50,
      "outputs": [
        {
          "output_type": "execute_result",
          "data": {
            "text/plain": [
              "   creditLimit  availableMoney  transactionAmount acqCountry  \\\n",
              "0         5000         5000.00             111.33         US   \n",
              "1         5000         4888.67              24.75         US   \n",
              "2         5000         4863.92             187.40         US   \n",
              "3         5000         4676.52             227.34         US   \n",
              "4         5000         4449.18               0.00         US   \n",
              "\n",
              "  merchantCountryCode  posEntryMode  posConditionCode merchantCategoryCode  \\\n",
              "0                US_1           5.0               1.0            rideshare   \n",
              "1                US_1           9.0               1.0            rideshare   \n",
              "2                US_1           5.0               1.0            rideshare   \n",
              "3                US_1           2.0               1.0            rideshare   \n",
              "4                US_1           2.0               1.0            rideshare   \n",
              "\n",
              "   cardLast4Digits       transactionType  ...  cardPresent  \\\n",
              "0             9184              PURCHASE  ...        False   \n",
              "1             9184              PURCHASE  ...        False   \n",
              "2             9184              PURCHASE  ...        False   \n",
              "3             9184              PURCHASE  ...        False   \n",
              "4             9184  ADDRESS_VERIFICATION  ...        False   \n",
              "\n",
              "   expirationDateKeyInMatch  matchedCVV  multiSwipe  transaction_year  \\\n",
              "0                     False        True       False              2016   \n",
              "1                     False        True       False              2016   \n",
              "2                     False        True       False              2016   \n",
              "3                     False        True       False              2016   \n",
              "4                     False        True       False              2016   \n",
              "\n",
              "   transaction_month  transaction_week  transaction_day  transaction_hour  \\\n",
              "0                  1                 4                8                19   \n",
              "1                  1                 5                9                22   \n",
              "2                  1                 0               11                13   \n",
              "3                  1                 0               11                22   \n",
              "4                  1                 5               16                 1   \n",
              "\n",
              "   transaction_minute  \n",
              "0                   4  \n",
              "1                  32  \n",
              "2                  36  \n",
              "3                  47  \n",
              "4                  41  \n",
              "\n",
              "[5 rows x 22 columns]"
            ],
            "text/html": [
              "\n",
              "  <div id=\"df-ab227f8b-98a0-4f82-98cc-190a371f9b57\">\n",
              "    <div class=\"colab-df-container\">\n",
              "      <div>\n",
              "<style scoped>\n",
              "    .dataframe tbody tr th:only-of-type {\n",
              "        vertical-align: middle;\n",
              "    }\n",
              "\n",
              "    .dataframe tbody tr th {\n",
              "        vertical-align: top;\n",
              "    }\n",
              "\n",
              "    .dataframe thead th {\n",
              "        text-align: right;\n",
              "    }\n",
              "</style>\n",
              "<table border=\"1\" class=\"dataframe\">\n",
              "  <thead>\n",
              "    <tr style=\"text-align: right;\">\n",
              "      <th></th>\n",
              "      <th>creditLimit</th>\n",
              "      <th>availableMoney</th>\n",
              "      <th>transactionAmount</th>\n",
              "      <th>acqCountry</th>\n",
              "      <th>merchantCountryCode</th>\n",
              "      <th>posEntryMode</th>\n",
              "      <th>posConditionCode</th>\n",
              "      <th>merchantCategoryCode</th>\n",
              "      <th>cardLast4Digits</th>\n",
              "      <th>transactionType</th>\n",
              "      <th>...</th>\n",
              "      <th>cardPresent</th>\n",
              "      <th>expirationDateKeyInMatch</th>\n",
              "      <th>matchedCVV</th>\n",
              "      <th>multiSwipe</th>\n",
              "      <th>transaction_year</th>\n",
              "      <th>transaction_month</th>\n",
              "      <th>transaction_week</th>\n",
              "      <th>transaction_day</th>\n",
              "      <th>transaction_hour</th>\n",
              "      <th>transaction_minute</th>\n",
              "    </tr>\n",
              "  </thead>\n",
              "  <tbody>\n",
              "    <tr>\n",
              "      <th>0</th>\n",
              "      <td>5000</td>\n",
              "      <td>5000.00</td>\n",
              "      <td>111.33</td>\n",
              "      <td>US</td>\n",
              "      <td>US_1</td>\n",
              "      <td>5.0</td>\n",
              "      <td>1.0</td>\n",
              "      <td>rideshare</td>\n",
              "      <td>9184</td>\n",
              "      <td>PURCHASE</td>\n",
              "      <td>...</td>\n",
              "      <td>False</td>\n",
              "      <td>False</td>\n",
              "      <td>True</td>\n",
              "      <td>False</td>\n",
              "      <td>2016</td>\n",
              "      <td>1</td>\n",
              "      <td>4</td>\n",
              "      <td>8</td>\n",
              "      <td>19</td>\n",
              "      <td>4</td>\n",
              "    </tr>\n",
              "    <tr>\n",
              "      <th>1</th>\n",
              "      <td>5000</td>\n",
              "      <td>4888.67</td>\n",
              "      <td>24.75</td>\n",
              "      <td>US</td>\n",
              "      <td>US_1</td>\n",
              "      <td>9.0</td>\n",
              "      <td>1.0</td>\n",
              "      <td>rideshare</td>\n",
              "      <td>9184</td>\n",
              "      <td>PURCHASE</td>\n",
              "      <td>...</td>\n",
              "      <td>False</td>\n",
              "      <td>False</td>\n",
              "      <td>True</td>\n",
              "      <td>False</td>\n",
              "      <td>2016</td>\n",
              "      <td>1</td>\n",
              "      <td>5</td>\n",
              "      <td>9</td>\n",
              "      <td>22</td>\n",
              "      <td>32</td>\n",
              "    </tr>\n",
              "    <tr>\n",
              "      <th>2</th>\n",
              "      <td>5000</td>\n",
              "      <td>4863.92</td>\n",
              "      <td>187.40</td>\n",
              "      <td>US</td>\n",
              "      <td>US_1</td>\n",
              "      <td>5.0</td>\n",
              "      <td>1.0</td>\n",
              "      <td>rideshare</td>\n",
              "      <td>9184</td>\n",
              "      <td>PURCHASE</td>\n",
              "      <td>...</td>\n",
              "      <td>False</td>\n",
              "      <td>False</td>\n",
              "      <td>True</td>\n",
              "      <td>False</td>\n",
              "      <td>2016</td>\n",
              "      <td>1</td>\n",
              "      <td>0</td>\n",
              "      <td>11</td>\n",
              "      <td>13</td>\n",
              "      <td>36</td>\n",
              "    </tr>\n",
              "    <tr>\n",
              "      <th>3</th>\n",
              "      <td>5000</td>\n",
              "      <td>4676.52</td>\n",
              "      <td>227.34</td>\n",
              "      <td>US</td>\n",
              "      <td>US_1</td>\n",
              "      <td>2.0</td>\n",
              "      <td>1.0</td>\n",
              "      <td>rideshare</td>\n",
              "      <td>9184</td>\n",
              "      <td>PURCHASE</td>\n",
              "      <td>...</td>\n",
              "      <td>False</td>\n",
              "      <td>False</td>\n",
              "      <td>True</td>\n",
              "      <td>False</td>\n",
              "      <td>2016</td>\n",
              "      <td>1</td>\n",
              "      <td>0</td>\n",
              "      <td>11</td>\n",
              "      <td>22</td>\n",
              "      <td>47</td>\n",
              "    </tr>\n",
              "    <tr>\n",
              "      <th>4</th>\n",
              "      <td>5000</td>\n",
              "      <td>4449.18</td>\n",
              "      <td>0.00</td>\n",
              "      <td>US</td>\n",
              "      <td>US_1</td>\n",
              "      <td>2.0</td>\n",
              "      <td>1.0</td>\n",
              "      <td>rideshare</td>\n",
              "      <td>9184</td>\n",
              "      <td>ADDRESS_VERIFICATION</td>\n",
              "      <td>...</td>\n",
              "      <td>False</td>\n",
              "      <td>False</td>\n",
              "      <td>True</td>\n",
              "      <td>False</td>\n",
              "      <td>2016</td>\n",
              "      <td>1</td>\n",
              "      <td>5</td>\n",
              "      <td>16</td>\n",
              "      <td>1</td>\n",
              "      <td>41</td>\n",
              "    </tr>\n",
              "  </tbody>\n",
              "</table>\n",
              "<p>5 rows × 22 columns</p>\n",
              "</div>\n",
              "      <button class=\"colab-df-convert\" onclick=\"convertToInteractive('df-ab227f8b-98a0-4f82-98cc-190a371f9b57')\"\n",
              "              title=\"Convert this dataframe to an interactive table.\"\n",
              "              style=\"display:none;\">\n",
              "        \n",
              "  <svg xmlns=\"http://www.w3.org/2000/svg\" height=\"24px\"viewBox=\"0 0 24 24\"\n",
              "       width=\"24px\">\n",
              "    <path d=\"M0 0h24v24H0V0z\" fill=\"none\"/>\n",
              "    <path d=\"M18.56 5.44l.94 2.06.94-2.06 2.06-.94-2.06-.94-.94-2.06-.94 2.06-2.06.94zm-11 1L8.5 8.5l.94-2.06 2.06-.94-2.06-.94L8.5 2.5l-.94 2.06-2.06.94zm10 10l.94 2.06.94-2.06 2.06-.94-2.06-.94-.94-2.06-.94 2.06-2.06.94z\"/><path d=\"M17.41 7.96l-1.37-1.37c-.4-.4-.92-.59-1.43-.59-.52 0-1.04.2-1.43.59L10.3 9.45l-7.72 7.72c-.78.78-.78 2.05 0 2.83L4 21.41c.39.39.9.59 1.41.59.51 0 1.02-.2 1.41-.59l7.78-7.78 2.81-2.81c.8-.78.8-2.07 0-2.86zM5.41 20L4 18.59l7.72-7.72 1.47 1.35L5.41 20z\"/>\n",
              "  </svg>\n",
              "      </button>\n",
              "      \n",
              "  <style>\n",
              "    .colab-df-container {\n",
              "      display:flex;\n",
              "      flex-wrap:wrap;\n",
              "      gap: 12px;\n",
              "    }\n",
              "\n",
              "    .colab-df-convert {\n",
              "      background-color: #E8F0FE;\n",
              "      border: none;\n",
              "      border-radius: 50%;\n",
              "      cursor: pointer;\n",
              "      display: none;\n",
              "      fill: #1967D2;\n",
              "      height: 32px;\n",
              "      padding: 0 0 0 0;\n",
              "      width: 32px;\n",
              "    }\n",
              "\n",
              "    .colab-df-convert:hover {\n",
              "      background-color: #E2EBFA;\n",
              "      box-shadow: 0px 1px 2px rgba(60, 64, 67, 0.3), 0px 1px 3px 1px rgba(60, 64, 67, 0.15);\n",
              "      fill: #174EA6;\n",
              "    }\n",
              "\n",
              "    [theme=dark] .colab-df-convert {\n",
              "      background-color: #3B4455;\n",
              "      fill: #D2E3FC;\n",
              "    }\n",
              "\n",
              "    [theme=dark] .colab-df-convert:hover {\n",
              "      background-color: #434B5C;\n",
              "      box-shadow: 0px 1px 3px 1px rgba(0, 0, 0, 0.15);\n",
              "      filter: drop-shadow(0px 1px 2px rgba(0, 0, 0, 0.3));\n",
              "      fill: #FFFFFF;\n",
              "    }\n",
              "  </style>\n",
              "\n",
              "      <script>\n",
              "        const buttonEl =\n",
              "          document.querySelector('#df-ab227f8b-98a0-4f82-98cc-190a371f9b57 button.colab-df-convert');\n",
              "        buttonEl.style.display =\n",
              "          google.colab.kernel.accessAllowed ? 'block' : 'none';\n",
              "\n",
              "        async function convertToInteractive(key) {\n",
              "          const element = document.querySelector('#df-ab227f8b-98a0-4f82-98cc-190a371f9b57');\n",
              "          const dataTable =\n",
              "            await google.colab.kernel.invokeFunction('convertToInteractive',\n",
              "                                                     [key], {});\n",
              "          if (!dataTable) return;\n",
              "\n",
              "          const docLinkHtml = 'Like what you see? Visit the ' +\n",
              "            '<a target=\"_blank\" href=https://colab.research.google.com/notebooks/data_table.ipynb>data table notebook</a>'\n",
              "            + ' to learn more about interactive tables.';\n",
              "          element.innerHTML = '';\n",
              "          dataTable['output_type'] = 'display_data';\n",
              "          await google.colab.output.renderOutput(dataTable, element);\n",
              "          const docLink = document.createElement('div');\n",
              "          docLink.innerHTML = docLinkHtml;\n",
              "          element.appendChild(docLink);\n",
              "        }\n",
              "      </script>\n",
              "    </div>\n",
              "  </div>\n",
              "  "
            ]
          },
          "metadata": {},
          "execution_count": 50
        }
      ]
    },
    {
      "cell_type": "code",
      "source": [
        "# Convert column 'isFraud','cardPresent','expirationDateKeyInMatch' (Boolean) into str\n",
        "# and convert column 'posEntryMode','posConditionCode' (int) into str\n",
        "\n",
        "cnv_obj = ['posEntryMode','posConditionCode']\n",
        "\n",
        "df[cnv_obj]=df[cnv_obj].astype(str)"
      ],
      "metadata": {
        "id": "5nxyxiKSZNNs"
      },
      "execution_count": 51,
      "outputs": []
    },
    {
      "cell_type": "code",
      "source": [
        "# refresh variable boolean\n",
        "\n",
        "boolean = [var for var in df.columns if df[var].dtype=='bool']\n",
        "\n",
        "print('{} boolean variables\\n'.format(len(boolean)))"
      ],
      "metadata": {
        "colab": {
          "base_uri": "https://localhost:8080/"
        },
        "id": "i5SivAzQZj2z",
        "outputId": "2115302c-3a07-440a-dce2-481618afb602"
      },
      "execution_count": 52,
      "outputs": [
        {
          "output_type": "stream",
          "name": "stdout",
          "text": [
            "5 boolean variables\n",
            "\n"
          ]
        }
      ]
    },
    {
      "cell_type": "code",
      "source": [
        "boolean"
      ],
      "metadata": {
        "colab": {
          "base_uri": "https://localhost:8080/"
        },
        "id": "VrT0jOW0Zvju",
        "outputId": "ebc2d144-1635-4607-c1cb-15b27ef8269e"
      },
      "execution_count": 53,
      "outputs": [
        {
          "output_type": "execute_result",
          "data": {
            "text/plain": [
              "['isFraud',\n",
              " 'cardPresent',\n",
              " 'expirationDateKeyInMatch',\n",
              " 'matchedCVV',\n",
              " 'multiSwipe']"
            ]
          },
          "metadata": {},
          "execution_count": 53
        }
      ]
    },
    {
      "cell_type": "code",
      "source": [
        "le = LabelEncoder()"
      ],
      "metadata": {
        "id": "7ndXyK-2buZd"
      },
      "execution_count": 54,
      "outputs": []
    },
    {
      "cell_type": "code",
      "source": [
        "for col in boolean:\n",
        "    df[col]=le.fit_transform(df[col])"
      ],
      "metadata": {
        "id": "WFoBHa2mbxPy"
      },
      "execution_count": 55,
      "outputs": []
    },
    {
      "cell_type": "code",
      "source": [
        "df[boolean].head()"
      ],
      "metadata": {
        "colab": {
          "base_uri": "https://localhost:8080/",
          "height": 206
        },
        "id": "E6oHQGgebyPR",
        "outputId": "aba83ba1-0032-42d0-ecd5-d353876a2b52"
      },
      "execution_count": 56,
      "outputs": [
        {
          "output_type": "execute_result",
          "data": {
            "text/plain": [
              "   isFraud  cardPresent  expirationDateKeyInMatch  matchedCVV  multiSwipe\n",
              "0        1            0                         0           1           0\n",
              "1        0            0                         0           1           0\n",
              "2        0            0                         0           1           0\n",
              "3        1            0                         0           1           0\n",
              "4        0            0                         0           1           0"
            ],
            "text/html": [
              "\n",
              "  <div id=\"df-79439fc1-af5c-44d2-84f0-799afd6c00d5\">\n",
              "    <div class=\"colab-df-container\">\n",
              "      <div>\n",
              "<style scoped>\n",
              "    .dataframe tbody tr th:only-of-type {\n",
              "        vertical-align: middle;\n",
              "    }\n",
              "\n",
              "    .dataframe tbody tr th {\n",
              "        vertical-align: top;\n",
              "    }\n",
              "\n",
              "    .dataframe thead th {\n",
              "        text-align: right;\n",
              "    }\n",
              "</style>\n",
              "<table border=\"1\" class=\"dataframe\">\n",
              "  <thead>\n",
              "    <tr style=\"text-align: right;\">\n",
              "      <th></th>\n",
              "      <th>isFraud</th>\n",
              "      <th>cardPresent</th>\n",
              "      <th>expirationDateKeyInMatch</th>\n",
              "      <th>matchedCVV</th>\n",
              "      <th>multiSwipe</th>\n",
              "    </tr>\n",
              "  </thead>\n",
              "  <tbody>\n",
              "    <tr>\n",
              "      <th>0</th>\n",
              "      <td>1</td>\n",
              "      <td>0</td>\n",
              "      <td>0</td>\n",
              "      <td>1</td>\n",
              "      <td>0</td>\n",
              "    </tr>\n",
              "    <tr>\n",
              "      <th>1</th>\n",
              "      <td>0</td>\n",
              "      <td>0</td>\n",
              "      <td>0</td>\n",
              "      <td>1</td>\n",
              "      <td>0</td>\n",
              "    </tr>\n",
              "    <tr>\n",
              "      <th>2</th>\n",
              "      <td>0</td>\n",
              "      <td>0</td>\n",
              "      <td>0</td>\n",
              "      <td>1</td>\n",
              "      <td>0</td>\n",
              "    </tr>\n",
              "    <tr>\n",
              "      <th>3</th>\n",
              "      <td>1</td>\n",
              "      <td>0</td>\n",
              "      <td>0</td>\n",
              "      <td>1</td>\n",
              "      <td>0</td>\n",
              "    </tr>\n",
              "    <tr>\n",
              "      <th>4</th>\n",
              "      <td>0</td>\n",
              "      <td>0</td>\n",
              "      <td>0</td>\n",
              "      <td>1</td>\n",
              "      <td>0</td>\n",
              "    </tr>\n",
              "  </tbody>\n",
              "</table>\n",
              "</div>\n",
              "      <button class=\"colab-df-convert\" onclick=\"convertToInteractive('df-79439fc1-af5c-44d2-84f0-799afd6c00d5')\"\n",
              "              title=\"Convert this dataframe to an interactive table.\"\n",
              "              style=\"display:none;\">\n",
              "        \n",
              "  <svg xmlns=\"http://www.w3.org/2000/svg\" height=\"24px\"viewBox=\"0 0 24 24\"\n",
              "       width=\"24px\">\n",
              "    <path d=\"M0 0h24v24H0V0z\" fill=\"none\"/>\n",
              "    <path d=\"M18.56 5.44l.94 2.06.94-2.06 2.06-.94-2.06-.94-.94-2.06-.94 2.06-2.06.94zm-11 1L8.5 8.5l.94-2.06 2.06-.94-2.06-.94L8.5 2.5l-.94 2.06-2.06.94zm10 10l.94 2.06.94-2.06 2.06-.94-2.06-.94-.94-2.06-.94 2.06-2.06.94z\"/><path d=\"M17.41 7.96l-1.37-1.37c-.4-.4-.92-.59-1.43-.59-.52 0-1.04.2-1.43.59L10.3 9.45l-7.72 7.72c-.78.78-.78 2.05 0 2.83L4 21.41c.39.39.9.59 1.41.59.51 0 1.02-.2 1.41-.59l7.78-7.78 2.81-2.81c.8-.78.8-2.07 0-2.86zM5.41 20L4 18.59l7.72-7.72 1.47 1.35L5.41 20z\"/>\n",
              "  </svg>\n",
              "      </button>\n",
              "      \n",
              "  <style>\n",
              "    .colab-df-container {\n",
              "      display:flex;\n",
              "      flex-wrap:wrap;\n",
              "      gap: 12px;\n",
              "    }\n",
              "\n",
              "    .colab-df-convert {\n",
              "      background-color: #E8F0FE;\n",
              "      border: none;\n",
              "      border-radius: 50%;\n",
              "      cursor: pointer;\n",
              "      display: none;\n",
              "      fill: #1967D2;\n",
              "      height: 32px;\n",
              "      padding: 0 0 0 0;\n",
              "      width: 32px;\n",
              "    }\n",
              "\n",
              "    .colab-df-convert:hover {\n",
              "      background-color: #E2EBFA;\n",
              "      box-shadow: 0px 1px 2px rgba(60, 64, 67, 0.3), 0px 1px 3px 1px rgba(60, 64, 67, 0.15);\n",
              "      fill: #174EA6;\n",
              "    }\n",
              "\n",
              "    [theme=dark] .colab-df-convert {\n",
              "      background-color: #3B4455;\n",
              "      fill: #D2E3FC;\n",
              "    }\n",
              "\n",
              "    [theme=dark] .colab-df-convert:hover {\n",
              "      background-color: #434B5C;\n",
              "      box-shadow: 0px 1px 3px 1px rgba(0, 0, 0, 0.15);\n",
              "      filter: drop-shadow(0px 1px 2px rgba(0, 0, 0, 0.3));\n",
              "      fill: #FFFFFF;\n",
              "    }\n",
              "  </style>\n",
              "\n",
              "      <script>\n",
              "        const buttonEl =\n",
              "          document.querySelector('#df-79439fc1-af5c-44d2-84f0-799afd6c00d5 button.colab-df-convert');\n",
              "        buttonEl.style.display =\n",
              "          google.colab.kernel.accessAllowed ? 'block' : 'none';\n",
              "\n",
              "        async function convertToInteractive(key) {\n",
              "          const element = document.querySelector('#df-79439fc1-af5c-44d2-84f0-799afd6c00d5');\n",
              "          const dataTable =\n",
              "            await google.colab.kernel.invokeFunction('convertToInteractive',\n",
              "                                                     [key], {});\n",
              "          if (!dataTable) return;\n",
              "\n",
              "          const docLinkHtml = 'Like what you see? Visit the ' +\n",
              "            '<a target=\"_blank\" href=https://colab.research.google.com/notebooks/data_table.ipynb>data table notebook</a>'\n",
              "            + ' to learn more about interactive tables.';\n",
              "          element.innerHTML = '';\n",
              "          dataTable['output_type'] = 'display_data';\n",
              "          await google.colab.output.renderOutput(dataTable, element);\n",
              "          const docLink = document.createElement('div');\n",
              "          docLink.innerHTML = docLinkHtml;\n",
              "          element.appendChild(docLink);\n",
              "        }\n",
              "      </script>\n",
              "    </div>\n",
              "  </div>\n",
              "  "
            ]
          },
          "metadata": {},
          "execution_count": 56
        }
      ]
    },
    {
      "cell_type": "code",
      "source": [
        "# find numerical variables\n",
        "\n",
        "numerical = [var for var in df.columns if df[var].dtype=='int64' or df[var].dtype=='float64']\n",
        "\n",
        "print('{} numerical variables\\n'.format(len(numerical)))"
      ],
      "metadata": {
        "colab": {
          "base_uri": "https://localhost:8080/"
        },
        "id": "m7wIgsF4cvbg",
        "outputId": "a695b968-d6fd-4f5f-b0fe-fc1a27f0815b"
      },
      "execution_count": 57,
      "outputs": [
        {
          "output_type": "stream",
          "name": "stdout",
          "text": [
            "16 numerical variables\n",
            "\n"
          ]
        }
      ]
    },
    {
      "cell_type": "code",
      "source": [
        "# Find categorical variables\n",
        "\n",
        "categorical = [var for var in df.columns if df[var].dtype=='object']\n",
        "\n",
        "print('{} categorical variables\\n'.format(len(categorical)))"
      ],
      "metadata": {
        "colab": {
          "base_uri": "https://localhost:8080/"
        },
        "id": "fjKg2ftMbzOm",
        "outputId": "8f88ee2a-a8e1-4852-d04c-74371c9a4606"
      },
      "execution_count": 58,
      "outputs": [
        {
          "output_type": "stream",
          "name": "stdout",
          "text": [
            "6 categorical variables\n",
            "\n"
          ]
        }
      ]
    },
    {
      "cell_type": "code",
      "source": [
        "categorical"
      ],
      "metadata": {
        "colab": {
          "base_uri": "https://localhost:8080/"
        },
        "id": "nOk7kiCzcRLJ",
        "outputId": "5730c253-d6d2-469d-9689-46944b902025"
      },
      "execution_count": 59,
      "outputs": [
        {
          "output_type": "execute_result",
          "data": {
            "text/plain": [
              "['acqCountry',\n",
              " 'merchantCountryCode',\n",
              " 'posEntryMode',\n",
              " 'posConditionCode',\n",
              " 'merchantCategoryCode',\n",
              " 'transactionType']"
            ]
          },
          "metadata": {},
          "execution_count": 59
        }
      ]
    },
    {
      "cell_type": "code",
      "source": [
        "df = pd.concat([df[numerical],\n",
        "                     pd.get_dummies(df.acqCountry,drop_first=True), \n",
        "                     pd.get_dummies(df.merchantCountryCode,drop_first=True),\n",
        "                     pd.get_dummies(df.posEntryMode,drop_first=True),\n",
        "                     pd.get_dummies(df.posConditionCode,drop_first=True),\n",
        "                     pd.get_dummies(df.merchantCategoryCode,drop_first=True),\n",
        "                     pd.get_dummies(df.transactionType,drop_first=True)], axis=1)"
      ],
      "metadata": {
        "id": "vxwLf_FJcoNq"
      },
      "execution_count": 60,
      "outputs": []
    },
    {
      "cell_type": "code",
      "source": [
        "df.head()"
      ],
      "metadata": {
        "colab": {
          "base_uri": "https://localhost:8080/",
          "height": 317
        },
        "id": "40_c5VxrcShe",
        "outputId": "ad571e15-bd07-4ea5-d4c4-73a6d0806cab"
      },
      "execution_count": 61,
      "outputs": [
        {
          "output_type": "execute_result",
          "data": {
            "text/plain": [
              "   creditLimit  availableMoney  transactionAmount  cardLast4Digits  isFraud  \\\n",
              "0         5000         5000.00             111.33             9184        1   \n",
              "1         5000         4888.67              24.75             9184        0   \n",
              "2         5000         4863.92             187.40             9184        0   \n",
              "3         5000         4676.52             227.34             9184        1   \n",
              "4         5000         4449.18               0.00             9184        0   \n",
              "\n",
              "   currentBalance  cardPresent  expirationDateKeyInMatch  matchedCVV  \\\n",
              "0            0.00            0                         0           1   \n",
              "1          111.33            0                         0           1   \n",
              "2          136.08            0                         0           1   \n",
              "3          323.48            0                         0           1   \n",
              "4          550.82            0                         0           1   \n",
              "\n",
              "   multiSwipe  ...  hotels  mobileapps  online_gifts  online_retail  \\\n",
              "0           0  ...       0           0             0              0   \n",
              "1           0  ...       0           0             0              0   \n",
              "2           0  ...       0           0             0              0   \n",
              "3           0  ...       0           0             0              0   \n",
              "4           0  ...       0           0             0              0   \n",
              "\n",
              "   online_subscriptions  personal care  rideshare  subscriptions  PURCHASE  \\\n",
              "0                     0              0          1              0         1   \n",
              "1                     0              0          1              0         1   \n",
              "2                     0              0          1              0         1   \n",
              "3                     0              0          1              0         1   \n",
              "4                     0              0          1              0         0   \n",
              "\n",
              "   REVERSAL  \n",
              "0         0  \n",
              "1         0  \n",
              "2         0  \n",
              "3         0  \n",
              "4         0  \n",
              "\n",
              "[5 rows x 48 columns]"
            ],
            "text/html": [
              "\n",
              "  <div id=\"df-f781a02e-afea-4f64-9e37-364c855b201d\">\n",
              "    <div class=\"colab-df-container\">\n",
              "      <div>\n",
              "<style scoped>\n",
              "    .dataframe tbody tr th:only-of-type {\n",
              "        vertical-align: middle;\n",
              "    }\n",
              "\n",
              "    .dataframe tbody tr th {\n",
              "        vertical-align: top;\n",
              "    }\n",
              "\n",
              "    .dataframe thead th {\n",
              "        text-align: right;\n",
              "    }\n",
              "</style>\n",
              "<table border=\"1\" class=\"dataframe\">\n",
              "  <thead>\n",
              "    <tr style=\"text-align: right;\">\n",
              "      <th></th>\n",
              "      <th>creditLimit</th>\n",
              "      <th>availableMoney</th>\n",
              "      <th>transactionAmount</th>\n",
              "      <th>cardLast4Digits</th>\n",
              "      <th>isFraud</th>\n",
              "      <th>currentBalance</th>\n",
              "      <th>cardPresent</th>\n",
              "      <th>expirationDateKeyInMatch</th>\n",
              "      <th>matchedCVV</th>\n",
              "      <th>multiSwipe</th>\n",
              "      <th>...</th>\n",
              "      <th>hotels</th>\n",
              "      <th>mobileapps</th>\n",
              "      <th>online_gifts</th>\n",
              "      <th>online_retail</th>\n",
              "      <th>online_subscriptions</th>\n",
              "      <th>personal care</th>\n",
              "      <th>rideshare</th>\n",
              "      <th>subscriptions</th>\n",
              "      <th>PURCHASE</th>\n",
              "      <th>REVERSAL</th>\n",
              "    </tr>\n",
              "  </thead>\n",
              "  <tbody>\n",
              "    <tr>\n",
              "      <th>0</th>\n",
              "      <td>5000</td>\n",
              "      <td>5000.00</td>\n",
              "      <td>111.33</td>\n",
              "      <td>9184</td>\n",
              "      <td>1</td>\n",
              "      <td>0.00</td>\n",
              "      <td>0</td>\n",
              "      <td>0</td>\n",
              "      <td>1</td>\n",
              "      <td>0</td>\n",
              "      <td>...</td>\n",
              "      <td>0</td>\n",
              "      <td>0</td>\n",
              "      <td>0</td>\n",
              "      <td>0</td>\n",
              "      <td>0</td>\n",
              "      <td>0</td>\n",
              "      <td>1</td>\n",
              "      <td>0</td>\n",
              "      <td>1</td>\n",
              "      <td>0</td>\n",
              "    </tr>\n",
              "    <tr>\n",
              "      <th>1</th>\n",
              "      <td>5000</td>\n",
              "      <td>4888.67</td>\n",
              "      <td>24.75</td>\n",
              "      <td>9184</td>\n",
              "      <td>0</td>\n",
              "      <td>111.33</td>\n",
              "      <td>0</td>\n",
              "      <td>0</td>\n",
              "      <td>1</td>\n",
              "      <td>0</td>\n",
              "      <td>...</td>\n",
              "      <td>0</td>\n",
              "      <td>0</td>\n",
              "      <td>0</td>\n",
              "      <td>0</td>\n",
              "      <td>0</td>\n",
              "      <td>0</td>\n",
              "      <td>1</td>\n",
              "      <td>0</td>\n",
              "      <td>1</td>\n",
              "      <td>0</td>\n",
              "    </tr>\n",
              "    <tr>\n",
              "      <th>2</th>\n",
              "      <td>5000</td>\n",
              "      <td>4863.92</td>\n",
              "      <td>187.40</td>\n",
              "      <td>9184</td>\n",
              "      <td>0</td>\n",
              "      <td>136.08</td>\n",
              "      <td>0</td>\n",
              "      <td>0</td>\n",
              "      <td>1</td>\n",
              "      <td>0</td>\n",
              "      <td>...</td>\n",
              "      <td>0</td>\n",
              "      <td>0</td>\n",
              "      <td>0</td>\n",
              "      <td>0</td>\n",
              "      <td>0</td>\n",
              "      <td>0</td>\n",
              "      <td>1</td>\n",
              "      <td>0</td>\n",
              "      <td>1</td>\n",
              "      <td>0</td>\n",
              "    </tr>\n",
              "    <tr>\n",
              "      <th>3</th>\n",
              "      <td>5000</td>\n",
              "      <td>4676.52</td>\n",
              "      <td>227.34</td>\n",
              "      <td>9184</td>\n",
              "      <td>1</td>\n",
              "      <td>323.48</td>\n",
              "      <td>0</td>\n",
              "      <td>0</td>\n",
              "      <td>1</td>\n",
              "      <td>0</td>\n",
              "      <td>...</td>\n",
              "      <td>0</td>\n",
              "      <td>0</td>\n",
              "      <td>0</td>\n",
              "      <td>0</td>\n",
              "      <td>0</td>\n",
              "      <td>0</td>\n",
              "      <td>1</td>\n",
              "      <td>0</td>\n",
              "      <td>1</td>\n",
              "      <td>0</td>\n",
              "    </tr>\n",
              "    <tr>\n",
              "      <th>4</th>\n",
              "      <td>5000</td>\n",
              "      <td>4449.18</td>\n",
              "      <td>0.00</td>\n",
              "      <td>9184</td>\n",
              "      <td>0</td>\n",
              "      <td>550.82</td>\n",
              "      <td>0</td>\n",
              "      <td>0</td>\n",
              "      <td>1</td>\n",
              "      <td>0</td>\n",
              "      <td>...</td>\n",
              "      <td>0</td>\n",
              "      <td>0</td>\n",
              "      <td>0</td>\n",
              "      <td>0</td>\n",
              "      <td>0</td>\n",
              "      <td>0</td>\n",
              "      <td>1</td>\n",
              "      <td>0</td>\n",
              "      <td>0</td>\n",
              "      <td>0</td>\n",
              "    </tr>\n",
              "  </tbody>\n",
              "</table>\n",
              "<p>5 rows × 48 columns</p>\n",
              "</div>\n",
              "      <button class=\"colab-df-convert\" onclick=\"convertToInteractive('df-f781a02e-afea-4f64-9e37-364c855b201d')\"\n",
              "              title=\"Convert this dataframe to an interactive table.\"\n",
              "              style=\"display:none;\">\n",
              "        \n",
              "  <svg xmlns=\"http://www.w3.org/2000/svg\" height=\"24px\"viewBox=\"0 0 24 24\"\n",
              "       width=\"24px\">\n",
              "    <path d=\"M0 0h24v24H0V0z\" fill=\"none\"/>\n",
              "    <path d=\"M18.56 5.44l.94 2.06.94-2.06 2.06-.94-2.06-.94-.94-2.06-.94 2.06-2.06.94zm-11 1L8.5 8.5l.94-2.06 2.06-.94-2.06-.94L8.5 2.5l-.94 2.06-2.06.94zm10 10l.94 2.06.94-2.06 2.06-.94-2.06-.94-.94-2.06-.94 2.06-2.06.94z\"/><path d=\"M17.41 7.96l-1.37-1.37c-.4-.4-.92-.59-1.43-.59-.52 0-1.04.2-1.43.59L10.3 9.45l-7.72 7.72c-.78.78-.78 2.05 0 2.83L4 21.41c.39.39.9.59 1.41.59.51 0 1.02-.2 1.41-.59l7.78-7.78 2.81-2.81c.8-.78.8-2.07 0-2.86zM5.41 20L4 18.59l7.72-7.72 1.47 1.35L5.41 20z\"/>\n",
              "  </svg>\n",
              "      </button>\n",
              "      \n",
              "  <style>\n",
              "    .colab-df-container {\n",
              "      display:flex;\n",
              "      flex-wrap:wrap;\n",
              "      gap: 12px;\n",
              "    }\n",
              "\n",
              "    .colab-df-convert {\n",
              "      background-color: #E8F0FE;\n",
              "      border: none;\n",
              "      border-radius: 50%;\n",
              "      cursor: pointer;\n",
              "      display: none;\n",
              "      fill: #1967D2;\n",
              "      height: 32px;\n",
              "      padding: 0 0 0 0;\n",
              "      width: 32px;\n",
              "    }\n",
              "\n",
              "    .colab-df-convert:hover {\n",
              "      background-color: #E2EBFA;\n",
              "      box-shadow: 0px 1px 2px rgba(60, 64, 67, 0.3), 0px 1px 3px 1px rgba(60, 64, 67, 0.15);\n",
              "      fill: #174EA6;\n",
              "    }\n",
              "\n",
              "    [theme=dark] .colab-df-convert {\n",
              "      background-color: #3B4455;\n",
              "      fill: #D2E3FC;\n",
              "    }\n",
              "\n",
              "    [theme=dark] .colab-df-convert:hover {\n",
              "      background-color: #434B5C;\n",
              "      box-shadow: 0px 1px 3px 1px rgba(0, 0, 0, 0.15);\n",
              "      filter: drop-shadow(0px 1px 2px rgba(0, 0, 0, 0.3));\n",
              "      fill: #FFFFFF;\n",
              "    }\n",
              "  </style>\n",
              "\n",
              "      <script>\n",
              "        const buttonEl =\n",
              "          document.querySelector('#df-f781a02e-afea-4f64-9e37-364c855b201d button.colab-df-convert');\n",
              "        buttonEl.style.display =\n",
              "          google.colab.kernel.accessAllowed ? 'block' : 'none';\n",
              "\n",
              "        async function convertToInteractive(key) {\n",
              "          const element = document.querySelector('#df-f781a02e-afea-4f64-9e37-364c855b201d');\n",
              "          const dataTable =\n",
              "            await google.colab.kernel.invokeFunction('convertToInteractive',\n",
              "                                                     [key], {});\n",
              "          if (!dataTable) return;\n",
              "\n",
              "          const docLinkHtml = 'Like what you see? Visit the ' +\n",
              "            '<a target=\"_blank\" href=https://colab.research.google.com/notebooks/data_table.ipynb>data table notebook</a>'\n",
              "            + ' to learn more about interactive tables.';\n",
              "          element.innerHTML = '';\n",
              "          dataTable['output_type'] = 'display_data';\n",
              "          await google.colab.output.renderOutput(dataTable, element);\n",
              "          const docLink = document.createElement('div');\n",
              "          docLink.innerHTML = docLinkHtml;\n",
              "          element.appendChild(docLink);\n",
              "        }\n",
              "      </script>\n",
              "    </div>\n",
              "  </div>\n",
              "  "
            ]
          },
          "metadata": {},
          "execution_count": 61
        }
      ]
    },
    {
      "cell_type": "code",
      "source": [
        ""
      ],
      "metadata": {
        "id": "ecFTek6e6LEN"
      },
      "execution_count": null,
      "outputs": []
    },
    {
      "cell_type": "markdown",
      "source": [
        "# Classification Model"
      ],
      "metadata": {
        "id": "Mq--BynIKgAD"
      }
    },
    {
      "cell_type": "code",
      "source": [
        "def resampling(data,sampling_method) :\n",
        "  X = data.drop(['isFraud'], axis=1)\n",
        "  y = data['isFraud']\n",
        "\n",
        "  X, y  = sampling_method.fit_resample(X, y)\n",
        "\n",
        "  X_train, X_test, y_train, y_test = train_test_split(X, y, test_size = 0.2, random_state = 0)\n",
        "\n",
        "  cols = X_train.columns\n",
        "  scaler = MinMaxScaler()\n",
        "  X_train = scaler.fit_transform(X_train)\n",
        "  X_test = scaler.transform(X_test)\n",
        "  X_train = pd.DataFrame(X_train, columns=[cols])\n",
        "  X_test = pd.DataFrame(X_test, columns=[cols])\n",
        "\n",
        "  return X_train,X_test,y_train, y_test "
      ],
      "metadata": {
        "id": "yk0Zv1TiFCGp"
      },
      "execution_count": 161,
      "outputs": []
    },
    {
      "cell_type": "markdown",
      "source": [
        "## UnderSampling"
      ],
      "metadata": {
        "id": "KrsAfMVDKX0c"
      }
    },
    {
      "cell_type": "code",
      "source": [
        "X_train,X_test,y_train,y_test  = resampling(df,RandomUnderSampler())"
      ],
      "metadata": {
        "id": "eG9uIGVHFrNn"
      },
      "execution_count": 162,
      "outputs": []
    },
    {
      "cell_type": "markdown",
      "source": [
        "Logistic Regression"
      ],
      "metadata": {
        "id": "XQ8OpdvbKxeQ"
      }
    },
    {
      "cell_type": "code",
      "source": [
        "accuracy= []\n",
        "recall =[]\n",
        "auc= []\n",
        "precision = []\n",
        "tp = []\n",
        "tn = []\n",
        "fp = []\n",
        "fn = []\n",
        "\n",
        "\n",
        "logreg = LogisticRegression(max_iter=1000)\n",
        "logreg.fit(X_train, y_train)\n",
        "y_pred=logreg.predict(X_test)\n",
        "\n",
        "y_pred_prob = logreg.predict_proba(X_test)[::,1]\n",
        "\n",
        "cm = confusion_matrix(y_test, y_pred)\n",
        "\n",
        "accuracy.append(round(accuracy_score(y_test, y_pred),2))\n",
        "recall.append(round(recall_score(y_test, y_pred),2))\n",
        "auc.append(round(roc_auc_score(y_test,y_pred_prob),2))\n",
        "precision.append(round(precision_score(y_test, y_pred),2))\n",
        "tp.append(cm[0,0])\n",
        "tn.append(cm[1,1])\n",
        "fp.append(cm[0,1])\n",
        "fn.append(cm[1,0])\n",
        "\n",
        "model_names = ['LogisticRegression_UnderSampling']\n",
        "underlog = pd.DataFrame({'Accuracy':accuracy,'Recall':recall,'ROC_AUC':auc, 'Precision':precision,'TP':tp,'TN':tn,'FP':fp,'FN':fn}, index=model_names)\n",
        "underlog"
      ],
      "metadata": {
        "colab": {
          "base_uri": "https://localhost:8080/",
          "height": 81
        },
        "id": "Btll7M2nIYBW",
        "outputId": "119b862f-90b9-4044-d7e1-9d2d29e3bb27"
      },
      "execution_count": 178,
      "outputs": [
        {
          "output_type": "execute_result",
          "data": {
            "text/plain": [
              "                                  Accuracy  Recall  ROC_AUC  Precision    TP  \\\n",
              "LogisticRegression_UnderSampling      0.68    0.72     0.74       0.66  1385   \n",
              "\n",
              "                                    TN   FP   FN  \n",
              "LogisticRegression_UnderSampling  1561  803  608  "
            ],
            "text/html": [
              "\n",
              "  <div id=\"df-5ee30f10-da24-4f2a-80aa-3a6525224b18\">\n",
              "    <div class=\"colab-df-container\">\n",
              "      <div>\n",
              "<style scoped>\n",
              "    .dataframe tbody tr th:only-of-type {\n",
              "        vertical-align: middle;\n",
              "    }\n",
              "\n",
              "    .dataframe tbody tr th {\n",
              "        vertical-align: top;\n",
              "    }\n",
              "\n",
              "    .dataframe thead th {\n",
              "        text-align: right;\n",
              "    }\n",
              "</style>\n",
              "<table border=\"1\" class=\"dataframe\">\n",
              "  <thead>\n",
              "    <tr style=\"text-align: right;\">\n",
              "      <th></th>\n",
              "      <th>Accuracy</th>\n",
              "      <th>Recall</th>\n",
              "      <th>ROC_AUC</th>\n",
              "      <th>Precision</th>\n",
              "      <th>TP</th>\n",
              "      <th>TN</th>\n",
              "      <th>FP</th>\n",
              "      <th>FN</th>\n",
              "    </tr>\n",
              "  </thead>\n",
              "  <tbody>\n",
              "    <tr>\n",
              "      <th>LogisticRegression_UnderSampling</th>\n",
              "      <td>0.68</td>\n",
              "      <td>0.72</td>\n",
              "      <td>0.74</td>\n",
              "      <td>0.66</td>\n",
              "      <td>1385</td>\n",
              "      <td>1561</td>\n",
              "      <td>803</td>\n",
              "      <td>608</td>\n",
              "    </tr>\n",
              "  </tbody>\n",
              "</table>\n",
              "</div>\n",
              "      <button class=\"colab-df-convert\" onclick=\"convertToInteractive('df-5ee30f10-da24-4f2a-80aa-3a6525224b18')\"\n",
              "              title=\"Convert this dataframe to an interactive table.\"\n",
              "              style=\"display:none;\">\n",
              "        \n",
              "  <svg xmlns=\"http://www.w3.org/2000/svg\" height=\"24px\"viewBox=\"0 0 24 24\"\n",
              "       width=\"24px\">\n",
              "    <path d=\"M0 0h24v24H0V0z\" fill=\"none\"/>\n",
              "    <path d=\"M18.56 5.44l.94 2.06.94-2.06 2.06-.94-2.06-.94-.94-2.06-.94 2.06-2.06.94zm-11 1L8.5 8.5l.94-2.06 2.06-.94-2.06-.94L8.5 2.5l-.94 2.06-2.06.94zm10 10l.94 2.06.94-2.06 2.06-.94-2.06-.94-.94-2.06-.94 2.06-2.06.94z\"/><path d=\"M17.41 7.96l-1.37-1.37c-.4-.4-.92-.59-1.43-.59-.52 0-1.04.2-1.43.59L10.3 9.45l-7.72 7.72c-.78.78-.78 2.05 0 2.83L4 21.41c.39.39.9.59 1.41.59.51 0 1.02-.2 1.41-.59l7.78-7.78 2.81-2.81c.8-.78.8-2.07 0-2.86zM5.41 20L4 18.59l7.72-7.72 1.47 1.35L5.41 20z\"/>\n",
              "  </svg>\n",
              "      </button>\n",
              "      \n",
              "  <style>\n",
              "    .colab-df-container {\n",
              "      display:flex;\n",
              "      flex-wrap:wrap;\n",
              "      gap: 12px;\n",
              "    }\n",
              "\n",
              "    .colab-df-convert {\n",
              "      background-color: #E8F0FE;\n",
              "      border: none;\n",
              "      border-radius: 50%;\n",
              "      cursor: pointer;\n",
              "      display: none;\n",
              "      fill: #1967D2;\n",
              "      height: 32px;\n",
              "      padding: 0 0 0 0;\n",
              "      width: 32px;\n",
              "    }\n",
              "\n",
              "    .colab-df-convert:hover {\n",
              "      background-color: #E2EBFA;\n",
              "      box-shadow: 0px 1px 2px rgba(60, 64, 67, 0.3), 0px 1px 3px 1px rgba(60, 64, 67, 0.15);\n",
              "      fill: #174EA6;\n",
              "    }\n",
              "\n",
              "    [theme=dark] .colab-df-convert {\n",
              "      background-color: #3B4455;\n",
              "      fill: #D2E3FC;\n",
              "    }\n",
              "\n",
              "    [theme=dark] .colab-df-convert:hover {\n",
              "      background-color: #434B5C;\n",
              "      box-shadow: 0px 1px 3px 1px rgba(0, 0, 0, 0.15);\n",
              "      filter: drop-shadow(0px 1px 2px rgba(0, 0, 0, 0.3));\n",
              "      fill: #FFFFFF;\n",
              "    }\n",
              "  </style>\n",
              "\n",
              "      <script>\n",
              "        const buttonEl =\n",
              "          document.querySelector('#df-5ee30f10-da24-4f2a-80aa-3a6525224b18 button.colab-df-convert');\n",
              "        buttonEl.style.display =\n",
              "          google.colab.kernel.accessAllowed ? 'block' : 'none';\n",
              "\n",
              "        async function convertToInteractive(key) {\n",
              "          const element = document.querySelector('#df-5ee30f10-da24-4f2a-80aa-3a6525224b18');\n",
              "          const dataTable =\n",
              "            await google.colab.kernel.invokeFunction('convertToInteractive',\n",
              "                                                     [key], {});\n",
              "          if (!dataTable) return;\n",
              "\n",
              "          const docLinkHtml = 'Like what you see? Visit the ' +\n",
              "            '<a target=\"_blank\" href=https://colab.research.google.com/notebooks/data_table.ipynb>data table notebook</a>'\n",
              "            + ' to learn more about interactive tables.';\n",
              "          element.innerHTML = '';\n",
              "          dataTable['output_type'] = 'display_data';\n",
              "          await google.colab.output.renderOutput(dataTable, element);\n",
              "          const docLink = document.createElement('div');\n",
              "          docLink.innerHTML = docLinkHtml;\n",
              "          element.appendChild(docLink);\n",
              "        }\n",
              "      </script>\n",
              "    </div>\n",
              "  </div>\n",
              "  "
            ]
          },
          "metadata": {},
          "execution_count": 178
        }
      ]
    },
    {
      "cell_type": "markdown",
      "source": [
        "Gradient Boosting"
      ],
      "metadata": {
        "id": "Tu-QB22JK6_T"
      }
    },
    {
      "cell_type": "code",
      "source": [
        "accuracy= []\n",
        "recall =[]\n",
        "auc= []\n",
        "precision = []\n",
        "tp = []\n",
        "tn = []\n",
        "fp = []\n",
        "fn = []\n",
        "\n",
        "\n",
        "gb = GradientBoostingClassifier()\n",
        "gb.fit(X_train,y_train)\n",
        "y_pred = gb.predict(X_test)\n",
        "\n",
        "y_pred_prob = gb.predict_proba(X_test)[::,1]\n",
        "\n",
        "cm = confusion_matrix(y_test, y_pred)\n",
        "\n",
        "accuracy.append(round(accuracy_score(y_test, y_pred),2))\n",
        "recall.append(round(recall_score(y_test, y_pred),2))\n",
        "auc.append(round(roc_auc_score(y_test,y_pred_prob),2))\n",
        "precision.append(round(precision_score(y_test, y_pred),2))\n",
        "tp.append(cm[0,0])\n",
        "tn.append(cm[1,1])\n",
        "fp.append(cm[0,1])\n",
        "fn.append(cm[1,0])\n",
        "\n",
        "\n",
        "model_names = ['GradientBoosting_UnderSampling']\n",
        "undergb = pd.DataFrame({'Accuracy':accuracy,'Recall':recall,'ROC_AUC':auc, 'Precision':precision,'TP':tp,'TN':tn,'FP':fp,'FN':fn}, index=model_names)\n",
        "undergb"
      ],
      "metadata": {
        "colab": {
          "base_uri": "https://localhost:8080/",
          "height": 81
        },
        "id": "b2S42SlTjX_V",
        "outputId": "c26d83c5-d85d-43c2-faf6-b50e22caf573"
      },
      "execution_count": 179,
      "outputs": [
        {
          "output_type": "execute_result",
          "data": {
            "text/plain": [
              "                                Accuracy  Recall  ROC_AUC  Precision    TP  \\\n",
              "GradientBoosting_UnderSampling      0.69    0.72     0.76       0.68  1446   \n",
              "\n",
              "                                  TN   FP   FN  \n",
              "GradientBoosting_UnderSampling  1556  742  613  "
            ],
            "text/html": [
              "\n",
              "  <div id=\"df-c454f2cc-9b26-4bb7-bd8a-de02ef780934\">\n",
              "    <div class=\"colab-df-container\">\n",
              "      <div>\n",
              "<style scoped>\n",
              "    .dataframe tbody tr th:only-of-type {\n",
              "        vertical-align: middle;\n",
              "    }\n",
              "\n",
              "    .dataframe tbody tr th {\n",
              "        vertical-align: top;\n",
              "    }\n",
              "\n",
              "    .dataframe thead th {\n",
              "        text-align: right;\n",
              "    }\n",
              "</style>\n",
              "<table border=\"1\" class=\"dataframe\">\n",
              "  <thead>\n",
              "    <tr style=\"text-align: right;\">\n",
              "      <th></th>\n",
              "      <th>Accuracy</th>\n",
              "      <th>Recall</th>\n",
              "      <th>ROC_AUC</th>\n",
              "      <th>Precision</th>\n",
              "      <th>TP</th>\n",
              "      <th>TN</th>\n",
              "      <th>FP</th>\n",
              "      <th>FN</th>\n",
              "    </tr>\n",
              "  </thead>\n",
              "  <tbody>\n",
              "    <tr>\n",
              "      <th>GradientBoosting_UnderSampling</th>\n",
              "      <td>0.69</td>\n",
              "      <td>0.72</td>\n",
              "      <td>0.76</td>\n",
              "      <td>0.68</td>\n",
              "      <td>1446</td>\n",
              "      <td>1556</td>\n",
              "      <td>742</td>\n",
              "      <td>613</td>\n",
              "    </tr>\n",
              "  </tbody>\n",
              "</table>\n",
              "</div>\n",
              "      <button class=\"colab-df-convert\" onclick=\"convertToInteractive('df-c454f2cc-9b26-4bb7-bd8a-de02ef780934')\"\n",
              "              title=\"Convert this dataframe to an interactive table.\"\n",
              "              style=\"display:none;\">\n",
              "        \n",
              "  <svg xmlns=\"http://www.w3.org/2000/svg\" height=\"24px\"viewBox=\"0 0 24 24\"\n",
              "       width=\"24px\">\n",
              "    <path d=\"M0 0h24v24H0V0z\" fill=\"none\"/>\n",
              "    <path d=\"M18.56 5.44l.94 2.06.94-2.06 2.06-.94-2.06-.94-.94-2.06-.94 2.06-2.06.94zm-11 1L8.5 8.5l.94-2.06 2.06-.94-2.06-.94L8.5 2.5l-.94 2.06-2.06.94zm10 10l.94 2.06.94-2.06 2.06-.94-2.06-.94-.94-2.06-.94 2.06-2.06.94z\"/><path d=\"M17.41 7.96l-1.37-1.37c-.4-.4-.92-.59-1.43-.59-.52 0-1.04.2-1.43.59L10.3 9.45l-7.72 7.72c-.78.78-.78 2.05 0 2.83L4 21.41c.39.39.9.59 1.41.59.51 0 1.02-.2 1.41-.59l7.78-7.78 2.81-2.81c.8-.78.8-2.07 0-2.86zM5.41 20L4 18.59l7.72-7.72 1.47 1.35L5.41 20z\"/>\n",
              "  </svg>\n",
              "      </button>\n",
              "      \n",
              "  <style>\n",
              "    .colab-df-container {\n",
              "      display:flex;\n",
              "      flex-wrap:wrap;\n",
              "      gap: 12px;\n",
              "    }\n",
              "\n",
              "    .colab-df-convert {\n",
              "      background-color: #E8F0FE;\n",
              "      border: none;\n",
              "      border-radius: 50%;\n",
              "      cursor: pointer;\n",
              "      display: none;\n",
              "      fill: #1967D2;\n",
              "      height: 32px;\n",
              "      padding: 0 0 0 0;\n",
              "      width: 32px;\n",
              "    }\n",
              "\n",
              "    .colab-df-convert:hover {\n",
              "      background-color: #E2EBFA;\n",
              "      box-shadow: 0px 1px 2px rgba(60, 64, 67, 0.3), 0px 1px 3px 1px rgba(60, 64, 67, 0.15);\n",
              "      fill: #174EA6;\n",
              "    }\n",
              "\n",
              "    [theme=dark] .colab-df-convert {\n",
              "      background-color: #3B4455;\n",
              "      fill: #D2E3FC;\n",
              "    }\n",
              "\n",
              "    [theme=dark] .colab-df-convert:hover {\n",
              "      background-color: #434B5C;\n",
              "      box-shadow: 0px 1px 3px 1px rgba(0, 0, 0, 0.15);\n",
              "      filter: drop-shadow(0px 1px 2px rgba(0, 0, 0, 0.3));\n",
              "      fill: #FFFFFF;\n",
              "    }\n",
              "  </style>\n",
              "\n",
              "      <script>\n",
              "        const buttonEl =\n",
              "          document.querySelector('#df-c454f2cc-9b26-4bb7-bd8a-de02ef780934 button.colab-df-convert');\n",
              "        buttonEl.style.display =\n",
              "          google.colab.kernel.accessAllowed ? 'block' : 'none';\n",
              "\n",
              "        async function convertToInteractive(key) {\n",
              "          const element = document.querySelector('#df-c454f2cc-9b26-4bb7-bd8a-de02ef780934');\n",
              "          const dataTable =\n",
              "            await google.colab.kernel.invokeFunction('convertToInteractive',\n",
              "                                                     [key], {});\n",
              "          if (!dataTable) return;\n",
              "\n",
              "          const docLinkHtml = 'Like what you see? Visit the ' +\n",
              "            '<a target=\"_blank\" href=https://colab.research.google.com/notebooks/data_table.ipynb>data table notebook</a>'\n",
              "            + ' to learn more about interactive tables.';\n",
              "          element.innerHTML = '';\n",
              "          dataTable['output_type'] = 'display_data';\n",
              "          await google.colab.output.renderOutput(dataTable, element);\n",
              "          const docLink = document.createElement('div');\n",
              "          docLink.innerHTML = docLinkHtml;\n",
              "          element.appendChild(docLink);\n",
              "        }\n",
              "      </script>\n",
              "    </div>\n",
              "  </div>\n",
              "  "
            ]
          },
          "metadata": {},
          "execution_count": 179
        }
      ]
    },
    {
      "cell_type": "markdown",
      "source": [
        "XGBoost Classifier"
      ],
      "metadata": {
        "id": "LPRV2KVGLJGb"
      }
    },
    {
      "cell_type": "code",
      "source": [
        "accuracy= []\n",
        "recall =[]\n",
        "auc= []\n",
        "precision = []\n",
        "tp = []\n",
        "tn = []\n",
        "fp = []\n",
        "fn = []\n",
        "\n",
        "\n",
        "xgbc_base = XGBClassifier(random_state=0)\n",
        "xgbc_base.fit(X_train,y_train)\n",
        "y_pred = xgbc_base.predict(X_test)\n",
        "\n",
        "y_pred_prob = xgbc_base.predict_proba(X_test)[::,1]\n",
        "\n",
        "cm = confusion_matrix(y_test, y_pred)\n",
        "\n",
        "accuracy.append(round(accuracy_score(y_test, y_pred),2))\n",
        "recall.append(round(recall_score(y_test, y_pred),2))\n",
        "auc.append(round(roc_auc_score(y_test,y_pred_prob),2))\n",
        "precision.append(round(precision_score(y_test, y_pred),2))\n",
        "tp.append(cm[0,0])\n",
        "tn.append(cm[1,1])\n",
        "fp.append(cm[0,1])\n",
        "fn.append(cm[1,0])\n",
        "\n",
        "model_names = ['XGBoost_UnderSampling']\n",
        "underxgbc = pd.DataFrame({'Accuracy':accuracy,'Recall':recall,'ROC_AUC':auc, 'Precision':precision,'TP':tp,'TN':tn,'FP':fp,'FN':fn}, index=model_names)\n",
        "underxgbc"
      ],
      "metadata": {
        "colab": {
          "base_uri": "https://localhost:8080/",
          "height": 81
        },
        "id": "jVMrMAFoLSVV",
        "outputId": "5c5a47f1-5abd-4f12-8305-4116c26a33b7"
      },
      "execution_count": 180,
      "outputs": [
        {
          "output_type": "execute_result",
          "data": {
            "text/plain": [
              "                       Accuracy  Recall  ROC_AUC  Precision    TP    TN   FP  \\\n",
              "XGBoost_UnderSampling      0.69    0.72     0.76       0.68  1435  1565  753   \n",
              "\n",
              "                        FN  \n",
              "XGBoost_UnderSampling  604  "
            ],
            "text/html": [
              "\n",
              "  <div id=\"df-cbbf6c9f-8acd-4f7c-a86e-7a08e6858278\">\n",
              "    <div class=\"colab-df-container\">\n",
              "      <div>\n",
              "<style scoped>\n",
              "    .dataframe tbody tr th:only-of-type {\n",
              "        vertical-align: middle;\n",
              "    }\n",
              "\n",
              "    .dataframe tbody tr th {\n",
              "        vertical-align: top;\n",
              "    }\n",
              "\n",
              "    .dataframe thead th {\n",
              "        text-align: right;\n",
              "    }\n",
              "</style>\n",
              "<table border=\"1\" class=\"dataframe\">\n",
              "  <thead>\n",
              "    <tr style=\"text-align: right;\">\n",
              "      <th></th>\n",
              "      <th>Accuracy</th>\n",
              "      <th>Recall</th>\n",
              "      <th>ROC_AUC</th>\n",
              "      <th>Precision</th>\n",
              "      <th>TP</th>\n",
              "      <th>TN</th>\n",
              "      <th>FP</th>\n",
              "      <th>FN</th>\n",
              "    </tr>\n",
              "  </thead>\n",
              "  <tbody>\n",
              "    <tr>\n",
              "      <th>XGBoost_UnderSampling</th>\n",
              "      <td>0.69</td>\n",
              "      <td>0.72</td>\n",
              "      <td>0.76</td>\n",
              "      <td>0.68</td>\n",
              "      <td>1435</td>\n",
              "      <td>1565</td>\n",
              "      <td>753</td>\n",
              "      <td>604</td>\n",
              "    </tr>\n",
              "  </tbody>\n",
              "</table>\n",
              "</div>\n",
              "      <button class=\"colab-df-convert\" onclick=\"convertToInteractive('df-cbbf6c9f-8acd-4f7c-a86e-7a08e6858278')\"\n",
              "              title=\"Convert this dataframe to an interactive table.\"\n",
              "              style=\"display:none;\">\n",
              "        \n",
              "  <svg xmlns=\"http://www.w3.org/2000/svg\" height=\"24px\"viewBox=\"0 0 24 24\"\n",
              "       width=\"24px\">\n",
              "    <path d=\"M0 0h24v24H0V0z\" fill=\"none\"/>\n",
              "    <path d=\"M18.56 5.44l.94 2.06.94-2.06 2.06-.94-2.06-.94-.94-2.06-.94 2.06-2.06.94zm-11 1L8.5 8.5l.94-2.06 2.06-.94-2.06-.94L8.5 2.5l-.94 2.06-2.06.94zm10 10l.94 2.06.94-2.06 2.06-.94-2.06-.94-.94-2.06-.94 2.06-2.06.94z\"/><path d=\"M17.41 7.96l-1.37-1.37c-.4-.4-.92-.59-1.43-.59-.52 0-1.04.2-1.43.59L10.3 9.45l-7.72 7.72c-.78.78-.78 2.05 0 2.83L4 21.41c.39.39.9.59 1.41.59.51 0 1.02-.2 1.41-.59l7.78-7.78 2.81-2.81c.8-.78.8-2.07 0-2.86zM5.41 20L4 18.59l7.72-7.72 1.47 1.35L5.41 20z\"/>\n",
              "  </svg>\n",
              "      </button>\n",
              "      \n",
              "  <style>\n",
              "    .colab-df-container {\n",
              "      display:flex;\n",
              "      flex-wrap:wrap;\n",
              "      gap: 12px;\n",
              "    }\n",
              "\n",
              "    .colab-df-convert {\n",
              "      background-color: #E8F0FE;\n",
              "      border: none;\n",
              "      border-radius: 50%;\n",
              "      cursor: pointer;\n",
              "      display: none;\n",
              "      fill: #1967D2;\n",
              "      height: 32px;\n",
              "      padding: 0 0 0 0;\n",
              "      width: 32px;\n",
              "    }\n",
              "\n",
              "    .colab-df-convert:hover {\n",
              "      background-color: #E2EBFA;\n",
              "      box-shadow: 0px 1px 2px rgba(60, 64, 67, 0.3), 0px 1px 3px 1px rgba(60, 64, 67, 0.15);\n",
              "      fill: #174EA6;\n",
              "    }\n",
              "\n",
              "    [theme=dark] .colab-df-convert {\n",
              "      background-color: #3B4455;\n",
              "      fill: #D2E3FC;\n",
              "    }\n",
              "\n",
              "    [theme=dark] .colab-df-convert:hover {\n",
              "      background-color: #434B5C;\n",
              "      box-shadow: 0px 1px 3px 1px rgba(0, 0, 0, 0.15);\n",
              "      filter: drop-shadow(0px 1px 2px rgba(0, 0, 0, 0.3));\n",
              "      fill: #FFFFFF;\n",
              "    }\n",
              "  </style>\n",
              "\n",
              "      <script>\n",
              "        const buttonEl =\n",
              "          document.querySelector('#df-cbbf6c9f-8acd-4f7c-a86e-7a08e6858278 button.colab-df-convert');\n",
              "        buttonEl.style.display =\n",
              "          google.colab.kernel.accessAllowed ? 'block' : 'none';\n",
              "\n",
              "        async function convertToInteractive(key) {\n",
              "          const element = document.querySelector('#df-cbbf6c9f-8acd-4f7c-a86e-7a08e6858278');\n",
              "          const dataTable =\n",
              "            await google.colab.kernel.invokeFunction('convertToInteractive',\n",
              "                                                     [key], {});\n",
              "          if (!dataTable) return;\n",
              "\n",
              "          const docLinkHtml = 'Like what you see? Visit the ' +\n",
              "            '<a target=\"_blank\" href=https://colab.research.google.com/notebooks/data_table.ipynb>data table notebook</a>'\n",
              "            + ' to learn more about interactive tables.';\n",
              "          element.innerHTML = '';\n",
              "          dataTable['output_type'] = 'display_data';\n",
              "          await google.colab.output.renderOutput(dataTable, element);\n",
              "          const docLink = document.createElement('div');\n",
              "          docLink.innerHTML = docLinkHtml;\n",
              "          element.appendChild(docLink);\n",
              "        }\n",
              "      </script>\n",
              "    </div>\n",
              "  </div>\n",
              "  "
            ]
          },
          "metadata": {},
          "execution_count": 180
        }
      ]
    },
    {
      "cell_type": "markdown",
      "source": [
        "Random Forest"
      ],
      "metadata": {
        "id": "2nnRYkZoPvfi"
      }
    },
    {
      "cell_type": "code",
      "source": [
        "accuracy= []\n",
        "recall =[]\n",
        "auc= []\n",
        "precision = []\n",
        "tp = []\n",
        "tn = []\n",
        "fp = []\n",
        "fn = []\n",
        "\n",
        "\n",
        "rf = RandomForestClassifier(n_estimators = 200)\n",
        "rf.fit(X_train, y_train)\n",
        "y_pred = rf.predict(X_test)\n",
        "\n",
        "y_pred_prob = rf.predict_proba(X_test)[::,1]\n",
        "\n",
        "cm = confusion_matrix(y_test, y_pred)\n",
        "\n",
        "accuracy.append(round(accuracy_score(y_test, y_pred),2))\n",
        "recall.append(round(recall_score(y_test, y_pred),2))\n",
        "auc.append(round(roc_auc_score(y_test,y_pred_prob),2))\n",
        "precision.append(round(precision_score(y_test, y_pred),2))\n",
        "tp.append(cm[0,0])\n",
        "tn.append(cm[1,1])\n",
        "fp.append(cm[0,1])\n",
        "fn.append(cm[1,0])\n",
        "\n",
        "model_names = ['RandomForest_UnderSampling']\n",
        "underrf = pd.DataFrame({'Accuracy':accuracy,'Recall':recall,'ROC_AUC':auc, 'Precision':precision,'TP':tp,'TN':tn,'FP':fp,'FN':fn}, index=model_names)\n",
        "underrf"
      ],
      "metadata": {
        "colab": {
          "base_uri": "https://localhost:8080/",
          "height": 81
        },
        "id": "oIHSHY1jOq9W",
        "outputId": "0d5ff95d-6ef0-433c-9099-a5b8382bc8ba"
      },
      "execution_count": 182,
      "outputs": [
        {
          "output_type": "execute_result",
          "data": {
            "text/plain": [
              "                            Accuracy  Recall  ROC_AUC  Precision    TP    TN  \\\n",
              "RandomForest_UnderSampling       0.7    0.73     0.76       0.69  1459  1591   \n",
              "\n",
              "                             FP   FN  \n",
              "RandomForest_UnderSampling  729  578  "
            ],
            "text/html": [
              "\n",
              "  <div id=\"df-5d3edebe-c8db-441f-a335-5ff4f1b4546c\">\n",
              "    <div class=\"colab-df-container\">\n",
              "      <div>\n",
              "<style scoped>\n",
              "    .dataframe tbody tr th:only-of-type {\n",
              "        vertical-align: middle;\n",
              "    }\n",
              "\n",
              "    .dataframe tbody tr th {\n",
              "        vertical-align: top;\n",
              "    }\n",
              "\n",
              "    .dataframe thead th {\n",
              "        text-align: right;\n",
              "    }\n",
              "</style>\n",
              "<table border=\"1\" class=\"dataframe\">\n",
              "  <thead>\n",
              "    <tr style=\"text-align: right;\">\n",
              "      <th></th>\n",
              "      <th>Accuracy</th>\n",
              "      <th>Recall</th>\n",
              "      <th>ROC_AUC</th>\n",
              "      <th>Precision</th>\n",
              "      <th>TP</th>\n",
              "      <th>TN</th>\n",
              "      <th>FP</th>\n",
              "      <th>FN</th>\n",
              "    </tr>\n",
              "  </thead>\n",
              "  <tbody>\n",
              "    <tr>\n",
              "      <th>RandomForest_UnderSampling</th>\n",
              "      <td>0.7</td>\n",
              "      <td>0.73</td>\n",
              "      <td>0.76</td>\n",
              "      <td>0.69</td>\n",
              "      <td>1459</td>\n",
              "      <td>1591</td>\n",
              "      <td>729</td>\n",
              "      <td>578</td>\n",
              "    </tr>\n",
              "  </tbody>\n",
              "</table>\n",
              "</div>\n",
              "      <button class=\"colab-df-convert\" onclick=\"convertToInteractive('df-5d3edebe-c8db-441f-a335-5ff4f1b4546c')\"\n",
              "              title=\"Convert this dataframe to an interactive table.\"\n",
              "              style=\"display:none;\">\n",
              "        \n",
              "  <svg xmlns=\"http://www.w3.org/2000/svg\" height=\"24px\"viewBox=\"0 0 24 24\"\n",
              "       width=\"24px\">\n",
              "    <path d=\"M0 0h24v24H0V0z\" fill=\"none\"/>\n",
              "    <path d=\"M18.56 5.44l.94 2.06.94-2.06 2.06-.94-2.06-.94-.94-2.06-.94 2.06-2.06.94zm-11 1L8.5 8.5l.94-2.06 2.06-.94-2.06-.94L8.5 2.5l-.94 2.06-2.06.94zm10 10l.94 2.06.94-2.06 2.06-.94-2.06-.94-.94-2.06-.94 2.06-2.06.94z\"/><path d=\"M17.41 7.96l-1.37-1.37c-.4-.4-.92-.59-1.43-.59-.52 0-1.04.2-1.43.59L10.3 9.45l-7.72 7.72c-.78.78-.78 2.05 0 2.83L4 21.41c.39.39.9.59 1.41.59.51 0 1.02-.2 1.41-.59l7.78-7.78 2.81-2.81c.8-.78.8-2.07 0-2.86zM5.41 20L4 18.59l7.72-7.72 1.47 1.35L5.41 20z\"/>\n",
              "  </svg>\n",
              "      </button>\n",
              "      \n",
              "  <style>\n",
              "    .colab-df-container {\n",
              "      display:flex;\n",
              "      flex-wrap:wrap;\n",
              "      gap: 12px;\n",
              "    }\n",
              "\n",
              "    .colab-df-convert {\n",
              "      background-color: #E8F0FE;\n",
              "      border: none;\n",
              "      border-radius: 50%;\n",
              "      cursor: pointer;\n",
              "      display: none;\n",
              "      fill: #1967D2;\n",
              "      height: 32px;\n",
              "      padding: 0 0 0 0;\n",
              "      width: 32px;\n",
              "    }\n",
              "\n",
              "    .colab-df-convert:hover {\n",
              "      background-color: #E2EBFA;\n",
              "      box-shadow: 0px 1px 2px rgba(60, 64, 67, 0.3), 0px 1px 3px 1px rgba(60, 64, 67, 0.15);\n",
              "      fill: #174EA6;\n",
              "    }\n",
              "\n",
              "    [theme=dark] .colab-df-convert {\n",
              "      background-color: #3B4455;\n",
              "      fill: #D2E3FC;\n",
              "    }\n",
              "\n",
              "    [theme=dark] .colab-df-convert:hover {\n",
              "      background-color: #434B5C;\n",
              "      box-shadow: 0px 1px 3px 1px rgba(0, 0, 0, 0.15);\n",
              "      filter: drop-shadow(0px 1px 2px rgba(0, 0, 0, 0.3));\n",
              "      fill: #FFFFFF;\n",
              "    }\n",
              "  </style>\n",
              "\n",
              "      <script>\n",
              "        const buttonEl =\n",
              "          document.querySelector('#df-5d3edebe-c8db-441f-a335-5ff4f1b4546c button.colab-df-convert');\n",
              "        buttonEl.style.display =\n",
              "          google.colab.kernel.accessAllowed ? 'block' : 'none';\n",
              "\n",
              "        async function convertToInteractive(key) {\n",
              "          const element = document.querySelector('#df-5d3edebe-c8db-441f-a335-5ff4f1b4546c');\n",
              "          const dataTable =\n",
              "            await google.colab.kernel.invokeFunction('convertToInteractive',\n",
              "                                                     [key], {});\n",
              "          if (!dataTable) return;\n",
              "\n",
              "          const docLinkHtml = 'Like what you see? Visit the ' +\n",
              "            '<a target=\"_blank\" href=https://colab.research.google.com/notebooks/data_table.ipynb>data table notebook</a>'\n",
              "            + ' to learn more about interactive tables.';\n",
              "          element.innerHTML = '';\n",
              "          dataTable['output_type'] = 'display_data';\n",
              "          await google.colab.output.renderOutput(dataTable, element);\n",
              "          const docLink = document.createElement('div');\n",
              "          docLink.innerHTML = docLinkHtml;\n",
              "          element.appendChild(docLink);\n",
              "        }\n",
              "      </script>\n",
              "    </div>\n",
              "  </div>\n",
              "  "
            ]
          },
          "metadata": {},
          "execution_count": 182
        }
      ]
    },
    {
      "cell_type": "markdown",
      "source": [
        "## OverSampling"
      ],
      "metadata": {
        "id": "lPMWhY2yPQai"
      }
    },
    {
      "cell_type": "code",
      "source": [
        "X_train,X_test,y_train,y_test  = resampling(df,RandomOverSampler())"
      ],
      "metadata": {
        "id": "X32_yoZLPW1L"
      },
      "execution_count": 183,
      "outputs": []
    },
    {
      "cell_type": "markdown",
      "source": [
        "Logistic Regression"
      ],
      "metadata": {
        "id": "OKddMfk4PlxV"
      }
    },
    {
      "cell_type": "code",
      "source": [
        ""
      ],
      "metadata": {
        "id": "2lzGlFYxPpYz"
      },
      "execution_count": null,
      "outputs": []
    },
    {
      "cell_type": "markdown",
      "source": [
        "Gradient Boosting"
      ],
      "metadata": {
        "id": "9RTGy67oPp0b"
      }
    },
    {
      "cell_type": "code",
      "source": [
        ""
      ],
      "metadata": {
        "id": "zrgENcZGP0t4"
      },
      "execution_count": null,
      "outputs": []
    },
    {
      "cell_type": "markdown",
      "source": [
        "XGBoost Classifier"
      ],
      "metadata": {
        "id": "4FIN4iIXP09O"
      }
    },
    {
      "cell_type": "code",
      "source": [
        ""
      ],
      "metadata": {
        "id": "HwQgZaNmP5BC"
      },
      "execution_count": null,
      "outputs": []
    },
    {
      "cell_type": "markdown",
      "source": [
        "Random Forest"
      ],
      "metadata": {
        "id": "4M4GZCD3P5Yp"
      }
    },
    {
      "cell_type": "code",
      "source": [
        ""
      ],
      "metadata": {
        "id": "sWIDLNzoP7zC"
      },
      "execution_count": null,
      "outputs": []
    },
    {
      "cell_type": "markdown",
      "source": [
        "## SMOTE"
      ],
      "metadata": {
        "id": "FRRd2rFaP8QQ"
      }
    },
    {
      "cell_type": "code",
      "source": [
        ""
      ],
      "metadata": {
        "id": "IpmKhw5bQFok"
      },
      "execution_count": null,
      "outputs": []
    },
    {
      "cell_type": "markdown",
      "source": [
        "Logistic Regression"
      ],
      "metadata": {
        "id": "LgW4icz7QGKn"
      }
    },
    {
      "cell_type": "code",
      "source": [
        ""
      ],
      "metadata": {
        "id": "nIWI4RX-QoFG"
      },
      "execution_count": null,
      "outputs": []
    },
    {
      "cell_type": "markdown",
      "source": [
        "Gradient Boosting"
      ],
      "metadata": {
        "id": "3648nItMQI8Y"
      }
    },
    {
      "cell_type": "code",
      "source": [
        ""
      ],
      "metadata": {
        "id": "byu_0aZ0QocV"
      },
      "execution_count": null,
      "outputs": []
    },
    {
      "cell_type": "markdown",
      "source": [
        "XGBoost Classifier"
      ],
      "metadata": {
        "id": "KSGhCtZ5QLrL"
      }
    },
    {
      "cell_type": "code",
      "source": [
        ""
      ],
      "metadata": {
        "id": "bIFCA5taQruS"
      },
      "execution_count": null,
      "outputs": []
    },
    {
      "cell_type": "markdown",
      "source": [
        "Random Forest"
      ],
      "metadata": {
        "id": "CtmnzwZmQPhj"
      }
    },
    {
      "cell_type": "code",
      "source": [
        ""
      ],
      "metadata": {
        "id": "UxwUAsp1QsHs"
      },
      "execution_count": null,
      "outputs": []
    },
    {
      "cell_type": "markdown",
      "source": [
        "## Feature Selection"
      ],
      "metadata": {
        "id": "SeAAWAdMQsnu"
      }
    },
    {
      "cell_type": "code",
      "source": [
        ""
      ],
      "metadata": {
        "id": "rKPv0rzRQxeo"
      },
      "execution_count": null,
      "outputs": []
    },
    {
      "cell_type": "markdown",
      "source": [
        "# Final Result"
      ],
      "metadata": {
        "id": "AT_jpPCKQ9zb"
      }
    },
    {
      "cell_type": "code",
      "source": [
        "# view the feature scores\n",
        "\n",
        "feature_scores = pd.Series(rf.feature_importances_, index=X_train.columns).sort_values(ascending=False)\n",
        "\n",
        "feature_scores"
      ],
      "metadata": {
        "id": "jHaRhtzhuVDy",
        "colab": {
          "base_uri": "https://localhost:8080/"
        },
        "outputId": "b462823a-b420-4b61-e58f-a6e504e014e4"
      },
      "execution_count": 84,
      "outputs": [
        {
          "output_type": "execute_result",
          "data": {
            "text/plain": [
              "transactionAmount           0.167931\n",
              "cardLast4Digits             0.090591\n",
              "currentBalance              0.088072\n",
              "availableMoney              0.087092\n",
              "transaction_minute          0.078871\n",
              "transaction_day             0.071248\n",
              "transaction_hour            0.068782\n",
              "transaction_month           0.056431\n",
              "transaction_week            0.047554\n",
              "creditLimit                 0.044668\n",
              "5.0                         0.040337\n",
              "9.0                         0.021529\n",
              "fuel                        0.011009\n",
              "8.0                         0.010913\n",
              "cardPresent                 0.010212\n",
              "online_retail               0.008733\n",
              "food                        0.008369\n",
              "fastfood                    0.007683\n",
              "entertainment               0.006909\n",
              "hotels                      0.006649\n",
              "mobileapps                  0.006339\n",
              "rideshare                   0.005920\n",
              "online_gifts                0.004979\n",
              "PURCHASE                    0.004059\n",
              "personal care               0.004058\n",
              "auto                        0.003922\n",
              "online_subscriptions        0.003491\n",
              "90.0                        0.003424\n",
              "health                      0.003422\n",
              "subscriptions               0.003267\n",
              "80.0                        0.003032\n",
              "REVERSAL                    0.003000\n",
              "99.0                        0.002634\n",
              "multiSwipe                  0.002616\n",
              "matchedCVV                  0.002468\n",
              "furniture                   0.001897\n",
              "food_delivery               0.001565\n",
              "US_1                        0.001435\n",
              "US                          0.001295\n",
              "cable/phone                 0.000760\n",
              "gym                         0.000698\n",
              "MEX_1                       0.000536\n",
              "MEX                         0.000525\n",
              "expirationDateKeyInMatch    0.000389\n",
              "PR                          0.000350\n",
              "PR_1                        0.000334\n",
              "transaction_year            0.000000\n",
              "dtype: float64"
            ]
          },
          "metadata": {},
          "execution_count": 84
        }
      ]
    },
    {
      "cell_type": "code",
      "source": [
        "feature_scores = feature_scores.to_frame('feature_scores').reset_index()"
      ],
      "metadata": {
        "id": "d2gw72tfe9hJ"
      },
      "execution_count": 85,
      "outputs": []
    },
    {
      "cell_type": "code",
      "source": [
        "feature_scores"
      ],
      "metadata": {
        "colab": {
          "base_uri": "https://localhost:8080/",
          "height": 1000
        },
        "id": "lON4R69afcOj",
        "outputId": "9594efca-8e5d-4dcd-cd9b-fb14d5143037"
      },
      "execution_count": 86,
      "outputs": [
        {
          "output_type": "execute_result",
          "data": {
            "text/plain": [
              "                     level_0  feature_scores\n",
              "0          transactionAmount        0.167931\n",
              "1            cardLast4Digits        0.090591\n",
              "2             currentBalance        0.088072\n",
              "3             availableMoney        0.087092\n",
              "4         transaction_minute        0.078871\n",
              "5            transaction_day        0.071248\n",
              "6           transaction_hour        0.068782\n",
              "7          transaction_month        0.056431\n",
              "8           transaction_week        0.047554\n",
              "9                creditLimit        0.044668\n",
              "10                       5.0        0.040337\n",
              "11                       9.0        0.021529\n",
              "12                      fuel        0.011009\n",
              "13                       8.0        0.010913\n",
              "14               cardPresent        0.010212\n",
              "15             online_retail        0.008733\n",
              "16                      food        0.008369\n",
              "17                  fastfood        0.007683\n",
              "18             entertainment        0.006909\n",
              "19                    hotels        0.006649\n",
              "20                mobileapps        0.006339\n",
              "21                 rideshare        0.005920\n",
              "22              online_gifts        0.004979\n",
              "23                  PURCHASE        0.004059\n",
              "24             personal care        0.004058\n",
              "25                      auto        0.003922\n",
              "26      online_subscriptions        0.003491\n",
              "27                      90.0        0.003424\n",
              "28                    health        0.003422\n",
              "29             subscriptions        0.003267\n",
              "30                      80.0        0.003032\n",
              "31                  REVERSAL        0.003000\n",
              "32                      99.0        0.002634\n",
              "33                multiSwipe        0.002616\n",
              "34                matchedCVV        0.002468\n",
              "35                 furniture        0.001897\n",
              "36             food_delivery        0.001565\n",
              "37                      US_1        0.001435\n",
              "38                        US        0.001295\n",
              "39               cable/phone        0.000760\n",
              "40                       gym        0.000698\n",
              "41                     MEX_1        0.000536\n",
              "42                       MEX        0.000525\n",
              "43  expirationDateKeyInMatch        0.000389\n",
              "44                        PR        0.000350\n",
              "45                      PR_1        0.000334\n",
              "46          transaction_year        0.000000"
            ],
            "text/html": [
              "\n",
              "  <div id=\"df-8e439924-b1a6-4216-a30e-0a872515c6ef\">\n",
              "    <div class=\"colab-df-container\">\n",
              "      <div>\n",
              "<style scoped>\n",
              "    .dataframe tbody tr th:only-of-type {\n",
              "        vertical-align: middle;\n",
              "    }\n",
              "\n",
              "    .dataframe tbody tr th {\n",
              "        vertical-align: top;\n",
              "    }\n",
              "\n",
              "    .dataframe thead th {\n",
              "        text-align: right;\n",
              "    }\n",
              "</style>\n",
              "<table border=\"1\" class=\"dataframe\">\n",
              "  <thead>\n",
              "    <tr style=\"text-align: right;\">\n",
              "      <th></th>\n",
              "      <th>level_0</th>\n",
              "      <th>feature_scores</th>\n",
              "    </tr>\n",
              "  </thead>\n",
              "  <tbody>\n",
              "    <tr>\n",
              "      <th>0</th>\n",
              "      <td>transactionAmount</td>\n",
              "      <td>0.167931</td>\n",
              "    </tr>\n",
              "    <tr>\n",
              "      <th>1</th>\n",
              "      <td>cardLast4Digits</td>\n",
              "      <td>0.090591</td>\n",
              "    </tr>\n",
              "    <tr>\n",
              "      <th>2</th>\n",
              "      <td>currentBalance</td>\n",
              "      <td>0.088072</td>\n",
              "    </tr>\n",
              "    <tr>\n",
              "      <th>3</th>\n",
              "      <td>availableMoney</td>\n",
              "      <td>0.087092</td>\n",
              "    </tr>\n",
              "    <tr>\n",
              "      <th>4</th>\n",
              "      <td>transaction_minute</td>\n",
              "      <td>0.078871</td>\n",
              "    </tr>\n",
              "    <tr>\n",
              "      <th>5</th>\n",
              "      <td>transaction_day</td>\n",
              "      <td>0.071248</td>\n",
              "    </tr>\n",
              "    <tr>\n",
              "      <th>6</th>\n",
              "      <td>transaction_hour</td>\n",
              "      <td>0.068782</td>\n",
              "    </tr>\n",
              "    <tr>\n",
              "      <th>7</th>\n",
              "      <td>transaction_month</td>\n",
              "      <td>0.056431</td>\n",
              "    </tr>\n",
              "    <tr>\n",
              "      <th>8</th>\n",
              "      <td>transaction_week</td>\n",
              "      <td>0.047554</td>\n",
              "    </tr>\n",
              "    <tr>\n",
              "      <th>9</th>\n",
              "      <td>creditLimit</td>\n",
              "      <td>0.044668</td>\n",
              "    </tr>\n",
              "    <tr>\n",
              "      <th>10</th>\n",
              "      <td>5.0</td>\n",
              "      <td>0.040337</td>\n",
              "    </tr>\n",
              "    <tr>\n",
              "      <th>11</th>\n",
              "      <td>9.0</td>\n",
              "      <td>0.021529</td>\n",
              "    </tr>\n",
              "    <tr>\n",
              "      <th>12</th>\n",
              "      <td>fuel</td>\n",
              "      <td>0.011009</td>\n",
              "    </tr>\n",
              "    <tr>\n",
              "      <th>13</th>\n",
              "      <td>8.0</td>\n",
              "      <td>0.010913</td>\n",
              "    </tr>\n",
              "    <tr>\n",
              "      <th>14</th>\n",
              "      <td>cardPresent</td>\n",
              "      <td>0.010212</td>\n",
              "    </tr>\n",
              "    <tr>\n",
              "      <th>15</th>\n",
              "      <td>online_retail</td>\n",
              "      <td>0.008733</td>\n",
              "    </tr>\n",
              "    <tr>\n",
              "      <th>16</th>\n",
              "      <td>food</td>\n",
              "      <td>0.008369</td>\n",
              "    </tr>\n",
              "    <tr>\n",
              "      <th>17</th>\n",
              "      <td>fastfood</td>\n",
              "      <td>0.007683</td>\n",
              "    </tr>\n",
              "    <tr>\n",
              "      <th>18</th>\n",
              "      <td>entertainment</td>\n",
              "      <td>0.006909</td>\n",
              "    </tr>\n",
              "    <tr>\n",
              "      <th>19</th>\n",
              "      <td>hotels</td>\n",
              "      <td>0.006649</td>\n",
              "    </tr>\n",
              "    <tr>\n",
              "      <th>20</th>\n",
              "      <td>mobileapps</td>\n",
              "      <td>0.006339</td>\n",
              "    </tr>\n",
              "    <tr>\n",
              "      <th>21</th>\n",
              "      <td>rideshare</td>\n",
              "      <td>0.005920</td>\n",
              "    </tr>\n",
              "    <tr>\n",
              "      <th>22</th>\n",
              "      <td>online_gifts</td>\n",
              "      <td>0.004979</td>\n",
              "    </tr>\n",
              "    <tr>\n",
              "      <th>23</th>\n",
              "      <td>PURCHASE</td>\n",
              "      <td>0.004059</td>\n",
              "    </tr>\n",
              "    <tr>\n",
              "      <th>24</th>\n",
              "      <td>personal care</td>\n",
              "      <td>0.004058</td>\n",
              "    </tr>\n",
              "    <tr>\n",
              "      <th>25</th>\n",
              "      <td>auto</td>\n",
              "      <td>0.003922</td>\n",
              "    </tr>\n",
              "    <tr>\n",
              "      <th>26</th>\n",
              "      <td>online_subscriptions</td>\n",
              "      <td>0.003491</td>\n",
              "    </tr>\n",
              "    <tr>\n",
              "      <th>27</th>\n",
              "      <td>90.0</td>\n",
              "      <td>0.003424</td>\n",
              "    </tr>\n",
              "    <tr>\n",
              "      <th>28</th>\n",
              "      <td>health</td>\n",
              "      <td>0.003422</td>\n",
              "    </tr>\n",
              "    <tr>\n",
              "      <th>29</th>\n",
              "      <td>subscriptions</td>\n",
              "      <td>0.003267</td>\n",
              "    </tr>\n",
              "    <tr>\n",
              "      <th>30</th>\n",
              "      <td>80.0</td>\n",
              "      <td>0.003032</td>\n",
              "    </tr>\n",
              "    <tr>\n",
              "      <th>31</th>\n",
              "      <td>REVERSAL</td>\n",
              "      <td>0.003000</td>\n",
              "    </tr>\n",
              "    <tr>\n",
              "      <th>32</th>\n",
              "      <td>99.0</td>\n",
              "      <td>0.002634</td>\n",
              "    </tr>\n",
              "    <tr>\n",
              "      <th>33</th>\n",
              "      <td>multiSwipe</td>\n",
              "      <td>0.002616</td>\n",
              "    </tr>\n",
              "    <tr>\n",
              "      <th>34</th>\n",
              "      <td>matchedCVV</td>\n",
              "      <td>0.002468</td>\n",
              "    </tr>\n",
              "    <tr>\n",
              "      <th>35</th>\n",
              "      <td>furniture</td>\n",
              "      <td>0.001897</td>\n",
              "    </tr>\n",
              "    <tr>\n",
              "      <th>36</th>\n",
              "      <td>food_delivery</td>\n",
              "      <td>0.001565</td>\n",
              "    </tr>\n",
              "    <tr>\n",
              "      <th>37</th>\n",
              "      <td>US_1</td>\n",
              "      <td>0.001435</td>\n",
              "    </tr>\n",
              "    <tr>\n",
              "      <th>38</th>\n",
              "      <td>US</td>\n",
              "      <td>0.001295</td>\n",
              "    </tr>\n",
              "    <tr>\n",
              "      <th>39</th>\n",
              "      <td>cable/phone</td>\n",
              "      <td>0.000760</td>\n",
              "    </tr>\n",
              "    <tr>\n",
              "      <th>40</th>\n",
              "      <td>gym</td>\n",
              "      <td>0.000698</td>\n",
              "    </tr>\n",
              "    <tr>\n",
              "      <th>41</th>\n",
              "      <td>MEX_1</td>\n",
              "      <td>0.000536</td>\n",
              "    </tr>\n",
              "    <tr>\n",
              "      <th>42</th>\n",
              "      <td>MEX</td>\n",
              "      <td>0.000525</td>\n",
              "    </tr>\n",
              "    <tr>\n",
              "      <th>43</th>\n",
              "      <td>expirationDateKeyInMatch</td>\n",
              "      <td>0.000389</td>\n",
              "    </tr>\n",
              "    <tr>\n",
              "      <th>44</th>\n",
              "      <td>PR</td>\n",
              "      <td>0.000350</td>\n",
              "    </tr>\n",
              "    <tr>\n",
              "      <th>45</th>\n",
              "      <td>PR_1</td>\n",
              "      <td>0.000334</td>\n",
              "    </tr>\n",
              "    <tr>\n",
              "      <th>46</th>\n",
              "      <td>transaction_year</td>\n",
              "      <td>0.000000</td>\n",
              "    </tr>\n",
              "  </tbody>\n",
              "</table>\n",
              "</div>\n",
              "      <button class=\"colab-df-convert\" onclick=\"convertToInteractive('df-8e439924-b1a6-4216-a30e-0a872515c6ef')\"\n",
              "              title=\"Convert this dataframe to an interactive table.\"\n",
              "              style=\"display:none;\">\n",
              "        \n",
              "  <svg xmlns=\"http://www.w3.org/2000/svg\" height=\"24px\"viewBox=\"0 0 24 24\"\n",
              "       width=\"24px\">\n",
              "    <path d=\"M0 0h24v24H0V0z\" fill=\"none\"/>\n",
              "    <path d=\"M18.56 5.44l.94 2.06.94-2.06 2.06-.94-2.06-.94-.94-2.06-.94 2.06-2.06.94zm-11 1L8.5 8.5l.94-2.06 2.06-.94-2.06-.94L8.5 2.5l-.94 2.06-2.06.94zm10 10l.94 2.06.94-2.06 2.06-.94-2.06-.94-.94-2.06-.94 2.06-2.06.94z\"/><path d=\"M17.41 7.96l-1.37-1.37c-.4-.4-.92-.59-1.43-.59-.52 0-1.04.2-1.43.59L10.3 9.45l-7.72 7.72c-.78.78-.78 2.05 0 2.83L4 21.41c.39.39.9.59 1.41.59.51 0 1.02-.2 1.41-.59l7.78-7.78 2.81-2.81c.8-.78.8-2.07 0-2.86zM5.41 20L4 18.59l7.72-7.72 1.47 1.35L5.41 20z\"/>\n",
              "  </svg>\n",
              "      </button>\n",
              "      \n",
              "  <style>\n",
              "    .colab-df-container {\n",
              "      display:flex;\n",
              "      flex-wrap:wrap;\n",
              "      gap: 12px;\n",
              "    }\n",
              "\n",
              "    .colab-df-convert {\n",
              "      background-color: #E8F0FE;\n",
              "      border: none;\n",
              "      border-radius: 50%;\n",
              "      cursor: pointer;\n",
              "      display: none;\n",
              "      fill: #1967D2;\n",
              "      height: 32px;\n",
              "      padding: 0 0 0 0;\n",
              "      width: 32px;\n",
              "    }\n",
              "\n",
              "    .colab-df-convert:hover {\n",
              "      background-color: #E2EBFA;\n",
              "      box-shadow: 0px 1px 2px rgba(60, 64, 67, 0.3), 0px 1px 3px 1px rgba(60, 64, 67, 0.15);\n",
              "      fill: #174EA6;\n",
              "    }\n",
              "\n",
              "    [theme=dark] .colab-df-convert {\n",
              "      background-color: #3B4455;\n",
              "      fill: #D2E3FC;\n",
              "    }\n",
              "\n",
              "    [theme=dark] .colab-df-convert:hover {\n",
              "      background-color: #434B5C;\n",
              "      box-shadow: 0px 1px 3px 1px rgba(0, 0, 0, 0.15);\n",
              "      filter: drop-shadow(0px 1px 2px rgba(0, 0, 0, 0.3));\n",
              "      fill: #FFFFFF;\n",
              "    }\n",
              "  </style>\n",
              "\n",
              "      <script>\n",
              "        const buttonEl =\n",
              "          document.querySelector('#df-8e439924-b1a6-4216-a30e-0a872515c6ef button.colab-df-convert');\n",
              "        buttonEl.style.display =\n",
              "          google.colab.kernel.accessAllowed ? 'block' : 'none';\n",
              "\n",
              "        async function convertToInteractive(key) {\n",
              "          const element = document.querySelector('#df-8e439924-b1a6-4216-a30e-0a872515c6ef');\n",
              "          const dataTable =\n",
              "            await google.colab.kernel.invokeFunction('convertToInteractive',\n",
              "                                                     [key], {});\n",
              "          if (!dataTable) return;\n",
              "\n",
              "          const docLinkHtml = 'Like what you see? Visit the ' +\n",
              "            '<a target=\"_blank\" href=https://colab.research.google.com/notebooks/data_table.ipynb>data table notebook</a>'\n",
              "            + ' to learn more about interactive tables.';\n",
              "          element.innerHTML = '';\n",
              "          dataTable['output_type'] = 'display_data';\n",
              "          await google.colab.output.renderOutput(dataTable, element);\n",
              "          const docLink = document.createElement('div');\n",
              "          docLink.innerHTML = docLinkHtml;\n",
              "          element.appendChild(docLink);\n",
              "        }\n",
              "      </script>\n",
              "    </div>\n",
              "  </div>\n",
              "  "
            ]
          },
          "metadata": {},
          "execution_count": 86
        }
      ]
    },
    {
      "cell_type": "code",
      "source": [
        "f, ax = plt.subplots(figsize=(12, 10))\n",
        "ax = sns.barplot(data=feature_scores, x='level_0',y='feature_scores')\n",
        "ax.set_title(\"Visualize feature scores of the features\")\n",
        "ax.set_yticklabels(feature_scores.index)\n",
        "ax.set_xticklabels(ax.get_xticklabels(),rotation = 90)\n",
        "ax.set_xlabel(\"Feature\")\n",
        "ax.set_ylabel(\"Feature importance score\")\n",
        "plt.show()"
      ],
      "metadata": {
        "colab": {
          "base_uri": "https://localhost:8080/",
          "height": 744
        },
        "id": "p7muy4M0aCb4",
        "outputId": "7a9027d3-6158-4496-b8b9-92c33dd0834e"
      },
      "execution_count": 87,
      "outputs": [
        {
          "output_type": "display_data",
          "data": {
            "text/plain": [
              "<Figure size 864x720 with 1 Axes>"
            ],
            "image/png": "[encoded data removed]"
          },
          "metadata": {
            "needs_background": "light"
          }
        }
      ]
    },
    {
      "cell_type": "code",
      "source": [
        "# drop the least important feature from X_train and X_test\n",
        "\n",
        "X_train = X_train.drop(['transaction_year'], axis=1)\n",
        "\n",
        "X_test = X_test.drop(['transaction_year'], axis=1)"
      ],
      "metadata": {
        "id": "sxt0zII0eMQa"
      },
      "execution_count": 88,
      "outputs": []
    },
    {
      "cell_type": "code",
      "source": [
        "accuracy= []\n",
        "recall =[]\n",
        "auc= []\n",
        "precision = []\n",
        "\n",
        "\n",
        "rf = RandomForestClassifier(n_estimators = 200)\n",
        "rf.fit(X_train, y_train)\n",
        "y_pred = rf.predict(X_test)\n",
        "threshold = 0.5\n",
        "\n",
        "y_pred_prob = rf.predict_proba(X_test)[::,1]\n",
        "\n",
        "\n",
        "accuracy.append(round(accuracy_score(y_test, y_pred),4))\n",
        "recall.append(round(recall_score(y_test, y_pred),4))\n",
        "auc.append(round(roc_auc_score(y_test,y_pred_prob),4))\n",
        "precision.append(round(precision_score(y_test, y_pred),4))\n",
        "\n",
        "model_names = ['Random Forest']\n",
        "result_df5 = pd.DataFrame({'Accuracy':accuracy,'Recall':recall,'AUC':auc, 'Precision':precision}, index=model_names)\n",
        "result_df5"
      ],
      "metadata": {
        "colab": {
          "base_uri": "https://localhost:8080/",
          "height": 81
        },
        "id": "hmxsfVdYgm0L",
        "outputId": "eccbd392-f878-409f-86e7-bce91c8bec66"
      },
      "execution_count": 89,
      "outputs": [
        {
          "output_type": "execute_result",
          "data": {
            "text/plain": [
              "               Accuracy  Recall     AUC  Precision\n",
              "Random Forest    0.6909   0.718  0.7574     0.6853"
            ],
            "text/html": [
              "\n",
              "  <div id=\"df-0fab61ec-eb6e-4a8e-8054-312ff53ed651\">\n",
              "    <div class=\"colab-df-container\">\n",
              "      <div>\n",
              "<style scoped>\n",
              "    .dataframe tbody tr th:only-of-type {\n",
              "        vertical-align: middle;\n",
              "    }\n",
              "\n",
              "    .dataframe tbody tr th {\n",
              "        vertical-align: top;\n",
              "    }\n",
              "\n",
              "    .dataframe thead th {\n",
              "        text-align: right;\n",
              "    }\n",
              "</style>\n",
              "<table border=\"1\" class=\"dataframe\">\n",
              "  <thead>\n",
              "    <tr style=\"text-align: right;\">\n",
              "      <th></th>\n",
              "      <th>Accuracy</th>\n",
              "      <th>Recall</th>\n",
              "      <th>AUC</th>\n",
              "      <th>Precision</th>\n",
              "    </tr>\n",
              "  </thead>\n",
              "  <tbody>\n",
              "    <tr>\n",
              "      <th>Random Forest</th>\n",
              "      <td>0.6909</td>\n",
              "      <td>0.718</td>\n",
              "      <td>0.7574</td>\n",
              "      <td>0.6853</td>\n",
              "    </tr>\n",
              "  </tbody>\n",
              "</table>\n",
              "</div>\n",
              "      <button class=\"colab-df-convert\" onclick=\"convertToInteractive('df-0fab61ec-eb6e-4a8e-8054-312ff53ed651')\"\n",
              "              title=\"Convert this dataframe to an interactive table.\"\n",
              "              style=\"display:none;\">\n",
              "        \n",
              "  <svg xmlns=\"http://www.w3.org/2000/svg\" height=\"24px\"viewBox=\"0 0 24 24\"\n",
              "       width=\"24px\">\n",
              "    <path d=\"M0 0h24v24H0V0z\" fill=\"none\"/>\n",
              "    <path d=\"M18.56 5.44l.94 2.06.94-2.06 2.06-.94-2.06-.94-.94-2.06-.94 2.06-2.06.94zm-11 1L8.5 8.5l.94-2.06 2.06-.94-2.06-.94L8.5 2.5l-.94 2.06-2.06.94zm10 10l.94 2.06.94-2.06 2.06-.94-2.06-.94-.94-2.06-.94 2.06-2.06.94z\"/><path d=\"M17.41 7.96l-1.37-1.37c-.4-.4-.92-.59-1.43-.59-.52 0-1.04.2-1.43.59L10.3 9.45l-7.72 7.72c-.78.78-.78 2.05 0 2.83L4 21.41c.39.39.9.59 1.41.59.51 0 1.02-.2 1.41-.59l7.78-7.78 2.81-2.81c.8-.78.8-2.07 0-2.86zM5.41 20L4 18.59l7.72-7.72 1.47 1.35L5.41 20z\"/>\n",
              "  </svg>\n",
              "      </button>\n",
              "      \n",
              "  <style>\n",
              "    .colab-df-container {\n",
              "      display:flex;\n",
              "      flex-wrap:wrap;\n",
              "      gap: 12px;\n",
              "    }\n",
              "\n",
              "    .colab-df-convert {\n",
              "      background-color: #E8F0FE;\n",
              "      border: none;\n",
              "      border-radius: 50%;\n",
              "      cursor: pointer;\n",
              "      display: none;\n",
              "      fill: #1967D2;\n",
              "      height: 32px;\n",
              "      padding: 0 0 0 0;\n",
              "      width: 32px;\n",
              "    }\n",
              "\n",
              "    .colab-df-convert:hover {\n",
              "      background-color: #E2EBFA;\n",
              "      box-shadow: 0px 1px 2px rgba(60, 64, 67, 0.3), 0px 1px 3px 1px rgba(60, 64, 67, 0.15);\n",
              "      fill: #174EA6;\n",
              "    }\n",
              "\n",
              "    [theme=dark] .colab-df-convert {\n",
              "      background-color: #3B4455;\n",
              "      fill: #D2E3FC;\n",
              "    }\n",
              "\n",
              "    [theme=dark] .colab-df-convert:hover {\n",
              "      background-color: #434B5C;\n",
              "      box-shadow: 0px 1px 3px 1px rgba(0, 0, 0, 0.15);\n",
              "      filter: drop-shadow(0px 1px 2px rgba(0, 0, 0, 0.3));\n",
              "      fill: #FFFFFF;\n",
              "    }\n",
              "  </style>\n",
              "\n",
              "      <script>\n",
              "        const buttonEl =\n",
              "          document.querySelector('#df-0fab61ec-eb6e-4a8e-8054-312ff53ed651 button.colab-df-convert');\n",
              "        buttonEl.style.display =\n",
              "          google.colab.kernel.accessAllowed ? 'block' : 'none';\n",
              "\n",
              "        async function convertToInteractive(key) {\n",
              "          const element = document.querySelector('#df-0fab61ec-eb6e-4a8e-8054-312ff53ed651');\n",
              "          const dataTable =\n",
              "            await google.colab.kernel.invokeFunction('convertToInteractive',\n",
              "                                                     [key], {});\n",
              "          if (!dataTable) return;\n",
              "\n",
              "          const docLinkHtml = 'Like what you see? Visit the ' +\n",
              "            '<a target=\"_blank\" href=https://colab.research.google.com/notebooks/data_table.ipynb>data table notebook</a>'\n",
              "            + ' to learn more about interactive tables.';\n",
              "          element.innerHTML = '';\n",
              "          dataTable['output_type'] = 'display_data';\n",
              "          await google.colab.output.renderOutput(dataTable, element);\n",
              "          const docLink = document.createElement('div');\n",
              "          docLink.innerHTML = docLinkHtml;\n",
              "          element.appendChild(docLink);\n",
              "        }\n",
              "      </script>\n",
              "    </div>\n",
              "  </div>\n",
              "  "
            ]
          },
          "metadata": {},
          "execution_count": 89
        }
      ]
    },
    {
      "cell_type": "code",
      "source": [
        "fig, ax = plt.subplots(figsize=(8, 8))\n",
        "plt.title('Confusion Matrix XGBoost Classifier')\n",
        "plot_confusion_matrix(rf, X_test,y_test, cmap=plt.cm.Reds, ax=ax);"
      ],
      "metadata": {
        "colab": {
          "base_uri": "https://localhost:8080/",
          "height": 466
        },
        "id": "A34O5avYhLLn",
        "outputId": "f4ea03f5-7fe6-40b1-ae53-61106851b2aa"
      },
      "execution_count": 90,
      "outputs": [
        {
          "output_type": "display_data",
          "data": {
            "text/plain": [
              "<Figure size 576x576 with 2 Axes>"
            ],
            "image/png": "[encoded data removed]"
          },
          "metadata": {
            "needs_background": "light"
          }
        }
      ]
    },
    {
      "cell_type": "code",
      "source": [
        "fpr, tpr, Threshold = roc_curve(y_test, y_pred_prob)\n",
        "plt.title('Random Forest ROC_AUC Curve')\n",
        "plt.plot(fpr, tpr, 'b',label='AUC = %0.2f'% roc_auc_score(y_test, y_pred_prob))\n",
        "plt.legend(loc='lower right')\n",
        "plt.plot([0,1],[0,1],'r--')\n",
        "plt.xlim([-0.1,1.0])\n",
        "plt.ylim([-0.1,1.01])\n",
        "plt.ylabel('True Positive Rate')\n",
        "plt.xlabel('False Positive Rate')\n",
        "plt.show()"
      ],
      "metadata": {
        "colab": {
          "base_uri": "https://localhost:8080/",
          "height": 295
        },
        "id": "guRCCRTlmY0N",
        "outputId": "7daf0dde-a554-4984-a66c-08d9ee7d1d1c"
      },
      "execution_count": 91,
      "outputs": [
        {
          "output_type": "display_data",
          "data": {
            "text/plain": [
              "<Figure size 432x288 with 1 Axes>"
            ],
            "image/png": "[encoded data removed]"
          },
          "metadata": {
            "needs_background": "light"
          }
        }
      ]
    },
    {
      "cell_type": "code",
      "source": [
        "from sklearn.metrics import classification_report\n",
        "\n",
        "print(classification_report(y_test, y_pred))"
      ],
      "metadata": {
        "colab": {
          "base_uri": "https://localhost:8080/"
        },
        "id": "UdflU4x4hWq2",
        "outputId": "15d3df1e-61f3-4b72-da57-483df9a55332"
      },
      "execution_count": 92,
      "outputs": [
        {
          "output_type": "stream",
          "name": "stdout",
          "text": [
            "              precision    recall  f1-score   support\n",
            "\n",
            "           0       0.70      0.66      0.68      3234\n",
            "           1       0.69      0.72      0.70      3302\n",
            "\n",
            "    accuracy                           0.69      6536\n",
            "   macro avg       0.69      0.69      0.69      6536\n",
            "weighted avg       0.69      0.69      0.69      6536\n",
            "\n"
          ]
        }
      ]
    },
    {
      "cell_type": "code",
      "source": [
        "lr_precision, lr_recall, _ = precision_recall_curve(y_test, y_pred_prob)\n",
        "# lr_f1, lr_auc = f1_score(y_test, y_pred), auc(lr_recall, lr_precision)\n",
        "# print('Logistic: f1=%.3f auc=%.3f' % (lr_f1, lr_auc))\n",
        "# plot the precision-recall curves\n",
        "no_skill = len(y_test[y_test==1]) / len(y_test)\n",
        "pyplot.plot([0, 1], [no_skill, no_skill], linestyle='--', label='No Skill')\n",
        "pyplot.plot(lr_recall, lr_precision, marker='.', label='Logistic')\n",
        "# axis labels\n",
        "pyplot.xlabel('Recall')\n",
        "pyplot.ylabel('Precision')\n",
        "# show the legend\n",
        "pyplot.legend()\n",
        "# show the plot\n",
        "pyplot.show()"
      ],
      "metadata": {
        "colab": {
          "base_uri": "https://localhost:8080/",
          "height": 279
        },
        "id": "W9xLHD-mmvzN",
        "outputId": "c6b35a96-dc1e-4dac-808d-0fa44800b9b3"
      },
      "execution_count": 93,
      "outputs": [
        {
          "output_type": "display_data",
          "data": {
            "text/plain": [
              "<Figure size 432x288 with 1 Axes>"
            ],
            "image/png": "[encoded data removed]"
          },
          "metadata": {
            "needs_background": "light"
          }
        }
      ]
    },
    {
      "cell_type": "code",
      "source": [
        ""
      ],
      "metadata": {
        "id": "ro1R-GApmzbe"
      },
      "execution_count": 93,
      "outputs": []
    }
  ],
  "metadata": {
    "colab": {
      "name": "Improved_Final_Project_Zenius_Data_Analysis_Kelompok_11.ipynb",
      "provenance": [],
      "collapsed_sections": [],
      "toc_visible": true,
      "include_colab_link": true
    },
    "kernelspec": {
      "display_name": "Python 3",
      "name": "python3"
    },
    "language_info": {
      "name": "python"
    }
  },
  "nbformat": 4,
  "nbformat_minor": 0
}